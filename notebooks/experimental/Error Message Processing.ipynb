{
 "cells": [
  {
   "cell_type": "markdown",
   "metadata": {},
   "source": [
    "# NLP methods applied to FTS transfer error messages\n",
    "\n",
    "**Objective:** \n",
    "\n",
    " - extract FTS transfer error data\n",
    " - explore the data\n",
    " - apply NLP ethods to error messages\n",
    " - possibly account for other features as well (e.g. source/destination sites, tansferprotocol, ...)"
   ]
  },
  {
   "cell_type": "markdown",
   "metadata": {},
   "source": [
    "### Spark Session "
   ]
  },
  {
   "cell_type": "code",
   "execution_count": 2,
   "metadata": {
    "ExecuteTime": {
     "end_time": "2019-11-05T10:50:56.109908Z",
     "start_time": "2019-11-05T10:50:48.463300Z"
    }
   },
   "outputs": [
    {
     "name": "stdout",
     "output_type": "stream",
     "text": [
      "CPU times: user 32.1 ms, sys: 18.7 ms, total: 50.8 ms\n",
      "Wall time: 7.61 s\n"
     ]
    },
    {
     "data": {
      "text/html": [
       "\n",
       "            <div>\n",
       "                <p><b>SparkSession - in-memory</b></p>\n",
       "                \n",
       "        <div>\n",
       "            <p><b>SparkContext</b></p>\n",
       "\n",
       "            <p><a href=\"http://de26452ce2db:5201\">Spark UI</a></p>\n",
       "\n",
       "            <dl>\n",
       "              <dt>Version</dt>\n",
       "                <dd><code>v2.4.3</code></dd>\n",
       "              <dt>Master</dt>\n",
       "                <dd><code>local[*]</code></dd>\n",
       "              <dt>AppName</dt>\n",
       "                <dd><code>fts_data_extraction</code></dd>\n",
       "            </dl>\n",
       "        </div>\n",
       "        \n",
       "            </div>\n",
       "        "
      ],
      "text/plain": [
       "<pyspark.sql.session.SparkSession at 0x7fa544be1668>"
      ]
     },
     "execution_count": 2,
     "metadata": {},
     "output_type": "execute_result"
    }
   ],
   "source": [
    "%%time\n",
    "\n",
    "# start Spark Session\n",
    "from pyspark.sql import SparkSession\n",
    "\n",
    "spark = SparkSession.builder.master(\"local[*]\").appName(\"fts_data_extraction\").getOrCreate()\n",
    "#spark = SparkSession.builder.master(\"local[*]\").appName(\"fts_data\").getOrCreate()\n",
    "spark"
   ]
  },
  {
   "cell_type": "code",
   "execution_count": 3,
   "metadata": {
    "ExecuteTime": {
     "end_time": "2019-11-05T10:50:57.337323Z",
     "start_time": "2019-11-05T10:50:56.114407Z"
    }
   },
   "outputs": [
    {
     "name": "stdout",
     "output_type": "stream",
     "text": [
      "Current (local) path:\n",
      "\n",
      "\n",
      "/eos/home-l/lclissa/SWAN_projects/rucio-log-clustering/notebooks\n"
     ]
    }
   ],
   "source": [
    "print(\"Current (local) path:\\n\\n\")\n",
    "!pwd"
   ]
  },
  {
   "cell_type": "code",
   "execution_count": 4,
   "metadata": {
    "ExecuteTime": {
     "end_time": "2019-11-05T10:51:00.619466Z",
     "start_time": "2019-11-05T10:50:57.341981Z"
    }
   },
   "outputs": [
    {
     "name": "stdout",
     "output_type": "stream",
     "text": [
      "[]\n"
     ]
    }
   ],
   "source": [
    "print(spark.catalog.listTables())"
   ]
  },
  {
   "cell_type": "markdown",
   "metadata": {},
   "source": [
    "## Import data\n",
    "\n",
    "**Note:** the period 7/10 - 10/10 is considered since there should be an issue with an FTS instance and we want our approach to be able to spot it."
   ]
  },
  {
   "cell_type": "code",
   "execution_count": 5,
   "metadata": {
    "ExecuteTime": {
     "end_time": "2019-11-05T10:54:42.222609Z",
     "start_time": "2019-11-05T10:51:04.953360Z"
    }
   },
   "outputs": [
    {
     "name": "stdout",
     "output_type": "stream",
     "text": [
      "CPU times: user 236 ms, sys: 55.1 ms, total: 291 ms\n",
      "Wall time: 3min 37s\n"
     ]
    }
   ],
   "source": [
    "%%time \n",
    "\n",
    "# FTS data path\n",
    "path_list = ['/project/monitoring/archive/fts/raw/complete/2019/10/{:0>2}/*'.format(i) for i in range(7,11)]\n",
    "\n",
    "### FOR SIMPLICITY JUST START WITH 10th OCTOBER\n",
    "\n",
    "# load the data in the json file\n",
    "all_transfers = spark.read.json(path_list)"
   ]
  },
  {
   "cell_type": "markdown",
   "metadata": {},
   "source": [
    "### Basic exploration "
   ]
  },
  {
   "cell_type": "markdown",
   "metadata": {},
   "source": [
    "The DataFrame obtained is a combination of two DataFrames, one containing the actual data and one the metadata. Thus, we extract just the data part since metadata are not so relevant to our scope:"
   ]
  },
  {
   "cell_type": "code",
   "execution_count": 6,
   "metadata": {
    "ExecuteTime": {
     "end_time": "2019-11-05T10:54:42.325829Z",
     "start_time": "2019-11-05T10:54:42.226195Z"
    },
    "scrolled": true
   },
   "outputs": [
    {
     "name": "stdout",
     "output_type": "stream",
     "text": [
      "root\n",
      " |-- activity: string (nullable = true)\n",
      " |-- block_size: long (nullable = true)\n",
      " |-- buf_size: long (nullable = true)\n",
      " |-- channel_type: string (nullable = true)\n",
      " |-- chk_timeout: long (nullable = true)\n",
      " |-- dest_srm_v: string (nullable = true)\n",
      " |-- dst_hostname: string (nullable = true)\n",
      " |-- dst_se: string (nullable = true)\n",
      " |-- dst_site_name: string (nullable = true)\n",
      " |-- dst_url: string (nullable = true)\n",
      " |-- endpnt: string (nullable = true)\n",
      " |-- f_size: long (nullable = true)\n",
      " |-- file_id: string (nullable = true)\n",
      " |-- file_size: long (nullable = true)\n",
      " |-- final_destination: string (nullable = true)\n",
      " |-- ipv6: boolean (nullable = true)\n",
      " |-- is_recoverable: boolean (nullable = true)\n",
      " |-- job_id: string (nullable = true)\n",
      " |-- job_state: string (nullable = true)\n",
      " |-- latency: long (nullable = true)\n",
      " |-- log_link: string (nullable = true)\n",
      " |-- nstreams: long (nullable = true)\n",
      " |-- operation_time: long (nullable = true)\n",
      " |-- remote_access: boolean (nullable = true)\n",
      " |-- retry: long (nullable = true)\n",
      " |-- retry_max: long (nullable = true)\n",
      " |-- src_hostname: string (nullable = true)\n",
      " |-- src_se: string (nullable = true)\n",
      " |-- src_site_name: string (nullable = true)\n",
      " |-- src_srm_v: string (nullable = true)\n",
      " |-- src_url: string (nullable = true)\n",
      " |-- srm_finalization_time: long (nullable = true)\n",
      " |-- srm_overhead_percentage: double (nullable = true)\n",
      " |-- srm_overhead_time: double (nullable = true)\n",
      " |-- srm_preparation_time: long (nullable = true)\n",
      " |-- srm_space_token_dst: string (nullable = true)\n",
      " |-- srm_space_token_src: string (nullable = true)\n",
      " |-- t__error_message: string (nullable = true)\n",
      " |-- t_channel: string (nullable = true)\n",
      " |-- t_error_code: long (nullable = true)\n",
      " |-- t_failure_phase: string (nullable = true)\n",
      " |-- t_final_transfer_state: string (nullable = true)\n",
      " |-- t_final_transfer_state_flag: long (nullable = true)\n",
      " |-- t_timeout: long (nullable = true)\n",
      " |-- tcp_buf_size: long (nullable = true)\n",
      " |-- throughput: double (nullable = true)\n",
      " |-- time_srm_fin_end: long (nullable = true)\n",
      " |-- time_srm_fin_st: long (nullable = true)\n",
      " |-- time_srm_prep_end: long (nullable = true)\n",
      " |-- time_srm_prep_st: long (nullable = true)\n",
      " |-- timestamp_checksum_dest_ended: long (nullable = true)\n",
      " |-- timestamp_checksum_dest_st: long (nullable = true)\n",
      " |-- timestamp_checksum_dst_diff: long (nullable = true)\n",
      " |-- timestamp_checksum_src_diff: long (nullable = true)\n",
      " |-- timestamp_chk_src_ended: long (nullable = true)\n",
      " |-- timestamp_chk_src_st: long (nullable = true)\n",
      " |-- timestamp_tr_comp: long (nullable = true)\n",
      " |-- timestamp_tr_st: long (nullable = true)\n",
      " |-- tr_bt_transfered: long (nullable = true)\n",
      " |-- tr_error_category: string (nullable = true)\n",
      " |-- tr_error_scope: string (nullable = true)\n",
      " |-- tr_id: string (nullable = true)\n",
      " |-- tr_timestamp_complete: long (nullable = true)\n",
      " |-- tr_timestamp_start: long (nullable = true)\n",
      " |-- transfer_type: string (nullable = true)\n",
      " |-- user: string (nullable = true)\n",
      " |-- user_dn: string (nullable = true)\n",
      " |-- vo: string (nullable = true)\n",
      "\n"
     ]
    }
   ],
   "source": [
    "# retrieve just data \n",
    "all_transfers_data = all_transfers.select(\"data.*\")\n",
    "\n",
    "all_transfers_data.printSchema()"
   ]
  },
  {
   "cell_type": "code",
   "execution_count": 7,
   "metadata": {
    "ExecuteTime": {
     "end_time": "2019-11-05T10:56:51.451027Z",
     "start_time": "2019-11-05T10:54:42.329110Z"
    }
   },
   "outputs": [
    {
     "name": "stdout",
     "output_type": "stream",
     "text": [
      "FTS transfer dataset shape: 17593901 68\n",
      "CPU times: user 107 ms, sys: 41.8 ms, total: 149 ms\n",
      "Wall time: 2min 9s\n"
     ]
    }
   ],
   "source": [
    "%%time\n",
    "\n",
    "n_trans = all_transfers_data.count()\n",
    "n_vars = len(all_transfers_data.columns)\n",
    "\n",
    "print(\"FTS transfer dataset shape:\", n_trans, n_vars)"
   ]
  },
  {
   "cell_type": "markdown",
   "metadata": {},
   "source": [
    "The dataset of all transfers attempted on 10/10 is made of ~6MLN rows and 68 columns. Let us now have a closer look into the variables and their meaning:"
   ]
  },
  {
   "cell_type": "code",
   "execution_count": 16,
   "metadata": {
    "ExecuteTime": {
     "end_time": "2019-10-31T15:24:28.421496Z",
     "start_time": "2019-10-31T15:24:28.212206Z"
    }
   },
   "outputs": [
    {
     "name": "stdout",
     "output_type": "stream",
     "text": [
      "activity :\n",
      " Data Consolidation \n",
      "\n",
      "\n",
      "block_size :\n",
      " 0 \n",
      "\n",
      "\n",
      "buf_size :\n",
      " 0 \n",
      "\n",
      "\n",
      "channel_type :\n",
      " urlcopy \n",
      "\n",
      "\n",
      "chk_timeout :\n",
      " 0 \n",
      "\n",
      "\n",
      "dest_srm_v :\n",
      " 2.2.0 \n",
      "\n",
      "\n",
      "dst_hostname :\n",
      " uct2-dc1.uchicago.edu \n",
      "\n",
      "\n",
      "dst_se :\n",
      " srm://uct2-dc1.uchicago.edu \n",
      "\n",
      "\n",
      "dst_site_name :\n",
      "  \n",
      "\n",
      "\n",
      "dst_url :\n",
      " srm://uct2-dc1.uchicago.edu:8443/srm/managerv2?SFN=/pnfs/uchicago.edu/atlasdatadisk/rucio/mc16_13TeV/ba/f3/DAOD_HIGG4D2.19353240._000089.pool.root.1 \n",
      "\n",
      "\n",
      "endpnt :\n",
      " bnl \n",
      "\n",
      "\n",
      "f_size :\n",
      " 4128472676 \n",
      "\n",
      "\n",
      "file_id :\n",
      " 287224235 \n",
      "\n",
      "\n",
      "file_size :\n",
      " 4128472676 \n",
      "\n",
      "\n",
      "final_destination :\n",
      "  \n",
      "\n",
      "\n",
      "ipv6 :\n",
      " False \n",
      "\n",
      "\n",
      "is_recoverable :\n",
      " True \n",
      "\n",
      "\n",
      "job_id :\n",
      " 7fe3424f-fa74-5db7-8d59-87be1d129883 \n",
      "\n",
      "\n",
      "job_state :\n",
      " ACTIVE \n",
      "\n",
      "\n",
      "latency :\n",
      " None \n",
      "\n",
      "\n",
      "log_link :\n",
      " https://bnl:8449/fts3/ftsmon/#/job/7fe3424f-fa74-5db7-8d59-87be1d129883 \n",
      "\n",
      "\n",
      "nstreams :\n",
      " 1 \n",
      "\n",
      "\n",
      "operation_time :\n",
      " None \n",
      "\n",
      "\n",
      "remote_access :\n",
      " True \n",
      "\n",
      "\n",
      "retry :\n",
      " 0 \n",
      "\n",
      "\n",
      "retry_max :\n",
      " 0 \n",
      "\n",
      "\n",
      "src_hostname :\n",
      " storage01.lcg.cscs.ch \n",
      "\n",
      "\n",
      "src_se :\n",
      " srm://storage01.lcg.cscs.ch \n",
      "\n",
      "\n",
      "src_site_name :\n",
      "  \n",
      "\n",
      "\n",
      "src_srm_v :\n",
      " 2.2.0 \n",
      "\n",
      "\n",
      "src_url :\n",
      " srm://storage01.lcg.cscs.ch:8443/srm/managerv2?SFN=/pnfs/lcg.cscs.ch/atlas/atlasdatadisk/rucio/mc16_13TeV/ba/f3/DAOD_HIGG4D2.19353240._000089.pool.root.1 \n",
      "\n",
      "\n",
      "srm_finalization_time :\n",
      " None \n",
      "\n",
      "\n",
      "srm_overhead_percentage :\n",
      " None \n",
      "\n",
      "\n",
      "srm_overhead_time :\n",
      " None \n",
      "\n",
      "\n",
      "srm_preparation_time :\n",
      " None \n",
      "\n",
      "\n",
      "srm_space_token_dst :\n",
      " ATLASDATADISK \n",
      "\n",
      "\n",
      "srm_space_token_src :\n",
      "  \n",
      "\n",
      "\n",
      "t__error_message :\n",
      " DESTINATION SRM_PUT_TURL error on the turl  request : [SE][StatusOfPutRequest][SRM_EXCEED_ALLOCATION] Space associated with the space token 2310037 is not enough to hold SURL.  \n",
      "\n",
      "\n",
      "t_channel :\n",
      " storage01.lcg.cscs.ch__uct2-dc1.uchicago.edu \n",
      "\n",
      "\n",
      "t_error_code :\n",
      " 122 \n",
      "\n",
      "\n",
      "t_failure_phase :\n",
      " TRANSFER \n",
      "\n",
      "\n",
      "t_final_transfer_state :\n",
      " Error \n",
      "\n",
      "\n",
      "t_final_transfer_state_flag :\n",
      " 0 \n",
      "\n",
      "\n",
      "t_timeout :\n",
      " 8475 \n",
      "\n",
      "\n",
      "tcp_buf_size :\n",
      " 0 \n",
      "\n",
      "\n",
      "throughput :\n",
      " None \n",
      "\n",
      "\n",
      "time_srm_fin_end :\n",
      " 0 \n",
      "\n",
      "\n",
      "time_srm_fin_st :\n",
      " 0 \n",
      "\n",
      "\n",
      "time_srm_prep_end :\n",
      " 0 \n",
      "\n",
      "\n",
      "time_srm_prep_st :\n",
      " 1570697087760 \n",
      "\n",
      "\n",
      "timestamp_checksum_dest_ended :\n",
      " 0 \n",
      "\n",
      "\n",
      "timestamp_checksum_dest_st :\n",
      " 0 \n",
      "\n",
      "\n",
      "timestamp_checksum_dst_diff :\n",
      " None \n",
      "\n",
      "\n",
      "timestamp_checksum_src_diff :\n",
      " 391 \n",
      "\n",
      "\n",
      "timestamp_chk_src_ended :\n",
      " 1570697088151 \n",
      "\n",
      "\n",
      "timestamp_chk_src_st :\n",
      " 1570697087760 \n",
      "\n",
      "\n",
      "timestamp_tr_comp :\n",
      " 0 \n",
      "\n",
      "\n",
      "timestamp_tr_st :\n",
      " 0 \n",
      "\n",
      "\n",
      "tr_bt_transfered :\n",
      " 0 \n",
      "\n",
      "\n",
      "tr_error_category :\n",
      " DISK_QUOTA_EXCEEDED \n",
      "\n",
      "\n",
      "tr_error_scope :\n",
      " TRANSFER \n",
      "\n",
      "\n",
      "tr_id :\n",
      " 2019-10-10-0844__storage01.lcg.cscs.ch__uct2-dc1.uchicago.edu__287224235__7fe3424f-fa74-5db7-8d59-87be1d129883 \n",
      "\n",
      "\n",
      "tr_timestamp_complete :\n",
      " 1570697089521 \n",
      "\n",
      "\n",
      "tr_timestamp_start :\n",
      " 1570697087134 \n",
      "\n",
      "\n",
      "transfer_type :\n",
      "  \n",
      "\n",
      "\n",
      "user :\n",
      "  \n",
      "\n",
      "\n",
      "user_dn :\n",
      "  \n",
      "\n",
      "\n",
      "vo :\n",
      " atlas \n",
      "\n",
      "\n"
     ]
    }
   ],
   "source": [
    "for idx, el in enumerate(all_transfers_data.head(3)[0]):\n",
    "    print(all_transfers_data.columns[idx], \":\\n\", el, \"\\n\\n\")"
   ]
  },
  {
   "cell_type": "markdown",
   "metadata": {},
   "source": [
    "### Variables' description\n",
    "\n",
    "<div class=\"alert alert-block alert-danger\">\n",
    "<b>Reminder:</b> Check variable relevance to error detection with domain experts and then i) shorten the list (only relevant features with explanations), ii) add reference to documentation, iii) add legend with message/auxiliary variable colors. \n",
    "</div>\n",
    "\n",
    "\n",
    "The following list contains a description of the variables' content:\n",
    "\n",
    "**Generic information:**\n",
    "\n",
    "  - \"tr_id\": \"YEAR-MONTH-DAY-HOURMINUTE__sourcese__destse__file_id__job_id\",\n",
    "  - \"endpnt\": \"FTS3 endpoint\",\n",
    "  - \"src_srm_v\": \"Source SRM version, always 2.0 if srm is used\",\n",
    "  - \"dest_srm_v\": \"Destination SRM version, always 2.0 if srm is used\",\n",
    "  - **<font color='green'>\"vo\"</font>:** \"Virtual Organization\",\n",
    "  - \"src_url\": \"Source URL\",\n",
    "  - \"dst_url\": \"Destination URL\",\n",
    "  - **<font color='green'>\"src_hostname\"</font>:** \"Source hostname\",\n",
    "  - **<font color='green'>\"dst_hostname\"</font>:** \"Destination hostname\",\n",
    "  - \"src_site_name\": \"\", // Always empty\n",
    "  - \"dst_site_name\": \"\", // Always empty\n",
    "  - **<font color='green'>\"t_channel\"</font>:** \"source_protocol://source_host__dest_protocol://dest_host\",\n",
    "\n",
    "**Time information:**\n",
    "  - \"timestamp_tr_st\": 0, // Timestamp of the whole process start, in milliseconds\n",
    "  - **<font color='green'>\"timestamp_tr_comp\"</font>:** 0, // Timestamp of the whole process completion, in milliseconds\n",
    "  - \"timestamp_chk_src_st\": 0, // Timestamp when started the validation of the source checksum, in milliseconds\n",
    "  - \"timestamp_chk_src_ended\": 0, // Timestamp when finished the validation of the source checksum, in milliseconds\n",
    "  - \"timestamp_checksum_dest_st\": 0, // Timestamp when started the validation of the destination checksum, in milliseconds\n",
    "  - \"timestamp_checksum_dest_ended\": 0, // Timestamp when finished the validation of the destination checksum, in milliseconds\n",
    "  - \"t_timeout\": 0, // Timeout used for the transfer\n",
    "  - \"chk_timeout\": 0, // Timeout used for the checksum operations\n",
    "\n",
    "**Error informations:**\n",
    "  - **<font color='red'>\"t_error_code\"</font>:** 0, // Error code: an errno value (i.e. ENOENT)\n",
    "  \n",
    "  > corresponds to the errno value returned by the url-copy process (i.e. ENOENT)\n",
    "  \n",
    "  - **<font color='red'>\"tr_error_scope\"</font>:** \"Error scope, empty if ok\",\n",
    "  \n",
    "  > 3 possible values, SOURCE, TRANSFER and DESTINATION depending on where the error happens. SOURCE for instance is set if the source file is not there or the source checksum query fails.\n",
    "  \n",
    "  - **<font color='red'>\"t_failure_phase\"</font>:** \"Error phase, empty of ok\",\n",
    "  \n",
    "  > 3 possible values TRANSFER_PREPARATION, TRANSFER, TRANSFER_FINALIZATION ( more or less they map to the values of tr_error_scope)\n",
    "  \n",
    "  - **<font color='red'>\"tr_error_category\"</font>:** \"Error category, empty if ok\",\n",
    "  \n",
    "  > this is the string representation of the t_error_code as returned by the strerror_r function (https://linux.die.net/man/3/strerror_r), possible values are:\n",
    "COMMUNICATION_ERROR_ON_SEND, FILE_EXIST, PERMISSION_DENIED, etc\n",
    "\n",
    "  - **<font color='red'>\"t_final_transfer_state\"</font>:** \"Ok|Error|Abort\",\n",
    "\n",
    "  > != \"Ok\" for errors\n",
    "\n",
    "  - **<font color='red'>\"t__error_message\"</font>:** \"Error message, empty if ok\",\n",
    "  \n",
    "  > string error from the storage\n",
    "\n",
    "\n",
    "\n",
    "**Transfer metrics:**\n",
    "  - \"tr_bt_transfered\": 0, // How many bytes have been transferred\n",
    "  - \"nstreams\": 0, // How many streams have been used\n",
    "  - \"buf_size\": 0, // TCP buffer size used (for backwards compatibility)\n",
    "  - \"tcp_buf_size\": 0, // TCP buffer size used\n",
    "  - \"block_size\": 0, // Unused\n",
    "\n",
    "  - \"f_size\"  0, // Filesize\n",
    "\n",
    "  - \"time_srm_prep_st\": 0, // Timestamp of the start of the SRM GET operation, if any, in milliseconds\n",
    "  - \"time_srm_prep_end\": 0, // Timestamp of the completion of the SRM GET operation, if any, in milliseconds\n",
    "  - \"time_srm_fin_st\": 0, // Timestamp of the start of the SRM PUT operation, if any, in milliseconds\n",
    "  - \"time_srm_fin_end\": 0, // Timestamp of the completion of the SRM PUT operation, if any, in milliseconds\n",
    "\n",
    "  - \"srm_space_token_src\": \"Source space token, if any\",\n",
    "  - \"srm_space_token_dst\": \"Destination space token, if any\",\n",
    "\n",
    "  - \"tr_timestamp_start\": 0, // Timestamp of the start of *only the transfer part* (excluding preparation), in milliseconds\n",
    "  - \"tr_timestamp_complete\": 0, // Timestamp of the completion of *only the transfer part* (excluding preparation), in milliseconds\n",
    "\n",
    "\n",
    "  - \"channel_type\": \"urlcopy\", // Always\n",
    "  - \"user_dn\": \"User that submitted the job\",\n",
    "  - \"file_metadata\": \"File metadata set by the user at submission\",\n",
    "  - \"job_metadata\": \"Job metadata set by the user at submission\"\n",
    "\n",
    "\n",
    "  - \"retry\": 0, // When retries are enabled, which retry is this transfer\n",
    "  - \"retry_max\": 0, // When retries are enabled, max number of retries for this transfer\n",
    "  - \"job_m_replica\": false, // true if this transfer belongs to a multiple replica job\n",
    "  - \"job_state\": \"Job state, if known\",\n",
    "  - \"is_recoverable\": false, // true if FTS3 considers this transfer could be retried (depends on the error code)\n",
    "  - \"ipv6\": false, // true if the transfer took place over IPv6\n",
    "  - \"transfer_type\": \"streamed|3rd pull|3rd push\" // How the transfer was done"
   ]
  },
  {
   "cell_type": "code",
   "execution_count": 21,
   "metadata": {
    "ExecuteTime": {
     "end_time": "2019-10-31T16:37:05.799732Z",
     "start_time": "2019-10-31T16:37:05.793411Z"
    }
   },
   "outputs": [],
   "source": [
    "documented_vars = [ \"tr_id\" , \"endpnt\" , \"src_srm_v\" , \"dest_srm_v\" , \"vo\" , \"src_url\" , \"dst_url\" , \"src_hostname\" , \"dst_hostname\" , \"src_site_name\" , \n",
    "                    \"dst_site_name\" , \"t_channel\" , \"timestamp_tr_st\" , \"timestamp_tr_comp\" , \"timestamp_chk_src_st\" , \"timestamp_chk_src_ended\" , \n",
    "                    \"timestamp_checksum_dest_st\" , \"timestamp_checksum_dest_ended\" , \"t_timeout\" , \"chk_timeout\" , \"t_error_code\" , \"tr_error_scope\" , \n",
    "                    \"t_failure_phase\" , \"tr_error_category\" , \"t_final_transfer_state\" , \"t__error_message\" , \"tr_bt_transfered\" , \"nstreams\" , \"buf_size\" , \n",
    "                    \"tcp_buf_size\" , \"block_size\" , \"f_size\" , \"time_srm_prep_st\" , \"time_srm_prep_end\" , \"time_srm_fin_st\" , \"time_srm_fin_end\" , \"srm_space_token_src\" , \n",
    "                    \"srm_space_token_dst\" , \"tr_timestamp_start\" , \"tr_timestamp_complete\" , \"channel_type\" , \"user_dn\" , \"file_metadata\" , \"job_metadata\" , \"retry\" , \n",
    "                    \"retry_max\" , \"job_m_replica\" , \"job_state\" , \"is_recoverable\" , \"ipv6\" , \"transfer_type\" ]\n",
    "\n",
    "all_vars = all_transfers_data.columns\n",
    "\n",
    "non_documented_vars = list(set(all_vars) - set(documented_vars))"
   ]
  },
  {
   "cell_type": "markdown",
   "metadata": {},
   "source": [
    "<div class=\"alert alert-block alert-danger\">\n",
    "<b>Alert:</b> Some of the variables are not documented!\n",
    "</div>"
   ]
  },
  {
   "cell_type": "code",
   "execution_count": 22,
   "metadata": {
    "ExecuteTime": {
     "end_time": "2019-10-31T16:37:41.897281Z",
     "start_time": "2019-10-31T16:37:41.889505Z"
    }
   },
   "outputs": [
    {
     "data": {
      "text/plain": [
       "['t_final_transfer_state_flag',\n",
       " 'file_id',\n",
       " 'file_size',\n",
       " 'activity',\n",
       " 'timestamp_checksum_src_diff',\n",
       " 'final_destination',\n",
       " 'srm_finalization_time',\n",
       " 'job_id',\n",
       " 'timestamp_checksum_dst_diff',\n",
       " 'src_se',\n",
       " 'throughput',\n",
       " 'operation_time',\n",
       " 'srm_preparation_time',\n",
       " 'srm_overhead_percentage',\n",
       " 'srm_overhead_time',\n",
       " 'log_link',\n",
       " 'remote_access',\n",
       " 'user',\n",
       " 'latency',\n",
       " 'dst_se']"
      ]
     },
     "execution_count": 22,
     "metadata": {},
     "output_type": "execute_result"
    }
   ],
   "source": [
    "non_documented_vars"
   ]
  },
  {
   "cell_type": "markdown",
   "metadata": {},
   "source": [
    "### Error extraction\n",
    "\n",
    "Now we focus on transfer errors only and split the DataFrame in multiple tables with similar pieces of information:"
   ]
  },
  {
   "cell_type": "code",
   "execution_count": 8,
   "metadata": {
    "ExecuteTime": {
     "end_time": "2019-11-05T10:58:00.503778Z",
     "start_time": "2019-11-05T10:57:59.344788Z"
    }
   },
   "outputs": [
    {
     "data": {
      "text/plain": [
       "[Row(activity='ASO', block_size=0, buf_size=0, channel_type='urlcopy', chk_timeout=0, dest_srm_v='', dst_hostname='ganymede.hep.kbfi.ee', dst_se='gsiftp://ganymede.hep.kbfi.ee', dst_site_name='', dst_url='gsiftp://ganymede.hep.kbfi.ee:2811//cms/store/user/kaehatah/2016v3_2019Sep30/DY1JetsToLL_M-50_TuneCUETP8M1_13TeV-madgraphMLM-pythia8/2016v3_2019Sep30_CHUNK1_DY1JetsToLL_M-50_TuneCUETP8M1_13TeV-madgraphMLM-pythia8__RunIISummer16MiniAODv3-PUMoriond17_94X_mcRun2_asymptotic_v3-v1/190930_211130/0000/tree_185.root', endpnt='fts3.cern.ch', f_size=179841642, file_id='2564707869', file_size=179841642, final_destination='', ipv6=False, is_recoverable=True, job_id='37564a72-e8cd-11e9-ad00-02163e018c08', job_state='UNKNOWN', latency=None, log_link='https://fts3.cern.ch:8449/fts3/ftsmon/#/job/37564a72-e8cd-11e9-ad00-02163e018c08', nstreams=1, operation_time=None, remote_access=True, retry=2, retry_max=3, src_hostname='storm.ifca.es', src_se='srm://storm.ifca.es', src_site_name='', src_srm_v='2.2.0', src_url='srm://storm.ifca.es:8444/srm/managerv2?SFN=/cms/store/temp/user/kaehatah.011af100abbb2e630ca0c9824890b6410f47a9a8/2016v3_2019Sep30/DY1JetsToLL_M-50_TuneCUETP8M1_13TeV-madgraphMLM-pythia8/2016v3_2019Sep30_CHUNK1_DY1JetsToLL_M-50_TuneCUETP8M1_13TeV-madgraphMLM-pythia8__RunIISummer16MiniAODv3-PUMoriond17_94X_mcRun2_asymptotic_v3-v1/190930_211130/0000/tree_185.root', srm_finalization_time=None, srm_overhead_percentage=None, srm_overhead_time=None, srm_preparation_time=None, srm_space_token_dst='', srm_space_token_src='', t__error_message='SOURCE CHECKSUM globus_ftp_client: the server responded with an error 500 error: commands denied   ', t_channel='storm.ifca.es__ganymede.hep.kbfi.ee', t_error_code=70, t_failure_phase='TRANSFER', t_final_transfer_state='Error', t_final_transfer_state_flag=0, t_timeout=944, tcp_buf_size=0, throughput=None, time_srm_fin_end=0, time_srm_fin_st=0, time_srm_prep_end=0, time_srm_prep_st=1570431601488, timestamp_checksum_dest_ended=0, timestamp_checksum_dest_st=0, timestamp_checksum_dst_diff=None, timestamp_checksum_src_diff=1702, timestamp_chk_src_ended=1570431603190, timestamp_chk_src_st=1570431601488, timestamp_tr_comp=0, timestamp_tr_st=0, tr_bt_transfered=0, tr_error_category='COMMUNICATION_ERROR_ON_SEND', tr_error_scope='TRANSFER', tr_id='2019-10-07-0700__storm.ifca.es__ganymede.hep.kbfi.ee__2564707869__37564a72-e8cd-11e9-ad00-02163e018c08', tr_timestamp_complete=1570431606479, tr_timestamp_start=1570431601164, transfer_type='', user='', user_dn='', vo='cms')]"
      ]
     },
     "execution_count": 8,
     "metadata": {},
     "output_type": "execute_result"
    }
   ],
   "source": [
    "errors = all_transfers_data.filter(all_transfers_data[\"t_final_transfer_state_flag\"] == 0)\n",
    "\n",
    "errors.head(1)"
   ]
  },
  {
   "cell_type": "code",
   "execution_count": 13,
   "metadata": {
    "ExecuteTime": {
     "end_time": "2019-11-05T11:04:14.180671Z",
     "start_time": "2019-11-05T11:04:14.172169Z"
    }
   },
   "outputs": [
    {
     "data": {
      "text/plain": [
       "4716431"
      ]
     },
     "execution_count": 13,
     "metadata": {},
     "output_type": "execute_result"
    }
   ],
   "source": [
    "n_errs = errors.count()\n",
    "n_errs"
   ]
  },
  {
   "cell_type": "markdown",
   "metadata": {},
   "source": [
    "### **Messages**"
   ]
  },
  {
   "cell_type": "code",
   "execution_count": 10,
   "metadata": {
    "ExecuteTime": {
     "end_time": "2019-11-05T11:01:57.624999Z",
     "start_time": "2019-11-05T11:01:57.288346Z"
    },
    "scrolled": true
   },
   "outputs": [
    {
     "name": "stdout",
     "output_type": "stream",
     "text": [
      "+--------------------------------------------------------------------------------------------------------------------------------------------------------------------------------------------------------------------------------------------------------------------------------------------------------------------------------------------------------------------------------+\n",
      "|t__error_message                                                                                                                                                                                                                                                                                                                                                                |\n",
      "+--------------------------------------------------------------------------------------------------------------------------------------------------------------------------------------------------------------------------------------------------------------------------------------------------------------------------------------------------------------------------------+\n",
      "|SOURCE CHECKSUM globus_ftp_client: the server responded with an error 500 error: commands denied                                                                                                                                                                                                                                                                                |\n",
      "|TRANSFER  globus_ftp_client: the server responded with an error 530 Login incorrect. : Server over the user connection limit of 20 (host=gridftp2.hepgrid.uerj.br, user=rucio)                                                                                                                                                                                                  |\n",
      "|TRANSFER  globus_ftp_control: gss_init_sec_context failed OpenSSL Error: s3_clnt.c:1178: in library: SSL routines, function SSL3_GET_SERVER_CERTIFICATE: certificate verify failed globus_gsi_callback_module: Could not verify credential globus_gsi_callback_module: Cant get the local trusted CA certificate: Untrusted self-signed certificate in chain with hash 4042bcee |\n",
      "|TRANSFER  globus_ftp_client: the server responded with an error 500 500-Command failed. : System error in open: No such file or directory  500-A system call failed: No such file or directory  500 End.                                                                                                                                                                        |\n",
      "|TRANSFER  globus_ftp_client: the server responded with an error 500 500-System error in mkdir: Transport endpoint is not connected  500-A system call failed: Transport endpoint is not connected  500 End.                                                                                                                                                                     |\n",
      "|TRANSFER  globus_ftp_client: the server responded with an error 500 500-Command failed. : System error in open: No such file or directory  500-A system call failed: No such file or directory  500 End.                                                                                                                                                                        |\n",
      "|TRANSFER  Transfer canceled because the gsiftp performance marker timeout of 360 seconds has been exceeded, or all performance markers during that period indicated zero bytes transferred                                                                                                                                                                                      |\n",
      "|globus_ftp_control: gss_init_sec_context failed OpenSSL Error: s3_clnt.c:1178: in library: SSL routines, function SSL3_GET_SERVER_CERTIFICATE: certificate verify failed globus_gsi_callback_module: Could not verify credential globus_gsi_callback_module: Cant get the local trusted CA certificate: Untrusted self-signed certificate in chain with hash 4042bcee           |\n",
      "|[gfalt_copy_file][perform_copy][gfal_xrootd_3rd_copy][gfal_xrootd_3rd_copy_bulk] Error on XrdCl::CopyProcess::Run(): [ERROR] Server responded with an error: [3012] Failed to open file (Unable to reserve space: no linkgroups configured. [10024])                                                                                                                            |\n",
      "|globus_ftp_client: the server responded with an error 500 500-Command failed : System error in stat: No such file or directory  500-A system call failed: No such file or directory  500 End.                                                                                                                                                                                   |\n",
      "|TRANSFER  globus_ftp_client: the server responded with an error 500 500-Command failed. : System error in open: No such file or directory  500-A system call failed: No such file or directory  500 End.                                                                                                                                                                        |\n",
      "|TRANSFER CHECKSUM MISMATCH Source and destination checksums do not match 5d8b4d4f != 00000000                                                                                                                                                                                                                                                                                   |\n",
      "|TRANSFER  globus_ftp_client: the server responded with an error 500 500-Command failed. : System error in open: No such file or directory  500-A system call failed: No such file or directory  500 End.                                                                                                                                                                        |\n",
      "|TRANSFER  globus_ftp_client: the server responded with an error 500 500-Command failed. : System error in open: No such file or directory  500-A system call failed: No such file or directory  500 End.                                                                                                                                                                        |\n",
      "|TRANSFER  globus_ftp_client: the server responded with an error 500 Command failed. : open/create : [ERROR] Server responded with an error: [3021] Unable to get quota space - quota not defined or exhausted /eos/cms/store/user/arkadios/BPH6Ntuple/ParkingBPH6/Run2018B_ParkingBPH6_MINIAOD/191005_072214/0002/BPH6Ntuple_2524.root; Disk quota exceeded                     |\n",
      "|TRANSFER  globus_ftp_client: the server responded with an error 500 500-Command failed. : System error in open: No such file or directory  500-A system call failed: No such file or directory  500 End.                                                                                                                                                                        |\n",
      "|Error reported from srm_ifce : 2 [SE][Ls][SRM_INVALID_PATH] No such file or directory                                                                                                                                                                                                                                                                                           |\n",
      "|TRANSFER  globus_ftp_client: the server responded with an error 500 500-Command failed. : System error in open: No such file or directory  500-A system call failed: No such file or directory  500 End.                                                                                                                                                                        |\n",
      "|TRANSFER  globus_ftp_client: the server responded with an error 500 500-Command failed. : System error in open: No such file or directory  500-A system call failed: No such file or directory  500 End.                                                                                                                                                                        |\n",
      "|Destination file exists and overwrite is not enabled                                                                                                                                                                                                                                                                                                                            |\n",
      "+--------------------------------------------------------------------------------------------------------------------------------------------------------------------------------------------------------------------------------------------------------------------------------------------------------------------------------------------------------------------------------+\n",
      "only showing top 20 rows\n",
      "\n"
     ]
    }
   ],
   "source": [
    "err_mess = errors.select(\"t__error_message\")\n",
    "\n",
    "err_mess.show(truncate=False)"
   ]
  },
  {
   "cell_type": "markdown",
   "metadata": {},
   "source": [
    "#### Unique messages "
   ]
  },
  {
   "cell_type": "code",
   "execution_count": 11,
   "metadata": {
    "ExecuteTime": {
     "end_time": "2019-11-05T11:01:58.019133Z",
     "start_time": "2019-11-05T11:01:57.629805Z"
    }
   },
   "outputs": [
    {
     "name": "stdout",
     "output_type": "stream",
     "text": [
      "CPU times: user 2.03 ms, sys: 1.78 ms, total: 3.81 ms\n",
      "Wall time: 16.2 ms\n"
     ]
    }
   ],
   "source": [
    "%%time\n",
    "distinct_mess = err_mess.select(\"t__error_message\").distinct()"
   ]
  },
  {
   "cell_type": "code",
   "execution_count": 14,
   "metadata": {
    "ExecuteTime": {
     "end_time": "2019-11-05T11:09:44.776027Z",
     "start_time": "2019-11-05T11:04:46.572095Z"
    }
   },
   "outputs": [
    {
     "name": "stdout",
     "output_type": "stream",
     "text": [
      "CPU times: user 339 ms, sys: 76.2 ms, total: 415 ms\n",
      "Wall time: 4min 58s\n"
     ]
    },
    {
     "data": {
      "text/plain": [
       "271795"
      ]
     },
     "execution_count": 14,
     "metadata": {},
     "output_type": "execute_result"
    }
   ],
   "source": [
    "%%time\n",
    "n_unique_mess = distinct_mess.count()\n",
    "n_unique_mess"
   ]
  },
  {
   "cell_type": "markdown",
   "metadata": {},
   "source": [
    "<div class=\"alert alert-block alert-info\">\n",
    "<b>Alert:</b> Out of the ~1.2MLN error messages, we have nearly 95k unique messages\n",
    "</div>\n",
    "\n",
    "Let now to explore a bit more which are the most common errors:"
   ]
  },
  {
   "cell_type": "code",
   "execution_count": 15,
   "metadata": {
    "ExecuteTime": {
     "end_time": "2019-11-05T11:10:22.181003Z",
     "start_time": "2019-11-05T11:10:22.175834Z"
    }
   },
   "outputs": [
    {
     "name": "stdout",
     "output_type": "stream",
     "text": [
      "SparkSession\t all_transfers\t all_transfers_data\t distinct_mess\t err_mess\t errors\t n_errs\t n_trans\t n_unique_mess\t \n",
      "n_vars\t path_list\t spark\t \n"
     ]
    }
   ],
   "source": [
    "%who"
   ]
  },
  {
   "cell_type": "code",
   "execution_count": 7,
   "metadata": {
    "ExecuteTime": {
     "end_time": "2019-11-05T08:39:51.708965Z",
     "start_time": "2019-11-05T08:39:51.704846Z"
    }
   },
   "outputs": [],
   "source": [
    "del all_transfers, all_transfers_data, errors, path_list"
   ]
  },
  {
   "cell_type": "markdown",
   "metadata": {},
   "source": [
    "#### Frequency  "
   ]
  },
  {
   "cell_type": "code",
   "execution_count": 16,
   "metadata": {
    "ExecuteTime": {
     "end_time": "2019-11-05T11:14:59.986733Z",
     "start_time": "2019-11-05T11:11:05.973705Z"
    }
   },
   "outputs": [
    {
     "name": "stdout",
     "output_type": "stream",
     "text": [
      "+--------------------+------+-------------------+\n",
      "|    t__error_message| count|         percentage|\n",
      "+--------------------+------+-------------------+\n",
      "|TRANSFER  globus_...|570137| 12.088314235912707|\n",
      "|TRANSFER  globus_...|324553|  6.881326155306841|\n",
      "|Error on XrdCl::C...|224141|  4.752343456312623|\n",
      "|DESTINATION SRM_P...|115402| 2.4468077662961676|\n",
      "|TRANSFER  an end-...|113417| 2.4047208577842016|\n",
      "|TRANSFER  Transfe...| 95104|  2.016439973361213|\n",
      "|globus_ftp_client...| 81148| 1.7205382629365298|\n",
      "|Destination file ...| 78000| 1.6537928785558402|\n",
      "|TRANSFER  Operati...| 71783|  1.521977105145819|\n",
      "|TRANSFER  globus_...| 69113| 1.4653665027644844|\n",
      "|TRANSFER  globus_...| 60554| 1.2838945380521838|\n",
      "|TRANSFER  ERROR: ...| 43011|  0.911939557686734|\n",
      "|SOURCE CHECKSUM g...| 42556| 0.9022924325618248|\n",
      "|TRANSFER  globus_...| 38749| 0.8215746186046187|\n",
      "|TRANSFER  globus_...| 35904| 0.7612535834829345|\n",
      "|TRANSFER  globus_...| 34574| 0.7330542946562771|\n",
      "|TRANSFER  globus_...| 28598| 0.6063483171915374|\n",
      "|TRANSFER  globus_...| 27977| 0.5931815815814967|\n",
      "|Error on XrdCl::C...| 27941| 0.5924182925606248|\n",
      "|Error on XrdCl::C...| 27806| 0.5895559587323551|\n",
      "|TRANSFER  globus_...| 27437| 0.5817322462684178|\n",
      "|SOURCE CHECKSUM g...| 24918| 0.5283232172801849|\n",
      "|Error on XrdCl::C...| 24150| 0.5120397181682506|\n",
      "|TRANSFER  globus_...| 21408|0.45390253774517214|\n",
      "|Error on XrdCl::C...| 21013|  0.445527560988383|\n",
      "|TRANSFER  globus_...| 19541|0.41431752102384195|\n",
      "|DESTINATION SRM_P...| 19444| 0.4122608811620482|\n",
      "|Error on XrdCl::C...| 18275| 0.3874751904565126|\n",
      "|Error on XrdCl::C...| 17967| 0.3809448288334972|\n",
      "|TRANSFER  ERROR: ...| 17557|  0.372251814984678|\n",
      "|TRANSFER  globus_...| 16850| 0.3572616667136655|\n",
      "|TRANSFER  globus_...| 16451| 0.3488018800656683|\n",
      "|srm-ifce err: Com...| 15974|0.33868830053911525|\n",
      "| Operation timed out| 14600|0.30955610290917007|\n",
      "|srm-ifce err: Com...| 12785| 0.2710736147735438|\n",
      "|DESTINATION OVERW...| 12437| 0.2636951542384485|\n",
      "|SOURCE SRM_GET_TU...| 11692|0.24789931200096005|\n",
      "|DESTINATION CHECK...| 11242|0.23835819924006096|\n",
      "|TRANSFER  globus_...| 10689| 0.2266332317805561|\n",
      "|Error on XrdCl::C...| 10014|0.21232156263920748|\n",
      "|globus_ftp_contro...|  9873|0.20933201397412576|\n",
      "|TRANSFER  ERROR: ...|  9857|0.20899277440929379|\n",
      "|globus_ftp_client...|  9514| 0.2017203262382085|\n",
      "|TRANSFER  globus_...|  9304|0.19726780694978896|\n",
      "|[gfalt_copy_file]...|  9276|  0.196674137711333|\n",
      "|TRANSFER  ERROR: ...|  9190|0.19485072505036116|\n",
      "|TRANSFER  globus_...|  8502|0.18026342376258658|\n",
      "|srm-ifce err: Com...|  8434|0.17882165561205074|\n",
      "|globus_ftp_client...|  8296|0.17589571436537502|\n",
      "|srm-ifce err: Com...|  8093|0.17159161238656942|\n",
      "+--------------------+------+-------------------+\n",
      "only showing top 50 rows\n",
      "\n",
      "CPU times: user 262 ms, sys: 69.8 ms, total: 332 ms\n",
      "Wall time: 3min 54s\n"
     ]
    }
   ],
   "source": [
    "%%time\n",
    "\n",
    "#n_errs = 1198958\n",
    "\n",
    "error_freq = err_mess.groupBy(\"t__error_message\").count()\n",
    "error_freq = error_freq.orderBy(error_freq[\"count\"].desc()).withColumn(\"percentage\", error_freq[\"count\"]/n_errs*100)\n",
    "error_freq.show(50)"
   ]
  },
  {
   "cell_type": "markdown",
   "metadata": {},
   "source": [
    "##### Top 20 errors "
   ]
  },
  {
   "cell_type": "code",
   "execution_count": 17,
   "metadata": {
    "ExecuteTime": {
     "end_time": "2019-11-05T11:18:59.123625Z",
     "start_time": "2019-11-05T11:14:59.990951Z"
    }
   },
   "outputs": [
    {
     "name": "stdout",
     "output_type": "stream",
     "text": [
      "+---------------------------------------------------------------------------------------------------------------------------------------------------------------------------------------------------------------------------------------------------------------------------------------------------------------------------------------------------+\n",
      "|t__error_message                                                                                                                                                                                                                                                                                                                                   |\n",
      "+---------------------------------------------------------------------------------------------------------------------------------------------------------------------------------------------------------------------------------------------------------------------------------------------------------------------------------------------------+\n",
      "|TRANSFER  globus_ftp_client: the server responded with an error 500 500-Command failed. : System error in open: No such file or directory  500-A system call failed: No such file or directory  500 End.                                                                                                                                           |\n",
      "|TRANSFER  globus_ftp_control: gss_init_sec_context failed GSS Major Status: Unexpected Gatekeeper or Service Name globus_gsi_gssapi: Authorization denied: The name of the remote entity (/DC=EU/DC=EGI/C=ZA/O=Hosts/O=University of Cape Town/CN=dtn.ilifu.ac.za), and the expected name for the remote entity (/CN=dtn.ilifu.ac.za) do not match |\n",
      "|Error on XrdCl::CopyProcess::Run(): [ERROR] Server responded with an error: [3010] Write permission denied                                                                                                                                                                                                                                         |\n",
      "|DESTINATION SRM_PUT_TURL error on the turl  request : [SE][StatusOfPutRequest][SRM_EXCEED_ALLOCATION] Space associated with the space token 2310037 is not enough to hold SURL.                                                                                                                                                                    |\n",
      "|TRANSFER  an end-of-file was reached globus_xio: An end of file occurred                                                                                                                                                                                                                                                                           |\n",
      "|TRANSFER  Transfer canceled because the gsiftp performance marker timeout of 360 seconds has been exceeded, or all performance markers during that period indicated zero bytes transferred                                                                                                                                                         |\n",
      "|globus_ftp_client: the server responded with an error 500 500-Command failed : System error in stat: No such file or directory  500-A system call failed: No such file or directory  500 End.                                                                                                                                                      |\n",
      "|Destination file exists and overwrite is not enabled                                                                                                                                                                                                                                                                                               |\n",
      "|TRANSFER  Operation timed out                                                                                                                                                                                                                                                                                                                      |\n",
      "|TRANSFER  globus_ftp_client: the server responded with an error 431 Internal error                                                                                                                                                                                                                                                                 |\n",
      "|TRANSFER  globus_ftp_client: the server responded with an error 452 All pools are full                                                                                                                                                                                                                                                             |\n",
      "|TRANSFER  ERROR: Copy failed with mode streamed, with error: Authentication error, reached maximum number of attempts                                                                                                                                                                                                                              |\n",
      "|SOURCE CHECKSUM globus_ftp_client: the server responded with an error 500 Command failed : error: commands denied                                                                                                                                                                                                                                  |\n",
      "|TRANSFER  globus_ftp_client: the server responded with an error 530 530-Login incorrect. : /builddir/build/BUILD/globus-gridftp-osg-extensions-0.4/src/osg_extension_dsi.c:check_connection_limit:265:  530-Server over the user connection limit of 20 (host=gridftp1.hepgrid.uerj.br, user=rucio)  530 End.                                      |\n",
      "|TRANSFER  globus_ftp_client: the server responded with an error 451 diskCacheV111.services.space.NoFreeSpaceException: space with id=2310037 does not have enough space                                                                                                                                                                            |\n",
      "|TRANSFER  globus_ftp_client: the server responded with an error 530 Login incorrect. : Server over the user connection limit of 20 (host=gridftp2.hepgrid.uerj.br, user=rucio)                                                                                                                                                                     |\n",
      "|TRANSFER  globus_xio: Unable to connect to eulakeftp.cern.ch:2811 globus_xio: System error in connect: Connection refused globus_xio: A system call failed: Connection refused                                                                                                                                                                     |\n",
      "|TRANSFER  globus_ftp_client: the server responded with an error 530 Login incorrect. : Server over the user connection limit of 20 (host=gridftp3.hepgrid.uerj.br, user=rucio)                                                                                                                                                                     |\n",
      "|Error on XrdCl::CopyProcess::Run(): [ERROR] Operation not supported: Source does not support third-party-copy                                                                                                                                                                                                                                      |\n",
      "|Error on XrdCl::CopyProcess::Run(): [ERROR] Server responded with an error: [3005] [FATAL] Auth failed                                                                                                                                                                                                                                             |\n",
      "+---------------------------------------------------------------------------------------------------------------------------------------------------------------------------------------------------------------------------------------------------------------------------------------------------------------------------------------------------+\n",
      "only showing top 20 rows\n",
      "\n"
     ]
    }
   ],
   "source": [
    "error_freq.select(\"t__error_message\").show(truncate=False)"
   ]
  },
  {
   "cell_type": "code",
   "execution_count": 18,
   "metadata": {
    "ExecuteTime": {
     "end_time": "2019-11-05T11:23:11.232571Z",
     "start_time": "2019-11-05T11:18:59.128697Z"
    }
   },
   "outputs": [
    {
     "name": "stdout",
     "output_type": "stream",
     "text": [
      "+------+--------------------+------+-------------------+------------------+\n",
      "|msg_id|             message| count|         percentage|          cum_perc|\n",
      "+------+--------------------+------+-------------------+------------------+\n",
      "|     0|TRANSFER  globus_...|570137| 12.088314235912707|12.088314235912707|\n",
      "|     1|TRANSFER  globus_...|324553|  6.881326155306841| 18.96964039121955|\n",
      "|     2|Error on XrdCl::C...|224141|  4.752343456312623|23.721983847532172|\n",
      "|     3|DESTINATION SRM_P...|115402| 2.4468077662961676| 26.16879161382834|\n",
      "|     4|TRANSFER  an end-...|113417| 2.4047208577842016|28.573512471612542|\n",
      "|     5|TRANSFER  Transfe...| 95104|  2.016439973361213|30.589952444973754|\n",
      "|     6|globus_ftp_client...| 81148| 1.7205382629365298| 32.31049070791028|\n",
      "|     7|Destination file ...| 78000| 1.6537928785558402|33.964283586466124|\n",
      "|     8|TRANSFER  Operati...| 71783|  1.521977105145819|35.486260691611946|\n",
      "|     9|TRANSFER  globus_...| 69113| 1.4653665027644844| 36.95162719437643|\n",
      "|    10|TRANSFER  globus_...| 60554| 1.2838945380521838| 38.23552173242861|\n",
      "|    11|TRANSFER  ERROR: ...| 43011|  0.911939557686734|39.147461290115345|\n",
      "|    12|SOURCE CHECKSUM g...| 42556| 0.9022924325618248| 40.04975372267717|\n",
      "|    13|TRANSFER  globus_...| 38749| 0.8215746186046187| 40.87132834128179|\n",
      "|    14|TRANSFER  globus_...| 35904| 0.7612535834829345| 41.63258192476472|\n",
      "|    15|TRANSFER  globus_...| 34574| 0.7330542946562771|   42.365636219421|\n",
      "|    16|TRANSFER  globus_...| 28598| 0.6063483171915374| 42.97198453661254|\n",
      "|    17|TRANSFER  globus_...| 27977| 0.5931815815814967|43.565166118194036|\n",
      "|    18|Error on XrdCl::C...| 27941| 0.5924182925606248| 44.15758441075466|\n",
      "|    19|Error on XrdCl::C...| 27806| 0.5895559587323551| 44.74714036948701|\n",
      "|    20|TRANSFER  globus_...| 27437| 0.5817322462684178| 45.32887261575543|\n",
      "|    21|SOURCE CHECKSUM g...| 24918| 0.5283232172801849| 45.85719583303561|\n",
      "|    22|Error on XrdCl::C...| 24150| 0.5120397181682506|46.369235551203865|\n",
      "|    23|TRANSFER  globus_...| 21408|0.45390253774517214| 46.82313808894904|\n",
      "|    24|Error on XrdCl::C...| 21013|  0.445527560988383| 47.26866564993742|\n",
      "|    25|TRANSFER  globus_...| 19541|0.41431752102384195| 47.68298317096126|\n",
      "|    26|DESTINATION SRM_P...| 19444| 0.4122608811620482|48.095244052123306|\n",
      "|    27|Error on XrdCl::C...| 18275| 0.3874751904565126| 48.48271924257982|\n",
      "|    28|Error on XrdCl::C...| 17967| 0.3809448288334972| 48.86366407141332|\n",
      "|    29|TRANSFER  ERROR: ...| 17557|  0.372251814984678|   49.235915886398|\n",
      "|    30|TRANSFER  globus_...| 16850| 0.3572616667136655|49.593177553111666|\n",
      "|    31|TRANSFER  globus_...| 16451| 0.3488018800656683| 49.94197943317734|\n",
      "|    32|srm-ifce err: Com...| 15974|0.33868830053911525|50.280667733716456|\n",
      "|    33| Operation timed out| 14600|0.30955610290917007|50.590223836625626|\n",
      "|    34|srm-ifce err: Com...| 12785| 0.2710736147735438| 50.86129745139917|\n",
      "|    35|DESTINATION OVERW...| 12437| 0.2636951542384485|51.124992605637615|\n",
      "|    36|SOURCE SRM_GET_TU...| 11692|0.24789931200096005|51.372891917638576|\n",
      "|    37|DESTINATION CHECK...| 11242|0.23835819924006096| 51.61125011687864|\n",
      "|    38|TRANSFER  globus_...| 10689| 0.2266332317805561| 51.83788334865919|\n",
      "|    39|Error on XrdCl::C...| 10014|0.21232156263920748|  52.0502049112984|\n",
      "|    40|globus_ftp_contro...|  9873|0.20933201397412576| 52.25953692527253|\n",
      "|    41|TRANSFER  ERROR: ...|  9857|0.20899277440929379|52.468529699681824|\n",
      "|    42|globus_ftp_client...|  9514| 0.2017203262382085| 52.67025002592003|\n",
      "|    43|TRANSFER  globus_...|  9304|0.19726780694978896| 52.86751783286982|\n",
      "|    44|[gfalt_copy_file]...|  9276|  0.196674137711333|53.064191970581156|\n",
      "|    45|TRANSFER  ERROR: ...|  9190|0.19485072505036116|53.259042695631514|\n",
      "|    46|TRANSFER  globus_...|  8502|0.18026342376258658|53.439306119394104|\n",
      "|    47|srm-ifce err: Com...|  8434|0.17882165561205074| 53.61812777500615|\n",
      "|    48|globus_ftp_client...|  8296|0.17589571436537502|53.794023489371526|\n",
      "|    49|srm-ifce err: Com...|  8093|0.17159161238656942|  53.9656151017581|\n",
      "+------+--------------------+------+-------------------+------------------+\n",
      "only showing top 50 rows\n",
      "\n",
      "CPU times: user 418 ms, sys: 119 ms, total: 537 ms\n",
      "Wall time: 4min 12s\n"
     ]
    }
   ],
   "source": [
    "%%time\n",
    "\n",
    "from pyspark.sql import Window\n",
    "\n",
    "from pyspark.sql import functions as F\n",
    "\n",
    "windowval = (Window.orderBy(error_freq['count'].desc()).rangeBetween(Window.unboundedPreceding, 0))\n",
    "\n",
    "error_freq = error_freq.withColumn('cum_perc', F.sum('percentage').over(windowval)).withColumn(\"msg_id\", F.monotonically_increasing_id())\n",
    "error_freq = error_freq.withColumnRenamed(\"t__error_message\", \"message\").select(\"msg_id\", \"message\", \"count\", \"percentage\", \"cum_perc\")\n",
    "\n",
    "error_freq = error_freq.orderBy(error_freq['count'].desc())\n",
    "\n",
    "\n",
    "error_freq.show(50)"
   ]
  },
  {
   "cell_type": "code",
   "execution_count": 19,
   "metadata": {
    "ExecuteTime": {
     "end_time": "2019-11-05T11:27:25.011458Z",
     "start_time": "2019-11-05T11:23:11.237563Z"
    },
    "scrolled": false
   },
   "outputs": [
    {
     "name": "stdout",
     "output_type": "stream",
     "text": [
      "+--------------------------------------------------------------------------------------------------------------------------------------------------------------------------------------------------------------------------------------------------------------------------------------------------------------------------------------------------------------------------------------------------------------------------------------------------------------------------------------------------------------------------------------------------------------------------------------------------------------------------------+\n",
      "|message                                                                                                                                                                                                                                                                                                                                                                                                                                                                                                                                                                                                                         |\n",
      "+--------------------------------------------------------------------------------------------------------------------------------------------------------------------------------------------------------------------------------------------------------------------------------------------------------------------------------------------------------------------------------------------------------------------------------------------------------------------------------------------------------------------------------------------------------------------------------------------------------------------------------+\n",
      "|TRANSFER  globus_ftp_client: the server responded with an error 451 General problem: Problem while connected to [2a01:56c0:4033::23]:20570: ClosedChannelException                                                                                                                                                                                                                                                                                                                                                                                                                                                              |\n",
      "|TRANSFER  globus_ftp_client: the server responded with an error 451 General problem: Problem while connected to [2a01:56c0:4033::23]:20087: ClosedChannelException                                                                                                                                                                                                                                                                                                                                                                                                                                                              |\n",
      "|Error on XrdCl::CopyProcess::Run(): [ERROR] Server responded with an error: [4003] Authentication of //pnfs/pic.es/data/atlas/atlasscratchdisk/rucio/tests/45/a9/file1_9dccca31-f944-44f5-8e32-5097ad544ba4 on xrootd-at1-door.pic.es:1094, channel dbe715b4, stream 1480, is required; not handled.                                                                                                                                                                                                                                                                                                                            |\n",
      "|srm-ifce err: Communication error on send, err: [SE][Ls][] httpg://osg-se.sprace.org.br:8443/srm/managerv2: CGSI-gSOAP running on fts439.cern.ch reports Error reading token data header: Connection closed                                                                                                                                                                                                                                                                                                                                                                                                                     |\n",
      "|TRANSFER  globus_ftp_client: the server responded with an error 451 General problem: Problem while connected to [2001:630:22:d0ff:b226:28ff:fe52:2c4]:21306: ClosedChannelException                                                                                                                                                                                                                                                                                                                                                                                                                                             |\n",
      "|TRANSFER  globus_ftp_client: the server responded with an error 451 General problem: Problem while connected to [2001:630:3c1:662::d239]:23033: ClosedChannelException                                                                                                                                                                                                                                                                                                                                                                                                                                                          |\n",
      "|TRANSFER  globus_ftp_client: the server responded with an error 451 General problem: Problem while connected to [2001:630:22:d0ff:b226:28ff:fe53:9eb4]:24709: ClosedChannelException                                                                                                                                                                                                                                                                                                                                                                                                                                            |\n",
      "|srm-ifce err: Communication error on send, err: [SE][Ls][] httpg://recas-se-01.cs.infn.it:8446/srm/managerv2: CGSI-gSOAP running on fts813.cern.ch reports Error reading token data header: Connection reset by peer                                                                                                                                                                                                                                                                                                                                                                                                            |\n",
      "|Error reported from srm_ifce : 2 [SE][Ls][SRM_INVALID_PATH] No such file or directory /pnfs/rzg.mpg.de/data/atlas/dq2/atlasdatadisk/rucio/mc16_13TeV/48/0d/HITS.18992464._000015.pool.root.1                                                                                                                                                                                                                                                                                                                                                                                                                                    |\n",
      "|TRANSFER  globus_ftp_client: the server responded with an error 451 General problem: Failed to connect [2605:9a00:10:400d:a236:9fff:feb5:1a4]:21163: Connection timed out                                                                                                                                                                                                                                                                                                                                                                                                                                                       |\n",
      "|srm-ifce err: Communication error on send, err: [SE][Ls][] httpg://dcache-se-atlas.desy.de:8443/srm/managerv2: CGSI-gSOAP running on lcgfts02.gridpp.rl.ac.uk reports could not open connection to dcache-se-atlas.desy.de:8443                                                                                                                                                                                                                                                                                                                                                                                                 |\n",
      "|TRANSFER  globus_ftp_client: the server responded with an error 451 General problem: Problem while connected to [2a01:56c0:4033::32]:20348: ClosedChannelException                                                                                                                                                                                                                                                                                                                                                                                                                                                              |\n",
      "|[gfalt_copy_file][perform_copy][srm_plugin_filecopy][srm_do_transfer][gfalt_copy_file][perform_copy][gridftp_plugin_filecopy][gridftp_plugin_filecopy] TRANSFER  globus_ftp_client: the server responded with an error 451 451-GlobusError: v=1 c=INTERNAL_ERROR  451-GridFTP-Errno: 255  451-GridFTP-Reason: System error in write into HDFS (host=gftp6.hep.kbfi.ee, user=cms, path=/cms/store/mc/RunIISpring18DRPremix/QCD_Pt_3200toInf_TuneCP5_13TeV_pythia8/AODSIM/TkAlMinBias_100X_upgrade2018_realistic_v10-v1/10000/449A05B7-2366-E811-8634-0CC47AA98A3A.root)  451-GridFTP-Error-String: Unknown error 255  451 End.   |\n",
      "|Error reported from srm_ifce : 2 [SE][Ls][SRM_INVALID_PATH] No such file or directory /pnfs/sfu.ca/data/snoplus/snotflow/raw/l2/r100000/r104000/SNOP_0000104050_005.l2.zdab                                                                                                                                                                                                                                                                                                                                                                                                                                                     |\n",
      "|TRANSFER  globus_ftp_client: the server responded with an error 451 General problem: Problem while connected to [2001:630:22:d0ff:b226:28ff:fe53:9eb4]:23640: ClosedChannelException                                                                                                                                                                                                                                                                                                                                                                                                                                            |\n",
      "|TRANSFER  globus_ftp_client: the server responded with an error 451 General problem: Problem while connected to [2a01:56c0:4033::23]:24341: ClosedChannelException                                                                                                                                                                                                                                                                                                                                                                                                                                                              |\n",
      "|TRANSFER  globus_ftp_client: the server responded with an error 451 General problem: Problem while connected to [2001:4ca0:0:201:a:0:2:e]:63511: ClosedChannelException                                                                                                                                                                                                                                                                                                                                                                                                                                                         |\n",
      "|SOURCE CHECKSUM MISMATCH User defined checksum and source checksum do not match ddf6c312 != 184b20cd                                                                                                                                                                                                                                                                                                                                                                                                                                                                                                                            |\n",
      "|TRANSFER  globus_ftp_client: the server responded with an error 451 General problem: Problem while connected to [2001:630:22:d0ff:b226:28ff:fe53:c008]:24788: ClosedChannelException                                                                                                                                                                                                                                                                                                                                                                                                                                            |\n",
      "|TRANSFER  globus_ftp_client: the server responded with an error 451 General problem: Problem while connected to [2001:48a8:68f7:1:192:41:230:26]:21414: ClosedChannelException                                                                                                                                                                                                                                                                                                                                                                                                                                                  |\n",
      "|DESTINATION OVERWRITE srm-ifce err: Communication error on send, err: [SE][srmRm][] httpg://hepgrid11.ph.liv.ac.uk:8446/srm/managerv2: CGSI-gSOAP running on lcgfts02.gridpp.rl.ac.uk reports Error reading token data header: Connection reset by peer                                                                                                                                                                                                                                                                                                                                                                         |\n",
      "|TRANSFER  globus_ftp_client: the server responded with an error 451 General problem: Problem while connected to [2a01:56c0:4033::23]:24519: ClosedChannelException                                                                                                                                                                                                                                                                                                                                                                                                                                                              |\n",
      "|TRANSFER  globus_ftp_client: the server responded with an error 451 General problem: Problem while connected to [2001:630:22:d0ff:eef4:bbff:feee:4c28]:21011: ClosedChannelException                                                                                                                                                                                                                                                                                                                                                                                                                                            |\n",
      "|TRANSFER  globus_ftp_client: the server responded with an error 451 General problem: Problem while connected to [2001:630:22:d0ff:b226:28ff:fe52:2c4]:24728: ClosedChannelException                                                                                                                                                                                                                                                                                                                                                                                                                                             |\n",
      "|TRANSFER  globus_ftp_client: the server responded with an error 451 General problem: Problem while connected to [2001:630:22:d0ff:225:90ff:fee5:d400]:22289: ClosedChannelException                                                                                                                                                                                                                                                                                                                                                                                                                                             |\n",
      "|TRANSFER  globus_ftp_client: the server responded with an error 451 General problem: Failed to connect [2605:9a00:10:400d:b696:91ff:fe29:71bc]:20640: Connection timed out                                                                                                                                                                                                                                                                                                                                                                                                                                                      |\n",
      "|TRANSFER  globus_ftp_client: the server responded with an error 451 General problem: Problem while connected to [2001:630:22:d0ff:b226:28ff:fe53:2f28]:24788: ClosedChannelException                                                                                                                                                                                                                                                                                                                                                                                                                                            |\n",
      "|TRANSFER  globus_ftp_client: the server responded with an error 451 General problem: Problem while connected to [2001:630:3c1:662::d235]:23632: ClosedChannelException                                                                                                                                                                                                                                                                                                                                                                                                                                                          |\n",
      "|DESTINATION SRM_PUTDONE Error on the surl srm://node12.datagrid.cea.fr/dpm/datagrid.cea.fr/home/cms/trivcat/store/data/Run2018B/HLTPhysics1/AOD/PromptReco-v2/000/318/714/00000/741B6690-877B-E811-AE80-FA163E7F2A6D.root while putdone : [SE][PutDone][SRM_FAILURE] Incompatible with current file status                                                                                                                                                                                                                                                                                                                      |\n",
      "|TRANSFER  globus_ftp_client: the server responded with an error 451 General problem: Problem while connected to [2001:630:3c1:662::d217]:23033: ClosedChannelException                                                                                                                                                                                                                                                                                                                                                                                                                                                          |\n",
      "|Error reported from srm_ifce : 2 [SE][Ls][SRM_INVALID_PATH] No such file or directory /pnfs/sfu.ca/data/snoplus/snotflow/raw/l1/r100000/r104000/SNOP_0000104078_006.zdab                                                                                                                                                                                                                                                                                                                                                                                                                                                        |\n",
      "|SOURCE CHECKSUM srm-ifce err: Communication error on send, err: [SE][Ls][] httpg://grid-cert-03.roma1.infn.it:8446/srm/managerv2: CGSI-gSOAP running on fts307.usatlas.bnl.gov reports Error reading token data header: Connection reset by peer                                                                                                                                                                                                                                                                                                                                                                                |\n",
      "|Error reported from srm_ifce : 2 [SE][Ls][SRM_INVALID_PATH] No such file or directory /pnfs/rzg.mpg.de/data/atlas/dq2/atlasdatadisk/rucio/mc16_13TeV/62/90/HITS.18992464._000020.pool.root.1                                                                                                                                                                                                                                                                                                                                                                                                                                    |\n",
      "|TRANSFER  globus_ftp_client: the server responded with an error 451 General problem: Problem while connected to [2a01:56c0:4033::32]:21544: ClosedChannelException                                                                                                                                                                                                                                                                                                                                                                                                                                                              |\n",
      "|TRANSFER CHECKSUM MISMATCH USER_DEFINE and SRC checksums are different. a99c85a7 != bf53dd4e                                                                                                                                                                                                                                                                                                                                                                                                                                                                                                                                    |\n",
      "|TRANSFER  globus_ftp_client: the server responded with an error 451 General problem: Problem while connected to [2a01:56c0:4033::23]:21539: ClosedChannelException                                                                                                                                                                                                                                                                                                                                                                                                                                                              |\n",
      "|TRANSFER  globus_ftp_client: the server responded with an error 451 General problem: Problem while connected to [2001:630:22:d0ff:21b:21ff:febd:35bc]:23086: ClosedChannelException                                                                                                                                                                                                                                                                                                                                                                                                                                             |\n",
      "|TRANSFER  globus_ftp_client: the server responded with an error 451 General problem: Problem while connected to [2001:630:22:d0ff:b226:28ff:fe53:307e]:24902: ClosedChannelException                                                                                                                                                                                                                                                                                                                                                                                                                                            |\n",
      "|TRANSFER CHECKSUM MISMATCH USER_DEFINE and SRC checksums are different. 650323e8 != 9818adb0                                                                                                                                                                                                                                                                                                                                                                                                                                                                                                                                    |\n",
      "|srm-ifce err: Communication error on send, err: [SE][Ls][] httpg://grid-cert-03.roma1.infn.it:8446/srm/managerv2: CGSI-gSOAP running on lcgfts07.gridpp.rl.ac.uk reports could not open connection to grid-cert-03.roma1.infn.it:8446                                                                                                                                                                                                                                                                                                                                                                                           |\n",
      "|TRANSFER  globus_ftp_client: the server responded with an error 451 General problem: Failed to connect [2605:9a00:10:400d:a236:9fff:feb5:1a4]:24280: Connection timed out                                                                                                                                                                                                                                                                                                                                                                                                                                                       |\n",
      "|srm-ifce err: Communication error on send, err: [SE][Ls][] httpg://grid-srm.physik.rwth-aachen.de:8443/srm/managerv2: CGSI-gSOAP running on fts437.cern.ch reports Error reading token data header: Connection closed                                                                                                                                                                                                                                                                                                                                                                                                           |\n",
      "|TRANSFER  globus_ftp_client: the server responded with an error 451 General problem: Problem while connected to [2001:630:22:d0ff:b226:28ff:fe53:2e50]:24902: ClosedChannelException                                                                                                                                                                                                                                                                                                                                                                                                                                            |\n",
      "|srm-ifce err: Communication error on send, err: [SE][Ls][] httpg://ccsrmt2.in2p3.fr:8443/srm/managerv2: CGSI-gSOAP running on fts435.cern.ch reports Error reading token data header: Connection closed                                                                                                                                                                                                                                                                                                                                                                                                                         |\n",
      "|TRANSFER  globus_ftp_client: the server responded with an error 451 General problem: Problem while connected to [2001:630:22:d0ff:b226:28ff:fe53:306c]:22454: ClosedChannelException                                                                                                                                                                                                                                                                                                                                                                                                                                            |\n",
      "|srm-ifce err: Communication error on send, err: [SE][Ls][] httpg://grid-srm.physik.rwth-aachen.de:8443/srm/managerv2: CGSI-gSOAP running on fts435.cern.ch reports Error reading token data header: Connection closed                                                                                                                                                                                                                                                                                                                                                                                                           |\n",
      "|TRANSFER  globus_ftp_client: the server responded with an error 451 General problem: Problem while connected to [2001:630:3c1:662::d218]:24258: ClosedChannelException                                                                                                                                                                                                                                                                                                                                                                                                                                                          |\n",
      "|srm-ifce err: Communication error on send, err: [SE][Ls][] httpg://storm.ifca.es:8444/srm/managerv2: CGSI-gSOAP running on lcgfts01.gridpp.rl.ac.uk reports could not open connection to storm.ifca.es:8444                                                                                                                                                                                                                                                                                                                                                                                                                     |\n",
      "|Error reported from srm_ifce : 2 [SE][Ls][SRM_INVALID_PATH] No such file or directory /pnfs/rzg.mpg.de/data/atlas/dq2/atlasdatadisk/rucio/mc16_13TeV/06/f8/HITS.18992464._000013.pool.root.1                                                                                                                                                                                                                                                                                                                                                                                                                                    |\n",
      "|srm-ifce err: Communication error on send, err: [SE][Ls][] httpg://srm.ciemat.es:8443/srm/managerv2: CGSI-gSOAP running on lcgfts09.gridpp.rl.ac.uk reports could not open connection to srm.ciemat.es:8443                                                                                                                                                                                                                                                                                                                                                                                                                     |\n",
      "+--------------------------------------------------------------------------------------------------------------------------------------------------------------------------------------------------------------------------------------------------------------------------------------------------------------------------------------------------------------------------------------------------------------------------------------------------------------------------------------------------------------------------------------------------------------------------------------------------------------------------------+\n",
      "only showing top 50 rows\n",
      "\n"
     ]
    }
   ],
   "source": [
    "error_freq.filter(error_freq[\"msg_id\"] > (n_unique_mess-50)).select(\"message\").show(n=50, truncate=False)"
   ]
  },
  {
   "cell_type": "code",
   "execution_count": 20,
   "metadata": {
    "ExecuteTime": {
     "end_time": "2019-11-04T16:24:52.342379Z",
     "start_time": "2019-11-04T16:24:52.334225Z"
    }
   },
   "outputs": [
    {
     "name": "stdout",
     "output_type": "stream",
     "text": [
      "F\t SparkSession\t Window\t distinct_mess\t err_mess\t error_freq\t error_freq1\t n_errs\t spark\t \n",
      "windowval\t \n"
     ]
    }
   ],
   "source": [
    "%who"
   ]
  },
  {
   "cell_type": "code",
   "execution_count": 20,
   "metadata": {
    "ExecuteTime": {
     "end_time": "2019-11-05T11:45:21.426847Z",
     "start_time": "2019-11-05T11:41:04.077495Z"
    }
   },
   "outputs": [],
   "source": [
    "error_freq_pd = error_freq.toPandas()"
   ]
  },
  {
   "cell_type": "code",
   "execution_count": 21,
   "metadata": {
    "ExecuteTime": {
     "end_time": "2019-11-05T11:45:30.880492Z",
     "start_time": "2019-11-05T11:45:30.863445Z"
    }
   },
   "outputs": [
    {
     "data": {
      "text/plain": [
       "271795"
      ]
     },
     "execution_count": 21,
     "metadata": {},
     "output_type": "execute_result"
    }
   ],
   "source": [
    "import numpy as np\n",
    "\n",
    "\n",
    "len(np.unique(error_freq_pd.msg_id))"
   ]
  },
  {
   "cell_type": "code",
   "execution_count": 24,
   "metadata": {
    "ExecuteTime": {
     "end_time": "2019-11-05T11:56:25.049183Z",
     "start_time": "2019-11-05T11:56:24.989015Z"
    },
    "scrolled": true
   },
   "outputs": [
    {
     "data": {
      "text/html": [
       "<div>\n",
       "<style scoped>\n",
       "    .dataframe tbody tr th:only-of-type {\n",
       "        vertical-align: middle;\n",
       "    }\n",
       "\n",
       "    .dataframe tbody tr th {\n",
       "        vertical-align: top;\n",
       "    }\n",
       "\n",
       "    .dataframe thead th {\n",
       "        text-align: right;\n",
       "    }\n",
       "</style>\n",
       "<table border=\"1\" class=\"dataframe\">\n",
       "  <thead>\n",
       "    <tr style=\"text-align: right;\">\n",
       "      <th></th>\n",
       "      <th>msg_id</th>\n",
       "      <th>message</th>\n",
       "      <th>count</th>\n",
       "      <th>percentage</th>\n",
       "      <th>cum_perc</th>\n",
       "    </tr>\n",
       "  </thead>\n",
       "  <tbody>\n",
       "    <tr>\n",
       "      <th>2811</th>\n",
       "      <td>2811</td>\n",
       "      <td>DESTINATION SRM_PUTDONE Error on the surl srm://srm-cms.gridpp.rl.ac.uk/castor/ads.rl.ac.uk/prod/cms/store/test/rucio/cms//store/mc/RunIISummer16NanoAODv5/BsToJpsiF2p1525_BMuonFilter_SoftQCDnonD_TuneCUEP8M1_13TeV-pythia8-evtgen/NANOAODSIM/PUMoriond17_Nano1June2019_102X_mcRun2_asymptotic_v7-v1/110000/76E1DE06-A2BF-554A-B158-35652DAD0810.root while putdone : [SE][PutDone][SRM_INVALID_PATH] This SURL does not exist in the original request</td>\n",
       "      <td>64</td>\n",
       "      <td>0.001357</td>\n",
       "      <td>80.059414</td>\n",
       "    </tr>\n",
       "    <tr>\n",
       "      <th>2812</th>\n",
       "      <td>2812</td>\n",
       "      <td>DESTINATION SRM_PUTDONE Error on the surl srm://srm-cms.gridpp.rl.ac.uk/castor/ads.rl.ac.uk/prod/cms/store/test/rucio/cms//store/data/Run2018D/NoBPTX/NANOAOD/Nano1June2019_ver2-v1/30000/7821BF71-B8F6-D749-A382-3F92930A0B50.root while putdone : [SE][PutDone][SRM_INVALID_PATH] This SURL does not exist in the original request</td>\n",
       "      <td>64</td>\n",
       "      <td>0.001357</td>\n",
       "      <td>80.059414</td>\n",
       "    </tr>\n",
       "    <tr>\n",
       "      <th>2813</th>\n",
       "      <td>2813</td>\n",
       "      <td>DESTINATION SRM_PUTDONE Error on the surl srm://srm-cms.gridpp.rl.ac.uk/castor/ads.rl.ac.uk/prod/cms/store/test/rucio/cms//store/mc/RunIIFall17NanoAODv5/ST_t-channel_top_4f_InclusiveDecays_TuneCP5up_PSweights_13TeV-powheg-pythia8/NANOAODSIM/PU2017_12Apr2018_Nano1June2019_102X_mc2017_realistic_v7-v1/250000/EA3156D2-BD29-9B42-86E6-B164AA035078.root while putdone : [SE][PutDone][SRM_INVALID_PATH] This SURL does not exist in the original request</td>\n",
       "      <td>64</td>\n",
       "      <td>0.001357</td>\n",
       "      <td>80.059414</td>\n",
       "    </tr>\n",
       "    <tr>\n",
       "      <th>2814</th>\n",
       "      <td>2814</td>\n",
       "      <td>srm-ifce err: Communication error on send, err: [SE][Ls][] httpg://srmcms.pic.es:8443/srm/managerv2: CGSI-gSOAP running on fts437.cern.ch reports Error reading token data header: Connection closed</td>\n",
       "      <td>64</td>\n",
       "      <td>0.001357</td>\n",
       "      <td>80.059414</td>\n",
       "    </tr>\n",
       "    <tr>\n",
       "      <th>2815</th>\n",
       "      <td>2815</td>\n",
       "      <td>DESTINATION SRM_PUTDONE Error on the surl srm://srm-cms.gridpp.rl.ac.uk/castor/ads.rl.ac.uk/prod/cms/store/test/rucio/cms//store/mc/RunIISummer16NanoAODv5/WprimeToENu_M-5400_TuneCUETP8M1_13TeV-pythia8/NANOAODSIM/PUMoriond17_Nano1June2019_102X_mcRun2_asymptotic_v7-v1/110000/116AA6F1-07C9-474F-8F24-5CD1EF6C3A8E.root while putdone : [SE][PutDone][SRM_INVALID_PATH] This SURL does not exist in the original request</td>\n",
       "      <td>64</td>\n",
       "      <td>0.001357</td>\n",
       "      <td>80.059414</td>\n",
       "    </tr>\n",
       "    <tr>\n",
       "      <th>2816</th>\n",
       "      <td>2816</td>\n",
       "      <td>srm-ifce err: Communication error on send, err: [SE][Ls][] httpg://stormfe1.pi.infn.it:8444/srm/managerv2: CGSI-gSOAP running on fts432.cern.ch reports Error reading token data header: Connection closed</td>\n",
       "      <td>64</td>\n",
       "      <td>0.001357</td>\n",
       "      <td>80.059414</td>\n",
       "    </tr>\n",
       "    <tr>\n",
       "      <th>2817</th>\n",
       "      <td>2817</td>\n",
       "      <td>DESTINATION SRM_PUTDONE Error on the surl srm://srm-cms.gridpp.rl.ac.uk/castor/ads.rl.ac.uk/prod/cms/store/test/rucio/cms//store/data/Run2018D/NoBPTX/NANOAOD/Nano1June2019_ver2-v1/30000/BD1DAF06-1286-DA48-A029-9342AAEF5124.root while putdone : [SE][PutDone][SRM_INVALID_PATH] This SURL does not exist in the original request</td>\n",
       "      <td>64</td>\n",
       "      <td>0.001357</td>\n",
       "      <td>80.059414</td>\n",
       "    </tr>\n",
       "    <tr>\n",
       "      <th>2818</th>\n",
       "      <td>2818</td>\n",
       "      <td>DESTINATION SRM_PUTDONE Error on the surl srm://srm-cms.gridpp.rl.ac.uk/castor/ads.rl.ac.uk/prod/cms/store/test/rucio/cms//store/mc/RunIIAutumn18NanoAODv5/ChargedHiggsToCB_M125_TuneCP5_PSweights_13TeV-madgraph-pythia8/NANOAODSIM/Nano1June2019_102X_upgrade2018_realistic_v19-v1/130000/E1EB417D-D801-3E4D-B8FD-1E95F13FE764.root while putdone : [SE][PutDone][SRM_INVALID_PATH] This SURL does not exist in the original request</td>\n",
       "      <td>64</td>\n",
       "      <td>0.001357</td>\n",
       "      <td>80.059414</td>\n",
       "    </tr>\n",
       "    <tr>\n",
       "      <th>2819</th>\n",
       "      <td>2819</td>\n",
       "      <td>srm-ifce err: Communication error on send, err: [SE][Ls][] httpg://srm.ihep.ac.cn:8443/srm/managerv2: CGSI-gSOAP running on lcgfts05.gridpp.rl.ac.uk reports could not open connection to srm.ihep.ac.cn:8443</td>\n",
       "      <td>64</td>\n",
       "      <td>0.001357</td>\n",
       "      <td>80.059414</td>\n",
       "    </tr>\n",
       "    <tr>\n",
       "      <th>2820</th>\n",
       "      <td>2820</td>\n",
       "      <td>DESTINATION SRM_PUTDONE Error on the surl srm://srm-cms.gridpp.rl.ac.uk/castor/ads.rl.ac.uk/prod/cms/store/test/rucio/cms//store/mc/RunIIAutumn18NanoAODv5/VBFHToWWToLNuQQ_M180_NNPDF31_TuneCP5_PSweights_13TeV_powheg_JHUGenV727_pythia8/NANOAODSIM/Nano1June2019_102X_upgrade2018_realistic_v19-v1/270000/4B692399-D55E-C04F-B633-BF0BF665AB81.root while putdone : [SE][PutDone][SRM_INVALID_PATH] This SURL does not exist in the original request</td>\n",
       "      <td>64</td>\n",
       "      <td>0.001357</td>\n",
       "      <td>80.059414</td>\n",
       "    </tr>\n",
       "    <tr>\n",
       "      <th>2821</th>\n",
       "      <td>2821</td>\n",
       "      <td>DESTINATION SRM_PUTDONE Error on the surl srm://srm-cms.gridpp.rl.ac.uk/castor/ads.rl.ac.uk/prod/cms/store/test/rucio/cms//store/mc/RunIIAutumn18NanoAODv5/JJHiggs0PMToTauTau_M125_13TeV_JHUGenV7011_pythia8/NANOAODSIM/Nano1June2019_102X_upgrade2018_realistic_v19-v2/260000/BE1F1B8D-E7E1-E14A-A0D6-903C51FABEF2.root while putdone : [SE][PutDone][SRM_INVALID_PATH] This SURL does not exist in the original request</td>\n",
       "      <td>64</td>\n",
       "      <td>0.001357</td>\n",
       "      <td>80.059414</td>\n",
       "    </tr>\n",
       "    <tr>\n",
       "      <th>2822</th>\n",
       "      <td>2822</td>\n",
       "      <td>DESTINATION SRM_PUTDONE Error on the surl srm://srm-cms.gridpp.rl.ac.uk/castor/ads.rl.ac.uk/prod/cms/store/test/rucio/cms//store/mc/RunIISummer16NanoAODv5/QCD_Pt_170to250_bcToE_TuneCUETP8M1_13TeV_pythia8/NANOAODSIM/PUMoriond17_Nano1June2019_102X_mcRun2_asymptotic_v7-v1/100000/6BA5C845-3218-704E-8A4A-DABCF4640197.root while putdone : [SE][PutDone][SRM_INVALID_PATH] This SURL does not exist in the original request</td>\n",
       "      <td>64</td>\n",
       "      <td>0.001357</td>\n",
       "      <td>80.059414</td>\n",
       "    </tr>\n",
       "    <tr>\n",
       "      <th>2823</th>\n",
       "      <td>2823</td>\n",
       "      <td>DESTINATION SRM_PUTDONE Error on the surl srm://srm-cms.gridpp.rl.ac.uk/castor/ads.rl.ac.uk/prod/cms/store/test/rucio/cms//store/mc/RunIIAutumn18NanoAODv5/WpToTpB_Wp3000Nar_Tp1700Wid_Ht_TuneCP5_13TeV-madgraphMLM-pythia8/NANOAODSIM/Nano1June2019_102X_upgrade2018_realistic_v19-v1/40000/A37AAAB1-3D4F-4F40-9337-F9D0C829DF17.root while putdone : [SE][PutDone][SRM_INVALID_PATH] This SURL does not exist in the original request</td>\n",
       "      <td>64</td>\n",
       "      <td>0.001357</td>\n",
       "      <td>80.059414</td>\n",
       "    </tr>\n",
       "    <tr>\n",
       "      <th>2824</th>\n",
       "      <td>2824</td>\n",
       "      <td>srm-ifce err: Communication error on send, err: [SE][Ls][] httpg://srmcms.pic.es:8443/srm/managerv2: CGSI-gSOAP running on fts437.cern.ch reports could not open connection to srmcms.pic.es:8443</td>\n",
       "      <td>64</td>\n",
       "      <td>0.001357</td>\n",
       "      <td>80.059414</td>\n",
       "    </tr>\n",
       "    <tr>\n",
       "      <th>2825</th>\n",
       "      <td>2825</td>\n",
       "      <td>DESTINATION SRM_PUTDONE Error on the surl srm://srm-cms.gridpp.rl.ac.uk/castor/ads.rl.ac.uk/prod/cms/store/test/rucio/cms//store/mc/RunIIAutumn18NanoAODv5/WpToBpT_Wp3500Nar_Bp2300Wid_Zt_TuneCP5_13TeV-madgraphMLM-pythia8/NANOAODSIM/Nano1June2019_102X_upgrade2018_realistic_v19-v1/40000/4FF4B695-98DA-FE4B-9FE7-4ED19E42A6FF.root while putdone : [SE][PutDone][SRM_INVALID_PATH] This SURL does not exist in the original request</td>\n",
       "      <td>64</td>\n",
       "      <td>0.001357</td>\n",
       "      <td>80.059414</td>\n",
       "    </tr>\n",
       "    <tr>\n",
       "      <th>2826</th>\n",
       "      <td>2826</td>\n",
       "      <td>DESTINATION SRM_PUTDONE Error on the surl srm://srm-cms.gridpp.rl.ac.uk/castor/ads.rl.ac.uk/prod/cms/store/test/rucio/cms//store/mc/RunIISummer16NanoAODv5/TT_hdampUP_TuneCUETP8M2T4_13TeV-powheg-pythia8/NANOAODSIM/PUMoriond17_Nano1June2019_102X_mcRun2_asymptotic_v7_ext1-v1/120000/65661B36-9904-BF46-9CB1-1F95F2853DED.root while putdone : [SE][PutDone][SRM_INVALID_PATH] This SURL does not exist in the original request</td>\n",
       "      <td>64</td>\n",
       "      <td>0.001357</td>\n",
       "      <td>80.059414</td>\n",
       "    </tr>\n",
       "    <tr>\n",
       "      <th>2827</th>\n",
       "      <td>2827</td>\n",
       "      <td>DESTINATION SRM_PUTDONE Error on the surl srm://srm-cms.gridpp.rl.ac.uk/castor/ads.rl.ac.uk/prod/cms/store/test/rucio/cms//store/data/Run2018A/EGamma/NANOAOD/Nano1June2019-v1/70000/C6F6B374-E732-F643-B6BC-44A0F02CBB57.root while putdone : [SE][PutDone][SRM_INVALID_PATH] This SURL does not exist in the original request</td>\n",
       "      <td>64</td>\n",
       "      <td>0.001357</td>\n",
       "      <td>80.059414</td>\n",
       "    </tr>\n",
       "    <tr>\n",
       "      <th>2828</th>\n",
       "      <td>2828</td>\n",
       "      <td>DESTINATION SRM_PUTDONE Error on the surl srm://srm-cms.gridpp.rl.ac.uk/castor/ads.rl.ac.uk/prod/cms/store/test/rucio/cms//store/mc/RunIIFall17NanoAODv5/VHToGG_M125_13TeV_amcatnloFXFX_madspin_pythia8/NANOAODSIM/PU2017_12Apr2018_Nano1June2019_102X_mc2017_realistic_v7-v1/130000/213DF449-36D7-5E49-9D7F-4B19C9DC6E6C.root while putdone : [SE][PutDone][SRM_INVALID_PATH] This SURL does not exist in the original request</td>\n",
       "      <td>64</td>\n",
       "      <td>0.001357</td>\n",
       "      <td>80.059414</td>\n",
       "    </tr>\n",
       "    <tr>\n",
       "      <th>2829</th>\n",
       "      <td>2829</td>\n",
       "      <td>DESTINATION SRM_PUTDONE Error on the surl srm://srm-cms.gridpp.rl.ac.uk/castor/ads.rl.ac.uk/prod/cms/store/test/rucio/cms//store/mc/RunIIFall17NanoAODv5/Wto3Pi_TuneCP5_13TeV-pythia8/NANOAODSIM/PU2017_12Apr2018_Nano1June2019_102X_mc2017_realistic_v7-v1/110000/842BEB85-47E4-ED47-AD86-404850A63B63.root while putdone : [SE][PutDone][SRM_INVALID_PATH] This SURL does not exist in the original request</td>\n",
       "      <td>64</td>\n",
       "      <td>0.001357</td>\n",
       "      <td>80.059414</td>\n",
       "    </tr>\n",
       "    <tr>\n",
       "      <th>2830</th>\n",
       "      <td>2830</td>\n",
       "      <td>DESTINATION SRM_PUTDONE Error on the surl srm://srm-cms.gridpp.rl.ac.uk/castor/ads.rl.ac.uk/prod/cms/store/test/rucio/cms//store/mc/RunIIAutumn18NanoAODv5/GluGluHToWWToLNuQQ_M155_NNPDF31_TuneCP5_PSweights_13TeV_powheg_JHUGenV727_pythia8/NANOAODSIM/Nano1June2019_102X_upgrade2018_realistic_v19-v1/130000/704B66D1-3CB8-414A-ACB4-E2FF08DA96C1.root while putdone : [SE][PutDone][SRM_INVALID_PATH] This SURL does not exist in the original request</td>\n",
       "      <td>64</td>\n",
       "      <td>0.001357</td>\n",
       "      <td>80.059414</td>\n",
       "    </tr>\n",
       "    <tr>\n",
       "      <th>2831</th>\n",
       "      <td>2831</td>\n",
       "      <td>srm-ifce err: Communication error on send, err: [SE][Ls][] httpg://dcache-se-desy.desy.de:8443/srm/managerv2: CGSI-gSOAP running on fts308.usatlas.bnl.gov reports could not open connection to dcache-se-desy.desy.de:8443</td>\n",
       "      <td>64</td>\n",
       "      <td>0.001357</td>\n",
       "      <td>80.059414</td>\n",
       "    </tr>\n",
       "    <tr>\n",
       "      <th>2832</th>\n",
       "      <td>2832</td>\n",
       "      <td>DESTINATION SRM_PUTDONE Error on the surl srm://srm-cms.gridpp.rl.ac.uk/castor/ads.rl.ac.uk/prod/cms/store/test/rucio/cms//store/mc/RunIIFall17NanoAODv5/ST_t-channel_top_4f_InclusiveDecays_TuneCP5up_PSweights_13TeV-powheg-pythia8/NANOAODSIM/PU2017_12Apr2018_Nano1June2019_102X_mc2017_realistic_v7-v1/250000/67A25DC6-ED83-8F42-99B6-C1F20E2DF5F6.root while putdone : [SE][PutDone][SRM_INVALID_PATH] This SURL does not exist in the original request</td>\n",
       "      <td>64</td>\n",
       "      <td>0.001357</td>\n",
       "      <td>80.059414</td>\n",
       "    </tr>\n",
       "    <tr>\n",
       "      <th>2833</th>\n",
       "      <td>2833</td>\n",
       "      <td>DESTINATION SRM_PUTDONE Error on the surl srm://srm-cms.gridpp.rl.ac.uk/castor/ads.rl.ac.uk/prod/cms/store/test/rucio/cms//store/mc/RunIIFall17NanoAODv5/TT_AK8HT650_TuneCP5Down_PSweights_13TeV-powheg-pythia8/NANOAODSIM/PU2017_12Apr2018_Nano1June2019_102X_mc2017_realistic_v7-v1/250000/E767F2DD-9D68-7F40-A074-494A87073C37.root while putdone : [SE][PutDone][SRM_INVALID_PATH] This SURL does not exist in the original request</td>\n",
       "      <td>64</td>\n",
       "      <td>0.001357</td>\n",
       "      <td>80.059414</td>\n",
       "    </tr>\n",
       "    <tr>\n",
       "      <th>2834</th>\n",
       "      <td>2834</td>\n",
       "      <td>DESTINATION SRM_PUTDONE Error on the surl srm://srm-cms.gridpp.rl.ac.uk/castor/ads.rl.ac.uk/prod/cms/store/test/rucio/cms//store/mc/RunIIFall17NanoAODv5/tZq_ll_4f_ckm_NLO_TuneCP5_PSweights_13TeV-amcatnlo-pythia8/NANOAODSIM/PU2017_12Apr2018_Nano1June2019_new_pmx_102X_mc2017_realistic_v7-v1/110000/12B9221D-CCCE-AF4F-84CC-5F85D45AA1A0.root while putdone : [SE][PutDone][SRM_INVALID_PATH] This SURL does not exist in the original request</td>\n",
       "      <td>64</td>\n",
       "      <td>0.001357</td>\n",
       "      <td>80.059414</td>\n",
       "    </tr>\n",
       "    <tr>\n",
       "      <th>2835</th>\n",
       "      <td>2835</td>\n",
       "      <td>DESTINATION SRM_PUTDONE Error on the surl srm://srm-cms.gridpp.rl.ac.uk/castor/ads.rl.ac.uk/prod/cms/store/test/rucio/cms//store/mc/RunIIFall17NanoAODv5/ST_t-channel_top_4f_InclusiveDecays_TuneCP5up_PSweights_13TeV-powheg-pythia8/NANOAODSIM/PU2017_12Apr2018_Nano1June2019_102X_mc2017_realistic_v7-v1/250000/11FD7FBD-B93C-624E-9EAC-63017BD18CF2.root while putdone : [SE][PutDone][SRM_INVALID_PATH] This SURL does not exist in the original request</td>\n",
       "      <td>64</td>\n",
       "      <td>0.001357</td>\n",
       "      <td>80.059414</td>\n",
       "    </tr>\n",
       "    <tr>\n",
       "      <th>2836</th>\n",
       "      <td>2836</td>\n",
       "      <td>srm-ifce err: Communication error on send, err: [SE][Ls][] httpg://lapp-se01.in2p3.fr:8446/srm/managerv2: CGSI-gSOAP running on lcgfts05.gridpp.rl.ac.uk reports could not open connection to lapp-se01.in2p3.fr:8446</td>\n",
       "      <td>64</td>\n",
       "      <td>0.001357</td>\n",
       "      <td>80.059414</td>\n",
       "    </tr>\n",
       "    <tr>\n",
       "      <th>2837</th>\n",
       "      <td>2837</td>\n",
       "      <td>DESTINATION SRM_PUTDONE Error on the surl srm://srm-cms.gridpp.rl.ac.uk/castor/ads.rl.ac.uk/prod/cms/store/test/rucio/cms//store/mc/RunIISummer16NanoAODv5/DisplacedSUSY_stopToBottom_M_1600_10mm_TuneCUETP8M1_13TeV_pythia8/NANOAODSIM/PUMoriond17_Nano1June2019_102X_mcRun2_asymptotic_v7-v1/100000/717F50E4-AB83-C043-B1C8-0770B4D94BBD.root while putdone : [SE][PutDone][SRM_INVALID_PATH] This SURL does not exist in the original request</td>\n",
       "      <td>64</td>\n",
       "      <td>0.001357</td>\n",
       "      <td>80.059414</td>\n",
       "    </tr>\n",
       "    <tr>\n",
       "      <th>2838</th>\n",
       "      <td>2838</td>\n",
       "      <td>DESTINATION SRM_PUTDONE Error on the surl srm://srm-cms.gridpp.rl.ac.uk/castor/ads.rl.ac.uk/prod/cms/store/test/rucio/cms//store/mc/RunIIFall17NanoAODv5/GluGluToRadionToHHTo2B2ZTo2L2J_M-450_narrow_13TeV-madgraph_correctedcfg/NANOAODSIM/PU2017_12Apr2018_Nano1June2019_102X_mc2017_realistic_v7-v1/100000/4669E81F-D084-DA44-954A-51ED79872FE0.root while putdone : [SE][PutDone][SRM_INVALID_PATH] This SURL does not exist in the original request</td>\n",
       "      <td>64</td>\n",
       "      <td>0.001357</td>\n",
       "      <td>80.059414</td>\n",
       "    </tr>\n",
       "    <tr>\n",
       "      <th>2839</th>\n",
       "      <td>2839</td>\n",
       "      <td>DESTINATION SRM_PUTDONE Error on the surl srm://srm-cms.gridpp.rl.ac.uk/castor/ads.rl.ac.uk/prod/cms/store/test/rucio/cms//store/mc/RunIIFall17NanoAODv5/ST_FCNC-TLL_Tleptonic_zeta_zct-MadGraph5-pythia8/NANOAODSIM/PU2017_12Apr2018_Nano1June2019_new_pmx_102X_mc2017_realistic_v7-v1/260000/9BB15340-1B6F-0E49-8111-265CC9C50124.root while putdone : [SE][PutDone][SRM_INVALID_PATH] This SURL does not exist in the original request</td>\n",
       "      <td>64</td>\n",
       "      <td>0.001357</td>\n",
       "      <td>80.059414</td>\n",
       "    </tr>\n",
       "    <tr>\n",
       "      <th>2840</th>\n",
       "      <td>2840</td>\n",
       "      <td>DESTINATION OVERWRITE srm-ifce err: Communication error on send, err: [SE][srmRm][] httpg://atlasse.lnf.infn.it:8446/srm/managerv2: CGSI-gSOAP running on fts800.cern.ch reports Error reading token data header: Connection reset by peer</td>\n",
       "      <td>64</td>\n",
       "      <td>0.001357</td>\n",
       "      <td>80.059414</td>\n",
       "    </tr>\n",
       "  </tbody>\n",
       "</table>\n",
       "</div>"
      ],
      "text/plain": [
       "      msg_id  \\\n",
       "2811  2811     \n",
       "2812  2812     \n",
       "2813  2813     \n",
       "2814  2814     \n",
       "2815  2815     \n",
       "2816  2816     \n",
       "2817  2817     \n",
       "2818  2818     \n",
       "2819  2819     \n",
       "2820  2820     \n",
       "2821  2821     \n",
       "2822  2822     \n",
       "2823  2823     \n",
       "2824  2824     \n",
       "2825  2825     \n",
       "2826  2826     \n",
       "2827  2827     \n",
       "2828  2828     \n",
       "2829  2829     \n",
       "2830  2830     \n",
       "2831  2831     \n",
       "2832  2832     \n",
       "2833  2833     \n",
       "2834  2834     \n",
       "2835  2835     \n",
       "2836  2836     \n",
       "2837  2837     \n",
       "2838  2838     \n",
       "2839  2839     \n",
       "2840  2840     \n",
       "\n",
       "                                                                                                                                                                                                                                                                                                                                                                                                                                                            message  \\\n",
       "2811  DESTINATION SRM_PUTDONE Error on the surl srm://srm-cms.gridpp.rl.ac.uk/castor/ads.rl.ac.uk/prod/cms/store/test/rucio/cms//store/mc/RunIISummer16NanoAODv5/BsToJpsiF2p1525_BMuonFilter_SoftQCDnonD_TuneCUEP8M1_13TeV-pythia8-evtgen/NANOAODSIM/PUMoriond17_Nano1June2019_102X_mcRun2_asymptotic_v7-v1/110000/76E1DE06-A2BF-554A-B158-35652DAD0810.root while putdone : [SE][PutDone][SRM_INVALID_PATH] This SURL does not exist in the original request         \n",
       "2812  DESTINATION SRM_PUTDONE Error on the surl srm://srm-cms.gridpp.rl.ac.uk/castor/ads.rl.ac.uk/prod/cms/store/test/rucio/cms//store/data/Run2018D/NoBPTX/NANOAOD/Nano1June2019_ver2-v1/30000/7821BF71-B8F6-D749-A382-3F92930A0B50.root while putdone : [SE][PutDone][SRM_INVALID_PATH] This SURL does not exist in the original request                                                                                                                            \n",
       "2813  DESTINATION SRM_PUTDONE Error on the surl srm://srm-cms.gridpp.rl.ac.uk/castor/ads.rl.ac.uk/prod/cms/store/test/rucio/cms//store/mc/RunIIFall17NanoAODv5/ST_t-channel_top_4f_InclusiveDecays_TuneCP5up_PSweights_13TeV-powheg-pythia8/NANOAODSIM/PU2017_12Apr2018_Nano1June2019_102X_mc2017_realistic_v7-v1/250000/EA3156D2-BD29-9B42-86E6-B164AA035078.root while putdone : [SE][PutDone][SRM_INVALID_PATH] This SURL does not exist in the original request   \n",
       "2814  srm-ifce err: Communication error on send, err: [SE][Ls][] httpg://srmcms.pic.es:8443/srm/managerv2: CGSI-gSOAP running on fts437.cern.ch reports Error reading token data header: Connection closed                                                                                                                                                                                                                                                            \n",
       "2815  DESTINATION SRM_PUTDONE Error on the surl srm://srm-cms.gridpp.rl.ac.uk/castor/ads.rl.ac.uk/prod/cms/store/test/rucio/cms//store/mc/RunIISummer16NanoAODv5/WprimeToENu_M-5400_TuneCUETP8M1_13TeV-pythia8/NANOAODSIM/PUMoriond17_Nano1June2019_102X_mcRun2_asymptotic_v7-v1/110000/116AA6F1-07C9-474F-8F24-5CD1EF6C3A8E.root while putdone : [SE][PutDone][SRM_INVALID_PATH] This SURL does not exist in the original request                                    \n",
       "2816  srm-ifce err: Communication error on send, err: [SE][Ls][] httpg://stormfe1.pi.infn.it:8444/srm/managerv2: CGSI-gSOAP running on fts432.cern.ch reports Error reading token data header: Connection closed                                                                                                                                                                                                                                                      \n",
       "2817  DESTINATION SRM_PUTDONE Error on the surl srm://srm-cms.gridpp.rl.ac.uk/castor/ads.rl.ac.uk/prod/cms/store/test/rucio/cms//store/data/Run2018D/NoBPTX/NANOAOD/Nano1June2019_ver2-v1/30000/BD1DAF06-1286-DA48-A029-9342AAEF5124.root while putdone : [SE][PutDone][SRM_INVALID_PATH] This SURL does not exist in the original request                                                                                                                            \n",
       "2818  DESTINATION SRM_PUTDONE Error on the surl srm://srm-cms.gridpp.rl.ac.uk/castor/ads.rl.ac.uk/prod/cms/store/test/rucio/cms//store/mc/RunIIAutumn18NanoAODv5/ChargedHiggsToCB_M125_TuneCP5_PSweights_13TeV-madgraph-pythia8/NANOAODSIM/Nano1June2019_102X_upgrade2018_realistic_v19-v1/130000/E1EB417D-D801-3E4D-B8FD-1E95F13FE764.root while putdone : [SE][PutDone][SRM_INVALID_PATH] This SURL does not exist in the original request                          \n",
       "2819  srm-ifce err: Communication error on send, err: [SE][Ls][] httpg://srm.ihep.ac.cn:8443/srm/managerv2: CGSI-gSOAP running on lcgfts05.gridpp.rl.ac.uk reports could not open connection to srm.ihep.ac.cn:8443                                                                                                                                                                                                                                                   \n",
       "2820  DESTINATION SRM_PUTDONE Error on the surl srm://srm-cms.gridpp.rl.ac.uk/castor/ads.rl.ac.uk/prod/cms/store/test/rucio/cms//store/mc/RunIIAutumn18NanoAODv5/VBFHToWWToLNuQQ_M180_NNPDF31_TuneCP5_PSweights_13TeV_powheg_JHUGenV727_pythia8/NANOAODSIM/Nano1June2019_102X_upgrade2018_realistic_v19-v1/270000/4B692399-D55E-C04F-B633-BF0BF665AB81.root while putdone : [SE][PutDone][SRM_INVALID_PATH] This SURL does not exist in the original request          \n",
       "2821  DESTINATION SRM_PUTDONE Error on the surl srm://srm-cms.gridpp.rl.ac.uk/castor/ads.rl.ac.uk/prod/cms/store/test/rucio/cms//store/mc/RunIIAutumn18NanoAODv5/JJHiggs0PMToTauTau_M125_13TeV_JHUGenV7011_pythia8/NANOAODSIM/Nano1June2019_102X_upgrade2018_realistic_v19-v2/260000/BE1F1B8D-E7E1-E14A-A0D6-903C51FABEF2.root while putdone : [SE][PutDone][SRM_INVALID_PATH] This SURL does not exist in the original request                                       \n",
       "2822  DESTINATION SRM_PUTDONE Error on the surl srm://srm-cms.gridpp.rl.ac.uk/castor/ads.rl.ac.uk/prod/cms/store/test/rucio/cms//store/mc/RunIISummer16NanoAODv5/QCD_Pt_170to250_bcToE_TuneCUETP8M1_13TeV_pythia8/NANOAODSIM/PUMoriond17_Nano1June2019_102X_mcRun2_asymptotic_v7-v1/100000/6BA5C845-3218-704E-8A4A-DABCF4640197.root while putdone : [SE][PutDone][SRM_INVALID_PATH] This SURL does not exist in the original request                                 \n",
       "2823  DESTINATION SRM_PUTDONE Error on the surl srm://srm-cms.gridpp.rl.ac.uk/castor/ads.rl.ac.uk/prod/cms/store/test/rucio/cms//store/mc/RunIIAutumn18NanoAODv5/WpToTpB_Wp3000Nar_Tp1700Wid_Ht_TuneCP5_13TeV-madgraphMLM-pythia8/NANOAODSIM/Nano1June2019_102X_upgrade2018_realistic_v19-v1/40000/A37AAAB1-3D4F-4F40-9337-F9D0C829DF17.root while putdone : [SE][PutDone][SRM_INVALID_PATH] This SURL does not exist in the original request                         \n",
       "2824  srm-ifce err: Communication error on send, err: [SE][Ls][] httpg://srmcms.pic.es:8443/srm/managerv2: CGSI-gSOAP running on fts437.cern.ch reports could not open connection to srmcms.pic.es:8443                                                                                                                                                                                                                                                               \n",
       "2825  DESTINATION SRM_PUTDONE Error on the surl srm://srm-cms.gridpp.rl.ac.uk/castor/ads.rl.ac.uk/prod/cms/store/test/rucio/cms//store/mc/RunIIAutumn18NanoAODv5/WpToBpT_Wp3500Nar_Bp2300Wid_Zt_TuneCP5_13TeV-madgraphMLM-pythia8/NANOAODSIM/Nano1June2019_102X_upgrade2018_realistic_v19-v1/40000/4FF4B695-98DA-FE4B-9FE7-4ED19E42A6FF.root while putdone : [SE][PutDone][SRM_INVALID_PATH] This SURL does not exist in the original request                         \n",
       "2826  DESTINATION SRM_PUTDONE Error on the surl srm://srm-cms.gridpp.rl.ac.uk/castor/ads.rl.ac.uk/prod/cms/store/test/rucio/cms//store/mc/RunIISummer16NanoAODv5/TT_hdampUP_TuneCUETP8M2T4_13TeV-powheg-pythia8/NANOAODSIM/PUMoriond17_Nano1June2019_102X_mcRun2_asymptotic_v7_ext1-v1/120000/65661B36-9904-BF46-9CB1-1F95F2853DED.root while putdone : [SE][PutDone][SRM_INVALID_PATH] This SURL does not exist in the original request                              \n",
       "2827  DESTINATION SRM_PUTDONE Error on the surl srm://srm-cms.gridpp.rl.ac.uk/castor/ads.rl.ac.uk/prod/cms/store/test/rucio/cms//store/data/Run2018A/EGamma/NANOAOD/Nano1June2019-v1/70000/C6F6B374-E732-F643-B6BC-44A0F02CBB57.root while putdone : [SE][PutDone][SRM_INVALID_PATH] This SURL does not exist in the original request                                                                                                                                 \n",
       "2828  DESTINATION SRM_PUTDONE Error on the surl srm://srm-cms.gridpp.rl.ac.uk/castor/ads.rl.ac.uk/prod/cms/store/test/rucio/cms//store/mc/RunIIFall17NanoAODv5/VHToGG_M125_13TeV_amcatnloFXFX_madspin_pythia8/NANOAODSIM/PU2017_12Apr2018_Nano1June2019_102X_mc2017_realistic_v7-v1/130000/213DF449-36D7-5E49-9D7F-4B19C9DC6E6C.root while putdone : [SE][PutDone][SRM_INVALID_PATH] This SURL does not exist in the original request                                 \n",
       "2829  DESTINATION SRM_PUTDONE Error on the surl srm://srm-cms.gridpp.rl.ac.uk/castor/ads.rl.ac.uk/prod/cms/store/test/rucio/cms//store/mc/RunIIFall17NanoAODv5/Wto3Pi_TuneCP5_13TeV-pythia8/NANOAODSIM/PU2017_12Apr2018_Nano1June2019_102X_mc2017_realistic_v7-v1/110000/842BEB85-47E4-ED47-AD86-404850A63B63.root while putdone : [SE][PutDone][SRM_INVALID_PATH] This SURL does not exist in the original request                                                   \n",
       "2830  DESTINATION SRM_PUTDONE Error on the surl srm://srm-cms.gridpp.rl.ac.uk/castor/ads.rl.ac.uk/prod/cms/store/test/rucio/cms//store/mc/RunIIAutumn18NanoAODv5/GluGluHToWWToLNuQQ_M155_NNPDF31_TuneCP5_PSweights_13TeV_powheg_JHUGenV727_pythia8/NANOAODSIM/Nano1June2019_102X_upgrade2018_realistic_v19-v1/130000/704B66D1-3CB8-414A-ACB4-E2FF08DA96C1.root while putdone : [SE][PutDone][SRM_INVALID_PATH] This SURL does not exist in the original request       \n",
       "2831  srm-ifce err: Communication error on send, err: [SE][Ls][] httpg://dcache-se-desy.desy.de:8443/srm/managerv2: CGSI-gSOAP running on fts308.usatlas.bnl.gov reports could not open connection to dcache-se-desy.desy.de:8443                                                                                                                                                                                                                                     \n",
       "2832  DESTINATION SRM_PUTDONE Error on the surl srm://srm-cms.gridpp.rl.ac.uk/castor/ads.rl.ac.uk/prod/cms/store/test/rucio/cms//store/mc/RunIIFall17NanoAODv5/ST_t-channel_top_4f_InclusiveDecays_TuneCP5up_PSweights_13TeV-powheg-pythia8/NANOAODSIM/PU2017_12Apr2018_Nano1June2019_102X_mc2017_realistic_v7-v1/250000/67A25DC6-ED83-8F42-99B6-C1F20E2DF5F6.root while putdone : [SE][PutDone][SRM_INVALID_PATH] This SURL does not exist in the original request   \n",
       "2833  DESTINATION SRM_PUTDONE Error on the surl srm://srm-cms.gridpp.rl.ac.uk/castor/ads.rl.ac.uk/prod/cms/store/test/rucio/cms//store/mc/RunIIFall17NanoAODv5/TT_AK8HT650_TuneCP5Down_PSweights_13TeV-powheg-pythia8/NANOAODSIM/PU2017_12Apr2018_Nano1June2019_102X_mc2017_realistic_v7-v1/250000/E767F2DD-9D68-7F40-A074-494A87073C37.root while putdone : [SE][PutDone][SRM_INVALID_PATH] This SURL does not exist in the original request                         \n",
       "2834  DESTINATION SRM_PUTDONE Error on the surl srm://srm-cms.gridpp.rl.ac.uk/castor/ads.rl.ac.uk/prod/cms/store/test/rucio/cms//store/mc/RunIIFall17NanoAODv5/tZq_ll_4f_ckm_NLO_TuneCP5_PSweights_13TeV-amcatnlo-pythia8/NANOAODSIM/PU2017_12Apr2018_Nano1June2019_new_pmx_102X_mc2017_realistic_v7-v1/110000/12B9221D-CCCE-AF4F-84CC-5F85D45AA1A0.root while putdone : [SE][PutDone][SRM_INVALID_PATH] This SURL does not exist in the original request             \n",
       "2835  DESTINATION SRM_PUTDONE Error on the surl srm://srm-cms.gridpp.rl.ac.uk/castor/ads.rl.ac.uk/prod/cms/store/test/rucio/cms//store/mc/RunIIFall17NanoAODv5/ST_t-channel_top_4f_InclusiveDecays_TuneCP5up_PSweights_13TeV-powheg-pythia8/NANOAODSIM/PU2017_12Apr2018_Nano1June2019_102X_mc2017_realistic_v7-v1/250000/11FD7FBD-B93C-624E-9EAC-63017BD18CF2.root while putdone : [SE][PutDone][SRM_INVALID_PATH] This SURL does not exist in the original request   \n",
       "2836  srm-ifce err: Communication error on send, err: [SE][Ls][] httpg://lapp-se01.in2p3.fr:8446/srm/managerv2: CGSI-gSOAP running on lcgfts05.gridpp.rl.ac.uk reports could not open connection to lapp-se01.in2p3.fr:8446                                                                                                                                                                                                                                           \n",
       "2837  DESTINATION SRM_PUTDONE Error on the surl srm://srm-cms.gridpp.rl.ac.uk/castor/ads.rl.ac.uk/prod/cms/store/test/rucio/cms//store/mc/RunIISummer16NanoAODv5/DisplacedSUSY_stopToBottom_M_1600_10mm_TuneCUETP8M1_13TeV_pythia8/NANOAODSIM/PUMoriond17_Nano1June2019_102X_mcRun2_asymptotic_v7-v1/100000/717F50E4-AB83-C043-B1C8-0770B4D94BBD.root while putdone : [SE][PutDone][SRM_INVALID_PATH] This SURL does not exist in the original request                \n",
       "2838  DESTINATION SRM_PUTDONE Error on the surl srm://srm-cms.gridpp.rl.ac.uk/castor/ads.rl.ac.uk/prod/cms/store/test/rucio/cms//store/mc/RunIIFall17NanoAODv5/GluGluToRadionToHHTo2B2ZTo2L2J_M-450_narrow_13TeV-madgraph_correctedcfg/NANOAODSIM/PU2017_12Apr2018_Nano1June2019_102X_mc2017_realistic_v7-v1/100000/4669E81F-D084-DA44-954A-51ED79872FE0.root while putdone : [SE][PutDone][SRM_INVALID_PATH] This SURL does not exist in the original request        \n",
       "2839  DESTINATION SRM_PUTDONE Error on the surl srm://srm-cms.gridpp.rl.ac.uk/castor/ads.rl.ac.uk/prod/cms/store/test/rucio/cms//store/mc/RunIIFall17NanoAODv5/ST_FCNC-TLL_Tleptonic_zeta_zct-MadGraph5-pythia8/NANOAODSIM/PU2017_12Apr2018_Nano1June2019_new_pmx_102X_mc2017_realistic_v7-v1/260000/9BB15340-1B6F-0E49-8111-265CC9C50124.root while putdone : [SE][PutDone][SRM_INVALID_PATH] This SURL does not exist in the original request                       \n",
       "2840  DESTINATION OVERWRITE srm-ifce err: Communication error on send, err: [SE][srmRm][] httpg://atlasse.lnf.infn.it:8446/srm/managerv2: CGSI-gSOAP running on fts800.cern.ch reports Error reading token data header: Connection reset by peer                                                                                                                                                                                                                      \n",
       "\n",
       "      count  percentage   cum_perc  \n",
       "2811  64     0.001357    80.059414  \n",
       "2812  64     0.001357    80.059414  \n",
       "2813  64     0.001357    80.059414  \n",
       "2814  64     0.001357    80.059414  \n",
       "2815  64     0.001357    80.059414  \n",
       "2816  64     0.001357    80.059414  \n",
       "2817  64     0.001357    80.059414  \n",
       "2818  64     0.001357    80.059414  \n",
       "2819  64     0.001357    80.059414  \n",
       "2820  64     0.001357    80.059414  \n",
       "2821  64     0.001357    80.059414  \n",
       "2822  64     0.001357    80.059414  \n",
       "2823  64     0.001357    80.059414  \n",
       "2824  64     0.001357    80.059414  \n",
       "2825  64     0.001357    80.059414  \n",
       "2826  64     0.001357    80.059414  \n",
       "2827  64     0.001357    80.059414  \n",
       "2828  64     0.001357    80.059414  \n",
       "2829  64     0.001357    80.059414  \n",
       "2830  64     0.001357    80.059414  \n",
       "2831  64     0.001357    80.059414  \n",
       "2832  64     0.001357    80.059414  \n",
       "2833  64     0.001357    80.059414  \n",
       "2834  64     0.001357    80.059414  \n",
       "2835  64     0.001357    80.059414  \n",
       "2836  64     0.001357    80.059414  \n",
       "2837  64     0.001357    80.059414  \n",
       "2838  64     0.001357    80.059414  \n",
       "2839  64     0.001357    80.059414  \n",
       "2840  64     0.001357    80.059414  "
      ]
     },
     "execution_count": 24,
     "metadata": {},
     "output_type": "execute_result"
    }
   ],
   "source": [
    "import pandas as pd\n",
    "pd.set_option('display.max_colwidth', -1) \n",
    "\n",
    "error_freq_pd[error_freq_pd.cum_perc>80].head(30)"
   ]
  },
  {
   "cell_type": "code",
   "execution_count": 31,
   "metadata": {
    "ExecuteTime": {
     "end_time": "2019-11-05T12:28:21.622898Z",
     "start_time": "2019-11-05T12:28:21.480570Z"
    }
   },
   "outputs": [
    {
     "data": {
      "text/plain": [
       "8.092135769610538"
      ]
     },
     "execution_count": 31,
     "metadata": {},
     "output_type": "execute_result"
    }
   ],
   "source": [
    "a = error_freq_pd[error_freq_pd.message.str.contains(\"DESTINATION SRM_PUTDONE\", regex=False)]\n",
    "a[\"percentage\"].sum()"
   ]
  },
  {
   "cell_type": "code",
   "execution_count": null,
   "metadata": {},
   "outputs": [],
   "source": []
  },
  {
   "cell_type": "code",
   "execution_count": null,
   "metadata": {},
   "outputs": [],
   "source": []
  },
  {
   "cell_type": "code",
   "execution_count": null,
   "metadata": {
    "ExecuteTime": {
     "start_time": "2019-11-04T17:30:00.959Z"
    }
   },
   "outputs": [],
   "source": [
    "import pandas as pd\n",
    "pd.set_option('display.max_colwidth', -1)\n",
    "\n",
    "for i in range(9400,94010):\n",
    "    print(error_freq_pd[error_freq_pd.msg_id==i].msg_id)"
   ]
  },
  {
   "cell_type": "code",
   "execution_count": null,
   "metadata": {},
   "outputs": [],
   "source": [
    "error_freq_pd[error_freq_pd.msg_id==94001]"
   ]
  },
  {
   "cell_type": "code",
   "execution_count": null,
   "metadata": {},
   "outputs": [],
   "source": []
  },
  {
   "cell_type": "code",
   "execution_count": null,
   "metadata": {},
   "outputs": [],
   "source": []
  },
  {
   "cell_type": "code",
   "execution_count": null,
   "metadata": {},
   "outputs": [],
   "source": []
  },
  {
   "cell_type": "code",
   "execution_count": null,
   "metadata": {},
   "outputs": [],
   "source": []
  },
  {
   "cell_type": "code",
   "execution_count": null,
   "metadata": {},
   "outputs": [],
   "source": []
  },
  {
   "cell_type": "code",
   "execution_count": null,
   "metadata": {},
   "outputs": [],
   "source": []
  },
  {
   "cell_type": "code",
   "execution_count": 63,
   "metadata": {
    "ExecuteTime": {
     "end_time": "2019-11-04T17:24:18.157308Z",
     "start_time": "2019-11-04T17:21:17.912164Z"
    }
   },
   "outputs": [
    {
     "name": "stdout",
     "output_type": "stream",
     "text": [
      "+-----------+\n",
      "|min(msg_id)|\n",
      "+-----------+\n",
      "|       1841|\n",
      "+-----------+\n",
      "\n"
     ]
    },
    {
     "data": {
      "text/plain": [
       "92704"
      ]
     },
     "execution_count": 63,
     "metadata": {},
     "output_type": "execute_result"
    }
   ],
   "source": [
    "top_80_perc = error_freq.filter(\"cum_perc > 80\")\n",
    "top_80_perc.agg({\"msg_id\":\"min\"}).show()\n",
    "\n",
    "top_80_perc.agg({\"msg_id\": \"max\"}).collect()[0][0] - top_80_perc.head(1)[0][0]"
   ]
  },
  {
   "cell_type": "code",
   "execution_count": 40,
   "metadata": {
    "ExecuteTime": {
     "end_time": "2019-11-04T16:07:42.844271Z",
     "start_time": "2019-11-04T16:06:41.906308Z"
    }
   },
   "outputs": [
    {
     "name": "stdout",
     "output_type": "stream",
     "text": [
      "+------+--------------------+-----+--------------------+----------------+\n",
      "|msg_id|             message|count|          percentage|        cum_perc|\n",
      "+------+--------------------+-----+--------------------+----------------+\n",
      "|  1893|Protocol not supp...|   33|0.002752389991976366|80.0716121832487|\n",
      "|  1893|srm-ifce err: Com...|   33|0.002752389991976366|80.0716121832487|\n",
      "|  1893|SOURCE CHECKSUM M...|   33|0.002752389991976366|80.0716121832487|\n",
      "|  1893|DESTINATION SRM_P...|   33|0.002752389991976366|80.0716121832487|\n",
      "|  1893|SOURCE CHECKSUM M...|   33|0.002752389991976366|80.0716121832487|\n",
      "|  1893|Protocol not supp...|   33|0.002752389991976366|80.0716121832487|\n",
      "|  1893|DESTINATION SRM_P...|   33|0.002752389991976366|80.0716121832487|\n",
      "|  1893|DESTINATION SRM_P...|   33|0.002752389991976366|80.0716121832487|\n",
      "|  1893|SOURCE CHECKSUM M...|   33|0.002752389991976366|80.0716121832487|\n",
      "|  1893|Protocol not supp...|   33|0.002752389991976366|80.0716121832487|\n",
      "|  1893|SOURCE CHECKSUM M...|   33|0.002752389991976366|80.0716121832487|\n",
      "|  1893|Error on XrdCl::C...|   33|0.002752389991976366|80.0716121832487|\n",
      "|  1893|DESTINATION SRM_P...|   33|0.002752389991976366|80.0716121832487|\n",
      "|  1893|srm-ifce err: Com...|   33|0.002752389991976366|80.0716121832487|\n",
      "|  1893|Protocol not supp...|   33|0.002752389991976366|80.0716121832487|\n",
      "|  1893|Protocol not supp...|   33|0.002752389991976366|80.0716121832487|\n",
      "|  1893|Protocol not supp...|   33|0.002752389991976366|80.0716121832487|\n",
      "|  1893|Protocol not supp...|   33|0.002752389991976366|80.0716121832487|\n",
      "|  1893|SOURCE CHECKSUM M...|   33|0.002752389991976366|80.0716121832487|\n",
      "|  1893|Protocol not supp...|   33|0.002752389991976366|80.0716121832487|\n",
      "+------+--------------------+-----+--------------------+----------------+\n",
      "only showing top 20 rows\n",
      "\n"
     ]
    }
   ],
   "source": [
    "error_freq.filter(error_freq.msg_id == 1893).show()"
   ]
  },
  {
   "cell_type": "code",
   "execution_count": 11,
   "metadata": {
    "ExecuteTime": {
     "end_time": "2019-11-04T12:45:05.969753Z",
     "start_time": "2019-11-04T12:45:01.261198Z"
    }
   },
   "outputs": [
    {
     "name": "stdout",
     "output_type": "stream",
     "text": [
      "pip 19.1.1 from /cvmfs/sft.cern.ch/lcg/views/LCG_96python3/x86_64-centos7-gcc8-opt/lib/python3.6/site-packages/pip (python 3.6)\r\n"
     ]
    }
   ],
   "source": [
    "!pip --version"
   ]
  },
  {
   "cell_type": "markdown",
   "metadata": {},
   "source": [
    "# Vectorization"
   ]
  },
  {
   "cell_type": "code",
   "execution_count": 10,
   "metadata": {
    "ExecuteTime": {
     "end_time": "2019-11-01T12:05:22.865046Z",
     "start_time": "2019-11-01T12:05:21.901873Z"
    }
   },
   "outputs": [],
   "source": [
    "from pyspark.ml.feature import Tokenizer, StopWordsRemover, CountVectorizer, IDF\n",
    "\n",
    "# split text into tokens\n",
    "tokenizer = Tokenizer(inputCol=\"t__error_message\", outputCol=\"tokens\")\n",
    "\n",
    "# remove stop (common, non-relevant) words\n",
    "stop_remove = StopWordsRemover(inputCol=\"tokens\", outputCol=\"stop_token\")\n",
    "\n",
    "# count frequency of each token in each text (bag of words model)\n",
    "count_vec = CountVectorizer(inputCol=\"stop_token\", outputCol=\"count_vec\")\n",
    "\n",
    "# compute  tf-idf\n",
    "idf = IDF(inputCol=\"count_vec\", outputCol=\"tf_idf\")"
   ]
  },
  {
   "cell_type": "code",
   "execution_count": 12,
   "metadata": {
    "ExecuteTime": {
     "end_time": "2019-11-01T12:11:21.995929Z",
     "start_time": "2019-11-01T12:07:39.379201Z"
    }
   },
   "outputs": [
    {
     "name": "stdout",
     "output_type": "stream",
     "text": [
      "CPU times: user 332 ms, sys: 89.7 ms, total: 422 ms\n",
      "Wall time: 3min 42s\n"
     ]
    }
   ],
   "source": [
    "%%time\n",
    "from pyspark.ml import Pipeline\n",
    "\n",
    "data_prep_pipeline = Pipeline(stages = [tokenizer, stop_remove, count_vec, idf])\n",
    "\n",
    "cleaner = data_prep_pipeline.fit(err_mess)"
   ]
  },
  {
   "cell_type": "code",
   "execution_count": 13,
   "metadata": {
    "ExecuteTime": {
     "end_time": "2019-11-01T12:14:19.706418Z",
     "start_time": "2019-11-01T12:14:19.469095Z"
    }
   },
   "outputs": [
    {
     "name": "stdout",
     "output_type": "stream",
     "text": [
      "CPU times: user 48.4 ms, sys: 14.5 ms, total: 62.9 ms\n",
      "Wall time: 231 ms\n"
     ]
    }
   ],
   "source": [
    "%%time\n",
    "\n",
    "clean_data = cleaner.transform(err_mess)"
   ]
  },
  {
   "cell_type": "code",
   "execution_count": 18,
   "metadata": {
    "ExecuteTime": {
     "end_time": "2019-11-01T12:41:16.055794Z",
     "start_time": "2019-11-01T12:41:15.614527Z"
    }
   },
   "outputs": [
    {
     "name": "stdout",
     "output_type": "stream",
     "text": [
      "+--------------------+--------------------+--------------------+--------------------+--------------------+\n",
      "|    t__error_message|              tokens|          stop_token|           count_vec|              tf_idf|\n",
      "+--------------------+--------------------+--------------------+--------------------+--------------------+\n",
      "|DESTINATION SRM_P...|[destination, srm...|[destination, srm...|(94563,[0,1,6,11,...|(94563,[0,1,6,11,...|\n",
      "|TRANSFER  globus_...|[transfer, , glob...|[transfer, , glob...|(94563,[0,1,2,7,1...|(94563,[0,1,2,7,1...|\n",
      "|Error on XrdCl::C...|[error, on, xrdcl...|[error, xrdcl::co...|(94563,[0,3,4,8,1...|(94563,[0,3,4,8,1...|\n",
      "|TRANSFER  globus_...|[transfer, , glob...|[transfer, , glob...|(94563,[0,1,2,7,1...|(94563,[0,1,2,7,1...|\n",
      "|DESTINATION SRM_P...|[destination, srm...|[destination, srm...|(94563,[0,1,6,11,...|(94563,[0,1,6,11,...|\n",
      "|srm-ifce err: Com...|[srm-ifce, err:, ...|[srm-ifce, err:, ...|(94563,[0,7,10,23...|(94563,[0,7,10,23...|\n",
      "|srm-ifce err: Com...|[srm-ifce, err:, ...|[srm-ifce, err:, ...|(94563,[0,7,10,23...|(94563,[0,7,10,23...|\n",
      "|TRANSFER  globus_...|[transfer, , glob...|[transfer, , glob...|(94563,[0,1,2,3,4...|(94563,[0,1,2,3,4...|\n",
      "|TRANSFER  globus_...|[transfer, , glob...|[transfer, , glob...|(94563,[0,1,2,3,4...|(94563,[0,1,2,3,4...|\n",
      "|TRANSFER  globus_...|[transfer, , glob...|[transfer, , glob...|(94563,[0,1,2,3,4...|(94563,[0,1,2,3,4...|\n",
      "|DESTINATION SRM_P...|[destination, srm...|[destination, srm...|(94563,[0,1,6,11,...|(94563,[0,1,6,11,...|\n",
      "|Error on XrdCl::C...|[error, on, xrdcl...|[error, xrdcl::co...|(94563,[0,3,4,8,1...|(94563,[0,3,4,8,1...|\n",
      "|srm-ifce err: Com...|[srm-ifce, err:, ...|[srm-ifce, err:, ...|(94563,[0,7,10,23...|(94563,[0,7,10,23...|\n",
      "|Protocol not supp...|[protocol, not, s...|[protocol, suppor...|(94563,[90,105,10...|(94563,[90,105,10...|\n",
      "|srm-ifce err: Com...|[srm-ifce, err:, ...|[srm-ifce, err:, ...|(94563,[0,7,10,23...|(94563,[0,7,10,23...|\n",
      "|DESTINATION SRM_P...|[destination, srm...|[destination, srm...|(94563,[0,6,11,14...|(94563,[0,6,11,14...|\n",
      "|DESTINATION SRM_P...|[destination, srm...|[destination, srm...|(94563,[0,1,6,11,...|(94563,[0,1,6,11,...|\n",
      "|TRANSFER  globus_...|[transfer, , glob...|[transfer, , glob...|(94563,[0,1,2,3,4...|(94563,[0,1,2,3,4...|\n",
      "|TRANSFER  globus_...|[transfer, , glob...|[transfer, , glob...|(94563,[0,1,2,7,1...|(94563,[0,1,2,7,1...|\n",
      "|DESTINATION SRM_P...|[destination, srm...|[destination, srm...|(94563,[0,6,11,14...|(94563,[0,6,11,14...|\n",
      "+--------------------+--------------------+--------------------+--------------------+--------------------+\n",
      "only showing top 20 rows\n",
      "\n"
     ]
    }
   ],
   "source": [
    "clean_data.show()"
   ]
  },
  {
   "cell_type": "code",
   "execution_count": 19,
   "metadata": {
    "ExecuteTime": {
     "end_time": "2019-11-01T13:18:13.303107Z",
     "start_time": "2019-11-01T13:18:12.986806Z"
    }
   },
   "outputs": [
    {
     "name": "stdout",
     "output_type": "stream",
     "text": [
      "+-----------------------------------------------------------------------------------------------------------------------------------------------------------------------------------------------------------------------------------------------------------------------------------------------------------------------------------------------------------------------------------------------------------------------+\n",
      "|stop_token                                                                                                                                                                                                                                                                                                                                                                                                             |\n",
      "+-----------------------------------------------------------------------------------------------------------------------------------------------------------------------------------------------------------------------------------------------------------------------------------------------------------------------------------------------------------------------------------------------------------------------+\n",
      "|[destination, srm_put_turl, error, turl, , request, :, [se][statusofputrequest][srm_exceed_allocation], space, associated, space, token, 2310037, enough, hold, surl.]                                                                                                                                                                                                                                                 |\n",
      "|[transfer, , globus_xio:, unable, connect, dpmdisk03.lhep.unibe.ch:2811, globus_xio:, system, error, connect:, connection, timed, globus_xio:, system, call, failed:, connection, timed]                                                                                                                                                                                                                               |\n",
      "|[error, xrdcl::copyprocess::run():, [error], server, responded, error:, [3010], write, permission, denied]                                                                                                                                                                                                                                                                                                             |\n",
      "|[transfer, , globus_xio:, unable, connect, atlasgridftp02.hep.anl.gov:2811, globus_xio:, system, error, connect:, connection, timed, globus_xio:, system, call, failed:, connection, timed]                                                                                                                                                                                                                            |\n",
      "|[destination, srm_put_turl, error, turl, , request, :, [se][statusofputrequest][srm_exceed_allocation], space, associated, space, token, 2310037, enough, hold, surl.]                                                                                                                                                                                                                                                 |\n",
      "|[srm-ifce, err:, communication, error, send,, err:, [se][ls][], httpg://castorpublic.cern.ch:8443/srm/managerv2:, cgsi-gsoap, running, fts502.cern.ch, reports, open, connection, castorpublic.cern.ch:8443]                                                                                                                                                                                                           |\n",
      "|[srm-ifce, err:, communication, error, send,, err:, [se][ls][], httpg://castorpublic.cern.ch:8443/srm/managerv2:, cgsi-gsoap, running, fts502.cern.ch, reports, open, connection, castorpublic.cern.ch:8443]                                                                                                                                                                                                           |\n",
      "|[transfer, , globus_ftp_client:, server, responded, error, 451, general, problem:, failed, connect, [2605:9a00:10:400d:a236:9fff:feb5:1a4]:24280:, connection, timed]                                                                                                                                                                                                                                                  |\n",
      "|[transfer, , globus_ftp_client:, server, responded, error, 452, pools, full]                                                                                                                                                                                                                                                                                                                                           |\n",
      "|[transfer, , globus_ftp_client:, server, responded, error, 500, command, failed., :, open/create, :, [error], server, responded, error:, [3021], unable, get, quota, space, -, quota, defined, exhausted, /eos/uscms/store/user/skumar/jyoti/jetht_2017/data_d/jetht/crab_era_data_d/191009_092208/0000/ggtree_data_980.root;, disk, quota, exceeded]                                                                  |\n",
      "|[destination, srm_put_turl, error, turl, , request, :, [se][statusofputrequest][srm_exceed_allocation], space, associated, space, token, 2310037, enough, hold, surl.]                                                                                                                                                                                                                                                 |\n",
      "|[error, xrdcl::copyprocess::run():, [error], server, responded, error:, [4003], authentication, xrootd.lcg.triumf.ca:1094, failed;, protocols, tried.]                                                                                                                                                                                                                                                                 |\n",
      "|[srm-ifce, err:, communication, error, send,, err:, [se][ls][], httpg://castorpublic.cern.ch:8443/srm/managerv2:, cgsi-gsoap, running, fts501.cern.ch, reports, open, connection, castorpublic.cern.ch:8443]                                                                                                                                                                                                           |\n",
      "|[protocol, supported, path/url, invalid:, root://golias100.farm.particle.cz:1094//dpm/farm.particle.cz/home/atlas/atlasscratchdisk/rucio/tests/17/10/file22_db45cebe-e83d-41ee-a8a4-2bebc1127baf]                                                                                                                                                                                                                      |\n",
      "|[srm-ifce, err:, communication, error, send,, err:, [se][ls][], httpg://castorpublic.cern.ch:8443/srm/managerv2:, cgsi-gsoap, running, fts502.cern.ch, reports, open, connection, castorpublic.cern.ch:8443]                                                                                                                                                                                                           |\n",
      "|[destination, srm_putdone, error, surl, srm://srm-cms.gridpp.rl.ac.uk/castor/ads.rl.ac.uk/prod/cms/store/test/rucio/cms//store/mc/runiisummer16nanoaodv5/ttto2l2nu_tunecuetp8m2_tthtranche3_13tev-powheg-pythia8/nanoaodsim/pumoriond17_nano1june2019_102x_mcrun2_asymptotic_v7-v1/40000/bcfb7917-0880-4f4a-973d-f07a0c97cfa4.root, putdone, :, [se][putdone][srm_invalid_path], surl, exist, original, request]       |\n",
      "|[destination, srm_put_turl, error, turl, , request, :, [se][statusofputrequest][srm_exceed_allocation], space, associated, space, token, 2310037, enough, hold, surl.]                                                                                                                                                                                                                                                 |\n",
      "|[transfer, , globus_ftp_client:, server, responded, error, 451, general, problem:, problem, connected, [2001:630:3c1:662::d217]:24605:, closedchannelexception]                                                                                                                                                                                                                                                        |\n",
      "|[transfer, , globus_xio:, system, error, recv:, connection, timed, globus_xio:, system, call, failed:, connection, timed]                                                                                                                                                                                                                                                                                              |\n",
      "|[destination, srm_putdone, error, surl, srm://srm-cms.gridpp.rl.ac.uk/castor/ads.rl.ac.uk/prod/cms/store/test/rucio/cms//store/mc/runiifall17nanoaodv5/w2jetstolnu_lhewpt_100-150_tunecp5_13tev-amcnlofxfx-pythia8/nanoaodsim/pu2017_12apr2018_nano1june2019_102x_mc2017_realistic_v7-v1/100000/9ad3ed3f-0cf3-e04c-bf43-e07b0d523a3d.root, putdone, :, [se][putdone][srm_invalid_path], surl, exist, original, request]|\n",
      "+-----------------------------------------------------------------------------------------------------------------------------------------------------------------------------------------------------------------------------------------------------------------------------------------------------------------------------------------------------------------------------------------------------------------------+\n",
      "only showing top 20 rows\n",
      "\n"
     ]
    }
   ],
   "source": [
    "clean_data.select(\"stop_token\").show(truncate=False)"
   ]
  },
  {
   "cell_type": "code",
   "execution_count": 16,
   "metadata": {
    "ExecuteTime": {
     "end_time": "2019-11-01T12:17:24.236132Z",
     "start_time": "2019-11-01T12:17:23.584162Z"
    }
   },
   "outputs": [
    {
     "name": "stdout",
     "output_type": "stream",
     "text": [
      "+--------------------------------------------------------------------------------------------------------------------------------------------------------------------------------------+\n",
      "|count_vec                                                                                                                                                                             |\n",
      "+--------------------------------------------------------------------------------------------------------------------------------------------------------------------------------------+\n",
      "|(94563,[0,1,6,11,13,16,22,43,66,68,70,71,72,73,74],[1.0,1.0,1.0,1.0,2.0,1.0,1.0,1.0,1.0,1.0,1.0,1.0,1.0,1.0,1.0])                                                                     |\n",
      "|(94563,[0,1,2,7,19,21,29,40,46,67,87,103,413],[1.0,1.0,1.0,2.0,3.0,2.0,2.0,1.0,1.0,1.0,1.0,1.0,1.0])                                                                                  |\n",
      "|(94563,[0,3,4,8,18,20,47,58,65,79],[1.0,1.0,1.0,1.0,1.0,1.0,1.0,1.0,1.0,1.0])                                                                                                         |\n",
      "|(94563,[0,1,2,7,19,21,29,40,46,67,87,103,312],[1.0,1.0,1.0,2.0,3.0,2.0,2.0,1.0,1.0,1.0,1.0,1.0,1.0])                                                                                  |\n",
      "|(94563,[0,1,6,11,13,16,22,43,66,68,70,71,72,73,74],[1.0,1.0,1.0,1.0,2.0,1.0,1.0,1.0,1.0,1.0,1.0,1.0,1.0,1.0,1.0])                                                                     |\n",
      "|(94563,[0,7,10,23,24,25,26,27,28,39,64,118,119,183],[1.0,1.0,2.0,1.0,1.0,1.0,1.0,1.0,1.0,1.0,1.0,1.0,1.0,1.0])                                                                        |\n",
      "|(94563,[0,7,10,23,24,25,26,27,28,39,64,118,119,183],[1.0,1.0,2.0,1.0,1.0,1.0,1.0,1.0,1.0,1.0,1.0,1.0,1.0,1.0])                                                                        |\n",
      "|(94563,[0,1,2,3,4,5,7,12,29,32,75,76,87,960],[1.0,1.0,1.0,1.0,1.0,1.0,1.0,1.0,1.0,1.0,1.0,1.0,1.0,1.0])                                                                               |\n",
      "|(94563,[0,1,2,3,4,5,97,98,99],[1.0,1.0,1.0,1.0,1.0,1.0,1.0,1.0,1.0])                                                                                                                  |\n",
      "|(94563,[0,1,2,3,4,5,6,8,13,18,40,41,86,104,114,115,121,122,151,152,153,154,155,887],[1.0,1.0,1.0,2.0,2.0,1.0,2.0,1.0,1.0,1.0,1.0,1.0,3.0,1.0,1.0,1.0,1.0,1.0,1.0,1.0,1.0,1.0,1.0,1.0])|\n",
      "|(94563,[0,1,6,11,13,16,22,43,66,68,70,71,72,73,74],[1.0,1.0,1.0,1.0,2.0,1.0,1.0,1.0,1.0,1.0,1.0,1.0,1.0,1.0,1.0])                                                                     |\n",
      "|(94563,[0,3,4,8,18,20,96,128,199,209,210,536],[1.0,1.0,1.0,1.0,1.0,1.0,1.0,1.0,1.0,1.0,1.0,1.0])                                                                                      |\n",
      "|(94563,[0,7,10,23,24,25,26,27,28,39,64,118,119,191],[1.0,1.0,2.0,1.0,1.0,1.0,1.0,1.0,1.0,1.0,1.0,1.0,1.0,1.0])                                                                        |\n",
      "|(94563,[90,105,106,107,580],[1.0,1.0,1.0,1.0,1.0])                                                                                                                                    |\n",
      "|(94563,[0,7,10,23,24,25,26,27,28,39,64,118,119,183],[1.0,1.0,2.0,1.0,1.0,1.0,1.0,1.0,1.0,1.0,1.0,1.0,1.0,1.0])                                                                        |\n",
      "|(94563,[0,6,11,14,16,34,35,36,37,38,794],[1.0,1.0,1.0,2.0,1.0,1.0,1.0,1.0,1.0,1.0,1.0])                                                                                               |\n",
      "|(94563,[0,1,6,11,13,16,22,43,66,68,70,71,72,73,74],[1.0,1.0,1.0,1.0,2.0,1.0,1.0,1.0,1.0,1.0,1.0,1.0,1.0,1.0,1.0])                                                                     |\n",
      "|(94563,[0,1,2,3,4,5,32,75,76,77,84,85,912],[1.0,1.0,1.0,1.0,1.0,1.0,1.0,1.0,1.0,1.0,1.0,1.0,1.0])                                                                                     |\n",
      "|(94563,[0,1,2,7,19,21,29,46,67,193],[1.0,1.0,1.0,2.0,2.0,2.0,2.0,1.0,1.0,1.0])                                                                                                        |\n",
      "|(94563,[0,6,11,14,16,34,35,36,37,38,804],[1.0,1.0,1.0,2.0,1.0,1.0,1.0,1.0,1.0,1.0,1.0])                                                                                               |\n",
      "+--------------------------------------------------------------------------------------------------------------------------------------------------------------------------------------+\n",
      "only showing top 20 rows\n",
      "\n"
     ]
    }
   ],
   "source": [
    "clean_data.select(\"count_vec\").show(truncate=False)"
   ]
  }
 ],
 "metadata": {
  "kernelspec": {
   "display_name": "Python 3",
   "language": "python",
   "name": "python3"
  },
  "language_info": {
   "codemirror_mode": {
    "name": "ipython",
    "version": 3
   },
   "file_extension": ".py",
   "mimetype": "text/x-python",
   "name": "python",
   "nbconvert_exporter": "python",
   "pygments_lexer": "ipython3",
   "version": "3.6.5"
  },
  "toc": {
   "base_numbering": 1,
   "nav_menu": {},
   "number_sections": true,
   "sideBar": true,
   "skip_h1_title": false,
   "title_cell": "Table of Contents",
   "title_sidebar": "Contents",
   "toc_cell": false,
   "toc_position": {},
   "toc_section_display": true,
   "toc_window_display": true
  }
 },
 "nbformat": 4,
 "nbformat_minor": 2
}
