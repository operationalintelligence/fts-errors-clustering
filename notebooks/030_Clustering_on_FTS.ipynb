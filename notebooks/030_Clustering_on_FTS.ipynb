{
 "cells": [
  {
   "cell_type": "markdown",
   "metadata": {},
   "source": [
    "# Clustering methods applied to FTS transfer error messages\n",
    "\n",
    "**Objective:** \n",
    "\n",
    " - extract FTS transfer error data\n",
    " - load language model\n",
    " - perform cluster analysis\n",
    " \n",
    "**N.B.** The last part is a test on the abstraction mechanism for messages parameters. Also, a training on unique error strings approach is investigated."
   ]
  },
  {
   "cell_type": "markdown",
   "metadata": {},
   "source": [
    "### Spark Session "
   ]
  },
  {
   "cell_type": "code",
   "execution_count": 1,
   "metadata": {
    "ExecuteTime": {
     "end_time": "2019-11-26T22:39:31.211718Z",
     "start_time": "2019-11-26T22:39:22.317163Z"
    }
   },
   "outputs": [
    {
     "name": "stdout",
     "output_type": "stream",
     "text": [
      "CPU times: user 38.5 ms, sys: 32 ms, total: 70.5 ms\n",
      "Wall time: 8.87 s\n"
     ]
    },
    {
     "data": {
      "text/html": [
       "\n",
       "            <div>\n",
       "                <p><b>SparkSession - in-memory</b></p>\n",
       "                \n",
       "        <div>\n",
       "            <p><b>SparkContext</b></p>\n",
       "\n",
       "            <p><a href=\"http://cea18dea7398:5201\">Spark UI</a></p>\n",
       "\n",
       "            <dl>\n",
       "              <dt>Version</dt>\n",
       "                <dd><code>v2.4.3</code></dd>\n",
       "              <dt>Master</dt>\n",
       "                <dd><code>local[*]</code></dd>\n",
       "              <dt>AppName</dt>\n",
       "                <dd><code>fts_clustering</code></dd>\n",
       "            </dl>\n",
       "        </div>\n",
       "        \n",
       "            </div>\n",
       "        "
      ],
      "text/plain": [
       "<pyspark.sql.session.SparkSession at 0x7f035e517828>"
      ]
     },
     "execution_count": 1,
     "metadata": {},
     "output_type": "execute_result"
    }
   ],
   "source": [
    "%%time\n",
    "\n",
    "# start Spark Session\n",
    "from pyspark.sql import SparkSession\n",
    "\n",
    "spark = SparkSession.builder.master(\"local[*]\").appName(\"fts_clustering\").getOrCreate()\n",
    "#spark = SparkSession.builder.master(\"local[*]\").appName(\"fts_data\").getOrCreate()\n",
    "spark"
   ]
  },
  {
   "cell_type": "markdown",
   "metadata": {},
   "source": [
    "## Import data\n",
    "\n",
    "**Note:** the period 7/10 - 10/10 is considered since there should be an issue with an FTS instance and we want our approach to be able to spot it."
   ]
  },
  {
   "cell_type": "code",
   "execution_count": 2,
   "metadata": {
    "ExecuteTime": {
     "end_time": "2019-11-26T22:39:35.490757Z",
     "start_time": "2019-11-26T22:39:31.215576Z"
    }
   },
   "outputs": [],
   "source": [
    "# train_data = spark.read.csv(\"train_subsample.csv\", header=True)\n",
    "\n",
    "test_data = spark.read.csv(\"test_data.csv\", header=True)"
   ]
  },
  {
   "cell_type": "markdown",
   "metadata": {},
   "source": [
    "## Pre-processing "
   ]
  },
  {
   "cell_type": "code",
   "execution_count": 3,
   "metadata": {
    "ExecuteTime": {
     "end_time": "2019-11-26T22:39:35.504752Z",
     "start_time": "2019-11-26T22:39:35.493229Z"
    }
   },
   "outputs": [],
   "source": [
    "def deal_with_urls(url):\n",
    "    from urllib.parse import urlparse\n",
    "    parsed = urlparse(url)\n",
    "    if parsed.scheme:\n",
    "        if parsed.path and parsed.netloc:\n",
    "            res = ' '.join([parsed.scheme + \"://\" + parsed.netloc, parsed.path])\n",
    "        elif parsed.path:\n",
    "            res = parsed.scheme + \":\" + parsed.path\n",
    "        else:\n",
    "            res = parsed.scheme + \":\"\n",
    "    else:\n",
    "        res = parsed.path\n",
    "    return(res)\n",
    "\n",
    "def split_urls(string):\n",
    "    '''Take a string and split url into netloc + path'''\n",
    "    from urllib.parse import urlparse\n",
    "    tks = [deal_with_urls(x) for x in string.split()]\n",
    "    return(' '.join(tks))\n",
    "\n",
    "\n",
    "def split_concatenation_errors(string, split_char=\"-\"):\n",
    "    \"\"\"\"\"\"   \n",
    "    if split_char in string:\n",
    "        try:\n",
    "            int(string.split(split_char)[0])\n",
    "            number = string.split(split_char)[0]\n",
    "            literal = string.replace(number+split_char, \"\")\n",
    "            return([number, literal])\n",
    "        except ValueError:\n",
    "            return(string)\n",
    "    else:\n",
    "        return(string)\n",
    "\n",
    "def clean_tokens(entry, custom_split=False):\n",
    "    \"\"\"Remove punctuation at the end of tokens and disard empty tokens\"\"\"\n",
    "    def flatten(ul):\n",
    "        \"\"\"\"\"\"\n",
    "        fl = []\n",
    "        for i in ul:\n",
    "            if type(i) is list:\n",
    "                fl += flatten(i)\n",
    "            else:\n",
    "                fl += [i]\n",
    "        return fl\n",
    "    \n",
    "    if custom_split:\n",
    "        tks_cleaned = [split_concatenation_errors(tks.strip(\":;,.- \")) \n",
    "                       for tks in entry if tks!=\"\"]\n",
    "        tks_cleaned = flatten(tks_cleaned)\n",
    "    else:\n",
    "        tks_cleaned = [tks.strip(\":;,.- \") for tks in entry if tks!=\"\"]\n",
    "    return(tks_cleaned)"
   ]
  },
  {
   "cell_type": "code",
   "execution_count": 4,
   "metadata": {
    "ExecuteTime": {
     "end_time": "2019-11-26T22:39:35.605106Z",
     "start_time": "2019-11-26T22:39:35.507098Z"
    }
   },
   "outputs": [],
   "source": [
    "import pyspark.sql.functions as F\n",
    "\n",
    "from pyspark.sql.functions import udf\n",
    "from pyspark.sql.types import StringType, ArrayType\n",
    "\n",
    "# transform in user defined function\n",
    "split_urls_udf = udf(split_urls, StringType())\n",
    "\n",
    "# split urls appropriately\n",
    "# test_data = test_data.select(\"t__error_message\").withColumn(\"corrected_message\", split_urls_udf(\"t__error_message\"))\n",
    "test_data = test_data.select(\"t__error_message\").distinct().withColumn(\"corrected_message\", split_urls_udf(\"t__error_message\"))\n",
    "\n",
    "# add row id\n",
    "test_data = test_data.withColumn(\"msg_id\", F.monotonically_increasing_id()).select(\"msg_id\", \"t__error_message\", \"corrected_message\")"
   ]
  },
  {
   "cell_type": "code",
   "execution_count": 5,
   "metadata": {
    "ExecuteTime": {
     "end_time": "2019-11-26T22:39:36.052333Z",
     "start_time": "2019-11-26T22:39:35.607654Z"
    }
   },
   "outputs": [],
   "source": [
    "from pyspark.ml.feature import Tokenizer, StopWordsRemover\n",
    "\n",
    "# split text into tokens\n",
    "tokenizer = Tokenizer(inputCol=\"corrected_message\", outputCol=\"tokens\")\n",
    "vector_data = tokenizer.transform(test_data)\n",
    "\n",
    "# transform in user defined function\n",
    "clean_tokens_udf = udf(lambda entry: clean_tokens(entry, custom_split=True), ArrayType(StringType()))\n",
    "\n",
    "# clean tokens\n",
    "vector_data = vector_data.withColumn(\"tokens_cleaned\", clean_tokens_udf(\"tokens\"))\n",
    "\n",
    "# remove stop (common, non-relevant) words\n",
    "stop_remove = StopWordsRemover(inputCol=\"tokens_cleaned\", outputCol=\"stop_token\")\n",
    "stop_remove1 = StopWordsRemover(inputCol=\"stop_token\", outputCol=\"stop_token_1\", stopWords=[\"\", \":\", \"-\"])"
   ]
  },
  {
   "cell_type": "code",
   "execution_count": 6,
   "metadata": {
    "ExecuteTime": {
     "end_time": "2019-11-26T22:39:36.059076Z",
     "start_time": "2019-11-26T22:39:36.055241Z"
    }
   },
   "outputs": [],
   "source": [
    "from pyspark.ml import Pipeline\n",
    "\n",
    "data_prep_pipeline = Pipeline(stages = [stop_remove, stop_remove1])\n",
    "\n",
    "pipeline_executor = data_prep_pipeline.fit(vector_data)"
   ]
  },
  {
   "cell_type": "code",
   "execution_count": 7,
   "metadata": {
    "ExecuteTime": {
     "end_time": "2019-11-26T22:39:36.246779Z",
     "start_time": "2019-11-26T22:39:36.061785Z"
    }
   },
   "outputs": [
    {
     "name": "stdout",
     "output_type": "stream",
     "text": [
      "CPU times: user 52.1 ms, sys: 8.76 ms, total: 60.9 ms\n",
      "Wall time: 181 ms\n"
     ]
    }
   ],
   "source": [
    "%%time\n",
    "\n",
    "vector_data = pipeline_executor.transform(vector_data)"
   ]
  },
  {
   "cell_type": "code",
   "execution_count": 8,
   "metadata": {
    "ExecuteTime": {
     "end_time": "2019-11-25T10:17:05.587794Z",
     "start_time": "2019-11-25T10:16:46.156862Z"
    }
   },
   "outputs": [
    {
     "data": {
      "text/plain": [
       "173920"
      ]
     },
     "execution_count": 8,
     "metadata": {},
     "output_type": "execute_result"
    }
   ],
   "source": [
    "vector_data.count()"
   ]
  },
  {
   "cell_type": "code",
   "execution_count": 8,
   "metadata": {
    "ExecuteTime": {
     "end_time": "2019-11-26T22:39:36.257215Z",
     "start_time": "2019-11-26T22:39:36.249956Z"
    }
   },
   "outputs": [],
   "source": [
    "# subsample data\n",
    "sub1 = vector_data.sample(withReplacement=False, fraction=0.3, seed=4)"
   ]
  },
  {
   "cell_type": "markdown",
   "metadata": {},
   "source": [
    "<div class=\"alert alert-block alert-info\">\n",
    "    <b>Note:</b> I should probably scale the stop_words column before feeding it into word2vec model.\n",
    "</div>"
   ]
  },
  {
   "cell_type": "code",
   "execution_count": null,
   "metadata": {},
   "outputs": [],
   "source": [
    "# from pyspark.ml.feature import StandardScaler\n",
    "# scaler = StandardScaler(inputCol=\"features\", outputCol=\"scaledFeatures\", withStd=True, withMean=False)\n",
    "\n",
    "# # Compute summary statistics by fitting the StandardScaler\n",
    "# scalerModel = scaler.fit(final_data)\n",
    "\n",
    "# # Normalize each feature to have unit standard deviation.\n",
    "# cluster_final_data = scalerModel.transform(final_data)"
   ]
  },
  {
   "cell_type": "markdown",
   "metadata": {},
   "source": [
    "## Custering "
   ]
  },
  {
   "cell_type": "code",
   "execution_count": 10,
   "metadata": {
    "ExecuteTime": {
     "end_time": "2019-11-25T10:17:23.791857Z",
     "start_time": "2019-11-25T10:17:14.505365Z"
    }
   },
   "outputs": [],
   "source": [
    "# load back the word2vec model\n",
    "from pyspark.ml.feature import Word2VecModel\n",
    "w2vec_model = Word2VecModel.load('word2vec_trial_random_sample')\n",
    "\n",
    "# apply it to the data to obtain the embedded representation\n",
    "# train_data = sub1.select(\"msg_id\", \"t__error_message\", \"stop_token_1\")#.limit(500000)\n",
    "train_data = vector_data.select(\"msg_id\", \"t__error_message\", \"stop_token_1\")#.limit(500000)\n",
    "train_data = w2vec_model.transform(train_data)"
   ]
  },
  {
   "cell_type": "code",
   "execution_count": 11,
   "metadata": {
    "ExecuteTime": {
     "end_time": "2019-11-25T10:17:23.800630Z",
     "start_time": "2019-11-25T10:17:23.796343Z"
    }
   },
   "outputs": [],
   "source": [
    "# from pyspark.ml.linalg import Vectors\n",
    "from pyspark.ml.feature import VectorAssembler"
   ]
  },
  {
   "cell_type": "code",
   "execution_count": 12,
   "metadata": {
    "ExecuteTime": {
     "end_time": "2019-11-25T10:17:25.615393Z",
     "start_time": "2019-11-25T10:17:23.804355Z"
    }
   },
   "outputs": [],
   "source": [
    "vec_assembler = VectorAssembler(inputCols = [\"message_vector\"], outputCol='features')"
   ]
  },
  {
   "cell_type": "code",
   "execution_count": 13,
   "metadata": {
    "ExecuteTime": {
     "end_time": "2019-11-25T10:17:41.507703Z",
     "start_time": "2019-11-25T10:17:25.620099Z"
    }
   },
   "outputs": [],
   "source": [
    "# format data to feed it into pyspark ML models\n",
    "train_data = vec_assembler.transform(train_data)"
   ]
  },
  {
   "cell_type": "markdown",
   "metadata": {},
   "source": [
    "### K-Means "
   ]
  },
  {
   "cell_type": "code",
   "execution_count": 16,
   "metadata": {
    "ExecuteTime": {
     "end_time": "2019-11-22T14:37:00.739780Z",
     "start_time": "2019-11-22T14:37:00.734653Z"
    }
   },
   "outputs": [],
   "source": [
    "from pyspark.ml.clustering import KMeans\n",
    "from pyspark.ml.evaluation import ClusteringEvaluator"
   ]
  },
  {
   "cell_type": "code",
   "execution_count": 56,
   "metadata": {
    "ExecuteTime": {
     "end_time": "2019-11-21T16:32:37.794616Z",
     "start_time": "2019-11-21T12:26:39.801084Z"
    },
    "scrolled": true
   },
   "outputs": [
    {
     "name": "stdout",
     "output_type": "stream",
     "text": [
      "With K=5\n",
      "Within Cluster Sum of Squared Errors = 51666.797652992296\n",
      "Silhouette with cosine distance = 0.7007597856536323\n",
      "------------------------------------------------------------\n",
      "With K=6\n",
      "Within Cluster Sum of Squared Errors = 42417.31205646741\n",
      "Silhouette with cosine distance = 0.7111873049898064\n",
      "------------------------------------------------------------\n",
      "With K=7\n",
      "Within Cluster Sum of Squared Errors = 37286.29843675361\n",
      "Silhouette with cosine distance = 0.7406978350996407\n",
      "------------------------------------------------------------\n",
      "With K=8\n",
      "Within Cluster Sum of Squared Errors = 37288.9105021556\n",
      "Silhouette with cosine distance = 0.7363599013292254\n",
      "------------------------------------------------------------\n",
      "With K=9\n",
      "Within Cluster Sum of Squared Errors = 33573.11620055456\n",
      "Silhouette with cosine distance = 0.7376167730323601\n",
      "------------------------------------------------------------\n",
      "With K=10\n",
      "Within Cluster Sum of Squared Errors = 34740.83131667538\n",
      "Silhouette with cosine distance = 0.7076267224777808\n",
      "------------------------------------------------------------\n",
      "With K=11\n",
      "Within Cluster Sum of Squared Errors = 22874.44427583687\n",
      "Silhouette with cosine distance = 0.7398114110143705\n",
      "------------------------------------------------------------\n",
      "With K=12\n",
      "Within Cluster Sum of Squared Errors = 20450.97340375411\n",
      "Silhouette with cosine distance = 0.7469000311930583\n",
      "------------------------------------------------------------\n",
      "With K=13\n",
      "Within Cluster Sum of Squared Errors = 20259.304041162188\n",
      "Silhouette with cosine distance = 0.7418504828660968\n",
      "------------------------------------------------------------\n",
      "With K=14\n",
      "Within Cluster Sum of Squared Errors = 18908.26983299893\n",
      "Silhouette with cosine distance = 0.7390924899310277\n",
      "------------------------------------------------------------\n",
      "With K=15\n",
      "Within Cluster Sum of Squared Errors = 16609.065280370058\n",
      "Silhouette with cosine distance = 0.761910418198511\n",
      "------------------------------------------------------------\n",
      "With K=16\n",
      "Within Cluster Sum of Squared Errors = 16257.965475554234\n",
      "Silhouette with cosine distance = 0.7256725531970827\n",
      "------------------------------------------------------------\n",
      "With K=17\n",
      "Within Cluster Sum of Squared Errors = 16086.223682268588\n",
      "Silhouette with cosine distance = 0.7370903903011043\n",
      "------------------------------------------------------------\n",
      "With K=18\n",
      "Within Cluster Sum of Squared Errors = 15694.24308259912\n",
      "Silhouette with cosine distance = 0.7504456230083503\n",
      "------------------------------------------------------------\n",
      "With K=19\n",
      "Within Cluster Sum of Squared Errors = 12258.124271373561\n",
      "Silhouette with cosine distance = 0.7351685711418492\n",
      "------------------------------------------------------------\n",
      "CPU times: user 15.3 s, sys: 4.66 s, total: 20 s\n",
      "Wall time: 4h 5min 57s\n"
     ]
    }
   ],
   "source": [
    "%%time\n",
    "\n",
    "# Evaluate clustering by computing Silhouette score\n",
    "evaluator = ClusteringEvaluator(distanceMeasure=\"cosine\")\n",
    "\n",
    "kmeans_models = []\n",
    "clustering_model = []\n",
    "wsse = []\n",
    "silhouette = []\n",
    "\n",
    "\n",
    "k_list = []\n",
    "for i, k in enumerate(range(5,20)):\n",
    "    k_list.append(k)\n",
    "    kmeans_models.append(KMeans(featuresCol='features',k=k, initMode='k-means||',\n",
    "    initSteps=3, tol=0.0001, maxIter=30, distanceMeasure='cosine'))\n",
    "    clustering_model.append(kmeans_models[i].fit(train_data))\n",
    "    \n",
    "    # compute metrics   \n",
    "    wsse.append(clustering_model[i].summary.trainingCost)\n",
    "    silhouette.append(evaluator.evaluate(clustering_model[i].summary.predictions))\n",
    "\n",
    "    print(\"With K={}\".format(k))\n",
    "    print(\"Within Cluster Sum of Squared Errors = \" + str(wsse[i]))\n",
    "    print(\"Silhouette with cosine distance = \" + str(silhouette[i]))\n",
    "    print('--'*30)"
   ]
  },
  {
   "cell_type": "markdown",
   "metadata": {},
   "source": [
    "##### Saving clustering models "
   ]
  },
  {
   "cell_type": "code",
   "execution_count": 43,
   "metadata": {
    "ExecuteTime": {
     "end_time": "2019-11-22T16:09:18.530149Z",
     "start_time": "2019-11-22T16:09:17.414162Z"
    }
   },
   "outputs": [],
   "source": [
    "for i, model in enumerate(kmeans_models):\n",
    "    model.write().overwrite().save(\"kmeans_k{}_unique\".format(model.getK()))"
   ]
  },
  {
   "cell_type": "code",
   "execution_count": 44,
   "metadata": {
    "ExecuteTime": {
     "end_time": "2019-11-22T16:09:22.795511Z",
     "start_time": "2019-11-22T16:09:19.116408Z"
    }
   },
   "outputs": [],
   "source": [
    "for i, model in enumerate(clustering_model):\n",
    "    model.write().overwrite().save(\"kmeans_k{}_trained_unique\".format(model.summary.k))"
   ]
  },
  {
   "cell_type": "markdown",
   "metadata": {},
   "source": [
    "#### Choice of K\n",
    "\n",
    "In order to choose the optimal value for the number of clusters, K, I compare the results obtained with different Ks based on two indicators:\n",
    " - Sum of Squared Distances Within Groups: $$ \\text{WSSE}(\\text{dist}, K) = \\sum_{k=1}^{K}{\\sum_{x_i \\in C_k}\\text{dist}(x_i, \\overline{x}_k)}$$\n",
    " \n",
    " - Average Silhouette Width: $$ \\text{ASW}(\\text{dist}, K) = \\frac{1}{n} \\sum_{i=1}^{n}{\\frac{b(i) - a(i)}{\\text{max}[a(i), b(i)]}}$$\n",
    " where $a(i)$ is the average distance of message $i$ to all the other messages in the same cluster and $b(i)$ is the minimum average distance of message $i$ from messages on another cluster.\n",
    " \n",
    " $$$$"
   ]
  },
  {
   "cell_type": "code",
   "execution_count": 130,
   "metadata": {
    "ExecuteTime": {
     "end_time": "2019-11-21T17:45:03.194723Z",
     "start_time": "2019-11-21T17:45:02.648952Z"
    },
    "scrolled": true
   },
   "outputs": [
    {
     "data": {
      "image/png": "[encoded data removed]",
      "text/plain": [
       "<Figure size 1584x432 with 2 Axes>"
      ]
     },
     "metadata": {},
     "output_type": "display_data"
    }
   ],
   "source": [
    "import numpy as np\n",
    "from matplotlib import pyplot as plt\n",
    "\n",
    "fig = plt.figure(figsize=(22,6))\n",
    "\n",
    "best_K_wsse = np.argmin(wsse)\n",
    "best_K_silhouette = np.argmax(silhouette)\n",
    "\n",
    "_ = plt.subplot(1,2,1)\n",
    "_ = plt.plot(k_list, np.log(wsse),'-D', markevery=[best_K_wsse], markerfacecolor='red', markersize=12)\n",
    "# _ = plt.Circle(xy=(16,16257), radius=3, color=\"red\")\n",
    "_ = plt.xlabel(\"K\")\n",
    "_ = plt.ylabel(\"log(WSSE)\")\n",
    "_ = plt.xticks(k_list)\n",
    "_ = plt.title(\"Within Groups Sum of Squares\")\n",
    "\n",
    "_ = plt.subplot(1,2,2)\n",
    "_ = plt.plot(k_list, silhouette,'-D', markevery=[best_K_silhouette], markerfacecolor='red', markersize=12)\n",
    "_ = plt.xlabel(\"K\")\n",
    "_ = plt.ylabel(\"ASW\")\n",
    "_ = plt.xticks(k_list)\n",
    "_ = plt.title(\"Average Silhouette Width\")\n"
   ]
  },
  {
   "cell_type": "code",
   "execution_count": null,
   "metadata": {},
   "outputs": [],
   "source": []
  },
  {
   "cell_type": "markdown",
   "metadata": {},
   "source": [
    "#### Posterior checks "
   ]
  },
  {
   "cell_type": "code",
   "execution_count": 113,
   "metadata": {
    "ExecuteTime": {
     "end_time": "2019-11-18T13:00:26.568599Z",
     "start_time": "2019-11-18T13:00:24.471667Z"
    }
   },
   "outputs": [],
   "source": [
    "# from pyspark.ml.clustering import KMeansModel\n",
    "\n",
    "# clustering_model = []\n",
    "# for k in [4,8,12]:\n",
    "#     clustering_model.append(KMeansModel.load(\"kmeans_k{}_trained\".format(k)))"
   ]
  },
  {
   "cell_type": "code",
   "execution_count": 131,
   "metadata": {
    "ExecuteTime": {
     "end_time": "2019-11-21T18:16:32.942580Z",
     "start_time": "2019-11-21T18:16:32.544758Z"
    }
   },
   "outputs": [
    {
     "name": "stdout",
     "output_type": "stream",
     "text": [
      "\n",
      "\n",
      "kmeans: K = 5\n",
      "Maximum number of iterations: 3\n",
      "Cluster sizes:\n",
      "(4, 175143)\n",
      "(3, 141540)\n",
      "(1, 97342)\n",
      "(0, 70058)\n",
      "(2, 36872)\n",
      "\n",
      "\n",
      "kmeans: K = 6\n",
      "Maximum number of iterations: 2\n",
      "Cluster sizes:\n",
      "(0, 173759)\n",
      "(1, 97342)\n",
      "(2, 73269)\n",
      "(4, 70159)\n",
      "(3, 69554)\n",
      "(5, 36872)\n",
      "\n",
      "\n",
      "kmeans: K = 7\n",
      "Maximum number of iterations: 2\n",
      "Cluster sizes:\n",
      "(0, 173724)\n",
      "(1, 97342)\n",
      "(2, 71459)\n",
      "(3, 69513)\n",
      "(4, 60076)\n",
      "(5, 36872)\n",
      "(6, 11969)\n",
      "\n",
      "\n",
      "kmeans: K = 8\n",
      "Maximum number of iterations: 4\n",
      "Cluster sizes:\n",
      "(0, 173321)\n",
      "(1, 97342)\n",
      "(2, 73173)\n",
      "(4, 69886)\n",
      "(6, 44929)\n",
      "(5, 36872)\n",
      "(3, 22922)\n",
      "(7, 2510)\n",
      "\n",
      "\n",
      "kmeans: K = 9\n",
      "Maximum number of iterations: 12\n",
      "Cluster sizes:\n",
      "(0, 173321)\n",
      "(1, 97342)\n",
      "(6, 66081)\n",
      "(2, 51278)\n",
      "(3, 44929)\n",
      "(5, 34647)\n",
      "(8, 28158)\n",
      "(4, 22706)\n",
      "(7, 2493)\n",
      "\n",
      "\n",
      "kmeans: K = 10\n",
      "Maximum number of iterations: 4\n",
      "Cluster sizes:\n",
      "(0, 173321)\n",
      "(1, 97342)\n",
      "(2, 70402)\n",
      "(4, 66535)\n",
      "(3, 44787)\n",
      "(5, 34659)\n",
      "(6, 22707)\n",
      "(8, 5569)\n",
      "(9, 3160)\n",
      "(7, 2473)\n",
      "\n",
      "\n",
      "kmeans: K = 11\n",
      "Maximum number of iterations: 3\n",
      "Cluster sizes:\n",
      "(0, 124833)\n",
      "(1, 97342)\n",
      "(9, 48771)\n",
      "(2, 46560)\n",
      "(4, 46191)\n",
      "(8, 39976)\n",
      "(3, 37246)\n",
      "(5, 34647)\n",
      "(6, 22705)\n",
      "(10, 20524)\n",
      "(7, 2160)\n",
      "\n",
      "\n",
      "kmeans: K = 12\n",
      "Maximum number of iterations: 3\n",
      "Cluster sizes:\n",
      "(2, 124858)\n",
      "(1, 97342)\n",
      "(7, 50204)\n",
      "(0, 39966)\n",
      "(8, 38298)\n",
      "(5, 34647)\n",
      "(3, 31667)\n",
      "(11, 29418)\n",
      "(10, 21442)\n",
      "(9, 21102)\n",
      "(6, 20524)\n",
      "(4, 11487)\n",
      "\n",
      "\n",
      "kmeans: K = 13\n",
      "Maximum number of iterations: 7\n",
      "Cluster sizes:\n",
      "(0, 124858)\n",
      "(1, 97342)\n",
      "(9, 50244)\n",
      "(6, 38599)\n",
      "(3, 37246)\n",
      "(5, 34647)\n",
      "(12, 33834)\n",
      "(11, 29333)\n",
      "(7, 22262)\n",
      "(2, 21442)\n",
      "(10, 18271)\n",
      "(4, 11488)\n",
      "(8, 1389)\n",
      "\n",
      "\n",
      "kmeans: K = 14\n",
      "Maximum number of iterations: 5\n",
      "Cluster sizes:\n",
      "(0, 124479)\n",
      "(1, 97342)\n",
      "(3, 37246)\n",
      "(6, 36849)\n",
      "(5, 34647)\n",
      "(12, 33834)\n",
      "(13, 31353)\n",
      "(11, 29334)\n",
      "(7, 22151)\n",
      "(2, 21442)\n",
      "(8, 19360)\n",
      "(10, 18271)\n",
      "(4, 11488)\n",
      "(9, 3159)\n",
      "\n",
      "\n",
      "kmeans: K = 15\n",
      "Maximum number of iterations: 3\n",
      "Cluster sizes:\n",
      "(14, 107385)\n",
      "(1, 97342)\n",
      "(11, 48034)\n",
      "(6, 39931)\n",
      "(5, 34647)\n",
      "(8, 31547)\n",
      "(3, 31490)\n",
      "(12, 28697)\n",
      "(2, 22359)\n",
      "(0, 19702)\n",
      "(7, 18668)\n",
      "(10, 18271)\n",
      "(4, 11481)\n",
      "(9, 5785)\n",
      "(13, 5616)\n",
      "\n",
      "\n",
      "kmeans: K = 16\n",
      "Maximum number of iterations: 3\n",
      "Cluster sizes:\n",
      "(0, 124482)\n",
      "(1, 97342)\n",
      "(3, 50382)\n",
      "(2, 46509)\n",
      "(5, 34647)\n",
      "(13, 31297)\n",
      "(11, 25475)\n",
      "(7, 22282)\n",
      "(10, 18271)\n",
      "(15, 17825)\n",
      "(6, 15657)\n",
      "(14, 11969)\n",
      "(4, 11491)\n",
      "(12, 5615)\n",
      "(9, 5524)\n",
      "(8, 2187)\n",
      "\n",
      "\n",
      "kmeans: K = 17\n",
      "Maximum number of iterations: 4\n",
      "Cluster sizes:\n",
      "(7, 104958)\n",
      "(1, 97342)\n",
      "(6, 36846)\n",
      "(5, 34647)\n",
      "(13, 33113)\n",
      "(14, 32950)\n",
      "(3, 31489)\n",
      "(12, 29336)\n",
      "(15, 22008)\n",
      "(4, 21442)\n",
      "(0, 20644)\n",
      "(10, 18271)\n",
      "(9, 18038)\n",
      "(2, 11481)\n",
      "(11, 6269)\n",
      "(16, 1572)\n",
      "(8, 549)\n",
      "\n",
      "\n",
      "kmeans: K = 18\n",
      "Maximum number of iterations: 7\n",
      "Cluster sizes:\n",
      "(12, 104944)\n",
      "(1, 97342)\n",
      "(15, 38528)\n",
      "(17, 36863)\n",
      "(5, 34647)\n",
      "(3, 31525)\n",
      "(13, 31297)\n",
      "(4, 21380)\n",
      "(0, 20655)\n",
      "(11, 20384)\n",
      "(9, 18546)\n",
      "(10, 18271)\n",
      "(7, 16737)\n",
      "(2, 11219)\n",
      "(14, 9142)\n",
      "(16, 5144)\n",
      "(8, 2582)\n",
      "(6, 1749)\n",
      "\n",
      "\n",
      "kmeans: K = 19\n",
      "Maximum number of iterations: 4\n",
      "Cluster sizes:\n",
      "(1, 97342)\n",
      "(12, 88356)\n",
      "(15, 38529)\n",
      "(0, 36505)\n",
      "(5, 34647)\n",
      "(3, 31449)\n",
      "(13, 31345)\n",
      "(2, 24541)\n",
      "(11, 22883)\n",
      "(17, 21593)\n",
      "(7, 18906)\n",
      "(9, 18613)\n",
      "(10, 18271)\n",
      "(18, 11969)\n",
      "(4, 11415)\n",
      "(16, 9452)\n",
      "(6, 2536)\n",
      "(8, 1388)\n",
      "(14, 1215)\n"
     ]
    }
   ],
   "source": [
    "import numpy as np\n",
    "\n",
    "for model in clustering_model:\n",
    "    print(\"\\n\\nkmeans: K = {}\".format(model.summary.k))\n",
    "    print(\"Maximum number of iterations: {}\".format(model.summary.numIter))\n",
    "    \n",
    "    # sort cluster sizes\n",
    "    ord_sizes = model.summary.clusterSizes\n",
    "    ord_idx = list(np.argsort(model.summary.clusterSizes))\n",
    "    ord_sizes.sort(reverse=True)\n",
    "    ord_idx.reverse()\n",
    "    print(\"Cluster sizes:\")\n",
    "    for el in zip(ord_idx, ord_sizes):\n",
    "        print(\"{}\".format(el))"
   ]
  },
  {
   "cell_type": "code",
   "execution_count": 132,
   "metadata": {
    "ExecuteTime": {
     "end_time": "2019-11-21T19:15:04.195063Z",
     "start_time": "2019-11-21T18:17:13.230854Z"
    },
    "scrolled": true
   },
   "outputs": [
    {
     "name": "stdout",
     "output_type": "stream",
     "text": [
      "+----------+-------------+\n",
      "|prediction|n_unique_mess|\n",
      "+----------+-------------+\n",
      "|3         |43837        |\n",
      "|0         |10776        |\n",
      "|4         |4703         |\n",
      "|1         |17           |\n",
      "|2         |9            |\n",
      "+----------+-------------+\n",
      "\n",
      "+----------+-------------+\n",
      "|prediction|n_unique_mess|\n",
      "+----------+-------------+\n",
      "|3         |44897        |\n",
      "|4         |10748        |\n",
      "|0         |3338         |\n",
      "|2         |333          |\n",
      "|1         |17           |\n",
      "|5         |9            |\n",
      "+----------+-------------+\n",
      "\n",
      "+----------+-------------+\n",
      "|prediction|n_unique_mess|\n",
      "+----------+-------------+\n",
      "|3         |44875        |\n",
      "|4         |10780        |\n",
      "|0         |3313         |\n",
      "|2         |341          |\n",
      "|1         |17           |\n",
      "|5         |9            |\n",
      "|6         |7            |\n",
      "+----------+-------------+\n",
      "\n",
      "+----------+-------------+\n",
      "|prediction|n_unique_mess|\n",
      "+----------+-------------+\n",
      "|6         |37937        |\n",
      "|4         |10719        |\n",
      "|3         |5550         |\n",
      "|0         |3218         |\n",
      "|7         |1567         |\n",
      "|2         |325          |\n",
      "|1         |17           |\n",
      "|5         |9            |\n",
      "+----------+-------------+\n",
      "\n",
      "+----------+-------------+\n",
      "|prediction|n_unique_mess|\n",
      "+----------+-------------+\n",
      "|3         |37937        |\n",
      "|8         |10745        |\n",
      "|4         |5500         |\n",
      "|0         |3218         |\n",
      "|7         |1550         |\n",
      "|2         |332          |\n",
      "|6         |37           |\n",
      "|1         |17           |\n",
      "|5         |6            |\n",
      "+----------+-------------+\n",
      "\n",
      "+----------+-------------+\n",
      "|prediction|n_unique_mess|\n",
      "+----------+-------------+\n",
      "|3         |37795        |\n",
      "|4         |10694        |\n",
      "|6         |5501         |\n",
      "|0         |3218         |\n",
      "|7         |1548         |\n",
      "|8         |355          |\n",
      "|2         |195          |\n",
      "|1         |17           |\n",
      "|9         |11           |\n",
      "|5         |8            |\n",
      "+----------+-------------+\n",
      "\n",
      "+----------+-------------+\n",
      "|prediction|n_unique_mess|\n",
      "+----------+-------------+\n",
      "|3         |31048        |\n",
      "|4         |17677        |\n",
      "|6         |5499         |\n",
      "|9         |1840         |\n",
      "|7         |1545         |\n",
      "|0         |1379         |\n",
      "|8         |247          |\n",
      "|10        |44           |\n",
      "|2         |40           |\n",
      "|1         |17           |\n",
      "|5         |6            |\n",
      "+----------+-------------+\n",
      "\n",
      "+----------+-------------+\n",
      "|prediction|n_unique_mess|\n",
      "+----------+-------------+\n",
      "|3         |25705        |\n",
      "|8         |17880        |\n",
      "|9         |10508        |\n",
      "|7         |3273         |\n",
      "|2         |1380         |\n",
      "|0         |244          |\n",
      "|11        |218          |\n",
      "|4         |49           |\n",
      "|6         |44           |\n",
      "|10        |18           |\n",
      "|1         |17           |\n",
      "|5         |6            |\n",
      "+----------+-------------+\n",
      "\n",
      "+----------+-------------+\n",
      "|prediction|n_unique_mess|\n",
      "+----------+-------------+\n",
      "|3         |31048        |\n",
      "|12        |12498        |\n",
      "|7         |10602        |\n",
      "|9         |3313         |\n",
      "|0         |1380         |\n",
      "|6         |236          |\n",
      "|11        |160          |\n",
      "|4         |50           |\n",
      "|2         |18           |\n",
      "|1         |17           |\n",
      "|8         |11           |\n",
      "|5         |6            |\n",
      "|10        |3            |\n",
      "+----------+-------------+\n",
      "\n",
      "+----------+-------------+\n",
      "|prediction|n_unique_mess|\n",
      "+----------+-------------+\n",
      "|3         |31048        |\n",
      "|12        |12498        |\n",
      "|7         |10541        |\n",
      "|8         |2707         |\n",
      "|0         |1374         |\n",
      "|13        |671          |\n",
      "|6         |238          |\n",
      "|11        |161          |\n",
      "|4         |50           |\n",
      "|2         |18           |\n",
      "|1         |17           |\n",
      "|9         |10           |\n",
      "|5         |6            |\n",
      "|10        |3            |\n",
      "+----------+-------------+\n",
      "\n",
      "+----------+-------------+\n",
      "|prediction|n_unique_mess|\n",
      "+----------+-------------+\n",
      "|3         |25528        |\n",
      "|8         |12445        |\n",
      "|7         |10415        |\n",
      "|13        |5380         |\n",
      "|0         |1844         |\n",
      "|11        |1839         |\n",
      "|14        |1021         |\n",
      "|9         |379          |\n",
      "|6         |235          |\n",
      "|12        |166          |\n",
      "|4         |45           |\n",
      "|2         |19           |\n",
      "|1         |17           |\n",
      "|5         |6            |\n",
      "|10        |3            |\n",
      "+----------+-------------+\n",
      "\n",
      "+----------+-------------+\n",
      "|prediction|n_unique_mess|\n",
      "+----------+-------------+\n",
      "|3         |37863        |\n",
      "|7         |10558        |\n",
      "|12        |5379         |\n",
      "|8         |1545         |\n",
      "|0         |1375         |\n",
      "|15        |1206         |\n",
      "|13        |638          |\n",
      "|9         |324          |\n",
      "|11        |225          |\n",
      "|6         |105          |\n",
      "|4         |50           |\n",
      "|2         |41           |\n",
      "|1         |17           |\n",
      "|14        |7            |\n",
      "|5         |6            |\n",
      "|10        |3            |\n",
      "+----------+-------------+\n",
      "\n",
      "+----------+-------------+\n",
      "|prediction|n_unique_mess|\n",
      "+----------+-------------+\n",
      "|3         |25527        |\n",
      "|14        |12090        |\n",
      "|15        |10541        |\n",
      "|11        |5921         |\n",
      "|16        |1534         |\n",
      "|9         |1072         |\n",
      "|7         |892          |\n",
      "|13        |773          |\n",
      "|0         |495          |\n",
      "|6         |236          |\n",
      "|12        |163          |\n",
      "|2         |45           |\n",
      "|4         |18           |\n",
      "|1         |17           |\n",
      "|8         |9            |\n",
      "|5         |6            |\n",
      "|10        |3            |\n",
      "+----------+-------------+\n",
      "\n",
      "+----------+-------------+\n",
      "|prediction|n_unique_mess|\n",
      "+----------+-------------+\n",
      "|3         |25563        |\n",
      "|17        |17698        |\n",
      "|9         |10388        |\n",
      "|6         |1535         |\n",
      "|7         |1201         |\n",
      "|12        |889          |\n",
      "|13        |638          |\n",
      "|0         |496          |\n",
      "|16        |334          |\n",
      "|15        |224          |\n",
      "|14        |193          |\n",
      "|8         |103          |\n",
      "|2         |35           |\n",
      "|1         |17           |\n",
      "|4         |15           |\n",
      "|5         |6            |\n",
      "|11        |4            |\n",
      "|10        |3            |\n",
      "+----------+-------------+\n",
      "\n",
      "+----------+-------------+\n",
      "|prediction|n_unique_mess|\n",
      "+----------+-------------+\n",
      "|3         |25545        |\n",
      "|17        |17738        |\n",
      "|9         |10394        |\n",
      "|7         |2651         |\n",
      "|12        |732          |\n",
      "|13        |666          |\n",
      "|0         |649          |\n",
      "|16        |542          |\n",
      "|15        |225          |\n",
      "|14        |95           |\n",
      "|2         |21           |\n",
      "|11        |19           |\n",
      "|4         |18           |\n",
      "|1         |17           |\n",
      "|8         |10           |\n",
      "|18        |7            |\n",
      "|5         |6            |\n",
      "|6         |4            |\n",
      "|10        |3            |\n",
      "+----------+-------------+\n",
      "\n"
     ]
    }
   ],
   "source": [
    "import pyspark.sql.functions as F\n",
    "\n",
    "for model in clustering_model:\n",
    "    grouped_pred = model.summary.predictions.groupBy(\"prediction\")\n",
    "    grouped_pred.agg(F.countDistinct(\"stop_token_1\").alias(\"n_unique_mess\")).orderBy(\"n_unique_mess\", ascending=False).show(truncate=False)"
   ]
  },
  {
   "cell_type": "code",
   "execution_count": 133,
   "metadata": {
    "ExecuteTime": {
     "end_time": "2019-11-21T19:15:04.213392Z",
     "start_time": "2019-11-21T19:15:04.199935Z"
    }
   },
   "outputs": [],
   "source": [
    "from pyspark.sql.functions import udf\n",
    "from pyspark.sql.types import StringType\n",
    "\n",
    "def is_url(string):\n",
    "    if string.find(\"://\") != -1:\n",
    "        return(True)\n",
    "    return(False)\n",
    "    \n",
    "\n",
    "def is_ipv6(string):\n",
    "    import numpy as np\n",
    "    is_column = [1 if x==\":\" else 0 for x in string]\n",
    "    if np.sum(is_column) >= 3 and string.find(\"/\") == -1:\n",
    "        return(True)\n",
    "    return(False)\n",
    "\n",
    "def is_address(string):\n",
    "    import numpy as np\n",
    "    is_column = [1 if x==\".\" else 0 for x in string]\n",
    "    if np.sum(is_column) >= 2 and string.find(\"/\") == -1:\n",
    "        return(True)\n",
    "    return(False)\n",
    "\n",
    "def replace_address(string, replace_string=None):\n",
    "    if not replace_string:\n",
    "        if is_url(string):\n",
    "            string = \"$URL\"\n",
    "        elif is_ipv6(string):\n",
    "            string = \"$IPv6\"\n",
    "        elif is_address(string):\n",
    "            string = \"$ADDRESS\"\n",
    "    else:\n",
    "        if is_url(string) or is_ipv6(string) or is_address(string):\n",
    "            string = replace_string         \n",
    "    return(string)\n",
    "\n",
    "\n",
    "def abstract_address(tokens_list):\n",
    "    '''Take a string and split url into netloc + path'''\n",
    "    tks = [replace_address(x) for x in tokens_list]\n",
    "    return(tks)\n",
    "\n",
    "# transform in user defined function\n",
    "abstract_address_udf = udf(abstract_address, StringType())"
   ]
  },
  {
   "cell_type": "code",
   "execution_count": null,
   "metadata": {
    "ExecuteTime": {
     "end_time": "2019-11-21T19:18:26.875694Z",
     "start_time": "2019-11-21T19:15:04.216746Z"
    },
    "scrolled": false
   },
   "outputs": [],
   "source": [
    "import pyspark.sql.functions as F\n",
    "\n",
    "for model in clustering_model:\n",
    "    data_subset = model.summary.predictions\n",
    "    data_subset = data_subset.withColumn(\"abstract_tokens\", abstract_address_udf(\"stop_token_1\"))\n",
    "\n",
    "    grouped_pred = data_subset.groupBy(\"prediction\")\n",
    "    grouped_pred.agg(F.countDistinct(\"abstract_tokens\").alias(\"n_unique_mess\")).orderBy(\"n_unique_mess\", ascending=False).show(truncate=False)"
   ]
  },
  {
   "cell_type": "markdown",
   "metadata": {},
   "source": [
    "# TESTS FOR ABSTRACTION "
   ]
  },
  {
   "cell_type": "code",
   "execution_count": 179,
   "metadata": {
    "ExecuteTime": {
     "end_time": "2019-11-18T16:16:41.880350Z",
     "start_time": "2019-11-18T16:16:41.873196Z"
    }
   },
   "outputs": [
    {
     "name": "stdout",
     "output_type": "stream",
     "text": [
      "True\n",
      "False\n",
      "False\n"
     ]
    }
   ],
   "source": [
    "print(is_url(\"httpg://tbn18.nikhef.nl:8446/srm/managerv2:\"))\n",
    "print(is_url(\"2400:4500:0:2::2102:22409:\"))\n",
    "print(is_url(\"tbn18.nikhef.nl:8446\"))"
   ]
  },
  {
   "cell_type": "code",
   "execution_count": 180,
   "metadata": {
    "ExecuteTime": {
     "end_time": "2019-11-18T16:16:43.247312Z",
     "start_time": "2019-11-18T16:16:43.239281Z"
    }
   },
   "outputs": [
    {
     "name": "stdout",
     "output_type": "stream",
     "text": [
      "False\n",
      "True\n",
      "False\n"
     ]
    }
   ],
   "source": [
    "print(is_ipv6(\"httpg://tbn18.nikhef.nl:8446/srm/managerv2:\"))\n",
    "print(is_ipv6(\"2400:4500:0:2::2102:22409:\"))\n",
    "print(is_ipv6(\"tbn18.nikhef.nl:8446\"))"
   ]
  },
  {
   "cell_type": "code",
   "execution_count": 183,
   "metadata": {
    "ExecuteTime": {
     "end_time": "2019-11-18T16:18:04.123226Z",
     "start_time": "2019-11-18T16:18:04.115653Z"
    }
   },
   "outputs": [
    {
     "name": "stdout",
     "output_type": "stream",
     "text": [
      "False\n",
      "False\n",
      "True\n"
     ]
    }
   ],
   "source": [
    "print(is_address(\"httpg://tbn18.nikhef.nl:8446/srm/managerv2:\"))\n",
    "print(is_address(\"2400:4500:0:2::2102:22409:\"))\n",
    "print(is_address(\"tbn18.nikhef.nl:8446\"))"
   ]
  },
  {
   "cell_type": "code",
   "execution_count": 194,
   "metadata": {
    "ExecuteTime": {
     "end_time": "2019-11-18T16:26:02.581354Z",
     "start_time": "2019-11-18T16:26:02.572689Z"
    }
   },
   "outputs": [
    {
     "name": "stdout",
     "output_type": "stream",
     "text": [
      "$URL\n",
      "$IPv6\n",
      "$ADDRESS\n",
      "ERROR\n",
      "CIAO\n"
     ]
    }
   ],
   "source": [
    "print(replace_address(\"httpg://tbn18.nikhef.nl:8446/srm/managerv2:\"))\n",
    "print(replace_address(\"2400:4500:0:2::2102:22409:\"))\n",
    "print(replace_address(\"tbn18.nikhef.nl:8446\"))\n",
    "print(replace_address(\"ERROR\"))\n",
    "print(replace_address(\"tbn18.nikhef.nl:8446\", \"CIAO\"))"
   ]
  },
  {
   "cell_type": "markdown",
   "metadata": {},
   "source": [
    "#### Inspection (K=12)"
   ]
  },
  {
   "cell_type": "code",
   "execution_count": 204,
   "metadata": {
    "ExecuteTime": {
     "end_time": "2019-11-18T17:24:59.087663Z",
     "start_time": "2019-11-18T17:04:46.572555Z"
    }
   },
   "outputs": [
    {
     "name": "stdout",
     "output_type": "stream",
     "text": [
      "+---------------------------------------------------------------------------------------------------------------------------------------------------------------------------------------------------------------------------------------------------------------------------------------------------------------------------------------------------------------------------------------------------------+\n",
      "|abstract_tokens                                                                                                                                                                                                                                                                                                                                                                                          |\n",
      "+---------------------------------------------------------------------------------------------------------------------------------------------------------------------------------------------------------------------------------------------------------------------------------------------------------------------------------------------------------------------------------------------------------+\n",
      "|[transfer, globus_ftp_control:, gss_init_sec_context, failed, gss, major, status:, unexpected, gatekeeper, service, name, globus_gsi_gssapi:, authorization, denied:, name, remote, entity, (/dc=eu/dc=egi/c=za/o=hosts/o=university, cape, town/cn=dtn.ilifu.ac.za),, expected, name, remote, entity, (/cn=dtn.ilifu.ac.za), match]                                                                     |\n",
      "|[transfer, globus_ftp_control:, gss_init_sec_context, failed, gss, major, status:, unexpected, gatekeeper, service, name, globus_gsi_gssapi:, authorization, denied:, name, remote, entity, (/dc=org/dc=terena/dc=tcs/c=es/st=barcelona/l=bellaterra/o=port, dinformacio, cientifica/cn=door03.pic.es),, expected, name, remote, entity, (/cn=2001:67c:1148:201:0:0:0:13), match]                        |\n",
      "|[transfer, globus_ftp_control:, gss_init_sec_context, failed, gss, major, status:, unexpected, gatekeeper, service, name, globus_gsi_gssapi:, authorization, denied:, name, remote, entity, (/c=tw/o=ap/ou=grid/cn=cluster262.knu.ac.kr),, expected, name, remote, entity, (/cn=155.230.21.62), match]                                                                                                   |\n",
      "|[transfer, globus_ftp_control:, gss_init_sec_context, failed, gss, major, status:, unexpected, gatekeeper, service, name, globus_gsi_gssapi:, authorization, denied:, name, remote, entity, (/c=tw/o=ap/ou=grid/cn=cluster400.knu.ac.kr),, expected, name, remote, entity, (/cn=155.230.21.200), match]                                                                                                  |\n",
      "|[transfer, globus_ftp_control:, gss_init_sec_context, failed, gss, major, status:, unexpected, gatekeeper, service, name, globus_gsi_gssapi:, authorization, denied:, name, remote, entity, (/dc=org/dc=terena/dc=tcs/c=fi/l=espoo/o=csc, tieteen, tietotekniikan, keskus, oy/cn=madhatter.csc.fi),, expected, name, remote, entity, (/cn=2001:948:48:1:0:0:dcb:1), match]                               |\n",
      "|[transfer, globus_ftp_control:, gss_init_sec_context, failed, gss, major, status:, unexpected, gatekeeper, service, name, globus_gsi_gssapi:, authorization, denied:, name, remote, entity, (/dc=org/dc=incommon/c=us/st=mi/l=east, lansing/o=michigan, state, university/cn=dcdmsu03.aglt2.org),, expected, name, remote, entity, (/cn=2001:48a8:68f7:8001:192:41:236:73), match]                       |\n",
      "|[transfer, globus_ftp_control:, gss_init_sec_context, failed, gss, major, status:, unexpected, gatekeeper, service, name, globus_gsi_gssapi:, authorization, denied:, name, remote, entity, (/dc=org/dc=incommon/c=us/st=mi/l=ann, arbor/o=university, michigan/ou=information, technology, services/cn=dcdum01.aglt2.org),, expected, name, remote, entity, (/cn=2001:48a8:68f7:1:192:41:231:81), match]|\n",
      "|[transfer, globus_ftp_control:, gss_init_sec_context, failed, gss, major, status:, unexpected, gatekeeper, service, name, globus_gsi_gssapi:, authorization, denied:, name, remote, entity, (/c=tw/o=ap/ou=grid/cn=cluster261.knu.ac.kr),, expected, name, remote, entity, (/cn=155.230.21.61), match]                                                                                                   |\n",
      "|[transfer, globus_ftp_control:, gss_init_sec_context, failed, gss, major, status:, unexpected, gatekeeper, service, name, globus_gsi_gssapi:, authorization, denied:, name, remote, entity, (/dc=org/dc=terena/dc=tcs/c=es/l=bellaterra/o=port, dinformacio, cientifica/cn=door07.pic.es),, expected, name, remote, entity, (/cn=2001:67c:1148:201:0:0:0:22), match]                                     |\n",
      "|[transfer, globus_ftp_control:, gss_init_sec_context, failed, gss, major, status:, unexpected, gatekeeper, service, name, globus_gsi_gssapi:, authorization, denied:, name, remote, entity, (/dc=org/dc=incommon/c=us/st=new, york/l=upton/o=brookhaven, national, laboratory/ou=sdcc/cn=dcbldoor02.sdcc.bnl.gov),, expected, name, remote, entity, (/cn=dcbldoor.sdcc.bnl.gov), match]                  |\n",
      "|[transfer, globus_ftp_control:, gss_init_sec_context, failed, gss, major, status:, unexpected, gatekeeper, service, name, globus_gsi_gssapi:, authorization, denied:, name, remote, entity, (/dc=org/dc=terena/dc=tcs/c=es/st=barcelona/l=bellaterra/o=port, dinformacio, cientifica/cn=door05.pic.es),, expected, name, remote, entity, (/cn=2001:67c:1148:201:0:0:0:15), match]                        |\n",
      "|[transfer, globus_ftp_control:, gss_init_sec_context, failed, gss, major, status:, unexpected, gatekeeper, service, name, globus_gsi_gssapi:, authorization, denied:, name, remote, entity, (/dc=org/dc=incommon/c=us/st=mi/l=east, lansing/o=michigan, state, university/cn=dcdmsu02.aglt2.org),, expected, name, remote, entity, (/cn=2001:48a8:68f7:8001:192:41:236:72), match]                       |\n",
      "|[transfer, globus_ftp_control:, gss_init_sec_context, failed, gss, major, status:, unexpected, gatekeeper, service, name, globus_gsi_gssapi:, authorization, denied:, name, remote, entity, (/dc=org/dc=terena/dc=tcs/c=es/st=barcelona/l=bellaterra/o=port, dinformacio, cientifica/cn=door01.pic.es),, expected, name, remote, entity, (/cn=2001:67c:1148:201:0:0:0:11), match]                        |\n",
      "|[transfer, globus_ftp_control:, gss_init_sec_context, failed, gss, major, status:, unexpected, gatekeeper, service, name, globus_gsi_gssapi:, authorization, denied:, name, remote, entity, (/dc=org/dc=incommon/c=us/st=mi/l=ann, arbor/o=university, michigan/ou=information, technology, services/cn=dcdum02.aglt2.org),, expected, name, remote, entity, (/cn=2001:48a8:68f7:1:192:41:231:82), match]|\n",
      "|[transfer, globus_ftp_control:, gss_init_sec_context, failed, gss, major, status:, unexpected, gatekeeper, service, name, globus_gsi_gssapi:, authorization, denied:, name, remote, entity, (/dc=org/dc=terena/dc=tcs/c=es/st=barcelona/l=bellaterra/o=port, dinformacio, cientifica/cn=door06.pic.es),, expected, name, remote, entity, (/cn=2001:67c:1148:201:0:0:0:16), match]                        |\n",
      "|[transfer, globus_ftp_control:, gss_init_sec_context, failed, gss, major, status:, unexpected, gatekeeper, service, name, globus_gsi_gssapi:, authorization, denied:, name, remote, entity, (/dc=org/dc=terena/dc=tcs/c=es/st=barcelona/l=bellaterra/o=port, dinformacio, cientifica/cn=door04.pic.es),, expected, name, remote, entity, (/cn=2001:67c:1148:201:0:0:0:14), match]                        |\n",
      "|[transfer, globus_ftp_control:, gss_init_sec_context, failed, gss, major, status:, unexpected, gatekeeper, service, name, globus_gsi_gssapi:, authorization, denied:, name, remote, entity, (/dc=org/dc=incommon/c=us/st=new, york/l=upton/o=brookhaven, national, laboratory/ou=sdcc/cn=dcbldoor01.sdcc.bnl.gov),, expected, name, remote, entity, (/cn=dcbldoor.sdcc.bnl.gov), match]                  |\n",
      "+---------------------------------------------------------------------------------------------------------------------------------------------------------------------------------------------------------------------------------------------------------------------------------------------------------------------------------------------------------------------------------------------------------+\n",
      "\n"
     ]
    },
    {
     "name": "stdout",
     "output_type": "stream",
     "text": [
      "+----------------------------------------------------------------------------------------------------------------------------------------------------------------------------+\n",
      "|abstract_tokens                                                                                                                                                             |\n",
      "+----------------------------------------------------------------------------------------------------------------------------------------------------------------------------+\n",
      "|[transfer, globus_ftp_client:, server, responded, error, 421, service, busy:, connection, limit, exceeded., please, try, later., closing, control, connection.]             |\n",
      "|[globus_ftp_client:, server, responded, error, 421, idle, timeout:, closing, control, connection.]                                                                          |\n",
      "|[globus_ftp_client:, server, responded, error, 421, service, busy:, connection, limit, exceeded., please, try, later., closing, control, connection.]                       |\n",
      "|[source, checksum, globus_ftp_client:, server, responded, error, 421, idle, timeout:, closing, control, connection.]                                                        |\n",
      "|[destination, checksum, globus_ftp_client:, server, responded, error, 421, service, busy:, connection, limit, exceeded., please, try, later., closing, control, connection.]|\n",
      "|[transfer, globus_ftp_client:, server, responded, error, 421, idle, timeout:, closing, control, connection.]                                                                |\n",
      "|[destination, checksum, globus_ftp_client:, server, responded, error, 421, idle, timeout:, closing, control, connection.]                                                   |\n",
      "+----------------------------------------------------------------------------------------------------------------------------------------------------------------------------+\n",
      "\n",
      "+--------------------------------------------------------------------------------------------------------------------------------------------------------------------+\n",
      "|abstract_tokens                                                                                                                                                     |\n",
      "+--------------------------------------------------------------------------------------------------------------------------------------------------------------------+\n",
      "|[globus_xio:, unable, connect, $ADDRESS, globus_xio:, globus_libc_getaddrinfo, failed., globus_common:, name, service, known]                                       |\n",
      "|[destination, checksum, globus_xio:, unable, connect, $ADDRESS, globus_xio:, globus_libc_getaddrinfo, failed., globus_common:, temporary, failure, name, resolution]|\n",
      "|[destination, checksum, globus_xio:, unable, connect, $ADDRESS, globus_xio:, globus_libc_getaddrinfo, failed., globus_common:, name, service, known]                |\n",
      "|[transfer, globus_xio:, unable, connect, $ADDRESS, globus_xio:, globus_libc_getaddrinfo, failed., globus_common:, name, service, known]                             |\n",
      "|[globus_xio:, unable, connect, $ADDRESS, globus_xio:, globus_libc_getaddrinfo, failed., globus_common:, temporary, failure, name, resolution]                       |\n",
      "+--------------------------------------------------------------------------------------------------------------------------------------------------------------------+\n",
      "\n",
      "+-------------------------------------------------------------------------------+\n",
      "|abstract_tokens                                                                |\n",
      "+-------------------------------------------------------------------------------+\n",
      "|[source, checksum, end-of-file, reached, globus_xio:, end, file, occurred]     |\n",
      "|[end-of-file, reached, globus_xio:, end, file, occurred]                       |\n",
      "|[destination, checksum, end-of-file, reached, globus_xio:, end, file, occurred]|\n",
      "|[transfer, end-of-file, reached, globus_xio:, end, file, occurred]             |\n",
      "+-------------------------------------------------------------------------------+\n",
      "\n",
      "+-------------------------------------------------------------------------------------------------------------------------------------+\n",
      "|abstract_tokens                                                                                                                      |\n",
      "+-------------------------------------------------------------------------------------------------------------------------------------+\n",
      "|[transfer, globus_ftp_client:, server, responded, error, 555, srm, upload, aborted:, changing, file, state, request, state, changed.]|\n",
      "|[transfer, globus_ftp_client:, server, responded, error, 451, pools, full]                                                           |\n",
      "|[transfer, globus_ftp_client:, server, responded, error, 452, pools, full]                                                           |\n",
      "|[transfer, globus_ftp_client:, server, responded, error, 555, srm, upload, aborted:, file, deleted, request, $IPv6]                  |\n",
      "+-------------------------------------------------------------------------------------------------------------------------------------+\n",
      "\n",
      "+---------------------------------------------------------------------------------------------------------+\n",
      "|abstract_tokens                                                                                          |\n",
      "+---------------------------------------------------------------------------------------------------------+\n",
      "|[transfer, globus_ftp_client:, server, responded, error, 451, $ADDRESS, space, id=2310037, enough, space]|\n",
      "+---------------------------------------------------------------------------------------------------------+\n",
      "\n"
     ]
    }
   ],
   "source": [
    "clust_ids = [\"1\", \"6\", \"8\", \"5\", \"2\", \"11\"]\n",
    "\n",
    "data_subset = clustering_model[2].summary.predictions.withColumn(\"abstract_tokens\", abstract_address_udf(\"stop_token_1\"))\n",
    "\n",
    "\n",
    "for clust_id in clust_ids:\n",
    "    cluster = data_subset.filter(\"prediction == {}\".format(clust_id))\n",
    "    \n",
    "    cluster_unique_messages = cluster.select(\"abstract_tokens\").distinct()\n",
    "    cluster_unique_messages.show(truncate=False)"
   ]
  },
  {
   "cell_type": "code",
   "execution_count": 144,
   "metadata": {
    "ExecuteTime": {
     "end_time": "2019-11-18T14:38:26.585656Z",
     "start_time": "2019-11-18T14:32:53.272962Z"
    }
   },
   "outputs": [
    {
     "name": "stdout",
     "output_type": "stream",
     "text": [
      "+---------------------------------------------------------------------------------------------------------------------------------------------------+\n",
      "|stop_token_1                                                                                                                                       |\n",
      "+---------------------------------------------------------------------------------------------------------------------------------------------------+\n",
      "|[transfer, globus_ftp_client:, server, responded, error, 451, diskcachev111.services.space.nofreespaceexception:, space, id=2310037, enough, space]|\n",
      "+---------------------------------------------------------------------------------------------------------------------------------------------------+\n",
      "\n"
     ]
    }
   ],
   "source": [
    "clust_id = \"11\"\n",
    "\n",
    "data_subset = clustering_model[2].summary.predictions\n",
    "cluster = data_subset.filter(\"prediction == {}\".format(clust_id))\n",
    "\n",
    "cluster_unique_messages = cluster.select(\"stop_token_1\").distinct()\n",
    "cluster_unique_messages.show(truncate=False)"
   ]
  },
  {
   "cell_type": "code",
   "execution_count": 145,
   "metadata": {
    "ExecuteTime": {
     "end_time": "2019-11-18T14:43:31.511763Z",
     "start_time": "2019-11-18T14:40:25.831517Z"
    },
    "scrolled": true
   },
   "outputs": [
    {
     "name": "stdout",
     "output_type": "stream",
     "text": [
      "+-----------------------------------------------------------------------------------------------------------------------------------+\n",
      "|stop_token_1                                                                                                                       |\n",
      "+-----------------------------------------------------------------------------------------------------------------------------------+\n",
      "|[transfer, globus_ftp_client:, server, responded, error, 555, srm, upload, aborted:, file, deleted, request, 1om:28788412:srm2:rm.]|\n",
      "|[transfer, globus_ftp_client:, server, responded, error, 555, srm, upload, aborted:, file, deleted, request, hru:7380954:srm2:rm.] |\n",
      "|[transfer, globus_ftp_client:, server, responded, error, 555, srm, upload, aborted:, file, deleted, request, hru:7381160:srm2:rm.] |\n",
      "|[transfer, globus_ftp_client:, server, responded, error, 555, srm, upload, aborted:, file, deleted, request, hru:5863600:srm2:rm.] |\n",
      "|[transfer, globus_ftp_client:, server, responded, error, 555, srm, upload, aborted:, file, deleted, request, hru:7382608:srm2:rm.] |\n",
      "|[transfer, globus_ftp_client:, server, responded, error, 555, srm, upload, aborted:, file, deleted, request, hru:7380867:srm2:rm.] |\n",
      "|[transfer, globus_ftp_client:, server, responded, error, 555, srm, upload, aborted:, file, deleted, request, hru:7293463:srm2:rm.] |\n",
      "|[transfer, globus_ftp_client:, server, responded, error, 555, srm, upload, aborted:, file, deleted, request, hru:7299508:srm2:rm.] |\n",
      "|[transfer, globus_ftp_client:, server, responded, error, 555, srm, upload, aborted:, file, deleted, request, 1om:28799451:srm2:rm.]|\n",
      "|[transfer, globus_ftp_client:, server, responded, error, 555, srm, upload, aborted:, file, deleted, request, hru:4022093:srm2:rm.] |\n",
      "|[transfer, globus_ftp_client:, server, responded, error, 555, srm, upload, aborted:, file, deleted, request, hru:7381096:srm2:rm.] |\n",
      "|[transfer, globus_ftp_client:, server, responded, error, 555, srm, upload, aborted:, file, deleted, request, hru:4025139:srm2:rm.] |\n",
      "|[transfer, globus_ftp_client:, server, responded, error, 555, srm, upload, aborted:, file, deleted, request, hru:7383780:srm2:rm.] |\n",
      "|[transfer, globus_ftp_client:, server, responded, error, 555, srm, upload, aborted:, file, deleted, request, hru:7380781:srm2:rm.] |\n",
      "|[transfer, globus_ftp_client:, server, responded, error, 555, srm, upload, aborted:, file, deleted, request, 1om:28787319:srm2:rm.]|\n",
      "|[transfer, globus_ftp_client:, server, responded, error, 555, srm, upload, aborted:, file, deleted, request, hru:7380697:srm2:rm.] |\n",
      "|[transfer, globus_ftp_client:, server, responded, error, 555, srm, upload, aborted:, file, deleted, request, 1om:28806402:srm2:rm.]|\n",
      "|[transfer, globus_ftp_client:, server, responded, error, 555, srm, upload, aborted:, file, deleted, request, 1om:28798451:srm2:rm.]|\n",
      "|[transfer, globus_ftp_client:, server, responded, error, 555, srm, upload, aborted:, file, deleted, request, 1om:28789833:srm2:rm.]|\n",
      "|[transfer, globus_ftp_client:, server, responded, error, 555, srm, upload, aborted:, file, deleted, request, hru:7311204:srm2:rm.] |\n",
      "+-----------------------------------------------------------------------------------------------------------------------------------+\n",
      "only showing top 20 rows\n",
      "\n"
     ]
    }
   ],
   "source": [
    "clust_id = \"2\"\n",
    "\n",
    "data_subset = clustering_model[2].summary.predictions\n",
    "cluster = data_subset.filter(\"prediction == {}\".format(clust_id))\n",
    "\n",
    "cluster_unique_messages = cluster.select(\"stop_token_1\").distinct()\n",
    "cluster_unique_messages.show(truncate=False)"
   ]
  },
  {
   "cell_type": "markdown",
   "metadata": {},
   "source": [
    "### Example for meeting: K=15, distance=\"cosine\""
   ]
  },
  {
   "cell_type": "code",
   "execution_count": 15,
   "metadata": {
    "ExecuteTime": {
     "end_time": "2019-11-22T06:55:36.079186Z",
     "start_time": "2019-11-22T06:38:29.039249Z"
    },
    "scrolled": true
   },
   "outputs": [
    {
     "name": "stdout",
     "output_type": "stream",
     "text": [
      "With K=15\n",
      "Within Cluster Sum of Squared Errors = 17408.75264616702\n",
      "Silhouette with cosine distance = 0.7548244164150328\n",
      "------------------------------------------------------------\n",
      "CPU times: user 936 ms, sys: 314 ms, total: 1.25 s\n",
      "Wall time: 17min 7s\n"
     ]
    }
   ],
   "source": [
    "%%time\n",
    "\n",
    "# Evaluate clustering by computing Silhouette score\n",
    "evaluator = ClusteringEvaluator()\n",
    "\n",
    "kmeans_models = []\n",
    "clustering_model = []\n",
    "\n",
    "\n",
    "k_best = 15\n",
    "for i, k in enumerate([k_best]):\n",
    "    kmeans_models.append(KMeans(featuresCol='features',k=k, initMode='k-means||',\n",
    "    initSteps=10, tol=0.00001, maxIter=30, distanceMeasure='cosine'))\n",
    "    clustering_model.append(kmeans_models[i].fit(train_data))\n",
    "    \n",
    "    # compute metrics   \n",
    "    wsse = clustering_model[i].summary.trainingCost\n",
    "    silhouette = evaluator.evaluate(clustering_model[i].summary.predictions)\n",
    "\n",
    "    print(\"With K={}\".format(k))\n",
    "    print(\"Within Cluster Sum of Squared Errors = \" + str(wsse))\n",
    "    print(\"Silhouette with cosine distance = \" + str(silhouette))\n",
    "    print('--'*30)"
   ]
  },
  {
   "cell_type": "markdown",
   "metadata": {},
   "source": [
    "#### Clusters' sizes"
   ]
  },
  {
   "cell_type": "code",
   "execution_count": 18,
   "metadata": {
    "ExecuteTime": {
     "end_time": "2019-11-21T22:38:24.370239Z",
     "start_time": "2019-11-21T22:38:24.000781Z"
    }
   },
   "outputs": [
    {
     "name": "stdout",
     "output_type": "stream",
     "text": [
      "\n",
      "\n",
      "kmeans: K = 15\n",
      "Maximum number of iterations: 6\n",
      "Cluster sizes:\n",
      "(1, 97342)\n",
      "(7, 89607)\n",
      "(12, 48034)\n",
      "(10, 44787)\n",
      "(0, 39895)\n",
      "(5, 34647)\n",
      "(9, 28295)\n",
      "(13, 27614)\n",
      "(4, 23133)\n",
      "(3, 22699)\n",
      "(6, 21910)\n",
      "(11, 18271)\n",
      "(8, 12341)\n",
      "(2, 9182)\n",
      "(14, 3198)\n"
     ]
    }
   ],
   "source": [
    "import numpy as np\n",
    "\n",
    "for model in [clustering_model[0]]:\n",
    "    print(\"\\n\\nkmeans: K = {}\".format(model.summary.k))\n",
    "    print(\"Maximum number of iterations: {}\".format(model.summary.numIter))\n",
    "    \n",
    "    # sort cluster sizes\n",
    "    ord_sizes = model.summary.clusterSizes\n",
    "    ord_idx = list(np.argsort(model.summary.clusterSizes))\n",
    "    ord_sizes.sort(reverse=True)\n",
    "    ord_idx.reverse()\n",
    "    print(\"Cluster sizes:\")\n",
    "    for el in zip(ord_idx, ord_sizes):\n",
    "        print(\"{}\".format(el))"
   ]
  },
  {
   "cell_type": "markdown",
   "metadata": {},
   "source": [
    "#### Clusters' unique messages"
   ]
  },
  {
   "cell_type": "code",
   "execution_count": 19,
   "metadata": {
    "ExecuteTime": {
     "end_time": "2019-11-21T22:42:16.512823Z",
     "start_time": "2019-11-21T22:38:31.372019Z"
    },
    "scrolled": true
   },
   "outputs": [
    {
     "name": "stdout",
     "output_type": "stream",
     "text": [
      "+----------+-------------+\n",
      "|prediction|n_unique_mess|\n",
      "+----------+-------------+\n",
      "|10        |37795        |\n",
      "|6         |10620        |\n",
      "|3         |5495         |\n",
      "|9         |2104         |\n",
      "|12        |1839         |\n",
      "|7         |751          |\n",
      "|14        |308          |\n",
      "|0         |232          |\n",
      "|13        |129          |\n",
      "|4         |20           |\n",
      "|1         |17           |\n",
      "|8         |15           |\n",
      "|2         |8            |\n",
      "|5         |6            |\n",
      "|11        |3            |\n",
      "+----------+-------------+\n",
      "\n"
     ]
    }
   ],
   "source": [
    "import pyspark.sql.functions as F\n",
    "\n",
    "for model in [clustering_model[0]]:\n",
    "    grouped_pred = model.summary.predictions.groupBy(\"prediction\")\n",
    "    grouped_pred.agg(F.countDistinct(\"stop_token_1\").alias(\"n_unique_mess\")).orderBy(\"n_unique_mess\", ascending=False).show(truncate=False)"
   ]
  },
  {
   "cell_type": "markdown",
   "metadata": {},
   "source": [
    "#### Clusters' unique messages after abstraction "
   ]
  },
  {
   "cell_type": "code",
   "execution_count": 17,
   "metadata": {
    "ExecuteTime": {
     "end_time": "2019-11-22T07:14:57.236060Z",
     "start_time": "2019-11-22T07:14:57.219326Z"
    }
   },
   "outputs": [],
   "source": [
    "from pyspark.sql.functions import udf\n",
    "from pyspark.sql.types import StringType\n",
    "\n",
    "def is_url(string):\n",
    "    if string.find(\"://\") != -1:\n",
    "        return(True)\n",
    "    return(False)\n",
    "    \n",
    "\n",
    "def is_ipv6(string):\n",
    "    import numpy as np\n",
    "    is_column = [1 if x==\":\" else 0 for x in string]\n",
    "    if np.sum(is_column) >= 3 and string.find(\"/\") == -1:\n",
    "        return(True)\n",
    "    return(False)\n",
    "\n",
    "def is_address(string):\n",
    "    import numpy as np\n",
    "    is_column = [1 if x==\".\" else 0 for x in string]\n",
    "    if np.sum(is_column) >= 2 and string.find(\"/\") == -1:\n",
    "        return(True)\n",
    "    return(False)\n",
    "\n",
    "def replace_address(string, replace_string=None):\n",
    "    if not replace_string:\n",
    "        if is_url(string):\n",
    "            string = \"$URL\"\n",
    "        elif is_ipv6(string):\n",
    "            string = \"$IPv6\"\n",
    "        elif is_address(string):\n",
    "            string = \"$ADDRESS\"\n",
    "    else:\n",
    "        if is_url(string) or is_ipv6(string) or is_address(string):\n",
    "            string = replace_string         \n",
    "    return(string)\n",
    "\n",
    "\n",
    "def abstract_address(tokens_list):\n",
    "    '''Take a string and split url into netloc + path'''\n",
    "    tks = [replace_address(x) for x in tokens_list]\n",
    "    return(tks)\n",
    "\n",
    "# transform in user defined function\n",
    "abstract_address_udf = udf(abstract_address, StringType())"
   ]
  },
  {
   "cell_type": "code",
   "execution_count": 21,
   "metadata": {
    "ExecuteTime": {
     "end_time": "2019-11-21T22:47:43.081405Z",
     "start_time": "2019-11-21T22:42:16.581389Z"
    },
    "scrolled": true
   },
   "outputs": [
    {
     "name": "stdout",
     "output_type": "stream",
     "text": [
      "+----------+-------------+\n",
      "|prediction|n_unique_mess|\n",
      "+----------+-------------+\n",
      "|3         |4780         |\n",
      "|9         |1499         |\n",
      "|6         |172          |\n",
      "|13        |129          |\n",
      "|14        |125          |\n",
      "|10        |31           |\n",
      "|12        |29           |\n",
      "|0         |24           |\n",
      "|4         |20           |\n",
      "|1         |17           |\n",
      "|8         |15           |\n",
      "|7         |6            |\n",
      "|5         |6            |\n",
      "|11        |3            |\n",
      "|2         |3            |\n",
      "+----------+-------------+\n",
      "\n"
     ]
    }
   ],
   "source": [
    "import pyspark.sql.functions as F\n",
    "\n",
    "for model in [clustering_model[0]]:\n",
    "    data_subset = model.summary.predictions\n",
    "    data_subset = data_subset.withColumn(\"abstract_tokens\", abstract_address_udf(\"stop_token_1\"))\n",
    "\n",
    "    grouped_pred = data_subset.groupBy(\"prediction\")\n",
    "    grouped_pred.agg(F.countDistinct(\"abstract_tokens\").alias(\"n_unique_mess\")).orderBy(\"n_unique_mess\", ascending=False).show(truncate=False)"
   ]
  },
  {
   "cell_type": "code",
   "execution_count": 22,
   "metadata": {
    "ExecuteTime": {
     "end_time": "2019-11-21T23:39:21.476194Z",
     "start_time": "2019-11-21T23:01:11.870448Z"
    }
   },
   "outputs": [
    {
     "name": "stdout",
     "output_type": "stream",
     "text": [
      "+-------------------------------------------------------------------------------------------------------------------------------------------------------------------------------------------------+\n",
      "|abstract_tokens                                                                                                                                                                                  |\n",
      "+-------------------------------------------------------------------------------------------------------------------------------------------------------------------------------------------------+\n",
      "|[destination, srm_put_turl, srm-ifce, err, communication, error, send, err, [se][statusofputrequest][], $URL, /srm/managerv2, cgsi-gsoap, running, $ADDRESS, reports, open, connection, $ADDRESS]|\n",
      "|[destination, make_parent, srm-ifce, err, communication, error, send, err, [se][mkdir][], $URL, /srm/managerv2, cgsi-gsoap, running, $ADDRESS, reports, open, connection, $ADDRESS]              |\n",
      "|[srm-ifce, err, communication, error, send, err, [se][ls][], $URL, /srm/managerv2, cgsi-gsoap, running, $ADDRESS, reports, open, connection, $ADDRESS]                                           |\n",
      "+-------------------------------------------------------------------------------------------------------------------------------------------------------------------------------------------------+\n",
      "\n",
      "+-------------------------------------------------------------------------------------------------------------------------------------------------------------------------------+\n",
      "|abstract_tokens                                                                                                                                                                |\n",
      "+-------------------------------------------------------------------------------------------------------------------------------------------------------------------------------+\n",
      "|[transfer, globus_ftp_client, server, responded, error, 452, pools, full]                                                                                                      |\n",
      "|[transfer, globus_ftp_client, server, responded, error, 451, write, pools, online, [net=2001:1458:201:e4:0:0:100:627,protocol=gftp/2,store=cms-disk:cms@osm,cache=,linkgroup=]]|\n",
      "|[transfer, globus_ftp_client, server, responded, error, 451, pools, full]                                                                                                      |\n",
      "+-------------------------------------------------------------------------------------------------------------------------------------------------------------------------------+\n",
      "\n",
      "+--------------------------------------------------------------------------------------------------------------------------------------------------------+\n",
      "|abstract_tokens                                                                                                                                         |\n",
      "+--------------------------------------------------------------------------------------------------------------------------------------------------------+\n",
      "|[destination, checksum, end-of-file, reached, globus_xio, end, file, occurred]                                                                          |\n",
      "|[transfer, globus_ftp_client, server, responded, error, 500, 500, command, failed, end-of-file, reached, 500, globus_xio, end, file, occurred, 500, end]|\n",
      "|[transfer, end-of-file, reached, globus_xio, end, file, occurred]                                                                                       |\n",
      "|[transfer, globus_l_ftp_control_read_cb, error, searching, end, reply]                                                                                  |\n",
      "|[end-of-file, reached, globus_xio, end, file, occurred]                                                                                                 |\n",
      "|[source, checksum, end-of-file, reached, globus_xio, end, file, occurred]                                                                               |\n",
      "+--------------------------------------------------------------------------------------------------------------------------------------------------------+\n",
      "\n",
      "+----------------------------------------------------------------------------------------------------------------------------------------------------------------------------------------------------------------------------------------------------------------------------------------+\n",
      "|abstract_tokens                                                                                                                                                                                                                                                                         |\n",
      "+----------------------------------------------------------------------------------------------------------------------------------------------------------------------------------------------------------------------------------------------------------------------------------------+\n",
      "|[srm-ifce, err, communication, error, send, err, [se][ls][], $URL, /srm/v2/server, cgsi-gsoap, running, $ADDRESS, reports, open, connection, $ADDRESS]                                                                                                                                  |\n",
      "|[source, checksum, srm-ifce, err, communication, error, send, err, [se][ls][], $URL, /srm/managerv2, cgsi-gsoap, running, $ADDRESS, reports, open, connection, $ADDRESS]                                                                                                                |\n",
      "|[srm-ifce, err, communication, error, send, err, [se][ls][], $URL, /srm/managerv2, cgsi-gsoap, running, $ADDRESS, reports, open, connection, $ADDRESS]                                                                                                                                  |\n",
      "|[source, srm_get_turl, srm-ifce, err, communication, error, send, err, [se][statusofgetrequest][], $URL, /srm/managerv2, cgsi-gsoap, running, $ADDRESS, reports, open, connection, $ADDRESS]                                                                                            |\n",
      "|[[gfal2_stat][gfal_plugin_statg][gfal_srm_statg][gfal_statg_srmv2__generic_internal][gfal_srm_ls_internal][gfal_srm_report_error], srm-ifce, err, communication, error, send, err, [se][ls][], $URL, /srm/managerv2, cgsi-gsoap, running, $ADDRESS, reports, open, connection, $ADDRESS]|\n",
      "|[source, srm_get_turl, srm-ifce, err, communication, error, send, err, [se][preparetoget][], $URL, /srm/managerv2, cgsi-gsoap, running, $ADDRESS, reports, open, connection, $ADDRESS]                                                                                                  |\n",
      "+----------------------------------------------------------------------------------------------------------------------------------------------------------------------------------------------------------------------------------------------------------------------------------------+\n",
      "\n",
      "+-------------------------------------------------------------------------------------------------------------------------------------------------------------------------------------------------------------------------------------------------+\n",
      "|abstract_tokens                                                                                                                                                                                                                                  |\n",
      "+-------------------------------------------------------------------------------------------------------------------------------------------------------------------------------------------------------------------------------------------------+\n",
      "|[transfer, globus_ftp_client, server, responded, error, 421, idle, timeout, closing, control, connection]                                                                                                                                        |\n",
      "|[transfer, globus_ftp_client, server, responded, error, 535, authentication, failed, path, validation, failed, path, validation, failed, cn=1589137358, cn=58079576, geonmo, ryu, o=kisti, o=kisti, c=kr, proxy, violation, key, usage, asserted]|\n",
      "|[transfer, globus_ftp_client, server, responded, error, 535, authentication, failed, path, validation, failed, path, validation, failed, cn=355693782, cn=fawad, saeed, ou=asc, o=ncp, c=pk, proxy, violation, key, usage, asserted]             |\n",
      "|[source, checksum, globus_ftp_client, server, responded, error, 421, idle, timeout, closing, control, connection]                                                                                                                                |\n",
      "|[transfer, globus_ftp_client, server, responded, error, 535, authentication, failed, path, validation, failed, path, validation, failed, cn=1348799464, cn=58079576, geonmo, ryu, o=kisti, o=kisti, c=kr, proxy, violation, key, usage, asserted]|\n",
      "|[transfer, globus_ftp_client, server, responded, error, 535, authentication, failed, path, validation, failed, path, validation, failed, cn=1198410918, cn=58079576, geonmo, ryu, o=kisti, o=kisti, c=kr, proxy, violation, key, usage, asserted]|\n",
      "|[transfer, globus_ftp_client, server, responded, error, 421, service, busy, connection, limit, exceeded, please, try, later, closing, control, connection]                                                                                       |\n",
      "|[destination, checksum, globus_ftp_client, server, responded, error, 421, service, busy, connection, limit, exceeded, please, try, later, closing, control, connection]                                                                          |\n",
      "|[globus_ftp_client, server, responded, error, 421, service, busy, connection, limit, exceeded, please, try, later, closing, control, connection]                                                                                                 |\n",
      "|[transfer, globus_ftp_client, server, responded, error, 535, authentication, failed, path, validation, failed, path, validation, failed, cn=1775071485, cn=58079576, geonmo, ryu, o=kisti, o=kisti, c=kr, proxy, violation, key, usage, asserted]|\n",
      "|[transfer, globus_ftp_client, server, responded, error, 535, authentication, failed, path, validation, failed, path, validation, failed, cn=842949729, cn=58079576, geonmo, ryu, o=kisti, o=kisti, c=kr, proxy, violation, key, usage, asserted] |\n",
      "|[globus_ftp_client, server, responded, error, 421, idle, timeout, closing, control, connection]                                                                                                                                                  |\n",
      "|[transfer, globus_ftp_client, server, responded, error, 535, authentication, failed, path, validation, failed, path, validation, failed, cn=910642440, cn=58079576, geonmo, ryu, o=kisti, o=kisti, c=kr, proxy, violation, key, usage, asserted] |\n",
      "|[destination, checksum, globus_ftp_client, server, responded, error, 421, idle, timeout, closing, control, connection]                                                                                                                           |\n",
      "|[transfer, globus_ftp_client, server, responded, error, 535, authentication, failed, path, validation, failed, path, validation, failed, cn=1356002419, cn=58079576, geonmo, ryu, o=kisti, o=kisti, c=kr, proxy, violation, key, usage, asserted]|\n",
      "+-------------------------------------------------------------------------------------------------------------------------------------------------------------------------------------------------------------------------------------------------+\n",
      "\n"
     ]
    },
    {
     "name": "stdout",
     "output_type": "stream",
     "text": [
      "+----------------------------------------------------------------------------------------------------------------------------------------------------------------------------------------------------------------------------------------------------------------------------------------------------------------------------------------------------------------------------------------------------+\n",
      "|abstract_tokens                                                                                                                                                                                                                                                                                                                                                                                     |\n",
      "+----------------------------------------------------------------------------------------------------------------------------------------------------------------------------------------------------------------------------------------------------------------------------------------------------------------------------------------------------------------------------------------------------+\n",
      "|[transfer, globus_ftp_control, gss_init_sec_context, failed, gss, major, status, unexpected, gatekeeper, service, name, globus_gsi_gssapi, authorization, denied, name, remote, entity, (/c=tw/o=ap/ou=grid/cn=cluster400.knu.ac.kr), expected, name, remote, entity, (/cn=155.230.21.200), match]                                                                                                  |\n",
      "|[transfer, globus_ftp_control, gss_init_sec_context, failed, gss, major, status, unexpected, gatekeeper, service, name, globus_gsi_gssapi, authorization, denied, name, remote, entity, (/dc=org/dc=incommon/c=us/st=mi/l=east, lansing/o=michigan, state, university/cn=dcdmsu03.aglt2.org), expected, name, remote, entity, (/cn=2001:48a8:68f7:8001:192:41:236:73), match]                       |\n",
      "|[transfer, globus_ftp_control, gss_init_sec_context, failed, gss, major, status, unexpected, gatekeeper, service, name, globus_gsi_gssapi, authorization, denied, name, remote, entity, (/dc=org/dc=incommon/c=us/st=new, york/l=upton/o=brookhaven, national, laboratory/ou=sdcc/cn=dcbldoor02.sdcc.bnl.gov), expected, name, remote, entity, (/cn=dcbldoor.sdcc.bnl.gov), match]                  |\n",
      "|[transfer, globus_ftp_control, gss_init_sec_context, failed, gss, major, status, unexpected, gatekeeper, service, name, globus_gsi_gssapi, authorization, denied, name, remote, entity, (/dc=org/dc=terena/dc=tcs/c=es/st=barcelona/l=bellaterra/o=port, dinformacio, cientifica/cn=door03.pic.es), expected, name, remote, entity, (/cn=2001:67c:1148:201:0:0:0:13), match]                        |\n",
      "|[transfer, globus_ftp_control, gss_init_sec_context, failed, gss, major, status, unexpected, gatekeeper, service, name, globus_gsi_gssapi, authorization, denied, name, remote, entity, (/dc=org/dc=incommon/c=us/st=mi/l=ann, arbor/o=university, michigan/ou=information, technology, services/cn=dcdum02.aglt2.org), expected, name, remote, entity, (/cn=2001:48a8:68f7:1:192:41:231:82), match]|\n",
      "|[transfer, globus_ftp_control, gss_init_sec_context, failed, gss, major, status, unexpected, gatekeeper, service, name, globus_gsi_gssapi, authorization, denied, name, remote, entity, (/dc=org/dc=terena/dc=tcs/c=es/st=barcelona/l=bellaterra/o=port, dinformacio, cientifica/cn=door06.pic.es), expected, name, remote, entity, (/cn=2001:67c:1148:201:0:0:0:16), match]                        |\n",
      "|[transfer, globus_ftp_control, gss_init_sec_context, failed, gss, major, status, unexpected, gatekeeper, service, name, globus_gsi_gssapi, authorization, denied, name, remote, entity, (/dc=org/dc=terena/dc=tcs/c=es/l=bellaterra/o=port, dinformacio, cientifica/cn=door07.pic.es), expected, name, remote, entity, (/cn=2001:67c:1148:201:0:0:0:22), match]                                     |\n",
      "|[transfer, globus_ftp_control, gss_init_sec_context, failed, gss, major, status, unexpected, gatekeeper, service, name, globus_gsi_gssapi, authorization, denied, name, remote, entity, (/dc=org/dc=terena/dc=tcs/c=es/st=barcelona/l=bellaterra/o=port, dinformacio, cientifica/cn=door04.pic.es), expected, name, remote, entity, (/cn=2001:67c:1148:201:0:0:0:14), match]                        |\n",
      "|[transfer, globus_ftp_control, gss_init_sec_context, failed, gss, major, status, unexpected, gatekeeper, service, name, globus_gsi_gssapi, authorization, denied, name, remote, entity, (/dc=org/dc=incommon/c=us/st=new, york/l=upton/o=brookhaven, national, laboratory/ou=sdcc/cn=dcbldoor01.sdcc.bnl.gov), expected, name, remote, entity, (/cn=dcbldoor.sdcc.bnl.gov), match]                  |\n",
      "|[transfer, globus_ftp_control, gss_init_sec_context, failed, gss, major, status, unexpected, gatekeeper, service, name, globus_gsi_gssapi, authorization, denied, name, remote, entity, (/dc=org/dc=incommon/c=us/st=mi/l=east, lansing/o=michigan, state, university/cn=dcdmsu02.aglt2.org), expected, name, remote, entity, (/cn=2001:48a8:68f7:8001:192:41:236:72), match]                       |\n",
      "|[transfer, globus_ftp_control, gss_init_sec_context, failed, gss, major, status, unexpected, gatekeeper, service, name, globus_gsi_gssapi, authorization, denied, name, remote, entity, (/dc=eu/dc=egi/c=za/o=hosts/o=university, cape, town/cn=dtn.ilifu.ac.za), expected, name, remote, entity, (/cn=dtn.ilifu.ac.za), match]                                                                     |\n",
      "|[transfer, globus_ftp_control, gss_init_sec_context, failed, gss, major, status, unexpected, gatekeeper, service, name, globus_gsi_gssapi, authorization, denied, name, remote, entity, (/c=tw/o=ap/ou=grid/cn=cluster262.knu.ac.kr), expected, name, remote, entity, (/cn=155.230.21.62), match]                                                                                                   |\n",
      "|[transfer, globus_ftp_control, gss_init_sec_context, failed, gss, major, status, unexpected, gatekeeper, service, name, globus_gsi_gssapi, authorization, denied, name, remote, entity, (/dc=org/dc=terena/dc=tcs/c=es/st=barcelona/l=bellaterra/o=port, dinformacio, cientifica/cn=door05.pic.es), expected, name, remote, entity, (/cn=2001:67c:1148:201:0:0:0:15), match]                        |\n",
      "|[transfer, globus_ftp_control, gss_init_sec_context, failed, gss, major, status, unexpected, gatekeeper, service, name, globus_gsi_gssapi, authorization, denied, name, remote, entity, (/dc=org/dc=terena/dc=tcs/c=fi/l=espoo/o=csc, tieteen, tietotekniikan, keskus, oy/cn=madhatter.csc.fi), expected, name, remote, entity, (/cn=2001:948:48:1:0:0:dcb:1), match]                               |\n",
      "|[transfer, globus_ftp_control, gss_init_sec_context, failed, gss, major, status, unexpected, gatekeeper, service, name, globus_gsi_gssapi, authorization, denied, name, remote, entity, (/c=tw/o=ap/ou=grid/cn=cluster261.knu.ac.kr), expected, name, remote, entity, (/cn=155.230.21.61), match]                                                                                                   |\n",
      "|[transfer, globus_ftp_control, gss_init_sec_context, failed, gss, major, status, unexpected, gatekeeper, service, name, globus_gsi_gssapi, authorization, denied, name, remote, entity, (/dc=org/dc=incommon/c=us/st=mi/l=ann, arbor/o=university, michigan/ou=information, technology, services/cn=dcdum01.aglt2.org), expected, name, remote, entity, (/cn=2001:48a8:68f7:1:192:41:231:81), match]|\n",
      "|[transfer, globus_ftp_control, gss_init_sec_context, failed, gss, major, status, unexpected, gatekeeper, service, name, globus_gsi_gssapi, authorization, denied, name, remote, entity, (/dc=org/dc=terena/dc=tcs/c=es/st=barcelona/l=bellaterra/o=port, dinformacio, cientifica/cn=door01.pic.es), expected, name, remote, entity, (/cn=2001:67c:1148:201:0:0:0:11), match]                        |\n",
      "+----------------------------------------------------------------------------------------------------------------------------------------------------------------------------------------------------------------------------------------------------------------------------------------------------------------------------------------------------------------------------------------------------+\n",
      "\n"
     ]
    },
    {
     "name": "stdout",
     "output_type": "stream",
     "text": [
      "+------------------------------------------------------------------------------------------------------------------------------------------------------------------------------------------------------------------------+\n",
      "|abstract_tokens                                                                                                                                                                                                         |\n",
      "+------------------------------------------------------------------------------------------------------------------------------------------------------------------------------------------------------------------------+\n",
      "|[source, checksum, globus_ftp_client, server, responded, error, 504, unsupported, checksum, $ADDRESS, unknown, checksum, type, 869463eb]                                                                                |\n",
      "|[source, checksum, globus_ftp_client, server, responded, error, 504, unsupported, checksum, $ADDRESS, unknown, checksum, type, de1f6347]                                                                                |\n",
      "|[transfer, globus_ftp_client, server, responded, error, 500, command, failed, internal, server, error]                                                                                                                  |\n",
      "|[source, checksum, globus_ftp_client, server, responded, error, 504, unsupported, checksum, $ADDRESS, unknown, checksum, type, 4ca85fc1]                                                                                |\n",
      "|[destination, checksum, globus_ftp_client, server, responded, error, 500, internal, server, error]                                                                                                                      |\n",
      "|[transfer, globus_ftp_client, server, responded, error, 451, failed, create, new, entry, 0000e571f9b4070d464baf5cdbe954cbdfe1, /dcache/dcache-atlas12-16/data/0000e571f9b4070d464baf5cdbe954cbdfe1, input/output, error]|\n",
      "|[source, checksum, globus_ftp_client, server, responded, error, 504, unsupported, checksum, $ADDRESS, unknown, checksum, type, 58706291]                                                                                |\n",
      "|[transfer, globus_ftp_client, server, responded, error, 451, failed, create, new, entry, 00009257c1503c504365a0701210df88d949, /dcache/dcache-atlas12-13/data/00009257c1503c504365a0701210df88d949, input/output, error]|\n",
      "|[source, checksum, globus_ftp_client, server, responded, error, 500, internal, server, error]                                                                                                                           |\n",
      "|[transfer, globus_ftp_client, server, responded, error, 451, internal, timeout]                                                                                                                                         |\n",
      "|[source, checksum, globus_ftp_client, server, responded, error, 504, unsupported, checksum, $ADDRESS, unknown, checksum, type, 2d0c620f]                                                                                |\n",
      "|[source, checksum, globus_ftp_client, server, responded, error, 504, unsupported, checksum, $ADDRESS, unknown, checksum, type, 7ad861a4]                                                                                |\n",
      "|[source, checksum, globus_ftp_client, server, responded, error, 500, unknown, error, occurred]                                                                                                                          |\n",
      "|[transfer, globus_ftp_client, server, responded, error, 425, open, data, connection]                                                                                                                                    |\n",
      "|[globus_ftp_client, server, responded, error, 500, object, /atlas:datadisk/rucio/mc16_13tev/ed/ea/aod.18210857._000870.pool.root.1, exist, return, checksum, error, data, available]                                    |\n",
      "|[source, checksum, globus_ftp_client, server, responded, error, 504, unsupported, checksum, $ADDRESS, unknown, checksum, type, 4a876227]                                                                                |\n",
      "|[globus_ftp_client, server, responded, error, 500, internal, server, error]                                                                                                                                             |\n",
      "|[transfer, globus_ftp_client, server, responded, error, 431, internal, error]                                                                                                                                           |\n",
      "|[globus_ftp_client, server, responded, error, 451, local, error, processing]                                                                                                                                            |\n",
      "|[transfer, globus_ftp_client, server, responded, error, 451, internal, failure, space, management]                                                                                                                      |\n",
      "+------------------------------------------------------------------------------------------------------------------------------------------------------------------------------------------------------------------------+\n",
      "\n",
      "+---------------------------------------------------------------------------------------------------------------------------------------------------------------------------------------------------------------------------------------------------------------------------+\n",
      "|abstract_tokens                                                                                                                                                                                                                                                            |\n",
      "+---------------------------------------------------------------------------------------------------------------------------------------------------------------------------------------------------------------------------------------------------------------------------+\n",
      "|[source, checksum, globus_xio, unable, connect, $ADDRESS, globus_xio, system, error, connect, connection, timed, globus_xio, system, call, failed, connection, timed]                                                                                                      |\n",
      "|[source, checksum, globus_xio, system, error, recv, connection, reset, peer, globus_xio, system, call, failed, connection, reset, peer]                                                                                                                                    |\n",
      "|[transfer, globus_xio, system, error, recv, connection, reset, peer, globus_xio, system, call, failed, connection, reset, peer]                                                                                                                                            |\n",
      "|[source, checksum, globus_xio, unable, connect, $ADDRESS, globus_xio, system, error, connect, connection, refused, globus_xio, system, call, failed, connection, refused]                                                                                                  |\n",
      "|[destination, checksum, globus_xio, unable, connect, $ADDRESS, globus_xio, system, error, connect, route, host, globus_xio, system, call, failed, route, host]                                                                                                             |\n",
      "|[transfer, globus_xio, unable, connect, $ADDRESS, globus_xio, system, error, connect, connection, refused, globus_xio, system, call, failed, connection, refused]                                                                                                          |\n",
      "|[transfer, globus_xio, system, error, recv, connection, timed, globus_xio, system, call, failed, connection, timed]                                                                                                                                                        |\n",
      "|[destination, checksum, globus_xio, unable, connect, $ADDRESS, globus_xio, system, error, connect, connection, refused, globus_xio, system, call, failed, connection, refused]                                                                                             |\n",
      "|[globus_xio, system, error, recv, connection, timed, globus_xio, system, call, failed, connection, timed]                                                                                                                                                                  |\n",
      "|[transfer, globus_xio, unable, connect, $ADDRESS, globus_xio, system, error, connect, connection, timed, globus_xio, system, call, failed, connection, timed]                                                                                                              |\n",
      "|[transfer, globus_xio, unable, connect, $ADDRESS, globus_xio, system, error, connect, network, unreachable, globus_xio, system, call, failed, network, unreachable]                                                                                                        |\n",
      "|[destination, checksum, globus_xio, system, error, recv, connection, reset, peer, globus_xio, system, call, failed, connection, reset, peer]                                                                                                                               |\n",
      "|[globus_xio, unable, connect, $ADDRESS, globus_xio, system, error, connect, route, host, globus_xio, system, call, failed, route, host]                                                                                                                                    |\n",
      "|[globus_xio, unable, connect, $ADDRESS, globus_xio, system, error, connect, connection, timed, globus_xio, system, call, failed, connection, timed]                                                                                                                        |\n",
      "|[transfer, globus_xio, unable, connect, $ADDRESS, globus_xio, system, error, connect, route, host, globus_xio, system, call, failed, route, host]                                                                                                                          |\n",
      "|[globus_xio, unable, connect, $ADDRESS, globus_xio, system, error, connect, network, unreachable, globus_xio, system, call, failed, network, unreachable]                                                                                                                  |\n",
      "|[globus_xio, unable, connect, $ADDRESS, globus_xio, system, error, connect, connection, refused, globus_xio, system, call, failed, connection, refused]                                                                                                                    |\n",
      "|[[gfalt_copy_file][perform_copy][srm_plugin_filecopy][srm_do_transfer][gfalt_copy_file][perform_copy][gridftp_plugin_filecopy][gridftp_plugin_filecopy], transfer, globus_xio, system, error, recv, connection, timed, globus_xio, system, call, failed, connection, timed]|\n",
      "|[globus_xio, system, error, send, connection, reset, peer, globus_xio, system, call, failed, connection, reset, peer]                                                                                                                                                      |\n",
      "|[source, checksum, globus_xio, system, error, recv, network, unreachable, globus_xio, system, call, failed, network, unreachable]                                                                                                                                          |\n",
      "+---------------------------------------------------------------------------------------------------------------------------------------------------------------------------------------------------------------------------------------------------------------------------+\n",
      "only showing top 20 rows\n",
      "\n"
     ]
    },
    {
     "name": "stdout",
     "output_type": "stream",
     "text": [
      "+---------------------------------------------------------------------------------------------------------------------------------------------------------------------------------------------------------------------------------------------------------------------------------------------------------------------+\n",
      "|abstract_tokens                                                                                                                                                                                                                                                                                                      |\n",
      "+---------------------------------------------------------------------------------------------------------------------------------------------------------------------------------------------------------------------------------------------------------------------------------------------------------------------+\n",
      "|[error, reported, srm_ifce, 70, [se][ls][srm_internal_error], send2nsd, ns002, recv, error, connection, closed, remote, end]                                                                                                                                                                                         |\n",
      "|[source, checksum, srm-ifce, err, communication, error, send, err, [se][statusofgetrequest][], $URL, /srm/managerv2, cgsi-gsoap, running, $ADDRESS, reports, error, reading, token, data, header, connection, reset, peer]                                                                                           |\n",
      "|[source, checksum, srm-ifce, err, communication, error, send, err, [se][ls][], $URL, /srm/managerv2, cgsi-gsoap, running, $ADDRESS, reports, error, reading, token, data, header, connection, reset, peer]                                                                                                           |\n",
      "|[srm-ifce, err, communication, error, send, err, [se][ls][], $URL, /srm/managerv2, cgsi-gsoap, running, $ADDRESS, reports, error, reading, token, data, header, connection, closed]                                                                                                                                  |\n",
      "|[source, srm_get_turl, srm-ifce, err, communication, error, send, err, [se][preparetoget][], $URL, /srm/managerv2, cgsi-gsoap, running, $ADDRESS, reports, error, reading, token, data, header, connection, closed]                                                                                                  |\n",
      "|[source, srm_get_turl, srm-ifce, err, communication, error, send, err, [se][preparetoget][], $URL, /srm/managerv2, cgsi-gsoap, running, $ADDRESS, reports, error, reading, token, data, header, connection, reset, peer]                                                                                             |\n",
      "|[destination, checksum, srm-ifce, err, communication, error, send, err, [se][statusofgetrequest][], $URL, /srm/managerv2, cgsi-gsoap, running, $ADDRESS, reports, error, reading, token, data, header, connection, reset, peer]                                                                                      |\n",
      "|[destination, overwrite, srm-ifce, err, communication, error, send, err, [se][srmrm][], $URL, /srm/managerv2, cgsi-gsoap, running, $ADDRESS, reports, error, reading, token, data, header, connection, closed]                                                                                                       |\n",
      "|[[gfal2_stat][gfal_plugin_statg][gfal_srm_statg][gfal_statg_srmv2__generic_internal][gfal_srm_ls_internal][gfal_srm_report_error], srm-ifce, err, communication, error, send, err, [se][ls][], $URL, /srm/managerv2, cgsi-gsoap, running, $ADDRESS, reports, error, reading, token, data, header, connection, closed]|\n",
      "|[destination, srm_put_turl, srm-ifce, err, communication, error, send, err, [se][statusofputrequest][], $URL, /srm/managerv2, cgsi-gsoap, running, $ADDRESS, reports, error, reading, token, data, header, connection, closed]                                                                                       |\n",
      "|[source, checksum, srm-ifce, err, communication, error, send, err, [se][preparetoget][], $URL, /srm/managerv2, cgsi-gsoap, running, $ADDRESS, reports, error, reading, token, data, header, connection, reset, peer]                                                                                                 |\n",
      "|[source, checksum, srm-ifce, err, communication, error, send, err, [se][ls][], $URL, /srm/managerv2, cgsi-gsoap, running, $ADDRESS, reports, error, reading, token, data, header, connection, closed]                                                                                                                |\n",
      "|[destination, make_parent, srm-ifce, err, communication, error, send, err, [se][mkdir][], $URL, /srm/managerv2, cgsi-gsoap, running, $ADDRESS, reports, error, reading, token, data, header, connection, reset, peer]                                                                                                |\n",
      "|[srm-ifce, err, communication, error, send, err, [se][ls][], $URL, /srm/managerv2, cgsi-gsoap, running, $ADDRESS, reports, error, reading, token, data, header, connection, reset, peer]                                                                                                                             |\n",
      "|[source, srm_get_turl, srm-ifce, err, communication, error, send, err, [se][statusofgetrequest][], $URL, /srm/managerv2, cgsi-gsoap, running, $ADDRESS, reports, error, reading, token, data, header, connection, reset, peer]                                                                                       |\n",
      "|[source, srm_get_turl, srm-ifce, err, communication, error, send, err, [se][statusofgetrequest][], $URL, /srm/managerv2, cgsi-gsoap, running, $ADDRESS, reports, error, reading, token, data, header, connection, closed]                                                                                            |\n",
      "|[destination, checksum, srm-ifce, err, communication, error, send, err, [se][preparetoget][], $URL, /srm/managerv2, cgsi-gsoap, running, $ADDRESS, reports, error, reading, token, data, header, connection, closed]                                                                                                 |\n",
      "|[destination, overwrite, srm-ifce, err, communication, error, send, err, [se][srmrm][], $URL, /srm/managerv2, cgsi-gsoap, running, $ADDRESS, reports, error, reading, token, data, header, connection, reset, peer]                                                                                                  |\n",
      "|[srm-ifce, err, communication, error, send, err, [se][statusoflsrequest][], $URL, /srm/managerv2, cgsi-gsoap, running, $ADDRESS, reports, error, reading, token, data, header, connection, closed]                                                                                                                   |\n",
      "|[destination, srm_putdone, call, srm_ifce, error, [se][putdone][], $URL, /srm/managerv2, cgsi-gsoap, running, $ADDRESS, reports, error, reading, token, data, header, connection, reset, peer]                                                                                                                       |\n",
      "+---------------------------------------------------------------------------------------------------------------------------------------------------------------------------------------------------------------------------------------------------------------------------------------------------------------------+\n",
      "only showing top 20 rows\n",
      "\n",
      "+--------------------------------------------------------------------------------------------------------------------------------------------------------------+\n",
      "|abstract_tokens                                                                                                                                               |\n",
      "+--------------------------------------------------------------------------------------------------------------------------------------------------------------+\n",
      "|[transfer, globus_ftp_client, server, responded, error, 451, general, problem, problem, connected, $ADDRESS, la, xarxa, inabastable]                          |\n",
      "|[transfer, globus_ftp_client, server, responded, error, 451, general, problem, problem, connected, $IPv6, connection, timed]                                  |\n",
      "|[transfer, globus_ftp_client, server, responded, error, 451, general, problem, problem, connected, $IPv6, input/output, error]                                |\n",
      "|[transfer, globus_ftp_client, server, responded, error, 451, general, problem, problem, connected, $ADDRESS, connection, reset, peer]                         |\n",
      "|[transfer, globus_ftp_client, server, responded, error, 451, general, problem, problem, connected, $ADDRESS, la, m, quina, remota, ha, reiniciat, la, connexi]|\n",
      "|[transfer, globus_ftp_client, server, responded, error, 451, general, problem, problem, connected, $ADDRESS, network, unreachable]                            |\n",
      "|[transfer, globus_ftp_client, server, responded, error, 451, general, problem, failed, connect, $IPv6, route, host]                                           |\n",
      "|[transfer, globus_ftp_client, server, responded, error, 451, general, problem, failed, connect, $IPv6, connection, timed]                                     |\n",
      "|[transfer, globus_ftp_client, server, responded, error, 451, general, problem, problem, connected, $IPv6, network, unreachable]                               |\n",
      "|[transfer, globus_ftp_client, server, responded, error, 451, general, problem, problem, connected, $ADDRESS, broken, pipe]                                    |\n",
      "|[transfer, globus_ftp_client, server, responded, error, 451, general, problem, problem, connected, $IPv6, broken, pipe]                                       |\n",
      "|[transfer, globus_ftp_client, server, responded, error, 451, general, problem, stream, closed, middle, block]                                                 |\n",
      "|[transfer, globus_ftp_client, server, responded, error, 451, general, problem, $ADDRESS]                                                                      |\n",
      "|[transfer, globus_ftp_client, server, responded, error, 451, general, problem, failed, connect, $ADDRESS, route, host]                                        |\n",
      "|[transfer, globus_ftp_client, server, responded, error, 451, general, problem, failed, connect, $ADDRESS, la, connexi, ha, expirat]                           |\n",
      "|[transfer, globus_ftp_client, server, responded, error, 451, general, problem, failed, connect, $ADDRESS, connection, timed]                                  |\n",
      "|[transfer, globus_ftp_client, server, responded, error, 451, general, problem, problem, connected, $ADDRESS, la, connexi, ha, expirat]                        |\n",
      "|[transfer, globus_ftp_client, server, responded, error, 451, general, problem, problem, connected, $IPv6, connection, reset, peer]                            |\n",
      "|[transfer, globus_ftp_client, server, responded, error, 451, general, problem, stream, ended, eod]                                                            |\n",
      "|[transfer, globus_ftp_client, server, responded, error, 451, general, problem, failed, connect, $ADDRESS, connection, refused]                                |\n",
      "+--------------------------------------------------------------------------------------------------------------------------------------------------------------+\n",
      "only showing top 20 rows\n",
      "\n"
     ]
    }
   ],
   "source": [
    "clust_ids = [\"2\", \"11\", \"5\", \"7\", \"8\", \"1\", \"4\", \"0\", \"12\", \"10\"]\n",
    "\n",
    "data_subset = clustering_model[0].summary.predictions.withColumn(\"abstract_tokens\", abstract_address_udf(\"stop_token_1\"))\n",
    "\n",
    "\n",
    "for clust_id in clust_ids:\n",
    "    cluster = data_subset.filter(\"prediction == {}\".format(clust_id))\n",
    "    \n",
    "    cluster_unique_messages = cluster.select(\"abstract_tokens\").distinct()\n",
    "    cluster_unique_messages.show(truncate=False)"
   ]
  },
  {
   "cell_type": "code",
   "execution_count": null,
   "metadata": {
    "ExecuteTime": {
     "start_time": "2019-11-22T07:15:01.634Z"
    }
   },
   "outputs": [
    {
     "name": "stdout",
     "output_type": "stream",
     "text": [
      "+---------------------------------------------------------------------------------------------------------------------------------------------------------------------------+\n",
      "|t__error_message                                                                                                                                                           |\n",
      "+---------------------------------------------------------------------------------------------------------------------------------------------------------------------------+\n",
      "|DESTINATION CHECKSUM globus_ftp_client: the server responded with an error 421 Idle Timeout: closing control connection.                                                   |\n",
      "|globus_ftp_client: the server responded with an error 421 Service busy: Connection limit exceeded. Please try again later. Closing control connection.                     |\n",
      "|globus_ftp_client: the server responded with an error 421 Idle Timeout: closing control connection.                                                                        |\n",
      "|TRANSFER  globus_ftp_client: the server responded with an error 421 Idle Timeout: closing control connection.                                                              |\n",
      "|TRANSFER  globus_ftp_client: the server responded with an error 421 Service busy: Connection limit exceeded. Please try again later. Closing control connection.           |\n",
      "|SOURCE CHECKSUM globus_ftp_client: the server responded with an error 421 Idle Timeout: closing control connection.                                                        |\n",
      "|DESTINATION CHECKSUM globus_ftp_client: the server responded with an error 421 Service busy: Connection limit exceeded. Please try again later. Closing control connection.|\n",
      "+---------------------------------------------------------------------------------------------------------------------------------------------------------------------------+\n",
      "\n",
      "+------------------------------------------------------------------------------------------------------------------------------------------------------------------------------------+\n",
      "|t__error_message                                                                                                                                                                    |\n",
      "+------------------------------------------------------------------------------------------------------------------------------------------------------------------------------------+\n",
      "|TRANSFER  globus_ftp_client: the server responded with an error 451 General problem: Problem while connected to [2001:630:58:1820::82f6:b093]:53517: ClosedChannelException         |\n",
      "|TRANSFER  globus_ftp_client: the server responded with an error 451 General problem: Problem while connected to [2001:630:58:1820::82f6:b0f7]:52131: ClosedChannelException         |\n",
      "|TRANSFER  globus_ftp_client: the server responded with an error 451 General problem: Problem while connected to [2620:0:210:1::e9]:42980: ClosedChannelException                    |\n",
      "|TRANSFER  globus_ftp_client: the server responded with an error 451 General problem: Problem while connected to [2620:0:210:1::f1]:32721: ClosedChannelException                    |\n",
      "|TRANSFER  globus_ftp_client: the server responded with an error 451 General problem: Problem while connected to [2620:0:210:1::de]:46487: ClosedChannelException                    |\n",
      "|TRANSFER  globus_ftp_client: the server responded with an error 451 General problem: Problem while connected to [2620:0:210:1::ea]:44341: ClosedChannelException                    |\n",
      "|TRANSFER  globus_ftp_client: the server responded with an error 451 General problem: Problem while connected to [2607:f8f0:660:3::22]:24916: ClosedChannelException                 |\n",
      "|TRANSFER  globus_ftp_client: the server responded with an error 451 General problem: Problem while connected to [2620:0:210:1::e7]:32216: ClosedChannelException                    |\n",
      "|TRANSFER  globus_ftp_client: the server responded with an error 451 General problem: Problem while connected to [2001:1458:301:80::100:a]:20554: ClosedChannelException             |\n",
      "|TRANSFER  globus_ftp_client: the server responded with an error 451 General problem: Problem while connected to [2620:0:210:1::e9]:26569: ClosedChannelException                    |\n",
      "|TRANSFER  globus_ftp_client: the server responded with an error 451 General problem: Problem while connected to [2001:630:22:d0ff:b226:28ff:fe52:620a]:20108: ClosedChannelException|\n",
      "|TRANSFER  globus_ftp_client: the server responded with an error 451 General problem: Problem while connected to [2620:0:210:1::e7]:27208: ClosedChannelException                    |\n",
      "|TRANSFER  globus_ftp_client: the server responded with an error 451 General problem: Problem while connected to [2620:0:210:1::e7]:40226: ClosedChannelException                    |\n",
      "|TRANSFER  globus_ftp_client: the server responded with an error 451 General problem: Problem while connected to [2620:0:210:1::e4]:37700: ClosedChannelException                    |\n",
      "|TRANSFER  globus_ftp_client: the server responded with an error 451 General problem: Problem while connected to [2001:638:700:10c0::1:8c]:22346: ClosedChannelException             |\n",
      "|TRANSFER  globus_ftp_client: the server responded with an error 451 General problem: Problem while connected to [2620:0:210:1::dd]:32261: ClosedChannelException                    |\n",
      "|TRANSFER  globus_ftp_client: the server responded with an error 451 General problem: Problem while connected to [2607:f8f0:660:3::30]:22841: ClosedChannelException                 |\n",
      "|TRANSFER  globus_ftp_client: the server responded with an error 451 General problem: Problem while connected to [2620:0:210:1::f0]:36767: ClosedChannelException                    |\n",
      "|TRANSFER  globus_ftp_client: the server responded with an error 451 General problem: Problem while connected to [2620:0:210:1::e9]:24371: ClosedChannelException                    |\n",
      "|TRANSFER  globus_ftp_client: the server responded with an error 451 General problem: Problem while connected to [2607:f8f0:660:3::48]:20284: ClosedChannelException                 |\n",
      "+------------------------------------------------------------------------------------------------------------------------------------------------------------------------------------+\n",
      "only showing top 20 rows\n",
      "\n",
      "+----------------------------------------------------------------------------------------------------------------------------------------------------------------------------------------------------------+\n",
      "|t__error_message                                                                                                                                                                                          |\n",
      "+----------------------------------------------------------------------------------------------------------------------------------------------------------------------------------------------------------+\n",
      "|DESTINATION CHECKSUM globus_ftp_client: the server responded with an error 500 Internal server error                                                                                                      |\n",
      "|DESTINATION CHECKSUM globus_ftp_client: the server responded with an error 500 error: commands denied                                                                                                     |\n",
      "|globus_ftp_client: the server responded with an error 500 Object /atlas:datadisk/rucio/mc16_13TeV/ed/ea/AOD.18210857._000870.pool.root.1 does not exist, cannot return a checksum error: No data available|\n",
      "|DESTINATION CHECKSUM globus_ftp_client: the server responded with an error 500 Command failed : Internal server error                                                                                     |\n",
      "|SOURCE CHECKSUM globus_ftp_client: the server responded with an error 500 error: commands denied                                                                                                          |\n",
      "|SOURCE CHECKSUM globus_ftp_client: the server responded with an error 500 Command failed : error: commands denied                                                                                         |\n",
      "|SOURCE CHECKSUM globus_ftp_client: the server responded with an error 500 500-Internal server error  500-  500 End.                                                                                       |\n",
      "|DESTINATION CHECKSUM globus_ftp_client: the server responded with an error 500 500-Internal server error  500-  500 End.                                                                                  |\n",
      "|DESTINATION CHECKSUM globus_ftp_client: the server responded with an error 500 an unknown error occurred                                                                                                  |\n",
      "+----------------------------------------------------------------------------------------------------------------------------------------------------------------------------------------------------------+\n",
      "\n"
     ]
    },
    {
     "name": "stdout",
     "output_type": "stream",
     "text": [
      "+--------------------------------------------------------------------------------------------------------------------------------------------------------------------------------------------------------------------------------------------+\n",
      "|t__error_message                                                                                                                                                                                                                            |\n",
      "+--------------------------------------------------------------------------------------------------------------------------------------------------------------------------------------------------------------------------------------------+\n",
      "|srm-ifce err: Communication error on send, err: [SE][Ls][] httpg://dcache-se-atlas.desy.de:8443/srm/managerv2: CGSI-gSOAP running on lcgfts07.gridpp.rl.ac.uk reports could not open connection to dcache-se-atlas.desy.de:8443             |\n",
      "|srm-ifce err: Communication error on send, err: [SE][Ls][] httpg://se-iep-grid.saske.sk:8443/srm/managerv2: CGSI-gSOAP running on lcgfts01.gridpp.rl.ac.uk reports could not open connection to se-iep-grid.saske.sk:8443                   |\n",
      "|srm-ifce err: Communication error on send, err: [SE][Ls][] httpg://head01.aglt2.org:8443/srm/managerv2: CGSI-gSOAP running on lcgfts09.gridpp.rl.ac.uk reports could not open connection to head01.aglt2.org:8443                           |\n",
      "|SOURCE CHECKSUM srm-ifce err: Communication error on send, err: [SE][Ls][] httpg://lapp-se01.in2p3.fr:8446/srm/managerv2: CGSI-gSOAP running on fts120.cern.ch reports could not open connection to lapp-se01.in2p3.fr:8446                 |\n",
      "|srm-ifce err: Communication error on send, err: [SE][Ls][] httpg://dpm.lhep.unibe.ch:8446/srm/managerv2: CGSI-gSOAP running on fts814.cern.ch reports could not open connection to dpm.lhep.unibe.ch:8446                                   |\n",
      "|srm-ifce err: Communication error on send, err: [SE][Ls][] httpg://cmssrm-kit.gridka.de:8443/srm/managerv2: CGSI-gSOAP running on lcgfts08.gridpp.rl.ac.uk reports could not open connection to cmssrm-kit.gridka.de:8443                   |\n",
      "|srm-ifce err: Communication error on send, err: [SE][Ls][] httpg://storage01.lcg.cscs.ch:8443/srm/managerv2: CGSI-gSOAP running on lcgfts07.gridpp.rl.ac.uk reports could not open connection to storage01.lcg.cscs.ch:8443                 |\n",
      "|srm-ifce err: Communication error on send, err: [SE][Ls][] httpg://srm.grid.sara.nl:8443/srm/managerv2: CGSI-gSOAP running on lcgfts07.gridpp.rl.ac.uk reports could not open connection to srm.grid.sara.nl:8443                           |\n",
      "|srm-ifce err: Communication error on send, err: [SE][Ls][] httpg://madhatter.csc.fi:8443/srm/managerv2: CGSI-gSOAP running on lcgfts09.gridpp.rl.ac.uk reports could not open connection to madhatter.csc.fi:8443                           |\n",
      "|srm-ifce err: Communication error on send, err: [SE][Ls][] httpg://srm.ihep.ac.cn:8443/srm/managerv2: CGSI-gSOAP running on lcgfts05.gridpp.rl.ac.uk reports could not open connection to srm.ihep.ac.cn:8443                               |\n",
      "|srm-ifce err: Communication error on send, err: [SE][Ls][] httpg://pcncp22.ncp.edu.pk:8446/srm/managerv2: CGSI-gSOAP running on lcgfts01.gridpp.rl.ac.uk reports could not open connection to pcncp22.ncp.edu.pk:8446                       |\n",
      "|srm-ifce err: Communication error on send, err: [SE][Ls][] httpg://castorpublic.cern.ch:8443/srm/managerv2: CGSI-gSOAP running on fts500.cern.ch reports could not open connection to castorpublic.cern.ch:8443                             |\n",
      "|srm-ifce err: Communication error on send, err: [SE][Ls][] httpg://node12.datagrid.cea.fr:8446/srm/managerv2: CGSI-gSOAP running on fts436.cern.ch reports could not open connection to node12.datagrid.cea.fr:8446                         |\n",
      "|srm-ifce err: Communication error on send, err: [SE][Ls][] httpg://head01.aglt2.org:8443/srm/managerv2: CGSI-gSOAP running on fts811.cern.ch reports could not open connection to head01.aglt2.org:8443                                     |\n",
      "|DESTINATION OVERWRITE srm-ifce err: Communication error on send, err: [SE][srmRm][] httpg://se01.grid.nchc.org.tw:8446/srm/managerv2: CGSI-gSOAP running on fts438.cern.ch reports could not open connection to se01.grid.nchc.org.tw:8446  |\n",
      "|SOURCE CHECKSUM srm-ifce err: Communication error on send, err: [SE][Ls][] httpg://lpnse1.in2p3.fr:8446/srm/managerv2: CGSI-gSOAP running on fts801.cern.ch reports could not open connection to lpnse1.in2p3.fr:8446                       |\n",
      "|SOURCE CHECKSUM srm-ifce err: Communication error on send, err: [SE][Ls][] httpg://lapp-se01.in2p3.fr:8446/srm/managerv2: CGSI-gSOAP running on fts808.cern.ch reports could not open connection to lapp-se01.in2p3.fr:8446                 |\n",
      "|DESTINATION OVERWRITE srm-ifce err: Communication error on send, err: [SE][srmRm][] httpg://node12.datagrid.cea.fr:8446/srm/managerv2: CGSI-gSOAP running on fts706.cern.ch reports could not open connection to node12.datagrid.cea.fr:8446|\n",
      "|srm-ifce err: Communication error on send, err: [SE][Ls][] httpg://srm-eoslhcb.cern.ch:8443/srm/v2/server: CGSI-gSOAP running on lcgfts02.gridpp.rl.ac.uk reports could not open connection to srm-eoslhcb.cern.ch:8443                     |\n",
      "|srm-ifce err: Communication error on send, err: [SE][Ls][] httpg://hepgrid11.ph.liv.ac.uk:8446/srm/managerv2: CGSI-gSOAP running on lcgfts01.gridpp.rl.ac.uk reports could not open connection to hepgrid11.ph.liv.ac.uk:8446               |\n",
      "+--------------------------------------------------------------------------------------------------------------------------------------------------------------------------------------------------------------------------------------------+\n",
      "only showing top 20 rows\n",
      "\n",
      "+-------------------------------------------------------------------------------------------------------------------------------------------------------------------------------------------------------------------------------------------------------------------------------------------------------------------------------------------------------------------------------------------------------------------------------------------------------+\n",
      "|t__error_message                                                                                                                                                                                                                                                                                                                                                                                                                                       |\n",
      "+-------------------------------------------------------------------------------------------------------------------------------------------------------------------------------------------------------------------------------------------------------------------------------------------------------------------------------------------------------------------------------------------------------------------------------------------------------+\n",
      "|TRANSFER  globus_ftp_client: the server responded with an error 530 Login failed: Failed to deliver LoginMessage message <1570439856689:7567214> to [>gplazma-vorolemap@local]: Communication failure. Message could not be delivered.                                                                                                                                                                                                                 |\n",
      "|TRANSFER  globus_ftp_client: the server responded with an error 500 Command failed. : open : [ERROR] Server responded with an error: [3014] Unable to open file  /eos/atlas/atlasdatadisk/rucio/mc16_13TeV/0d/9e/DAOD_FTAG4.19349206._000108.pool.root.1; Network is unreachable                                                                                                                                                                       |\n",
      "|TRANSFER  globus_ftp_client: the server responded with an error 500 Command failed. : open : [ERROR] Server responded with an error: [3014] Unable to open file  /eos/atlas/atlasdatadisk/rucio/mc16_13TeV/66/52/AOD.18912453._001581.pool.root.1; Network is unreachable                                                                                                                                                                              |\n",
      "|TRANSFER  globus_ftp_client: the server responded with an error 500 Command failed. : Failed to close file in HDFS. (host=gftp5.hep.kbfi.ee, user=cms, path=/cms/store/data/Run2018A/JetHT/AOD/17Sep2018-v1/110005/4689BF1D-3C1B-2C4F-A0BE-18B6419E87AB.root)                                                                                                                                                                                          |\n",
      "|TRANSFER  globus_ftp_client: the server responded with an error 500 500-Command failed.   500- : an unknown error occurred  500 End.                                                                                                                                                                                                                                                                                                                   |\n",
      "|TRANSFER  globus_ftp_client: the server responded with an error 500 Command failed. : Failed to close file in HDFS. (host=gftp8.hep.kbfi.ee, user=cms, path=/cms/store/data/Run2018A/JetHT/AOD/17Sep2018-v1/60002/C546EDD1-6255-2847-BEA2-60835A6A6ACB.root)                                                                                                                                                                                           |\n",
      "|TRANSFER  globus_ftp_client: the server responded with an error 500 Command failed. : open/create : [ERROR] Server responded with an error: [3009] Unable to get free physical space /eos/cms/store/mc/RunIIWinter19PFCalibDRPremix/DYJetsToMuMu_M-50_TuneCP5_13TeV-madgraphMLM-pythia8/AODSIM/TkAlZMuMuExtendedGeometry_ExtendedZeroMaterial_105X_upgrade2018_realistic_v4-v1/60000/F34EFE31-CEF4-9D47-8583-CDEDA597655D.root; No space left on device|\n",
      "|TRANSFER  globus_ftp_client: the server responded with an error 500 Command failed. : open : [ERROR] Server responded with an error: [3014] Unable to open file  /eos/cms/store/data/Run2018D/ParkingBPH5/RAW-RECO/SkimBPark-05May2019promptD-v1/40007/0230DDE2-A87D-EF4E-83D6-10D6FE126C08.root; Network is unreachable                                                                                                                               |\n",
      "|TRANSFER  globus_ftp_client: the server responded with an error 500 Command failed. : open : [ERROR] Server responded with an error: [3014] Unable to open file  /eos/atlas/atlasdatadisk/rucio/tests/76/69/ESD.0053a31b3cb04bf3a5b3452ed3a02025; Network is unreachable                                                                                                                                                                               |\n",
      "|TRANSFER  globus_ftp_client: the server responded with an error 500 Command failed. : open/create : [ERROR] Server responded with an error: [3009] Unable to get free physical space /eos/eulake/tests/rutests/spb/rain/hammercloud/atlas/testa/rucio/step14/ESD/480/step14.26416.automatix_stream.recon.ESD.480/ESD.f798387d97f84d31bbd0aed841454c64; No space left on device                                                                         |\n",
      "|TRANSFER  globus_ftp_client: the server responded with an error 500 Command failed. : open/create : [FATAL] Invalid address                                                                                                                                                                                                                                                                                                                            |\n",
      "|TRANSFER  globus_ftp_client: the server responded with an error 500 Command failed. : open : [ERROR] Server responded with an error: [3014] Unable to open file  /eos/cms/store/temp/user/beaucero.beb53ad4104a8d6529435a0a873aac0153934b0c/SingleMuon/crab_SingleMuRun2018A/191008_094229/0000/TprimeAnalysis_993.root; Network is unreachable                                                                                                        |\n",
      "|TRANSFER  globus_ftp_client: the server responded with an error 451 Post-processing failed: File size mismatch (expected=1203038846, actual=594018304)                                                                                                                                                                                                                                                                                                 |\n",
      "|TRANSFER  globus_ftp_client: the server responded with an error 500 Command failed. : open : [ERROR] Server responded with an error: [3014] Unable to open file  /eos/cms/store/data/Run2018A/DoubleMuon/MINIAOD/17Sep2018-v2/110000/FBE7615B-19CA-8D41-B18A-C9F51428444F.root; Network is unreachable                                                                                                                                                 |\n",
      "|TRANSFER  globus_ftp_client: the server responded with an error 500 Command failed : Internal server error                                                                                                                                                                                                                                                                                                                                             |\n",
      "|TRANSFER  globus_ftp_client: the server responded with an error 500 Command failed. : open/create : [ERROR] Server responded with an error: [3009] Unable to get free physical space /eos/eulake/tests/rutests/spb/rain/hammercloud/atlas/testa/rucio/step14/ESD/480/step14.26416.automatix_stream.recon.ESD.480/ESD.9cb863e63f8746dca2a667ba6cebd65d; No space left on device                                                                         |\n",
      "|TRANSFER  globus_ftp_client: the server responded with an error 500 Command failed. : Failed to close file in HDFS. (host=gftp6.hep.kbfi.ee, user=cms, path=/cms/store/mc/RunIIFall17MiniAODv2/SMS-T1bbbb_TuneCP2_13TeV-madgraphMLM-pythia8/MINIAODSIM/PUFall17Fast_94X_mc2017_realistic_v15-v1/280000/BC815B72-AC20-E911-B291-FA163E6011FE.root)                                                                                                      |\n",
      "|TRANSFER  globus_ftp_client: the server responded with an error 500 Command failed. : open : [ERROR] Server responded with an error: [3014] Unable to open file  /eos/cms/store/data/Run2018A/DoubleMuon/MINIAOD/17Sep2018-v2/270000/8662A4FD-B070-AF43-9790-06A67DFD9F00.root; Network is unreachable                                                                                                                                                 |\n",
      "|TRANSFER  globus_ftp_client: the server responded with an error 451 Post-processing failed: File size mismatch (expected=1494321571, actual=1283981312)                                                                                                                                                                                                                                                                                                |\n",
      "|TRANSFER  globus_ftp_client: the server responded with an error 500 Command failed. : open : [ERROR] Server responded with an error: [3014] Unable to open file  /eulake/lcg/test/hammercloud/atlas/rucio/mc16_13TeV/3c/ec/log.18787698._003699.job.log.tgz.1; Network is unreachable                                                                                                                                                                  |\n",
      "+-------------------------------------------------------------------------------------------------------------------------------------------------------------------------------------------------------------------------------------------------------------------------------------------------------------------------------------------------------------------------------------------------------------------------------------------------------+\n",
      "only showing top 20 rows\n",
      "\n"
     ]
    }
   ],
   "source": [
    "clust_ids = [\"2\", \"11\", \"5\", \"7\", \"8\", \"1\", \"4\", \"0\", \"12\", \"10\"]\n",
    "\n",
    "data_subset = clustering_model[0].summary.predictions.withColumn(\"abstract_tokens\", abstract_address_udf(\"stop_token_1\"))\n",
    "\n",
    "\n",
    "for clust_id in clust_ids:\n",
    "    cluster = data_subset.filter(\"prediction == {}\".format(clust_id))\n",
    "    \n",
    "    cluster_unique_messages = cluster.select(\"t__error_message\").distinct()\n",
    "    cluster_unique_messages.show(truncate=False)"
   ]
  },
  {
   "cell_type": "code",
   "execution_count": null,
   "metadata": {},
   "outputs": [],
   "source": []
  },
  {
   "cell_type": "code",
   "execution_count": null,
   "metadata": {},
   "outputs": [],
   "source": []
  },
  {
   "cell_type": "code",
   "execution_count": null,
   "metadata": {},
   "outputs": [],
   "source": []
  },
  {
   "cell_type": "markdown",
   "metadata": {},
   "source": [
    "### Training on unique messages "
   ]
  },
  {
   "cell_type": "code",
   "execution_count": 29,
   "metadata": {
    "ExecuteTime": {
     "end_time": "2019-11-22T15:36:05.862694Z",
     "start_time": "2019-11-22T14:47:43.287093Z"
    },
    "scrolled": true
   },
   "outputs": [
    {
     "name": "stdout",
     "output_type": "stream",
     "text": [
      "--- 3 minutes and 0 seconds ---\n",
      "With K=5\n",
      "Within Cluster Sum of Squared Errors = 6022.416697313764\n",
      "Silhouette with cosine distance = 0.7917020196453455\n",
      "------------------------------------------------------------\n",
      "--- 3 minutes and 6 seconds ---\n",
      "With K=6\n",
      "Within Cluster Sum of Squared Errors = 3858.9175073483802\n",
      "Silhouette with cosine distance = 0.8646821971726404\n",
      "------------------------------------------------------------\n",
      "--- 3 minutes and 5 seconds ---\n",
      "With K=7\n",
      "Within Cluster Sum of Squared Errors = 1622.7304427633971\n",
      "Silhouette with cosine distance = 0.9384408632158023\n",
      "------------------------------------------------------------\n",
      "--- 3 minutes and 5 seconds ---\n",
      "With K=8\n",
      "Within Cluster Sum of Squared Errors = 3863.964852243499\n",
      "Silhouette with cosine distance = 0.8467366192836855\n",
      "------------------------------------------------------------\n",
      "--- 3 minutes and 8 seconds ---\n",
      "With K=9\n",
      "Within Cluster Sum of Squared Errors = 1232.6454524799688\n",
      "Silhouette with cosine distance = 0.9559785193086936\n",
      "------------------------------------------------------------\n",
      "--- 3 minutes and 9 seconds ---\n",
      "With K=10\n",
      "Within Cluster Sum of Squared Errors = 1311.5369244616327\n",
      "Silhouette with cosine distance = 0.9387476175867343\n",
      "------------------------------------------------------------\n",
      "--- 3 minutes and 15 seconds ---\n",
      "With K=11\n",
      "Within Cluster Sum of Squared Errors = 1010.3641143899819\n",
      "Silhouette with cosine distance = 0.9532000234685074\n",
      "------------------------------------------------------------\n",
      "--- 3 minutes and 4 seconds ---\n",
      "With K=12\n",
      "Within Cluster Sum of Squared Errors = 1030.8195810295279\n",
      "Silhouette with cosine distance = 0.9366732072171284\n",
      "------------------------------------------------------------\n",
      "--- 3 minutes and 1 seconds ---\n",
      "With K=13\n",
      "Within Cluster Sum of Squared Errors = 933.5491404251081\n",
      "Silhouette with cosine distance = 0.941303306849165\n",
      "------------------------------------------------------------\n",
      "--- 3 minutes and 16 seconds ---\n",
      "With K=14\n",
      "Within Cluster Sum of Squared Errors = 916.9968698281824\n",
      "Silhouette with cosine distance = 0.8308925038984704\n",
      "------------------------------------------------------------\n",
      "--- 3 minutes and 30 seconds ---\n",
      "With K=15\n",
      "Within Cluster Sum of Squared Errors = 901.6355533384739\n",
      "Silhouette with cosine distance = 0.8315127014846461\n",
      "------------------------------------------------------------\n",
      "--- 3 minutes and 32 seconds ---\n",
      "With K=16\n",
      "Within Cluster Sum of Squared Errors = 748.7725960087369\n",
      "Silhouette with cosine distance = 0.8058604532130615\n",
      "------------------------------------------------------------\n",
      "--- 3 minutes and 20 seconds ---\n",
      "With K=17\n",
      "Within Cluster Sum of Squared Errors = 724.7787015688439\n",
      "Silhouette with cosine distance = 0.9540319868486495\n",
      "------------------------------------------------------------\n",
      "--- 3 minutes and 20 seconds ---\n",
      "With K=18\n",
      "Within Cluster Sum of Squared Errors = 733.1823736178\n",
      "Silhouette with cosine distance = 0.9475152329659264\n",
      "------------------------------------------------------------\n",
      "--- 3 minutes and 24 seconds ---\n",
      "With K=19\n",
      "Within Cluster Sum of Squared Errors = 662.5045563986156\n",
      "Silhouette with cosine distance = 0.8400971911870976\n",
      "------------------------------------------------------------\n",
      "CPU times: user 9.88 s, sys: 5.39 s, total: 15.3 s\n",
      "Wall time: 48min 22s\n"
     ]
    }
   ],
   "source": [
    "%%time\n",
    "\n",
    "import time\n",
    "\n",
    "# Evaluate clustering by computing Silhouette score\n",
    "evaluator = ClusteringEvaluator(distanceMeasure=\"cosine\")\n",
    "\n",
    "kmeans_models = []\n",
    "clustering_model = []\n",
    "wsse = []\n",
    "silhouette = []\n",
    "\n",
    "\n",
    "k_list = []\n",
    "for i, k in enumerate(range(5,20)):\n",
    "    k_list.append(k)\n",
    "    \n",
    "    start_time = time.time()\n",
    "    print(\"Started at: {}\\n\".format())\n",
    "    \n",
    "    kmeans_models.append(KMeans(featuresCol='features',k=k, initMode='k-means||',\n",
    "    initSteps=10, tol=0.0001, maxIter=30, distanceMeasure='cosine'))\n",
    "    clustering_model.append(kmeans_models[i].fit(train_data))\n",
    "    \n",
    "    # compute metrics   \n",
    "    wsse.append(clustering_model[i].summary.trainingCost)\n",
    "    silhouette.append(evaluator.evaluate(clustering_model[i].summary.predictions))\n",
    "    \n",
    "    \n",
    "    print(\"With K={}\".format(k))\n",
    "    print(\"Within Cluster Sum of Squared Errors = \" + str(wsse[i]))\n",
    "    print(\"Silhouette with cosine distance = \" + str(silhouette[i]))\n",
    "    \n",
    "    print(\"\\nTime elapsed: {} minutes and {} seconds.\".format(int((time.time() - start_time)/60), int((time.time() - start_time)%60)))\n",
    "    print('--'*30)"
   ]
  },
  {
   "cell_type": "code",
   "execution_count": 41,
   "metadata": {
    "ExecuteTime": {
     "end_time": "2019-11-22T16:08:25.567577Z",
     "start_time": "2019-11-22T15:45:09.070910Z"
    },
    "scrolled": true
   },
   "outputs": [
    {
     "name": "stdout",
     "output_type": "stream",
     "text": [
      "Started at: 2019-11-22 16:45:09\n",
      "\n",
      "With K=5\n",
      "Within Cluster Sum of Squared Errors = 6022.416697313764\n",
      "Silhouette with cosine distance = 0.7917020196453455\n",
      "\n",
      "Time elapsed: 6 minutes and 32 seconds.\n",
      "------------------------------------------------------------\n",
      "Started at: 2019-11-22 16:51:41\n",
      "\n",
      "With K=8\n",
      "Within Cluster Sum of Squared Errors = 3863.964852243498\n",
      "Silhouette with cosine distance = 0.8467366192836855\n",
      "\n",
      "Time elapsed: 3 minutes and 14 seconds.\n",
      "------------------------------------------------------------\n",
      "Started at: 2019-11-22 16:54:55\n",
      "\n",
      "With K=11\n",
      "Within Cluster Sum of Squared Errors = 1010.3641143899819\n",
      "Silhouette with cosine distance = 0.9532000234685074\n",
      "\n",
      "Time elapsed: 3 minutes and 17 seconds.\n",
      "------------------------------------------------------------\n",
      "Started at: 2019-11-22 16:58:13\n",
      "\n",
      "With K=14\n",
      "Within Cluster Sum of Squared Errors = 916.9968698281824\n",
      "Silhouette with cosine distance = 0.8308925038984704\n",
      "\n",
      "Time elapsed: 3 minutes and 29 seconds.\n",
      "------------------------------------------------------------\n",
      "Started at: 2019-11-22 17:01:43\n",
      "\n",
      "With K=17\n",
      "Within Cluster Sum of Squared Errors = 724.7787015688439\n",
      "Silhouette with cosine distance = 0.9540319868486495\n",
      "\n",
      "Time elapsed: 3 minutes and 24 seconds.\n",
      "------------------------------------------------------------\n",
      "Started at: 2019-11-22 17:05:07\n",
      "\n",
      "With K=20\n",
      "Within Cluster Sum of Squared Errors = 610.2684920164127\n",
      "Silhouette with cosine distance = 0.9596071243124423\n",
      "\n",
      "Time elapsed: 3 minutes and 17 seconds.\n",
      "------------------------------------------------------------\n",
      "CPU times: user 4.77 s, sys: 2.64 s, total: 7.42 s\n",
      "Wall time: 23min 16s\n"
     ]
    }
   ],
   "source": [
    "%%time\n",
    "\n",
    "import time\n",
    "import datetime\n",
    "\n",
    "# Evaluate clustering by computing Silhouette score\n",
    "evaluator = ClusteringEvaluator(distanceMeasure=\"cosine\")\n",
    "\n",
    "kmeans_models = []\n",
    "clustering_model = []\n",
    "wsse = []\n",
    "silhouette = []\n",
    "\n",
    "\n",
    "k_list = []\n",
    "for i, k in enumerate(range(5,21,3)):\n",
    "    k_list.append(k)\n",
    "    \n",
    "    start_time = time.time()\n",
    "    start_time_string = datetime.datetime.fromtimestamp(start_time).strftime('%Y-%m-%d %H:%M:%S')\n",
    "    print(\"Started at: {}\\n\".format(start_time_string))\n",
    "    \n",
    "    kmeans_models.append(KMeans(featuresCol='features',k=k, initMode='k-means||',\n",
    "    initSteps=10, tol=0.0001, maxIter=30, distanceMeasure='cosine'))\n",
    "    clustering_model.append(kmeans_models[i].fit(train_data))\n",
    "    \n",
    "    # compute metrics   \n",
    "    wsse.append(clustering_model[i].summary.trainingCost)\n",
    "    silhouette.append(evaluator.evaluate(clustering_model[i].summary.predictions))\n",
    "    \n",
    "    \n",
    "    print(\"With K={}\".format(k))\n",
    "    print(\"Within Cluster Sum of Squared Errors = \" + str(wsse[i]))\n",
    "    print(\"Silhouette with cosine distance = \" + str(silhouette[i]))\n",
    "    \n",
    "    print(\"\\nTime elapsed: {} minutes and {} seconds.\".format(int((time.time() - start_time)/60), int((time.time() - start_time)%60)))\n",
    "    print('--'*30)"
   ]
  },
  {
   "cell_type": "code",
   "execution_count": 48,
   "metadata": {
    "ExecuteTime": {
     "end_time": "2019-11-22T16:10:52.864298Z",
     "start_time": "2019-11-22T16:10:52.406555Z"
    }
   },
   "outputs": [
    {
     "data": {
      "image/png": "[encoded data removed]",
      "text/plain": [
       "<Figure size 1584x432 with 2 Axes>"
      ]
     },
     "metadata": {},
     "output_type": "display_data"
    }
   ],
   "source": [
    "import numpy as np\n",
    "from matplotlib import pyplot as plt\n",
    "\n",
    "fig = plt.figure(figsize=(22,6))\n",
    "\n",
    "best_K_wsse = np.argmin(wsse)\n",
    "best_K_silhouette = np.argmax(silhouette)\n",
    "\n",
    "_ = plt.subplot(1,2,1)\n",
    "_ = plt.plot(k_list, np.log(wsse),'-D', markevery=[best_K_wsse], markerfacecolor='red', markersize=12)\n",
    "# _ = plt.Circle(xy=(16,16257), radius=3, color=\"red\")\n",
    "_ = plt.xlabel(\"K\")\n",
    "_ = plt.ylabel(\"log(WSSE)\")\n",
    "_ = plt.xticks(k_list)\n",
    "_ = plt.title(\"Within Groups Sum of Squares\")\n",
    "\n",
    "_ = plt.subplot(1,2,2)\n",
    "_ = plt.plot(k_list, silhouette,'-D', markevery=[best_K_silhouette], markerfacecolor='red', markersize=12)\n",
    "_ = plt.xlabel(\"K\")\n",
    "_ = plt.ylabel(\"ASW\")\n",
    "_ = plt.xticks(k_list)\n",
    "_ = plt.title(\"Average Silhouette Width\")\n",
    "plt.show()"
   ]
  },
  {
   "cell_type": "markdown",
   "metadata": {},
   "source": [
    "#### Posterior checks "
   ]
  },
  {
   "cell_type": "code",
   "execution_count": 113,
   "metadata": {
    "ExecuteTime": {
     "end_time": "2019-11-18T13:00:26.568599Z",
     "start_time": "2019-11-18T13:00:24.471667Z"
    }
   },
   "outputs": [],
   "source": [
    "# from pyspark.ml.clustering import KMeansModel\n",
    "\n",
    "# clustering_model = []\n",
    "# for k in [4,8,12]:\n",
    "#     clustering_model.append(KMeansModel.load(\"kmeans_k{}_trained\".format(k)))"
   ]
  },
  {
   "cell_type": "code",
   "execution_count": 49,
   "metadata": {
    "ExecuteTime": {
     "end_time": "2019-11-22T16:18:33.033895Z",
     "start_time": "2019-11-22T16:18:32.720260Z"
    },
    "scrolled": true
   },
   "outputs": [
    {
     "name": "stdout",
     "output_type": "stream",
     "text": [
      "\n",
      "\n",
      "kmeans: K = 5\n",
      "Maximum number of iterations: 2\n",
      "Cluster sizes:\n",
      "(1, 77714)\n",
      "(2, 37277)\n",
      "(0, 36580)\n",
      "(3, 17321)\n",
      "(4, 5028)\n",
      "\n",
      "\n",
      "kmeans: K = 8\n",
      "Maximum number of iterations: 2\n",
      "Cluster sizes:\n",
      "(1, 77737)\n",
      "(3, 52540)\n",
      "(0, 17269)\n",
      "(5, 16223)\n",
      "(6, 4870)\n",
      "(4, 2401)\n",
      "(7, 1723)\n",
      "(2, 1157)\n",
      "\n",
      "\n",
      "kmeans: K = 11\n",
      "Maximum number of iterations: 4\n",
      "Cluster sizes:\n",
      "(1, 77712)\n",
      "(3, 31856)\n",
      "(0, 20126)\n",
      "(2, 17255)\n",
      "(5, 16214)\n",
      "(4, 4549)\n",
      "(6, 2401)\n",
      "(8, 1721)\n",
      "(10, 1204)\n",
      "(9, 557)\n",
      "(7, 325)\n",
      "\n",
      "\n",
      "kmeans: K = 14\n",
      "Maximum number of iterations: 2\n",
      "Cluster sizes:\n",
      "(1, 77697)\n",
      "(4, 20449)\n",
      "(0, 20127)\n",
      "(2, 17255)\n",
      "(5, 16214)\n",
      "(13, 11745)\n",
      "(3, 4546)\n",
      "(7, 1942)\n",
      "(10, 1061)\n",
      "(6, 1045)\n",
      "(8, 618)\n",
      "(9, 520)\n",
      "(11, 379)\n",
      "(12, 322)\n",
      "\n",
      "\n",
      "kmeans: K = 17\n",
      "Maximum number of iterations: 2\n",
      "Cluster sizes:\n",
      "(1, 77697)\n",
      "(4, 31686)\n",
      "(0, 20110)\n",
      "(2, 17255)\n",
      "(5, 16214)\n",
      "(3, 3868)\n",
      "(15, 1942)\n",
      "(9, 1564)\n",
      "(10, 657)\n",
      "(7, 618)\n",
      "(8, 552)\n",
      "(12, 486)\n",
      "(6, 443)\n",
      "(11, 322)\n",
      "(16, 237)\n",
      "(14, 143)\n",
      "(13, 126)\n",
      "\n",
      "\n",
      "kmeans: K = 20\n",
      "Maximum number of iterations: 5\n",
      "Cluster sizes:\n",
      "(1, 76307)\n",
      "(2, 31671)\n",
      "(0, 20045)\n",
      "(4, 17252)\n",
      "(5, 16214)\n",
      "(3, 4420)\n",
      "(7, 1942)\n",
      "(15, 1562)\n",
      "(18, 1412)\n",
      "(10, 779)\n",
      "(17, 615)\n",
      "(12, 486)\n",
      "(11, 318)\n",
      "(16, 237)\n",
      "(6, 208)\n",
      "(14, 143)\n",
      "(13, 126)\n",
      "(9, 88)\n",
      "(19, 59)\n",
      "(8, 36)\n"
     ]
    }
   ],
   "source": [
    "import numpy as np\n",
    "\n",
    "for model in clustering_model:\n",
    "    print(\"\\n\\nkmeans: K = {}\".format(model.summary.k))\n",
    "    print(\"Maximum number of iterations: {}\".format(model.summary.numIter))\n",
    "    \n",
    "    # sort cluster sizes\n",
    "    ord_sizes = model.summary.clusterSizes\n",
    "    ord_idx = list(np.argsort(model.summary.clusterSizes))\n",
    "    ord_sizes.sort(reverse=True)\n",
    "    ord_idx.reverse()\n",
    "    print(\"Cluster sizes:\")\n",
    "    for el in zip(ord_idx, ord_sizes):\n",
    "        print(\"{}\".format(el))"
   ]
  },
  {
   "cell_type": "code",
   "execution_count": 50,
   "metadata": {
    "ExecuteTime": {
     "end_time": "2019-11-22T16:26:32.788964Z",
     "start_time": "2019-11-22T16:18:38.758647Z"
    },
    "scrolled": true
   },
   "outputs": [
    {
     "name": "stdout",
     "output_type": "stream",
     "text": [
      "+----------+-------------+\n",
      "|prediction|n_unique_mess|\n",
      "+----------+-------------+\n",
      "|1         |77714        |\n",
      "|2         |37277        |\n",
      "|0         |36578        |\n",
      "|3         |17321        |\n",
      "|4         |5028         |\n",
      "+----------+-------------+\n",
      "\n",
      "+----------+-------------+\n",
      "|prediction|n_unique_mess|\n",
      "+----------+-------------+\n",
      "|1         |77737        |\n",
      "|3         |52539        |\n",
      "|0         |17269        |\n",
      "|5         |16223        |\n",
      "|6         |4870         |\n",
      "|4         |2401         |\n",
      "|7         |1723         |\n",
      "|2         |1156         |\n",
      "+----------+-------------+\n",
      "\n",
      "+----------+-------------+\n",
      "|prediction|n_unique_mess|\n",
      "+----------+-------------+\n",
      "|1         |77712        |\n",
      "|3         |31856        |\n",
      "|0         |20125        |\n",
      "|2         |17255        |\n",
      "|5         |16214        |\n",
      "|4         |4549         |\n",
      "|6         |2401         |\n",
      "|8         |1721         |\n",
      "|10        |1203         |\n",
      "|9         |557          |\n",
      "|7         |325          |\n",
      "+----------+-------------+\n",
      "\n",
      "+----------+-------------+\n",
      "|prediction|n_unique_mess|\n",
      "+----------+-------------+\n",
      "|1         |77697        |\n",
      "|4         |20449        |\n",
      "|0         |20126        |\n",
      "|2         |17255        |\n",
      "|5         |16214        |\n",
      "|13        |11745        |\n",
      "|3         |4546         |\n",
      "|7         |1942         |\n",
      "|10        |1060         |\n",
      "|6         |1045         |\n",
      "|8         |618          |\n",
      "|9         |520          |\n",
      "|11        |379          |\n",
      "|12        |322          |\n",
      "+----------+-------------+\n",
      "\n",
      "+----------+-------------+\n",
      "|prediction|n_unique_mess|\n",
      "+----------+-------------+\n",
      "|1         |77697        |\n",
      "|4         |31686        |\n",
      "|0         |20110        |\n",
      "|2         |17255        |\n",
      "|5         |16214        |\n",
      "|3         |3868         |\n",
      "|15        |1942         |\n",
      "|9         |1564         |\n",
      "|10        |656          |\n",
      "|7         |618          |\n",
      "|8         |552          |\n",
      "|12        |486          |\n",
      "|6         |442          |\n",
      "|11        |322          |\n",
      "|16        |237          |\n",
      "|14        |143          |\n",
      "|13        |126          |\n",
      "+----------+-------------+\n",
      "\n",
      "+----------+-------------+\n",
      "|prediction|n_unique_mess|\n",
      "+----------+-------------+\n",
      "|1         |76307        |\n",
      "|2         |31671        |\n",
      "|0         |20045        |\n",
      "|4         |17252        |\n",
      "|5         |16214        |\n",
      "|3         |4420         |\n",
      "|7         |1942         |\n",
      "|15        |1562         |\n",
      "|18        |1412         |\n",
      "|10        |779          |\n",
      "|17        |615          |\n",
      "|12        |486          |\n",
      "|11        |318          |\n",
      "|16        |237          |\n",
      "|6         |208          |\n",
      "|14        |143          |\n",
      "|13        |126          |\n",
      "|9         |87           |\n",
      "|19        |59           |\n",
      "|8         |35           |\n",
      "+----------+-------------+\n",
      "\n"
     ]
    }
   ],
   "source": [
    "import pyspark.sql.functions as F\n",
    "\n",
    "for model in clustering_model:\n",
    "    grouped_pred = model.summary.predictions.groupBy(\"prediction\")\n",
    "    grouped_pred.agg(F.countDistinct(\"stop_token_1\").alias(\"n_unique_mess\")).orderBy(\"n_unique_mess\", ascending=False).show(truncate=False)"
   ]
  },
  {
   "cell_type": "code",
   "execution_count": 51,
   "metadata": {
    "ExecuteTime": {
     "end_time": "2019-11-22T16:26:32.811883Z",
     "start_time": "2019-11-22T16:26:32.793218Z"
    }
   },
   "outputs": [],
   "source": [
    "from pyspark.sql.functions import udf\n",
    "from pyspark.sql.types import StringType\n",
    "\n",
    "def is_url(string):\n",
    "    if string.find(\"://\") != -1:\n",
    "        return(True)\n",
    "    return(False)\n",
    "    \n",
    "\n",
    "def is_ipv6(string):\n",
    "    import numpy as np\n",
    "    is_column = [1 if x==\":\" else 0 for x in string]\n",
    "    if np.sum(is_column) >= 3 and string.find(\"/\") == -1:\n",
    "        return(True)\n",
    "    return(False)\n",
    "\n",
    "def is_address(string):\n",
    "    import numpy as np\n",
    "    is_column = [1 if x==\".\" else 0 for x in string]\n",
    "    if np.sum(is_column) >= 2 and string.find(\"/\") == -1:\n",
    "        return(True)\n",
    "    return(False)\n",
    "\n",
    "def replace_address(string, replace_string=None):\n",
    "    if not replace_string:\n",
    "        if is_url(string):\n",
    "            string = \"$URL\"\n",
    "        elif is_ipv6(string):\n",
    "            string = \"$IPv6\"\n",
    "        elif is_address(string):\n",
    "            string = \"$ADDRESS\"\n",
    "    else:\n",
    "        if is_url(string) or is_ipv6(string) or is_address(string):\n",
    "            string = replace_string         \n",
    "    return(string)\n",
    "\n",
    "\n",
    "def abstract_address(tokens_list):\n",
    "    '''Take a string and split url into netloc + path'''\n",
    "    tks = [replace_address(x) for x in tokens_list]\n",
    "    return(tks)\n",
    "\n",
    "# transform in user defined function\n",
    "abstract_address_udf = udf(abstract_address, StringType())"
   ]
  },
  {
   "cell_type": "code",
   "execution_count": 52,
   "metadata": {
    "ExecuteTime": {
     "end_time": "2019-11-22T16:36:32.810830Z",
     "start_time": "2019-11-22T16:26:32.815503Z"
    },
    "scrolled": true
   },
   "outputs": [
    {
     "name": "stdout",
     "output_type": "stream",
     "text": [
      "+----------+-------------+\n",
      "|prediction|n_unique_mess|\n",
      "+----------+-------------+\n",
      "|3         |12012        |\n",
      "|4         |4891         |\n",
      "|0         |923          |\n",
      "|2         |235          |\n",
      "|1         |41           |\n",
      "+----------+-------------+\n",
      "\n",
      "+----------+-------------+\n",
      "|prediction|n_unique_mess|\n",
      "+----------+-------------+\n",
      "|0         |11960        |\n",
      "|6         |4870         |\n",
      "|3         |723          |\n",
      "|2         |415          |\n",
      "|1         |43           |\n",
      "|4         |39           |\n",
      "|7         |33           |\n",
      "|5         |17           |\n",
      "+----------+-------------+\n",
      "\n",
      "+----------+-------------+\n",
      "|prediction|n_unique_mess|\n",
      "+----------+-------------+\n",
      "|2         |11948        |\n",
      "|4         |4549         |\n",
      "|3         |600          |\n",
      "|10        |462          |\n",
      "|7         |325          |\n",
      "|0         |69           |\n",
      "|6         |39           |\n",
      "|1         |39           |\n",
      "|8         |31           |\n",
      "|9         |29           |\n",
      "|5         |8            |\n",
      "+----------+-------------+\n",
      "\n",
      "+----------+-------------+\n",
      "|prediction|n_unique_mess|\n",
      "+----------+-------------+\n",
      "|2         |11948        |\n",
      "|3         |4546         |\n",
      "|13        |504          |\n",
      "|10        |451          |\n",
      "|12        |322          |\n",
      "|4         |117          |\n",
      "|0         |70           |\n",
      "|11        |36           |\n",
      "|7         |36           |\n",
      "|9         |26           |\n",
      "|1         |24           |\n",
      "|5         |8            |\n",
      "|6         |7            |\n",
      "|8         |7            |\n",
      "+----------+-------------+\n",
      "\n",
      "+----------+-------------+\n",
      "|prediction|n_unique_mess|\n",
      "+----------+-------------+\n",
      "|2         |11948        |\n",
      "|3         |3868         |\n",
      "|10        |654          |\n",
      "|8         |552          |\n",
      "|11        |322          |\n",
      "|6         |318          |\n",
      "|13        |126          |\n",
      "|4         |115          |\n",
      "|0         |54           |\n",
      "|15        |36           |\n",
      "|9         |29           |\n",
      "|16        |26           |\n",
      "|1         |24           |\n",
      "|14        |11           |\n",
      "|5         |8            |\n",
      "|7         |7            |\n",
      "|12        |1            |\n",
      "+----------+-------------+\n",
      "\n",
      "+----------+-------------+\n",
      "|prediction|n_unique_mess|\n",
      "+----------+-------------+\n",
      "|4         |11945        |\n",
      "|3         |4420         |\n",
      "|10        |777          |\n",
      "|11        |318          |\n",
      "|13        |126          |\n",
      "|2         |100          |\n",
      "|9         |85           |\n",
      "|6         |84           |\n",
      "|19        |59           |\n",
      "|7         |36           |\n",
      "|8         |35           |\n",
      "|15        |27           |\n",
      "|16        |26           |\n",
      "|18        |14           |\n",
      "|0         |12           |\n",
      "|14        |11           |\n",
      "|1         |11           |\n",
      "|5         |8            |\n",
      "|17        |4            |\n",
      "|12        |1            |\n",
      "+----------+-------------+\n",
      "\n"
     ]
    }
   ],
   "source": [
    "import pyspark.sql.functions as F\n",
    "\n",
    "for model in clustering_model:\n",
    "    data_subset = model.summary.predictions\n",
    "    data_subset = data_subset.withColumn(\"abstract_tokens\", abstract_address_udf(\"stop_token_1\"))\n",
    "\n",
    "    grouped_pred = data_subset.groupBy(\"prediction\")\n",
    "    grouped_pred.agg(F.countDistinct(\"abstract_tokens\").alias(\"n_unique_mess\")).orderBy(\"n_unique_mess\", ascending=False).show(truncate=False)"
   ]
  },
  {
   "cell_type": "code",
   "execution_count": 53,
   "metadata": {
    "ExecuteTime": {
     "end_time": "2019-11-22T16:46:35.048142Z",
     "start_time": "2019-11-22T16:43:23.992862Z"
    },
    "scrolled": true
   },
   "outputs": [
    {
     "name": "stdout",
     "output_type": "stream",
     "text": [
      "With K=11\n",
      "Within Cluster Sum of Squared Errors = 1010.3240827014754\n",
      "Silhouette with cosine distance = 0.9478755318659997\n",
      "------------------------------------------------------------\n",
      "CPU times: user 621 ms, sys: 333 ms, total: 955 ms\n",
      "Wall time: 3min 11s\n"
     ]
    }
   ],
   "source": [
    "%%time\n",
    "\n",
    "# Evaluate clustering by computing Silhouette score\n",
    "evaluator = ClusteringEvaluator()\n",
    "\n",
    "kmeans_models = []\n",
    "clustering_model = []\n",
    "\n",
    "\n",
    "k_best = 11\n",
    "for i, k in enumerate([k_best]):\n",
    "    kmeans_models.append(KMeans(featuresCol='features',k=k, initMode='k-means||',\n",
    "    initSteps=10, tol=0.00001, maxIter=30, distanceMeasure='cosine'))\n",
    "    clustering_model.append(kmeans_models[i].fit(train_data))\n",
    "    \n",
    "    # compute metrics   \n",
    "    wsse = clustering_model[i].summary.trainingCost\n",
    "    silhouette = evaluator.evaluate(clustering_model[i].summary.predictions)\n",
    "\n",
    "    print(\"With K={}\".format(k))\n",
    "    print(\"Within Cluster Sum of Squared Errors = \" + str(wsse))\n",
    "    print(\"Silhouette with cosine distance = \" + str(silhouette))\n",
    "    print('--'*30)"
   ]
  },
  {
   "cell_type": "markdown",
   "metadata": {},
   "source": [
    "#### Clusters' sizes"
   ]
  },
  {
   "cell_type": "code",
   "execution_count": 54,
   "metadata": {
    "ExecuteTime": {
     "end_time": "2019-11-22T16:46:35.092349Z",
     "start_time": "2019-11-22T16:46:35.052841Z"
    }
   },
   "outputs": [
    {
     "name": "stdout",
     "output_type": "stream",
     "text": [
      "\n",
      "\n",
      "kmeans: K = 11\n",
      "Maximum number of iterations: 5\n",
      "Cluster sizes:\n",
      "(1, 77712)\n",
      "(3, 31856)\n",
      "(0, 20126)\n",
      "(2, 17255)\n",
      "(5, 16214)\n",
      "(4, 4549)\n",
      "(6, 2401)\n",
      "(8, 1721)\n",
      "(10, 1204)\n",
      "(9, 557)\n",
      "(7, 325)\n"
     ]
    }
   ],
   "source": [
    "import numpy as np\n",
    "\n",
    "for model in [clustering_model[0]]:\n",
    "    print(\"\\n\\nkmeans: K = {}\".format(model.summary.k))\n",
    "    print(\"Maximum number of iterations: {}\".format(model.summary.numIter))\n",
    "    \n",
    "    # sort cluster sizes\n",
    "    ord_sizes = model.summary.clusterSizes\n",
    "    ord_idx = list(np.argsort(model.summary.clusterSizes))\n",
    "    ord_sizes.sort(reverse=True)\n",
    "    ord_idx.reverse()\n",
    "    print(\"Cluster sizes:\")\n",
    "    for el in zip(ord_idx, ord_sizes):\n",
    "        print(\"{}\".format(el))"
   ]
  },
  {
   "cell_type": "markdown",
   "metadata": {},
   "source": [
    "#### Clusters' unique messages"
   ]
  },
  {
   "cell_type": "code",
   "execution_count": 55,
   "metadata": {
    "ExecuteTime": {
     "end_time": "2019-11-22T16:47:56.487172Z",
     "start_time": "2019-11-22T16:46:35.095739Z"
    },
    "scrolled": true
   },
   "outputs": [
    {
     "name": "stdout",
     "output_type": "stream",
     "text": [
      "+----------+-------------+\n",
      "|prediction|n_unique_mess|\n",
      "+----------+-------------+\n",
      "|1         |77712        |\n",
      "|3         |31856        |\n",
      "|0         |20125        |\n",
      "|2         |17255        |\n",
      "|5         |16214        |\n",
      "|4         |4549         |\n",
      "|6         |2401         |\n",
      "|8         |1721         |\n",
      "|10        |1203         |\n",
      "|9         |557          |\n",
      "|7         |325          |\n",
      "+----------+-------------+\n",
      "\n"
     ]
    }
   ],
   "source": [
    "import pyspark.sql.functions as F\n",
    "\n",
    "for model in [clustering_model[0]]:\n",
    "    grouped_pred = model.summary.predictions.groupBy(\"prediction\")\n",
    "    grouped_pred.agg(F.countDistinct(\"stop_token_1\").alias(\"n_unique_mess\")).orderBy(\"n_unique_mess\", ascending=False).show(truncate=False)"
   ]
  },
  {
   "cell_type": "markdown",
   "metadata": {},
   "source": [
    "#### Clusters' unique messages after abstraction "
   ]
  },
  {
   "cell_type": "code",
   "execution_count": 56,
   "metadata": {
    "ExecuteTime": {
     "end_time": "2019-11-22T16:47:56.516097Z",
     "start_time": "2019-11-22T16:47:56.491197Z"
    }
   },
   "outputs": [],
   "source": [
    "from pyspark.sql.functions import udf\n",
    "from pyspark.sql.types import StringType\n",
    "\n",
    "def is_url(string):\n",
    "    if string.find(\"://\") != -1:\n",
    "        return(True)\n",
    "    return(False)\n",
    "    \n",
    "\n",
    "def is_ipv6(string):\n",
    "    import numpy as np\n",
    "    is_column = [1 if x==\":\" else 0 for x in string]\n",
    "    if np.sum(is_column) >= 3 and string.find(\"/\") == -1:\n",
    "        return(True)\n",
    "    return(False)\n",
    "\n",
    "def is_address(string):\n",
    "    import numpy as np\n",
    "    is_column = [1 if x==\".\" else 0 for x in string]\n",
    "    if np.sum(is_column) >= 2 and string.find(\"/\") == -1:\n",
    "        return(True)\n",
    "    return(False)\n",
    "\n",
    "def replace_address(string, replace_string=None):\n",
    "    if not replace_string:\n",
    "        if is_url(string):\n",
    "            string = \"$URL\"\n",
    "        elif is_ipv6(string):\n",
    "            string = \"$IPv6\"\n",
    "        elif is_address(string):\n",
    "            string = \"$ADDRESS\"\n",
    "    else:\n",
    "        if is_url(string) or is_ipv6(string) or is_address(string):\n",
    "            string = replace_string         \n",
    "    return(string)\n",
    "\n",
    "\n",
    "def abstract_address(tokens_list):\n",
    "    '''Take a string and split url into netloc + path'''\n",
    "    tks = [replace_address(x) for x in tokens_list]\n",
    "    return(tks)\n",
    "\n",
    "# transform in user defined function\n",
    "abstract_address_udf = udf(abstract_address, StringType())"
   ]
  },
  {
   "cell_type": "code",
   "execution_count": 57,
   "metadata": {
    "ExecuteTime": {
     "end_time": "2019-11-22T16:49:37.302621Z",
     "start_time": "2019-11-22T16:47:56.519931Z"
    },
    "scrolled": true
   },
   "outputs": [
    {
     "name": "stdout",
     "output_type": "stream",
     "text": [
      "+----------+-------------+\n",
      "|prediction|n_unique_mess|\n",
      "+----------+-------------+\n",
      "|2         |11948        |\n",
      "|4         |4549         |\n",
      "|3         |600          |\n",
      "|10        |462          |\n",
      "|7         |325          |\n",
      "|0         |69           |\n",
      "|1         |39           |\n",
      "|6         |39           |\n",
      "|8         |31           |\n",
      "|9         |29           |\n",
      "|5         |8            |\n",
      "+----------+-------------+\n",
      "\n"
     ]
    }
   ],
   "source": [
    "import pyspark.sql.functions as F\n",
    "\n",
    "for model in [clustering_model[0]]:\n",
    "    data_subset = model.summary.predictions\n",
    "    data_subset = data_subset.withColumn(\"abstract_tokens\", abstract_address_udf(\"stop_token_1\"))\n",
    "\n",
    "    grouped_pred = data_subset.groupBy(\"prediction\")\n",
    "    grouped_pred.agg(F.countDistinct(\"abstract_tokens\").alias(\"n_unique_mess\")).orderBy(\"n_unique_mess\", ascending=False).show(truncate=False)"
   ]
  },
  {
   "cell_type": "code",
   "execution_count": 60,
   "metadata": {
    "ExecuteTime": {
     "end_time": "2019-11-22T17:10:33.381624Z",
     "start_time": "2019-11-22T17:03:32.516538Z"
    }
   },
   "outputs": [
    {
     "name": "stdout",
     "output_type": "stream",
     "text": [
      "\u001b[31mCluster n.5\u001b[0m\n",
      "+--------------------------------------------------------------------------------------------------------------------------------------------------------------+\n",
      "|abstract_tokens                                                                                                                                               |\n",
      "+--------------------------------------------------------------------------------------------------------------------------------------------------------------+\n",
      "|[transfer, globus_ftp_client, server, responded, error, 451, general, problem, problem, connected, $ADDRESS, la, m, quina, remota, ha, reiniciat, la, connexi]|\n",
      "|[transfer, globus_ftp_client, server, responded, error, 451, general, problem, failed, connect, $ADDRESS, hi, ha, cap, cam, cap, l, estaci]                   |\n",
      "|[transfer, globus_ftp_client, server, responded, error, 451, general, problem, failed, connect, $ADDRESS, la, connexi, ha, expirat]                           |\n",
      "|[transfer, globus_ftp_client, server, responded, error, 451, general, problem, problem, connected, $ADDRESS, la, connexi, ha, expirat]                        |\n",
      "|[transfer, globus_ftp_client, server, responded, error, 451, general, problem, problem, connected, $IPv6, la, m, quina, remota, ha, reiniciat, la, connexi]   |\n",
      "|[transfer, globus_ftp_client, server, responded, error, 451, general, problem, failed, connect, $IPv6, la, connexi, ha, expirat]                              |\n",
      "|[transfer, globus_ftp_client, server, responded, error, 451, general, problem, problem, connected, $IPv6, la, canonada, ha, trencat]                          |\n",
      "|[transfer, globus_ftp_client, server, responded, error, 451, general, problem, problem, connected, $IPv6, la, connexi, ha, expirat]                           |\n",
      "+--------------------------------------------------------------------------------------------------------------------------------------------------------------+\n",
      "\n",
      "\u001b[31mCluster n.9\u001b[0m\n",
      "+------------------------------------------------------------------------------------------------------------------------------------------------------------------------------+\n",
      "|abstract_tokens                                                                                                                                                               |\n",
      "+------------------------------------------------------------------------------------------------------------------------------------------------------------------------------+\n",
      "|[source, checksum, globus_xio, unable, connect, $ADDRESS, globus_xio, system, error, connect, connection, timed, globus_xio, system, call, failed, connection, timed]         |\n",
      "|[globus_xio, unable, connect, $ADDRESS, globus_xio, globus_libc_getaddrinfo, failed, globus_common, temporary, failure, name, resolution]                                     |\n",
      "|[destination, checksum, end-of-file, reached, globus_xio, end, file, occurred]                                                                                                |\n",
      "|[source, checksum, globus_xio, unable, connect, $ADDRESS, globus_xio, system, error, connect, connection, refused, globus_xio, system, call, failed, connection, refused]     |\n",
      "|[destination, checksum, globus_xio, unable, connect, $ADDRESS, globus_xio, system, error, connect, route, host, globus_xio, system, call, failed, route, host]                |\n",
      "|[transfer, globus_xio, unable, connect, $ADDRESS, globus_xio, system, error, connect, connection, refused, globus_xio, system, call, failed, connection, refused]             |\n",
      "|[transfer, globus_xio, system, error, recv, connection, timed, globus_xio, system, call, failed, connection, timed]                                                           |\n",
      "|[destination, checksum, globus_xio, unable, connect, $ADDRESS, globus_xio, globus_libc_getaddrinfo, failed, globus_common, name, service, known]                              |\n",
      "|[destination, checksum, globus_xio, unable, connect, $ADDRESS, globus_xio, system, error, connect, connection, refused, globus_xio, system, call, failed, connection, refused]|\n",
      "|[globus_xio, system, error, recv, connection, timed, globus_xio, system, call, failed, connection, timed]                                                                     |\n",
      "|[transfer, globus_xio, unable, connect, $ADDRESS, globus_xio, system, error, connect, connection, timed, globus_xio, system, call, failed, connection, timed]                 |\n",
      "|[transfer, end-of-file, reached, globus_xio, end, file, occurred]                                                                                                             |\n",
      "|[globus_xio, unable, connect, $ADDRESS, globus_xio, globus_libc_getaddrinfo, failed, globus_common, name, service, known]                                                     |\n",
      "|[transfer, globus_l_ftp_control_read_cb, error, searching, end, reply]                                                                                                        |\n",
      "|[globus_xio, system, error, recv, network, unreachable, globus_xio, system, call, failed, network, unreachable]                                                               |\n",
      "|[transfer, globus_xio, unable, connect, $ADDRESS, globus_xio, system, error, connect, network, unreachable, globus_xio, system, call, failed, network, unreachable]           |\n",
      "|[globus_xio, unable, connect, $ADDRESS, globus_xio, system, error, connect, route, host, globus_xio, system, call, failed, route, host]                                       |\n",
      "|[globus_xio, unable, connect, $ADDRESS, globus_xio, system, error, connect, connection, timed, globus_xio, system, call, failed, connection, timed]                           |\n",
      "|[transfer, globus_xio, unable, connect, $ADDRESS, globus_xio, system, error, connect, route, host, globus_xio, system, call, failed, route, host]                             |\n",
      "|[globus_xio, unable, connect, $ADDRESS, globus_xio, system, error, connect, network, unreachable, globus_xio, system, call, failed, network, unreachable]                     |\n",
      "+------------------------------------------------------------------------------------------------------------------------------------------------------------------------------+\n",
      "only showing top 20 rows\n",
      "\n",
      "\u001b[31mCluster n.8\u001b[0m\n",
      "+-------------------------------------------------------------------------------------------------------------------------------------------------------------------------------------------------------------------------------------------------------------------------------------------------------------------------+\n",
      "|abstract_tokens                                                                                                                                                                                                                                                                                                          |\n",
      "+-------------------------------------------------------------------------------------------------------------------------------------------------------------------------------------------------------------------------------------------------------------------------------------------------------------------------+\n",
      "|[destination, make_parent, srm-ifce, err, communication, error, send, err, [se][mkdir][], $URL, /srm/managerv2, $ADDRESS, scheme, specific, part, empty]                                                                                                                                                                 |\n",
      "|[destination, overwrite, srm-ifce, err, communication, error, send, err, [se][srmrm][], $URL, /srm/managerv2, cgsi-gsoap, running, $ADDRESS, reports, open, connection, $ADDRESS]                                                                                                                                        |\n",
      "|[destination, make_parent, srm-ifce, err, communication, error, send, err, [se][mkdir][srm_internal_error], $URL, /srm/managerv2, $URL, /castor/cern.ch/na62/data/2019/raw/run/primitives, file, directory]                                                                                                              |\n",
      "|[srm-ifce, err, communication, error, send, err, [se][ls][], $URL, /srm/v2/server, cgsi-gsoap, running, $ADDRESS, reports, open, connection, $ADDRESS]                                                                                                                                                                   |\n",
      "|[destination, srm_putdone, call, srm_ifce, error, [se][putdone][], $URL, /srm/managerv2, cgsi-gsoap, running, $ADDRESS, reports, open, connection, $ADDRESS]                                                                                                                                                             |\n",
      "|[destination, make_parent, srm-ifce, err, communication, error, send, err, [se][mkdir][srm_internal_error], $URL, /srm/managerv2, $URL, /atlas/atlasscratchdisk/rucio/user/mmuskinj/6f/85, rpc, failed, server, failed, invoke, method, mkdir, class, $ADDRESS, null]                                                    |\n",
      "|[destination, checksum, srm-ifce, err, communication, error, send, err, [se][ls][], $URL, /srm/managerv2, cgsi-gsoap, running, $ADDRESS, reports, open, connection, $ADDRESS]                                                                                                                                            |\n",
      "|[srm-ifce, err, communication, error, send, err, [se][ls][], $URL, /srm/managerv2, http/1.0, 403, forbidden]                                                                                                                                                                                                             |\n",
      "|[destination, srm_put_turl, srm-ifce, err, communication, error, send, err, [se][statusofputrequest][], $URL, /srm/managerv2, cgsi-gsoap, running, $ADDRESS, reports, open, connection, $ADDRESS]                                                                                                                        |\n",
      "|[destination, srm_put_turl, srm-ifce, err, communication, error, send, err, [se][getspacetokens][srm_internal_error], $URL, /srm/managerv2, authentication, failed, (server, log, contains, additional, information)]                                                                                                    |\n",
      "|[destination, make_parent, srm-ifce, err, communication, error, send, err, [se][mkdir][srm_internal_error], $URL, /srm/managerv2, $URL, /pnfs/physik.rwth-aachen.de/cms/store/data/run2017f/zerobias/miniaod/09aug2019_ul2017-v1/270000, internal, name, space, timeout]                                                 |\n",
      "|[destination, make_parent, srm-ifce, err, communication, error, send, err, [se][mkdir][srm_internal_error], $URL, /srm/managerv2, $URL, /castor/cern.ch/na62/data/2019/raw/run/009609, file, directory]                                                                                                                  |\n",
      "|[source, checksum, srm-ifce, err, communication, error, send, err, [se][ls][], $URL, /srm/managerv2, cgsi-gsoap, running, $ADDRESS, reports, open, connection, $ADDRESS]                                                                                                                                                 |\n",
      "|[destination, make_parent, srm-ifce, err, communication, error, send, err, [se][mkdir][srm_internal_error], $URL, /srm/managerv2, $URL, /pnfs/physik.rwth-aachen.de/cms/store/mc/runiiwinter15wmlhe/st_t-channel_top_4f_inclusivedecays_13tev-powhegv2-madspin/lhe/mcrun2_71_v1-v1/00000, internal, name, space, timeout]|\n",
      "|[destination, srm_put_turl, srm-ifce, err, communication, error, send, err, [se][preparetoput][], $URL, /srm/managerv2, cgsi-gsoap, running, $ADDRESS, reports, open, connection, $ADDRESS]                                                                                                                              |\n",
      "|[destination, make_parent, srm-ifce, err, communication, error, send, err, [se][mkdir][], $URL, /srm/v2/server, $ADDRESS, scheme, specific, part, empty]                                                                                                                                                                 |\n",
      "|[srm-ifce, err, communication, error, send, err, [se][statusoflsrequest][], $URL, /srm/managerv2, cgsi-gsoap, running, $ADDRESS, reports, open, connection, $ADDRESS]                                                                                                                                                    |\n",
      "|[destination, make_parent, srm-ifce, err, communication, error, send, err, [se][mkdir][], $URL, /srm/managerv2, cgsi-gsoap, running, $ADDRESS, reports, open, connection, $ADDRESS]                                                                                                                                      |\n",
      "|[destination, srm_put_turl, srm-ifce, err, communication, error, send, err, [se][getspacetokens][srm_internal_error], $URL, /srm/managerv2, <none>]                                                                                                                                                                      |\n",
      "|[destination, make_parent, srm-ifce, err, communication, error, send, err, [se][mkdir][srm_internal_error], $URL, /srm/managerv2, $URL, /dpm/nipne.ro/home/atlas/atlasscratchdisk/rucio/user/alaurier/90/53, internal, error]                                                                                            |\n",
      "+-------------------------------------------------------------------------------------------------------------------------------------------------------------------------------------------------------------------------------------------------------------------------------------------------------------------------+\n",
      "only showing top 20 rows\n",
      "\n",
      "\u001b[31mCluster n.6\u001b[0m\n"
     ]
    },
    {
     "name": "stdout",
     "output_type": "stream",
     "text": [
      "+---------------------------------------------------------------------------------------------------------------------------------------------------------------------------------------------------------------------------------------------------------------------------------------------------------------------+\n",
      "|abstract_tokens                                                                                                                                                                                                                                                                                                      |\n",
      "+---------------------------------------------------------------------------------------------------------------------------------------------------------------------------------------------------------------------------------------------------------------------------------------------------------------------+\n",
      "|[srm-ifce, err, communication, error, send, err, [se][ls][], $URL, /srm/managerv2, cgsi-gsoap, running, $ADDRESS, reports, error, reading, token, data, connection, closed]                                                                                                                                          |\n",
      "|[error, reported, srm_ifce, 70, [se][ls][srm_internal_error], send2nsd, ns002, recv, error, connection, closed, remote, end]                                                                                                                                                                                         |\n",
      "|[srm-ifce, err, communication, error, send, err, [se][ls][], $URL, /srm/v2/server, cgsi-gsoap, running, $ADDRESS, reports, error, reading, token, data, header, connection, closed]                                                                                                                                  |\n",
      "|[source, checksum, globus_xio, system, error, recv, connection, reset, peer, globus_xio, system, call, failed, connection, reset, peer]                                                                                                                                                                              |\n",
      "|[source, checksum, srm-ifce, err, communication, error, send, err, [se][statusofgetrequest][], $URL, /srm/managerv2, cgsi-gsoap, running, $ADDRESS, reports, error, reading, token, data, header, connection, reset, peer]                                                                                           |\n",
      "|[transfer, globus_xio, system, error, recv, connection, reset, peer, globus_xio, system, call, failed, connection, reset, peer]                                                                                                                                                                                      |\n",
      "|[source, checksum, srm-ifce, err, communication, error, send, err, [se][ls][], $URL, /srm/managerv2, cgsi-gsoap, running, $ADDRESS, reports, error, reading, token, data, header, connection, reset, peer]                                                                                                           |\n",
      "|[srm-ifce, err, communication, error, send, err, [se][ls][], $URL, /srm/managerv2, cgsi-gsoap, running, $ADDRESS, reports, error, reading, token, data, header, connection, closed]                                                                                                                                  |\n",
      "|[source, srm_get_turl, srm-ifce, err, communication, error, send, err, [se][preparetoget][], $URL, /srm/managerv2, cgsi-gsoap, running, $ADDRESS, reports, error, reading, token, data, header, connection, closed]                                                                                                  |\n",
      "|[source, srm_get_turl, srm-ifce, err, communication, error, send, err, [se][preparetoget][], $URL, /srm/managerv2, cgsi-gsoap, running, $ADDRESS, reports, error, reading, token, data, header, connection, reset, peer]                                                                                             |\n",
      "|[destination, checksum, srm-ifce, err, communication, error, send, err, [se][statusofgetrequest][], $URL, /srm/managerv2, cgsi-gsoap, running, $ADDRESS, reports, error, reading, token, data, header, connection, reset, peer]                                                                                      |\n",
      "|[destination, overwrite, srm-ifce, err, communication, error, send, err, [se][srmrm][], $URL, /srm/managerv2, cgsi-gsoap, running, $ADDRESS, reports, error, reading, token, data, header, connection, closed]                                                                                                       |\n",
      "|[[gfal2_stat][gfal_plugin_statg][gfal_srm_statg][gfal_statg_srmv2__generic_internal][gfal_srm_ls_internal][gfal_srm_report_error], srm-ifce, err, communication, error, send, err, [se][ls][], $URL, /srm/managerv2, cgsi-gsoap, running, $ADDRESS, reports, error, reading, token, data, header, connection, closed]|\n",
      "|[destination, srm_put_turl, srm-ifce, err, communication, error, send, err, [se][statusofputrequest][], $URL, /srm/managerv2, cgsi-gsoap, running, $ADDRESS, reports, error, reading, token, data, header, connection, closed]                                                                                       |\n",
      "|[source, checksum, srm-ifce, err, communication, error, send, err, [se][preparetoget][], $URL, /srm/managerv2, cgsi-gsoap, running, $ADDRESS, reports, error, reading, token, data, header, connection, reset, peer]                                                                                                 |\n",
      "|[source, checksum, srm-ifce, err, communication, error, send, err, [se][ls][], $URL, /srm/managerv2, cgsi-gsoap, running, $ADDRESS, reports, error, reading, token, data, header, connection, closed]                                                                                                                |\n",
      "|[destination, make_parent, srm-ifce, err, communication, error, send, err, [se][mkdir][], $URL, /srm/managerv2, cgsi-gsoap, running, $ADDRESS, reports, error, reading, token, data, header, connection, reset, peer]                                                                                                |\n",
      "|[srm-ifce, err, communication, error, send, err, [se][ls][], $URL, /srm/managerv2, cgsi-gsoap, running, $ADDRESS, reports, error, reading, token, data, header, connection, reset, peer]                                                                                                                             |\n",
      "|[destination, checksum, globus_xio, system, error, recv, connection, reset, peer, globus_xio, system, call, failed, connection, reset, peer]                                                                                                                                                                         |\n",
      "|[destination, checksum, srm-ifce, err, communication, error, send, err, [se][preparetoget][], $URL, /srm/managerv2, cgsi-gsoap, running, $ADDRESS, reports, error, reading, token, data, header, connection, reset, peer]                                                                                            |\n",
      "+---------------------------------------------------------------------------------------------------------------------------------------------------------------------------------------------------------------------------------------------------------------------------------------------------------------------+\n",
      "only showing top 20 rows\n",
      "\n",
      "\u001b[31mCluster n.1\u001b[0m\n",
      "+----------------------------------------------------------------------------------------------------------------------------------------------------------------------------------------------------------------------------------------------------------------------------------------------------------------------------------------------------------------------------------+\n",
      "|abstract_tokens                                                                                                                                                                                                                                                                                                                                                                   |\n",
      "+----------------------------------------------------------------------------------------------------------------------------------------------------------------------------------------------------------------------------------------------------------------------------------------------------------------------------------------------------------------------------------+\n",
      "|[transfer, globus_ftp_control, gss_init_sec_context, failed, gss, major, status, unexpected, gatekeeper, service, name, globus_gsi_gssapi, authorization, denied, name, remote, entity, (/c=tw/o=ap/ou=grid/cn=cluster400.knu.ac.kr), expected, name, remote, entity, (/cn=155.230.21.200), match]                                                                                |\n",
      "|[transfer, globus_ftp_client, server, responded, error, 451, general, problem, problem, connected, $ADDRESS, la, xarxa, inabastable]                                                                                                                                                                                                                                              |\n",
      "|[transfer, globus_ftp_client, server, responded, error, 451, general, problem, problem, connected, $IPv6, connection, timed]                                                                                                                                                                                                                                                      |\n",
      "|[transfer, globus_ftp_client, server, responded, error, 451, general, problem, problem, connected, $IPv6, input/output, error]                                                                                                                                                                                                                                                    |\n",
      "|[transfer, globus_ftp_control, gss_init_sec_context, failed, gss, major, status, unexpected, gatekeeper, service, name, globus_gsi_gssapi, authorization, denied, name, remote, entity, (/dc=org/dc=incommon/c=us/st=new, york/l=upton/o=brookhaven, national, laboratory/ou=sdcc/cn=dcbldoor02.sdcc.bnl.gov), expected, name, remote, entity, (/cn=dcbldoor.sdcc.bnl.gov), match]|\n",
      "|[transfer, globus_ftp_control, gss_init_sec_context, failed, gss, major, status, unexpected, gatekeeper, service, name, globus_gsi_gssapi, authorization, denied, name, remote, entity, (/dc=org/dc=terena/dc=tcs/c=es/st=barcelona/l=bellaterra/o=port, dinformacio, cientifica/cn=door03.pic.es), expected, name, remote, entity, (/cn=2001:67c:1148:201:0:0:0:13), match]      |\n",
      "|[transfer, globus_ftp_client, server, responded, error, 451, general, problem, problem, connected, $ADDRESS, connection, reset, peer]                                                                                                                                                                                                                                             |\n",
      "|[transfer, globus_ftp_client, server, responded, error, 451, general, problem, problem, connected, $ADDRESS, network, unreachable]                                                                                                                                                                                                                                                |\n",
      "|[transfer, globus_ftp_client, server, responded, error, 451, general, problem, received, block, unknown, descriptor, (5)]                                                                                                                                                                                                                                                         |\n",
      "|[transfer, globus_ftp_client, server, responded, error, 451, general, problem, problem, connected, $IPv6, network, unreachable]                                                                                                                                                                                                                                                   |\n",
      "|[transfer, globus_ftp_control, gss_init_sec_context, failed, gss, major, status, unexpected, gatekeeper, service, name, globus_gsi_gssapi, authorization, denied, name, remote, entity, (/dc=org/dc=terena/dc=tcs/c=es/st=barcelona/l=bellaterra/o=port, dinformacio, cientifica/cn=door06.pic.es), expected, name, remote, entity, (/cn=2001:67c:1148:201:0:0:0:16), match]      |\n",
      "|[transfer, globus_ftp_client, server, responded, error, 451, general, problem, problem, connected, $ADDRESS, broken, pipe]                                                                                                                                                                                                                                                        |\n",
      "|[transfer, globus_ftp_client, server, responded, error, 451, general, problem, problem, connected, $IPv6, broken, pipe]                                                                                                                                                                                                                                                           |\n",
      "|[transfer, globus_ftp_client, server, responded, error, 451, general, problem, stream, closed, middle, block]                                                                                                                                                                                                                                                                     |\n",
      "|[transfer, globus_ftp_client, server, responded, error, 451, general, problem, problem, connected, $IPv6]                                                                                                                                                                                                                                                                         |\n",
      "|[transfer, globus_ftp_client, server, responded, error, 451, general, problem, $ADDRESS]                                                                                                                                                                                                                                                                                          |\n",
      "|[transfer, globus_ftp_client, server, responded, error, 451, general, problem, problem, connected, $IPv6, conexi, n, reinicializada, por, la, m, quina, remota]                                                                                                                                                                                                                   |\n",
      "|[transfer, globus_ftp_client, server, responded, error, 451, general, problem, problem, connected, $ADDRESS, tempo, esgotado, para, conex, o]                                                                                                                                                                                                                                     |\n",
      "|[transfer, globus_ftp_control, gss_init_sec_context, failed, gss, major, status, unexpected, gatekeeper, service, name, globus_gsi_gssapi, authorization, denied, name, remote, entity, (/dc=org/dc=terena/dc=tcs/c=es/l=bellaterra/o=port, dinformacio, cientifica/cn=door07.pic.es), expected, name, remote, entity, (/cn=2001:67c:1148:201:0:0:0:22), match]                   |\n",
      "|[transfer, globus_ftp_control, gss_init_sec_context, failed, gss, major, status, unexpected, gatekeeper, service, name, globus_gsi_gssapi, authorization, denied, name, remote, entity, (/dc=org/dc=terena/dc=tcs/c=es/st=barcelona/l=bellaterra/o=port, dinformacio, cientifica/cn=door04.pic.es), expected, name, remote, entity, (/cn=2001:67c:1148:201:0:0:0:14), match]      |\n",
      "+----------------------------------------------------------------------------------------------------------------------------------------------------------------------------------------------------------------------------------------------------------------------------------------------------------------------------------------------------------------------------------+\n",
      "only showing top 20 rows\n",
      "\n",
      "\u001b[31mCluster n.0\u001b[0m\n"
     ]
    },
    {
     "name": "stdout",
     "output_type": "stream",
     "text": [
      "+------------------------------------------------------------------------------------------------------------------------------------------------------------------------------------------------------------------------------------------------------------------------------------------------------------------------------------------------------------------------------------------+\n",
      "|abstract_tokens                                                                                                                                                                                                                                                                                                                                                                           |\n",
      "+------------------------------------------------------------------------------------------------------------------------------------------------------------------------------------------------------------------------------------------------------------------------------------------------------------------------------------------------------------------------------------------+\n",
      "|[transfer, globus_ftp_client, server, responded, error, 451, general, problem, failed, connect, $ADDRESS]                                                                                                                                                                                                                                                                                 |\n",
      "|[source, checksum, globus_ftp_client, server, responded, error, 504, unsupported, checksum, $ADDRESS, unknown, checksum, type, 869463eb]                                                                                                                                                                                                                                                  |\n",
      "|[transfer, globus_ftp_client, server, responded, error, 421, idle, timeout, closing, control, connection]                                                                                                                                                                                                                                                                                 |\n",
      "|[source, checksum, globus_ftp_client, server, responded, error, 504, unsupported, checksum, $ADDRESS, unknown, checksum, type, de1f6347]                                                                                                                                                                                                                                                  |\n",
      "|[transfer, globus_ftp_client, server, responded, error, 451, write, pools, online, [net=2001:1458:201:e3:0:0:100:18,protocol=gftp/2,store=cms-disk:cms@osm,cache=,linkgroup=]]                                                                                                                                                                                                            |\n",
      "|[transfer, globus_ftp_client, server, responded, error, 451, failed, enqueue, mover, (je, $ADDRESS, environment, must, closed, caused, $ADDRESS, environment, invalid, previous, exception, (je, $ADDRESS, /dcache/dcache-atlas12-12/meta, $ADDRESS, input/output, error, uncaught_exception, uncaught, exception, internal, thread, unable, continue, environment, invalid, must, closed]|\n",
      "|[transfer, globus_ftp_client, server, responded, error, 500, command, failed, internal, server, error]                                                                                                                                                                                                                                                                                    |\n",
      "|[transfer, globus_ftp_client, server, responded, error, 451, write, pools, online, [net=2001:1458:201:e4:0:0:100:9c,protocol=gftp/2,store=cms-disk:cms@osm,cache=,linkgroup=]]                                                                                                                                                                                                            |\n",
      "|[source, checksum, globus_ftp_client, server, responded, error, 504, unsupported, checksum, $ADDRESS, unknown, checksum, type, 4ca85fc1]                                                                                                                                                                                                                                                  |\n",
      "|[transfer, globus_ftp_client, server, responded, error, 451, ftp, proxy, shut]                                                                                                                                                                                                                                                                                                            |\n",
      "|[transfer, globus_ftp_client, server, responded, error, 535, authentication, failed, path, validation, failed, path, validation, failed, cn=1589137358, cn=58079576, geonmo, ryu, o=kisti, o=kisti, c=kr, proxy, violation, key, usage, asserted]                                                                                                                                         |\n",
      "|[transfer, globus_ftp_client, server, responded, error, 535, authentication, failed, path, validation, failed, path, validation, failed, cn=355693782, cn=fawad, saeed, ou=asc, o=ncp, c=pk, proxy, violation, key, usage, asserted]                                                                                                                                                      |\n",
      "|[transfer, globus_ftp_client, server, responded, error, 451, general, problem, failed, connect, $IPv6, route, host]                                                                                                                                                                                                                                                                       |\n",
      "|[transfer, globus_ftp_client, server, responded, error, 451, general, problem, failed, connect, $IPv6, connection, timed]                                                                                                                                                                                                                                                                 |\n",
      "|[transfer, globus_ftp_client, server, responded, error, 451, failed, create, new, entry, 0000e571f9b4070d464baf5cdbe954cbdfe1, /dcache/dcache-atlas12-16/data/0000e571f9b4070d464baf5cdbe954cbdfe1, input/output, error]                                                                                                                                                                  |\n",
      "|[transfer, globus_ftp_client, server, responded, error, 451, general, problem, failed, connect, $ADDRESS, n, o, h, rota, para, o, host]                                                                                                                                                                                                                                                   |\n",
      "|[source, checksum, globus_ftp_client, server, responded, error, 504, unsupported, checksum, $ADDRESS, unknown, checksum, type, 58706291]                                                                                                                                                                                                                                                  |\n",
      "|[source, checksum, globus_ftp_client, server, responded, error, 421, idle, timeout, closing, control, connection]                                                                                                                                                                                                                                                                         |\n",
      "|[transfer, globus_ftp_client, server, responded, error, 535, authentication, failed, path, validation, failed, path, validation, failed, cn=1348799464, cn=58079576, geonmo, ryu, o=kisti, o=kisti, c=kr, proxy, violation, key, usage, asserted]                                                                                                                                         |\n",
      "|[source, checksum, globus_ftp_client, server, responded, error, 504, unsupported, checksum, $ADDRESS, unknown, checksum, type, a346635d]                                                                                                                                                                                                                                                  |\n",
      "+------------------------------------------------------------------------------------------------------------------------------------------------------------------------------------------------------------------------------------------------------------------------------------------------------------------------------------------------------------------------------------------+\n",
      "only showing top 20 rows\n",
      "\n",
      "\u001b[31mCluster n.10\u001b[0m\n"
     ]
    },
    {
     "name": "stdout",
     "output_type": "stream",
     "text": [
      "+---------------------------------------------------------------------------------------------------------------------------------------------------------------------------------------------------------------------------------------------------------------------------------------------------------------------------------------------------------------------------+\n",
      "|abstract_tokens                                                                                                                                                                                                                                                                                                                                                            |\n",
      "+---------------------------------------------------------------------------------------------------------------------------------------------------------------------------------------------------------------------------------------------------------------------------------------------------------------------------------------------------------------------------+\n",
      "|[transfer, globus_ftp_client, server, responded, error, 451, unable, reserve, space, write, link, linkgroups, [linkgroup-cms-sam], writing, file, [net=2001:630:58:1800:0:0:82f6:b521,protocol=gftp/2,store=vo-cms.t1d0_doubleeg_data_reco@enstore,cache=]]                                                                                                                |\n",
      "|[transfer, globus_ftp_client, server, responded, error, 530, login, failed, failed, deliver, loginmessage, message, <1570439717765:7564009>, [>gplazma-vorolemap@local], communication, failure, message, delivered]                                                                                                                                                       |\n",
      "|[destination, checksum, globus_ftp_client, server, responded, error, 550, error, retrieving, /lnl.infn.it/data/cms/store/user/paolocms/charmonium/crab_charmonium2017f_mini/191008_083636/0003/his_3529.root, file, upload, yet, completed]                                                                                                                                |\n",
      "|[destination, checksum, globus_ftp_client, server, responded, error, 550, error, retrieving, /lnl.infn.it/data/cms/store/user/paolocms/charmonium/crab_charmonium2017f_mini/191008_083636/0003/his_3332.root, file, upload, yet, completed]                                                                                                                                |\n",
      "|[transfer, globus_ftp_client, server, responded, error, 451, unable, reserve, space, write, link, linkgroups, [linkgroup-cms-sam], writing, file, [net=2001:630:58:1800:0:0:82f6:b7d2,protocol=gftp/2,store=vo-cms.cms@enstore,cache=]]                                                                                                                                    |\n",
      "|[transfer, globus_ftp_client, server, responded, error, 451, post-processing, failed, file, size, mismatch, (expected=1628122660, actual=79429632)]                                                                                                                                                                                                                        |\n",
      "|[destination, checksum, globus_ftp_client, server, responded, error, 550, error, retrieving, /lnl.infn.it/data/cms/store/user/paolocms/charmonium/crab_charmonium2017f_mini/191008_083636/0003/his_3453.root, file, upload, yet, completed]                                                                                                                                |\n",
      "|[transfer, globus_ftp_client, server, responded, error, 530, login, failed, failed, deliver, loginmessage, message, <1570439856711:7567224>, [>gplazma-vorolemap@local], communication, failure, message, delivered]                                                                                                                                                       |\n",
      "|[transfer, globus_ftp_client, server, responded, error, 500, command, failed, open/create, [error], server, responded, error, [3009], unable, get, free, physical, space, /eos/cms/store/relval/cmssw_10_6_2/relvalqqh1352t_13up18/gen-sim-digi-raw-hltdebug/pu25ns_102x_upgrade2018_realistic_v15-v2/10000/23a1750a-346d-a047-a0a5-9be15ebdef48.root, space, left, device]|\n",
      "|[destination, checksum, globus_ftp_client, server, responded, error, 550, error, retrieving, /lnl.infn.it/data/cms/store/user/paolocms/charmonium/crab_charmonium2017f_mini/191008_083636/0003/his_3493.root, file, upload, yet, completed]                                                                                                                                |\n",
      "|[destination, srm_put_turl, error, turl, request, [se][statusofputrequest][srm_internal_error], error, accessing, hooibrand-02.nikhef.nl:/export/data/atlasprd/atlas/2019-10-08, timed]                                                                                                                                                                                    |\n",
      "|[transfer, globus_ftp_client, server, responded, error, 451, post-processing, failed, file, size, mismatch, (expected=1910022048, actual=1563688960)]                                                                                                                                                                                                                      |\n",
      "|[transfer, globus_ftp_client, server, responded, error, 451, post-processing, failed, file, size, mismatch, (expected=1100528359, actual=260833280)]                                                                                                                                                                                                                       |\n",
      "|[destination, checksum, globus_ftp_client, server, responded, error, 550, error, retrieving, /lnl.infn.it/data/cms/store/user/paolocms/charmonium/crab_charmonium2017f_mini/191008_083636/0003/reco_3375.root, file, upload, yet, completed]                                                                                                                               |\n",
      "|[transfer, globus_ftp_client, server, responded, error, 451, post-processing, failed, file, size, mismatch, (expected=1509576968, actual=625475584)]                                                                                                                                                                                                                       |\n",
      "|[transfer, globus_ftp_client, server, responded, error, 500, command, failed, open/create, [error], server, responded, error, [3009], unable, get, free, physical, space, /eos/atlas/atlasdatadisk/rucio/data17_13tev/15/9c/daod_topq1.16770544._000309.pool.root.1, space, left, device]                                                                                  |\n",
      "|[destination, checksum, globus_ftp_client, server, responded, error, 550, error, retrieving, /lnl.infn.it/data/cms/store/user/paolocms/charmonium/crab_charmonium2017f_mini/191008_083636/0003/his_3660.root, file, upload, yet, completed]                                                                                                                                |\n",
      "|[transfer, globus_ftp_client, server, responded, error, 451, post-processing, failed, file, size, mismatch, (expected=1193873690, actual=668467200)]                                                                                                                                                                                                                       |\n",
      "|[transfer, globus_ftp_client, server, responded, error, 530, login, failed, failed, deliver, loginmessage, message, <1570439856699:7567219>, [>gplazma-vorolemap@local], communication, failure, message, delivered]                                                                                                                                                       |\n",
      "|[transfer, globus_ftp_client, server, responded, error, 530, login, failed, failed, deliver, loginmessage, message, <1570439717785:7564017>, [>gplazma-vorolemap@local], communication, failure, message, delivered]                                                                                                                                                       |\n",
      "+---------------------------------------------------------------------------------------------------------------------------------------------------------------------------------------------------------------------------------------------------------------------------------------------------------------------------------------------------------------------------+\n",
      "only showing top 20 rows\n",
      "\n"
     ]
    }
   ],
   "source": [
    "from termcolor import colored\n",
    "\n",
    "clust_ids = [\"5\", \"9\", \"8\", \"6\", \"1\", \"0\", \"10\"]\n",
    "\n",
    "data_subset = clustering_model[0].summary.predictions.withColumn(\"abstract_tokens\", abstract_address_udf(\"stop_token_1\"))\n",
    "\n",
    "\n",
    "for clust_id in clust_ids:\n",
    "    \n",
    "    print( colored(\"Cluster n.{}\".format(clust_id), 'red'))\n",
    "    cluster = data_subset.filter(\"prediction == {}\".format(clust_id))\n",
    "    \n",
    "    cluster_unique_messages = cluster.select(\"abstract_tokens\").distinct()\n",
    "    cluster_unique_messages.show(truncate=False)"
   ]
  },
  {
   "cell_type": "code",
   "execution_count": null,
   "metadata": {
    "ExecuteTime": {
     "start_time": "2019-11-22T17:12:10.028Z"
    }
   },
   "outputs": [],
   "source": [
    "clust_ids = [\"5\", \"9\", \"8\", \"6\", \"1\", \"0\", \"10\"]\n",
    "\n",
    "data_subset = clustering_model[0].summary.predictions.withColumn(\"abstract_tokens\", abstract_address_udf(\"stop_token_1\"))\n",
    "\n",
    "\n",
    "for clust_id in clust_ids:\n",
    "    cluster = data_subset.filter(\"prediction == {}\".format(clust_id))\n",
    "    \n",
    "    cluster_unique_messages = cluster.select(\"t__error_message\").distinct()\n",
    "    cluster_unique_messages.show(truncate=False)"
   ]
  },
  {
   "cell_type": "code",
   "execution_count": null,
   "metadata": {},
   "outputs": [],
   "source": []
  },
  {
   "cell_type": "code",
   "execution_count": null,
   "metadata": {},
   "outputs": [],
   "source": []
  },
  {
   "cell_type": "code",
   "execution_count": null,
   "metadata": {},
   "outputs": [],
   "source": []
  },
  {
   "cell_type": "code",
   "execution_count": null,
   "metadata": {},
   "outputs": [],
   "source": []
  },
  {
   "cell_type": "code",
   "execution_count": null,
   "metadata": {},
   "outputs": [],
   "source": []
  },
  {
   "cell_type": "code",
   "execution_count": null,
   "metadata": {},
   "outputs": [],
   "source": []
  },
  {
   "cell_type": "code",
   "execution_count": null,
   "metadata": {},
   "outputs": [],
   "source": []
  },
  {
   "cell_type": "code",
   "execution_count": null,
   "metadata": {},
   "outputs": [],
   "source": []
  },
  {
   "cell_type": "code",
   "execution_count": null,
   "metadata": {},
   "outputs": [],
   "source": []
  },
  {
   "cell_type": "code",
   "execution_count": null,
   "metadata": {},
   "outputs": [],
   "source": []
  },
  {
   "cell_type": "code",
   "execution_count": null,
   "metadata": {},
   "outputs": [],
   "source": []
  },
  {
   "cell_type": "code",
   "execution_count": null,
   "metadata": {},
   "outputs": [],
   "source": []
  },
  {
   "cell_type": "code",
   "execution_count": null,
   "metadata": {},
   "outputs": [],
   "source": []
  },
  {
   "cell_type": "markdown",
   "metadata": {},
   "source": [
    "#### Small clusters "
   ]
  },
  {
   "cell_type": "markdown",
   "metadata": {},
   "source": [
    "##### Cluster 7 "
   ]
  },
  {
   "cell_type": "code",
   "execution_count": 26,
   "metadata": {
    "ExecuteTime": {
     "end_time": "2019-11-12T14:26:36.251554Z",
     "start_time": "2019-11-12T14:26:28.384288Z"
    }
   },
   "outputs": [
    {
     "data": {
      "text/plain": [
       "5"
      ]
     },
     "execution_count": 26,
     "metadata": {},
     "output_type": "execute_result"
    }
   ],
   "source": [
    "clust_id = \"7\"\n",
    "smaller_cluster = results.filter(\"prediction == {}\".format(clust_id))\n",
    "\n",
    "smaller_cluster_unique_messages = smaller_cluster.select(\"stop_token\").distinct()\n",
    "smaller_cluster_unique_messages.count()"
   ]
  },
  {
   "cell_type": "code",
   "execution_count": 27,
   "metadata": {
    "ExecuteTime": {
     "end_time": "2019-11-12T14:27:15.325222Z",
     "start_time": "2019-11-12T14:27:08.555966Z"
    }
   },
   "outputs": [
    {
     "name": "stdout",
     "output_type": "stream",
     "text": [
      "+-----------------------------------------------------------------------------------------------------------------------------------------------------------------------------------------------------------------------------------------------------------------------------------+\n",
      "|stop_token                                                                                                                                                                                                                                                                         |\n",
      "+-----------------------------------------------------------------------------------------------------------------------------------------------------------------------------------------------------------------------------------------------------------------------------------+\n",
      "|[transfer, globus_ftp_client:, the, server, responded, with, an, error, 535, authentication, failed:, path, validation, failed:, path, validation, failed, for, cn=1775071485,, cn=58079576, geonmo, ryu,, o=kisti,, o=kisti,, c=kr:, proxy, violation:, key, usage, is, asserted.]|\n",
      "|[transfer, globus_ftp_client:, the, server, responded, with, an, error, 535, authentication, failed:, path, validation, failed:, path, validation, failed, for, cn=1198410918,, cn=58079576, geonmo, ryu,, o=kisti,, o=kisti,, c=kr:, proxy, violation:, key, usage, is, asserted.]|\n",
      "|[transfer, globus_ftp_client:, the, server, responded, with, an, error, 535, authentication, failed:, path, validation, failed:, path, validation, failed, for, cn=355693782,, cn=fawad, saeed,, ou=asc,, o=ncp,, c=pk:, proxy, violation:, key, usage, is, asserted.]             |\n",
      "|[transfer, globus_ftp_client:, the, server, responded, with, an, error, 535, authentication, failed:, path, validation, failed:, path, validation, failed, for, cn=1348799464,, cn=58079576, geonmo, ryu,, o=kisti,, o=kisti,, c=kr:, proxy, violation:, key, usage, is, asserted.]|\n",
      "|[transfer, globus_ftp_client:, the, server, responded, with, an, error, 535, authentication, failed:, path, validation, failed:, path, validation, failed, for, cn=1356002419,, cn=58079576, geonmo, ryu,, o=kisti,, o=kisti,, c=kr:, proxy, violation:, key, usage, is, asserted.]|\n",
      "+-----------------------------------------------------------------------------------------------------------------------------------------------------------------------------------------------------------------------------------------------------------------------------------+\n",
      "\n"
     ]
    }
   ],
   "source": [
    "smaller_cluster_unique_messages.show(truncate=False)"
   ]
  },
  {
   "cell_type": "markdown",
   "metadata": {},
   "source": [
    "##### Cluster 5 "
   ]
  },
  {
   "cell_type": "code",
   "execution_count": null,
   "metadata": {
    "ExecuteTime": {
     "end_time": "2019-11-12T14:32:53.782596Z",
     "start_time": "2019-11-12T14:32:46.154612Z"
    }
   },
   "outputs": [],
   "source": [
    "clust_id = \"5\"\n",
    "smaller_cluster = results.filter(\"prediction == {}\".format(clust_id))\n",
    "\n",
    "smaller_cluster_unique_messages = smaller_cluster.select(\"stop_token\").distinct()\n",
    "smaller_cluster_unique_messages.count()"
   ]
  },
  {
   "cell_type": "code",
   "execution_count": 34,
   "metadata": {
    "ExecuteTime": {
     "end_time": "2019-11-12T14:33:13.626930Z",
     "start_time": "2019-11-12T14:33:05.668894Z"
    }
   },
   "outputs": [
    {
     "name": "stdout",
     "output_type": "stream",
     "text": [
      "+------------------------------------------------------------------------------------------------+\n",
      "|stop_token                                                                                      |\n",
      "+------------------------------------------------------------------------------------------------+\n",
      "|[transfer, an, end-of-file, was, reached, globus_xio:, an, end, of, file, occurred]             |\n",
      "|[destination, checksum, an, end-of-file, was, reached, globus_xio:, an, end, of, file, occurred]|\n",
      "|[source, checksum, an, end-of-file, was, reached, globus_xio:, an, end, of, file, occurred]     |\n",
      "|[an, end-of-file, was, reached, globus_xio:, an, end, of, file, occurred]                       |\n",
      "+------------------------------------------------------------------------------------------------+\n",
      "\n"
     ]
    }
   ],
   "source": [
    "smaller_cluster_unique_messages.show(truncate=False)"
   ]
  },
  {
   "cell_type": "markdown",
   "metadata": {},
   "source": [
    "#### Bigger cluster"
   ]
  },
  {
   "cell_type": "code",
   "execution_count": 32,
   "metadata": {
    "ExecuteTime": {
     "end_time": "2019-11-12T14:31:05.860207Z",
     "start_time": "2019-11-12T14:30:59.452240Z"
    }
   },
   "outputs": [
    {
     "data": {
      "text/plain": [
       "738"
      ]
     },
     "execution_count": 32,
     "metadata": {},
     "output_type": "execute_result"
    }
   ],
   "source": [
    "clust_id = \"13\"\n",
    "bigger_cluster = results.filter(\"prediction == {}\".format(clust_id))\n",
    "\n",
    "bigger_cluster_unique_messages = bigger_cluster.select(\"stop_token\").distinct()\n",
    "bigger_cluster_unique_messages.count()"
   ]
  },
  {
   "cell_type": "code",
   "execution_count": null,
   "metadata": {},
   "outputs": [],
   "source": [
    "# bigger_cluster_unique_messages.show(truncate=False)"
   ]
  },
  {
   "cell_type": "markdown",
   "metadata": {},
   "source": [
    "#### Look at unique messages in each cluster\n"
   ]
  },
  {
   "cell_type": "code",
   "execution_count": 51,
   "metadata": {
    "ExecuteTime": {
     "end_time": "2019-11-12T14:46:30.558662Z",
     "start_time": "2019-11-12T14:46:22.996101Z"
    }
   },
   "outputs": [
    {
     "name": "stdout",
     "output_type": "stream",
     "text": [
      "+----------+-------------+\n",
      "|prediction|n_unique_mess|\n",
      "+----------+-------------+\n",
      "|        10|        17505|\n",
      "|        15|        13198|\n",
      "|         3|         7699|\n",
      "|        26|         6474|\n",
      "|        17|         4755|\n",
      "|         8|         1404|\n",
      "|        19|         1249|\n",
      "|        13|          738|\n",
      "|        21|          349|\n",
      "|        22|          191|\n",
      "|         6|          151|\n",
      "|         4|           57|\n",
      "|        11|           27|\n",
      "|        23|           16|\n",
      "|        25|           14|\n",
      "|        12|           13|\n",
      "|         1|           10|\n",
      "|         7|            5|\n",
      "|         5|            4|\n",
      "|        16|            4|\n",
      "|        20|            3|\n",
      "|         2|            3|\n",
      "|        18|            3|\n",
      "|         0|            2|\n",
      "|        14|            2|\n",
      "|         9|            1|\n",
      "|        24|            1|\n",
      "+----------+-------------+\n",
      "\n"
     ]
    }
   ],
   "source": [
    "import pyspark.sql.functions as F\n",
    "results.groupBy(\"prediction\").agg(F.countDistinct(\"stop_token\").alias(\"n_unique_mess\")).orderBy(\"n_unique_mess\", ascending=False).show(n=27)"
   ]
  },
  {
   "cell_type": "code",
   "execution_count": null,
   "metadata": {},
   "outputs": [],
   "source": []
  },
  {
   "cell_type": "code",
   "execution_count": null,
   "metadata": {},
   "outputs": [],
   "source": []
  },
  {
   "cell_type": "code",
   "execution_count": null,
   "metadata": {},
   "outputs": [],
   "source": []
  },
  {
   "cell_type": "code",
   "execution_count": 3,
   "metadata": {
    "ExecuteTime": {
     "end_time": "2019-11-13T08:53:45.751265Z",
     "start_time": "2019-11-13T08:53:45.745623Z"
    }
   },
   "outputs": [],
   "source": [
    "from urllib.parse import urlparse"
   ]
  },
  {
   "cell_type": "code",
   "execution_count": 55,
   "metadata": {
    "ExecuteTime": {
     "end_time": "2019-11-13T09:54:59.492759Z",
     "start_time": "2019-11-13T09:54:59.238378Z"
    }
   },
   "outputs": [],
   "source": [
    "mess = vector_data.select(\"stop_token\").limit(1).collect()[-1][0]#.show(7, truncate=False)"
   ]
  },
  {
   "cell_type": "code",
   "execution_count": 56,
   "metadata": {
    "ExecuteTime": {
     "end_time": "2019-11-13T09:55:00.508536Z",
     "start_time": "2019-11-13T09:55:00.500314Z"
    }
   },
   "outputs": [
    {
     "data": {
      "text/plain": [
       "['source',\n",
       " 'checksum',\n",
       " 'globus_ftp_client:',\n",
       " 'the',\n",
       " 'server',\n",
       " 'responded',\n",
       " 'with',\n",
       " 'an',\n",
       " 'error',\n",
       " '500',\n",
       " 'error:',\n",
       " 'commands',\n",
       " 'denied']"
      ]
     },
     "execution_count": 56,
     "metadata": {},
     "output_type": "execute_result"
    }
   ],
   "source": [
    "mess"
   ]
  },
  {
   "cell_type": "code",
   "execution_count": 57,
   "metadata": {
    "ExecuteTime": {
     "end_time": "2019-11-13T09:55:05.631438Z",
     "start_time": "2019-11-13T09:55:05.621041Z"
    }
   },
   "outputs": [
    {
     "name": "stdout",
     "output_type": "stream",
     "text": [
      "source \n",
      " ParseResult(scheme='', netloc='', path='source', params='', query='', fragment='') \n",
      "\n",
      "\n",
      "checksum \n",
      " ParseResult(scheme='', netloc='', path='checksum', params='', query='', fragment='') \n",
      "\n",
      "\n",
      "globus_ftp_client: \n",
      " ParseResult(scheme='', netloc='', path='globus_ftp_client:', params='', query='', fragment='') \n",
      "\n",
      "\n",
      "the \n",
      " ParseResult(scheme='', netloc='', path='the', params='', query='', fragment='') \n",
      "\n",
      "\n",
      "server \n",
      " ParseResult(scheme='', netloc='', path='server', params='', query='', fragment='') \n",
      "\n",
      "\n",
      "responded \n",
      " ParseResult(scheme='', netloc='', path='responded', params='', query='', fragment='') \n",
      "\n",
      "\n",
      "with \n",
      " ParseResult(scheme='', netloc='', path='with', params='', query='', fragment='') \n",
      "\n",
      "\n",
      "an \n",
      " ParseResult(scheme='', netloc='', path='an', params='', query='', fragment='') \n",
      "\n",
      "\n",
      "error \n",
      " ParseResult(scheme='', netloc='', path='error', params='', query='', fragment='') \n",
      "\n",
      "\n",
      "500 \n",
      " ParseResult(scheme='', netloc='', path='500', params='', query='', fragment='') \n",
      "\n",
      "\n",
      "error: \n",
      " ParseResult(scheme='error', netloc='', path='', params='', query='', fragment='') \n",
      "\n",
      "\n",
      "commands \n",
      " ParseResult(scheme='', netloc='', path='commands', params='', query='', fragment='') \n",
      "\n",
      "\n",
      "denied \n",
      " ParseResult(scheme='', netloc='', path='denied', params='', query='', fragment='') \n",
      "\n",
      "\n"
     ]
    }
   ],
   "source": [
    "for token in mess:\n",
    "    print(token, \"\\n\", urlparse(token), \"\\n\\n\")"
   ]
  },
  {
   "cell_type": "code",
   "execution_count": 35,
   "metadata": {
    "ExecuteTime": {
     "end_time": "2019-11-13T09:22:10.980825Z",
     "start_time": "2019-11-13T09:22:10.968176Z"
    }
   },
   "outputs": [
    {
     "name": "stdout",
     "output_type": "stream",
     "text": [
      "\n",
      "\n",
      "True: destination\n",
      " destination\n",
      "\n",
      "\n",
      "True: overwrite\n",
      " overwrite\n",
      "\n",
      "\n",
      "True: srm-ifce\n",
      " srm-ifce\n",
      "\n",
      "\n",
      "True: err:\n",
      " err\n",
      "\n",
      "\n",
      "True: communication\n",
      " communication\n",
      "\n",
      "\n",
      "True: error\n",
      " error\n",
      "\n",
      "\n",
      "True: on\n",
      " on\n",
      "\n",
      "\n",
      "True: send,\n",
      " send,\n",
      "\n",
      "\n",
      "True: err:\n",
      " err\n",
      "\n",
      "\n",
      "True: [se][srmrm][]\n",
      " [se][srmrm][]\n",
      "\n",
      "\n",
      "True: httpg://tbn18.nikhef.nl:8446/srm/managerv2:\n",
      " /srm/managerv2:\n",
      "\n",
      "\n",
      "True: cgsi-gsoap\n",
      " cgsi-gsoap\n",
      "\n",
      "\n",
      "True: running\n",
      " running\n",
      "\n",
      "\n",
      "True: on\n",
      " on\n",
      "\n",
      "\n",
      "True: fts706.cern.ch\n",
      " fts706.cern.ch\n",
      "\n",
      "\n",
      "True: reports\n",
      " reports\n",
      "\n",
      "\n",
      "True: could\n",
      " could\n",
      "\n",
      "\n",
      "True: not\n",
      " not\n",
      "\n",
      "\n",
      "True: open\n",
      " open\n",
      "\n",
      "\n",
      "True: connection\n",
      " connection\n",
      "\n",
      "\n",
      "True: to\n",
      " to\n",
      "\n",
      "\n",
      "True: tbn18.nikhef.nl:8446\n",
      " tbn18.nikhef.nl:8446\n"
     ]
    }
   ],
   "source": [
    "for token in mess:\n",
    "    parsed = urlparse(token)\n",
    "    if parsed.scheme:\n",
    "        if parsed.path:\n",
    "            print(\"\\n\\nTrue: {}\\n\".format(token), parsed.path)\n",
    "        else:\n",
    "            print(\"\\n\\nTrue: {}\\n\".format(token), parsed.scheme)\n",
    "    else:\n",
    "        print(\"\\n\\nTrue: {}\\n\".format(token), parsed.path)"
   ]
  },
  {
   "cell_type": "code",
   "execution_count": 61,
   "metadata": {
    "ExecuteTime": {
     "end_time": "2019-11-13T09:59:31.606710Z",
     "start_time": "2019-11-13T09:59:31.595985Z"
    }
   },
   "outputs": [],
   "source": [
    "def deal_with_urls(url):\n",
    "    from urllib.parse import urlparse\n",
    "    parsed = urlparse(url)\n",
    "    if parsed.scheme:\n",
    "        if parsed.path:\n",
    "            res = ' '.join([parsed.scheme + \"://\" + parsed.netloc, parsed.path])\n",
    "        else:\n",
    "            res = parsed.scheme + \":\"\n",
    "    else:\n",
    "        res = parsed.path\n",
    "    return(res)\n",
    "\n",
    "\n",
    "\n",
    "def split_urls(string):\n",
    "    '''Take a string and split url into netloc + path'''\n",
    "    from urllib.parse import urlparse\n",
    "    tks = [deal_with_urls(x) for x in string.split()]\n",
    "    return(' '.join(tks))"
   ]
  },
  {
   "cell_type": "code",
   "execution_count": 43,
   "metadata": {
    "ExecuteTime": {
     "end_time": "2019-11-13T09:39:47.075431Z",
     "start_time": "2019-11-13T09:39:47.066546Z"
    }
   },
   "outputs": [
    {
     "data": {
      "text/plain": [
       "'httpg://tbn18.nikhef.nl:8446 /srm/managerv2:'"
      ]
     },
     "execution_count": 43,
     "metadata": {},
     "output_type": "execute_result"
    }
   ],
   "source": [
    "deal_with_urls(\"httpg://tbn18.nikhef.nl:8446/srm/managerv2:\")"
   ]
  },
  {
   "cell_type": "code",
   "execution_count": 48,
   "metadata": {
    "ExecuteTime": {
     "end_time": "2019-11-13T09:44:36.450476Z",
     "start_time": "2019-11-13T09:44:36.441459Z"
    }
   },
   "outputs": [
    {
     "data": {
      "text/plain": [
       "['vo',\n",
       " 'src_url',\n",
       " 'dst_url',\n",
       " 'src_hostname',\n",
       " 'dst_hostname',\n",
       " 't_channel',\n",
       " 'timestamp_tr_st',\n",
       " 'timestamp_tr_comp',\n",
       " 't_error_code',\n",
       " 'tr_error_scope',\n",
       " 't_failure_phase',\n",
       " 'tr_error_category',\n",
       " 't_final_transfer_state',\n",
       " 't__error_message',\n",
       " 'hlg',\n",
       " 'tokens',\n",
       " 'stop_token',\n",
       " 'count_vec',\n",
       " 'tf_idf']"
      ]
     },
     "execution_count": 48,
     "metadata": {},
     "output_type": "execute_result"
    }
   ],
   "source": [
    "vector_data.columns"
   ]
  },
  {
   "cell_type": "code",
   "execution_count": 59,
   "metadata": {
    "ExecuteTime": {
     "end_time": "2019-11-13T09:59:10.587741Z",
     "start_time": "2019-11-13T09:59:10.230099Z"
    }
   },
   "outputs": [
    {
     "data": {
      "text/plain": [
       "'DESTINATION OVERWRITE srm-ifce err: Communication error on send, err: [SE][srmRm][] httpg://tbn18.nikhef.nl:8446/srm/managerv2: CGSI-gSOAP running on fts706.cern.ch reports could not open connection to tbn18.nikhef.nl:8446'"
      ]
     },
     "execution_count": 59,
     "metadata": {},
     "output_type": "execute_result"
    }
   ],
   "source": [
    "mess = vector_data.select(\"t__error_message\").limit(7).collect()[-1][0]#.show(7, truncate=False)\n",
    "mess"
   ]
  },
  {
   "cell_type": "code",
   "execution_count": 51,
   "metadata": {
    "ExecuteTime": {
     "end_time": "2019-11-13T09:45:14.735828Z",
     "start_time": "2019-11-13T09:45:14.722022Z"
    }
   },
   "outputs": [
    {
     "data": {
      "text/plain": [
       "'DESTINATION OVERWRITE srm-ifce err Communication error on send, err [SE][srmRm][] httpg://tbn18.nikhef.nl:8446 /srm/managerv2: CGSI-gSOAP running on fts706.cern.ch reports could not open connection to tbn18.nikhef.nl:8446'"
      ]
     },
     "execution_count": 51,
     "metadata": {},
     "output_type": "execute_result"
    }
   ],
   "source": [
    "split_urls(mess)"
   ]
  },
  {
   "cell_type": "code",
   "execution_count": 62,
   "metadata": {
    "ExecuteTime": {
     "end_time": "2019-11-13T09:59:59.283604Z",
     "start_time": "2019-11-13T09:59:59.223204Z"
    }
   },
   "outputs": [],
   "source": [
    "from pyspark.sql.functions import udf\n",
    "from pyspark.sql.types import StringType\n",
    "\n",
    "# transform in user defined function\n",
    "split_urls_udf = udf(split_urls, StringType())\n",
    "\n",
    "# create high level groups\n",
    "temp = test_data.select(\"t__error_message\").withColumn(\"new_mess\", split_urls_udf(\"t__error_message\"))"
   ]
  },
  {
   "cell_type": "code",
   "execution_count": 64,
   "metadata": {
    "ExecuteTime": {
     "end_time": "2019-11-13T10:00:03.948523Z",
     "start_time": "2019-11-13T10:00:03.721533Z"
    }
   },
   "outputs": [
    {
     "name": "stdout",
     "output_type": "stream",
     "text": [
      "+------------------------------------------------------------------------------------------------------------------------------------------------------------------------------------------------------------------------------------------------------------------------------------------------------+----------------------------------------------------------------------------------------------------------------------------------------------------------------------------------------------------------------------------------------------------------------------------------------------------+\n",
      "|t__error_message                                                                                                                                                                                                                                                                                      |new_mess                                                                                                                                                                                                                                                                                            |\n",
      "+------------------------------------------------------------------------------------------------------------------------------------------------------------------------------------------------------------------------------------------------------------------------------------------------------+----------------------------------------------------------------------------------------------------------------------------------------------------------------------------------------------------------------------------------------------------------------------------------------------------+\n",
      "|SOURCE CHECKSUM globus_ftp_client: the server responded with an error 500 error: commands denied                                                                                                                                                                                                      |SOURCE CHECKSUM globus_ftp_client: the server responded with an error 500 error: commands denied                                                                                                                                                                                                    |\n",
      "|TRANSFER  globus_ftp_client: the server responded with an error 500 500-System error in mkdir: Transport endpoint is not connected  500-A system call failed: Transport endpoint is not connected  500 End.                                                                                           |TRANSFER globus_ftp_client: the server responded with an error 500 500-System error in mkdir: Transport endpoint is not connected 500-A system call failed: Transport endpoint is not connected 500 End.                                                                                            |\n",
      "|TRANSFER  globus_xio: Unable to connect to starsky.nikhef.nl:2811 globus_xio: System error in connect: Connection timed out globus_xio: A system call failed: Connection timed out                                                                                                                    |TRANSFER globus_xio: Unable to connect to starsky.nikhef.nl:2811 globus_xio: System error in connect: Connection timed out globus_xio: A system call failed: Connection timed out                                                                                                                   |\n",
      "|TRANSFER  globus_ftp_client: the server responded with an error 500 500-Command failed. : globus_xio: Unable to connect to 2001:1470:FF8A:6D:DC:0:0:2:20870  500-globus_xio: System error in connect: Connection timed out  500-globus_xio: A system call failed: Connection timed out  500-  500 End.|TRANSFER globus_ftp_client: the server responded with an error 500 500-Command failed. : globus_xio: Unable to connect to 2001:// 1470:FF8A:6D:DC:0:0:2:20870 500-globus_xio: System error in connect: Connection timed out 500-globus_xio: A system call failed: Connection timed out 500- 500 End.|\n",
      "|SOURCE CHECKSUM globus_ftp_client: the server responded with an error 500 Command failed : error: commands denied                                                                                                                                                                                     |SOURCE CHECKSUM globus_ftp_client: the server responded with an error 500 Command failed : error: commands denied                                                                                                                                                                                   |\n",
      "|TRANSFER  an end-of-file was reached globus_xio: An end of file occurred                                                                                                                                                                                                                              |TRANSFER an end-of-file was reached globus_xio: An end of file occurred                                                                                                                                                                                                                             |\n",
      "|DESTINATION OVERWRITE srm-ifce err: Communication error on send, err: [SE][srmRm][] httpg://tbn18.nikhef.nl:8446/srm/managerv2: CGSI-gSOAP running on fts706.cern.ch reports could not open connection to tbn18.nikhef.nl:8446                                                                        |DESTINATION OVERWRITE srm-ifce err: Communication error on send, err: [SE][srmRm][] httpg://tbn18.nikhef.nl:8446 /srm/managerv2: CGSI-gSOAP running on fts706.cern.ch reports could not open connection to tbn18.nikhef.nl:8446                                                                     |\n",
      "|DESTINATION OVERWRITE srm-ifce err: Communication error on send, err: [SE][srmRm][] httpg://tbn18.nikhef.nl:8446/srm/managerv2: CGSI-gSOAP running on fts706.cern.ch reports could not open connection to tbn18.nikhef.nl:8446                                                                        |DESTINATION OVERWRITE srm-ifce err: Communication error on send, err: [SE][srmRm][] httpg://tbn18.nikhef.nl:8446 /srm/managerv2: CGSI-gSOAP running on fts706.cern.ch reports could not open connection to tbn18.nikhef.nl:8446                                                                     |\n",
      "|SOURCE CHECKSUM globus_ftp_client: the server responded with an error 500 error: commands denied                                                                                                                                                                                                      |SOURCE CHECKSUM globus_ftp_client: the server responded with an error 500 error: commands denied                                                                                                                                                                                                    |\n",
      "|TRANSFER  an end-of-file was reached globus_xio: An end of file occurred                                                                                                                                                                                                                              |TRANSFER an end-of-file was reached globus_xio: An end of file occurred                                                                                                                                                                                                                             |\n",
      "|TRANSFER  globus_ftp_client: the server responded with an error 522 Protocol family not supported                                                                                                                                                                                                     |TRANSFER globus_ftp_client: the server responded with an error 522 Protocol family not supported                                                                                                                                                                                                    |\n",
      "|TRANSFER  globus_ftp_client: the server responded with an error 522 Protocol family not supported                                                                                                                                                                                                     |TRANSFER globus_ftp_client: the server responded with an error 522 Protocol family not supported                                                                                                                                                                                                    |\n",
      "|TRANSFER  globus_ftp_client: the server responded with an error 500 500-System error in mkdir: Transport endpoint is not connected  500-A system call failed: Transport endpoint is not connected  500 End.                                                                                           |TRANSFER globus_ftp_client: the server responded with an error 500 500-System error in mkdir: Transport endpoint is not connected 500-A system call failed: Transport endpoint is not connected 500 End.                                                                                            |\n",
      "|TRANSFER  globus_ftp_client: the server responded with an error 500 Command failed. : [lstore] Failed to open file.                                                                                                                                                                                   |TRANSFER globus_ftp_client: the server responded with an error 500 Command failed. : [lstore] Failed to open file.                                                                                                                                                                                  |\n",
      "|SOURCE CHECKSUM globus_ftp_client: the server responded with an error 500 Command failed : error: commands denied                                                                                                                                                                                     |SOURCE CHECKSUM globus_ftp_client: the server responded with an error 500 Command failed : error: commands denied                                                                                                                                                                                   |\n",
      "|TRANSFER  globus_xio: Unable to connect to atlas-storage-17.roma1.infn.it:2811 globus_xio: System error in connect: Connection refused globus_xio: A system call failed: Connection refused                                                                                                           |TRANSFER globus_xio: Unable to connect to atlas-storage-17.roma1.infn.it:2811 globus_xio: System error in connect: Connection refused globus_xio: A system call failed: Connection refused                                                                                                          |\n",
      "|SOURCE CHECKSUM globus_ftp_client: the server responded with an error 500 error: commands denied                                                                                                                                                                                                      |SOURCE CHECKSUM globus_ftp_client: the server responded with an error 500 error: commands denied                                                                                                                                                                                                    |\n",
      "|globus_xio: Unable to connect to atlasgridftp02.hep.anl.gov:2811 globus_xio: System error in connect: Connection timed out globus_xio: A system call failed: Connection timed out                                                                                                                     |globus_xio: Unable to connect to atlasgridftp02.hep.anl.gov:2811 globus_xio: System error in connect: Connection timed out globus_xio: A system call failed: Connection timed out                                                                                                                   |\n",
      "|DESTINATION OVERWRITE srm-ifce err: Communication error on send, err: [SE][srmRm][] httpg://tbn18.nikhef.nl:8446/srm/managerv2: CGSI-gSOAP running on fts706.cern.ch reports could not open connection to tbn18.nikhef.nl:8446                                                                        |DESTINATION OVERWRITE srm-ifce err: Communication error on send, err: [SE][srmRm][] httpg://tbn18.nikhef.nl:8446 /srm/managerv2: CGSI-gSOAP running on fts706.cern.ch reports could not open connection to tbn18.nikhef.nl:8446                                                                     |\n",
      "|TRANSFER  globus_ftp_client: the server responded with an error 500 Command failed. : call back fail                                                                                                                                                                                                  |TRANSFER globus_ftp_client: the server responded with an error 500 Command failed. : call back fail                                                                                                                                                                                                 |\n",
      "+------------------------------------------------------------------------------------------------------------------------------------------------------------------------------------------------------------------------------------------------------------------------------------------------------+----------------------------------------------------------------------------------------------------------------------------------------------------------------------------------------------------------------------------------------------------------------------------------------------------+\n",
      "only showing top 20 rows\n",
      "\n"
     ]
    }
   ],
   "source": [
    "temp.show(truncate=False)"
   ]
  }
 ],
 "metadata": {
  "kernelspec": {
   "display_name": "Python 3",
   "language": "python",
   "name": "python3"
  },
  "language_info": {
   "codemirror_mode": {
    "name": "ipython",
    "version": 3
   },
   "file_extension": ".py",
   "mimetype": "text/x-python",
   "name": "python",
   "nbconvert_exporter": "python",
   "pygments_lexer": "ipython3",
   "version": "3.6.5"
  },
  "toc": {
   "base_numbering": 1,
   "nav_menu": {},
   "number_sections": true,
   "sideBar": true,
   "skip_h1_title": false,
   "title_cell": "Table of Contents",
   "title_sidebar": "Contents",
   "toc_cell": false,
   "toc_position": {
    "height": "calc(100% - 180px)",
    "left": "10px",
    "top": "150px",
    "width": "275.3px"
   },
   "toc_section_display": true,
   "toc_window_display": false
  }
 },
 "nbformat": 4,
 "nbformat_minor": 2
}
