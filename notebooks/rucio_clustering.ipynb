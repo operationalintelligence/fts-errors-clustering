{
 "cells": [
  {
   "cell_type": "markdown",
   "metadata": {},
   "source": [
    "# Rucio transfer errors\n",
    "\n",
    "This notebook contains an attempt of data exploration for Rucio transfer errors."
   ]
  },
  {
   "cell_type": "markdown",
   "metadata": {},
   "source": [
    "### Imports\n",
    "Import libraries and write settings here."
   ]
  },
  {
   "cell_type": "code",
   "execution_count": 1,
   "metadata": {
    "ExecuteTime": {
     "end_time": "2019-10-08T13:31:12.150154Z",
     "start_time": "2019-10-08T13:31:12.140233Z"
    }
   },
   "outputs": [],
   "source": [
    "# Display all cell outputs\n",
    "from IPython.core.interactiveshell import InteractiveShell\n",
    "InteractiveShell.ast_node_interactivity = 'all'\n",
    "\n",
    "from IPython import get_ipython\n",
    "ipython = get_ipython()\n",
    "\n",
    "# autoreload extension\n",
    "if 'autoreload' not in ipython.extension_manager.loaded:\n",
    "    %load_ext autoreload\n",
    "\n",
    "%autoreload 2"
   ]
  },
  {
   "cell_type": "markdown",
   "metadata": {},
   "source": [
    "## General packages "
   ]
  },
  {
   "cell_type": "code",
   "execution_count": 2,
   "metadata": {
    "ExecuteTime": {
     "end_time": "2019-10-08T13:31:14.417835Z",
     "start_time": "2019-10-08T13:31:13.803071Z"
    }
   },
   "outputs": [],
   "source": [
    "# Data manipulation\n",
    "import pandas as pd\n",
    "import numpy as np\n",
    "import json\n",
    "\n",
    "# Visualizations\n",
    "import seaborn as sns\n",
    "from matplotlib import pyplot as plt\n",
    "\n",
    "# Options for pandas\n",
    "pd.options.display.max_columns = 50\n",
    "pd.options.display.max_rows = 30\n",
    "pd.options.display.float_format = '{:,.4f}'.format"
   ]
  },
  {
   "cell_type": "markdown",
   "metadata": {},
   "source": [
    "## Custom imports\n",
    "None at the moment"
   ]
  },
  {
   "cell_type": "markdown",
   "metadata": {},
   "source": [
    "# Data Exploration "
   ]
  },
  {
   "cell_type": "markdown",
   "metadata": {},
   "source": [
    "## Reading data "
   ]
  },
  {
   "cell_type": "code",
   "execution_count": 3,
   "metadata": {
    "ExecuteTime": {
     "end_time": "2019-10-08T13:31:16.059390Z",
     "start_time": "2019-10-08T13:31:15.934076Z"
    }
   },
   "outputs": [
    {
     "name": "stdout",
     "output_type": "stream",
     "text": [
      "/home/luca/workspace/rucio-log-clustering/notebooks\r\n"
     ]
    }
   ],
   "source": [
    "!pwd"
   ]
  },
  {
   "cell_type": "markdown",
   "metadata": {},
   "source": [
    "Read data fetched from Rucio API: http://rucio-opint.web.cern.ch/api/issues/"
   ]
  },
  {
   "cell_type": "code",
   "execution_count": 4,
   "metadata": {
    "ExecuteTime": {
     "end_time": "2019-10-08T13:31:23.169807Z",
     "start_time": "2019-10-08T13:31:17.539098Z"
    }
   },
   "outputs": [
    {
     "name": "stdout",
     "output_type": "stream",
     "text": [
      "Dataframe dimensions: (2826, 8)\n",
      "CPU times: user 5.6 s, sys: 17.4 ms, total: 5.62 s\n",
      "Wall time: 5.62 s\n"
     ]
    }
   ],
   "source": [
    "%%time\n",
    "\n",
    "# read data downloaded through ../code/fetch_data.py\n",
    "with open(\"../issues.json\", 'r') as f:\n",
    "    raw_data = json.load(f)\n",
    "\n",
    "# reorganise them in a pandas dataframe structure    \n",
    "errors = pd.DataFrame()\n",
    "for page in raw_data:\n",
    "    for record in page:\n",
    "        idx = record.pop('id')\n",
    "        temp = pd.DataFrame(record, index=[idx])\n",
    "        errors = errors.append(temp)\n",
    "        #break\n",
    "#     break\n",
    "\n",
    "\n",
    "print(\"Dataframe dimensions:\", errors.shape)"
   ]
  },
  {
   "cell_type": "code",
   "execution_count": 5,
   "metadata": {
    "ExecuteTime": {
     "end_time": "2019-10-08T13:31:23.194044Z",
     "start_time": "2019-10-08T13:31:23.171260Z"
    }
   },
   "outputs": [
    {
     "data": {
      "text/html": [
       "<div>\n",
       "<style scoped>\n",
       "    .dataframe tbody tr th:only-of-type {\n",
       "        vertical-align: middle;\n",
       "    }\n",
       "\n",
       "    .dataframe tbody tr th {\n",
       "        vertical-align: top;\n",
       "    }\n",
       "\n",
       "    .dataframe thead th {\n",
       "        text-align: right;\n",
       "    }\n",
       "</style>\n",
       "<table border=\"1\" class=\"dataframe\">\n",
       "  <thead>\n",
       "    <tr style=\"text-align: right;\">\n",
       "      <th></th>\n",
       "      <th>message</th>\n",
       "      <th>src_site</th>\n",
       "      <th>dst_site</th>\n",
       "      <th>category</th>\n",
       "      <th>amount</th>\n",
       "      <th>type</th>\n",
       "      <th>status</th>\n",
       "      <th>last_modified</th>\n",
       "    </tr>\n",
       "  </thead>\n",
       "  <tbody>\n",
       "    <tr>\n",
       "      <th>1</th>\n",
       "      <td>SOURCE [70] globus_xio: Unable to connect to a...</td>\n",
       "      <td>BU_ATLAS_Tier2</td>\n",
       "      <td>BNL-ATLAS</td>\n",
       "      <td>9</td>\n",
       "      <td>178</td>\n",
       "      <td>transfer-failure</td>\n",
       "      <td>New</td>\n",
       "      <td>2019-08-06T14:07:04.412401+02:00</td>\n",
       "    </tr>\n",
       "    <tr>\n",
       "      <th>2</th>\n",
       "      <td>TRANSFER [70] TRANSFER  globus_xio: Unable to ...</td>\n",
       "      <td>BNL-ATLAS</td>\n",
       "      <td>BU_ATLAS_Tier2</td>\n",
       "      <td>10</td>\n",
       "      <td>3288</td>\n",
       "      <td>transfer-failure</td>\n",
       "      <td>New</td>\n",
       "      <td>2019-08-06T14:07:04.595574+02:00</td>\n",
       "    </tr>\n",
       "    <tr>\n",
       "      <th>3</th>\n",
       "      <td>TRANSFER [70] TRANSFER  globus_xio: Unable to ...</td>\n",
       "      <td>INFN-NAPOLI-ATLAS</td>\n",
       "      <td>BU_ATLAS_Tier2</td>\n",
       "      <td>10</td>\n",
       "      <td>3288</td>\n",
       "      <td>transfer-failure</td>\n",
       "      <td>New</td>\n",
       "      <td>2019-08-06T14:07:04.692554+02:00</td>\n",
       "    </tr>\n",
       "    <tr>\n",
       "      <th>4</th>\n",
       "      <td>SOURCE [70] globus_xio: Unable to connect to a...</td>\n",
       "      <td>BU_ATLAS_Tier2</td>\n",
       "      <td>CERN-PROD</td>\n",
       "      <td>11</td>\n",
       "      <td>227</td>\n",
       "      <td>transfer-failure</td>\n",
       "      <td>New</td>\n",
       "      <td>2019-08-06T14:07:04.803866+02:00</td>\n",
       "    </tr>\n",
       "    <tr>\n",
       "      <th>5</th>\n",
       "      <td>SOURCE [70] globus_xio: Unable to connect to a...</td>\n",
       "      <td>BU_ATLAS_Tier2</td>\n",
       "      <td>TOKYO-LCG2</td>\n",
       "      <td>11</td>\n",
       "      <td>130</td>\n",
       "      <td>transfer-failure</td>\n",
       "      <td>New</td>\n",
       "      <td>2019-08-06T14:07:04.891438+02:00</td>\n",
       "    </tr>\n",
       "  </tbody>\n",
       "</table>\n",
       "</div>"
      ],
      "text/plain": [
       "                                             message           src_site  \\\n",
       "1  SOURCE [70] globus_xio: Unable to connect to a...     BU_ATLAS_Tier2   \n",
       "2  TRANSFER [70] TRANSFER  globus_xio: Unable to ...          BNL-ATLAS   \n",
       "3  TRANSFER [70] TRANSFER  globus_xio: Unable to ...  INFN-NAPOLI-ATLAS   \n",
       "4  SOURCE [70] globus_xio: Unable to connect to a...     BU_ATLAS_Tier2   \n",
       "5  SOURCE [70] globus_xio: Unable to connect to a...     BU_ATLAS_Tier2   \n",
       "\n",
       "         dst_site  category  amount              type status  \\\n",
       "1       BNL-ATLAS         9     178  transfer-failure    New   \n",
       "2  BU_ATLAS_Tier2        10    3288  transfer-failure    New   \n",
       "3  BU_ATLAS_Tier2        10    3288  transfer-failure    New   \n",
       "4       CERN-PROD        11     227  transfer-failure    New   \n",
       "5      TOKYO-LCG2        11     130  transfer-failure    New   \n",
       "\n",
       "                      last_modified  \n",
       "1  2019-08-06T14:07:04.412401+02:00  \n",
       "2  2019-08-06T14:07:04.595574+02:00  \n",
       "3  2019-08-06T14:07:04.692554+02:00  \n",
       "4  2019-08-06T14:07:04.803866+02:00  \n",
       "5  2019-08-06T14:07:04.891438+02:00  "
      ]
     },
     "execution_count": 5,
     "metadata": {},
     "output_type": "execute_result"
    }
   ],
   "source": [
    "errors.head()"
   ]
  },
  {
   "cell_type": "code",
   "execution_count": 6,
   "metadata": {
    "ExecuteTime": {
     "end_time": "2019-10-08T13:31:23.210628Z",
     "start_time": "2019-10-08T13:31:23.196815Z"
    }
   },
   "outputs": [
    {
     "data": {
      "text/plain": [
       "message          object\n",
       "src_site         object\n",
       "dst_site         object\n",
       "category          int64\n",
       "amount            int64\n",
       "type             object\n",
       "status           object\n",
       "last_modified    object\n",
       "dtype: object"
      ]
     },
     "execution_count": 6,
     "metadata": {},
     "output_type": "execute_result"
    }
   ],
   "source": [
    "errors.dtypes"
   ]
  },
  {
   "cell_type": "markdown",
   "metadata": {},
   "source": [
    "*Category* is interpreted as an int61, however this has to be dealt with as an object, so we tranform it:"
   ]
  },
  {
   "cell_type": "code",
   "execution_count": 7,
   "metadata": {
    "ExecuteTime": {
     "end_time": "2019-10-08T13:31:23.229866Z",
     "start_time": "2019-10-08T13:31:23.212013Z"
    },
    "scrolled": true
   },
   "outputs": [
    {
     "data": {
      "text/plain": [
       "message          object\n",
       "src_site         object\n",
       "dst_site         object\n",
       "category         object\n",
       "amount            int64\n",
       "type             object\n",
       "status           object\n",
       "last_modified    object\n",
       "dtype: object"
      ]
     },
     "execution_count": 7,
     "metadata": {},
     "output_type": "execute_result"
    }
   ],
   "source": [
    "errors = errors.astype({'category': 'object'})\n",
    "errors.dtypes"
   ]
  },
  {
   "cell_type": "markdown",
   "metadata": {},
   "source": [
    "Get a brief description of feature values:"
   ]
  },
  {
   "cell_type": "markdown",
   "metadata": {},
   "source": [
    "## Descriptive statistics "
   ]
  },
  {
   "cell_type": "code",
   "execution_count": 8,
   "metadata": {
    "ExecuteTime": {
     "end_time": "2019-10-08T13:31:27.077467Z",
     "start_time": "2019-10-08T13:31:27.037089Z"
    },
    "scrolled": true
   },
   "outputs": [
    {
     "data": {
      "text/html": [
       "<div>\n",
       "<style scoped>\n",
       "    .dataframe tbody tr th:only-of-type {\n",
       "        vertical-align: middle;\n",
       "    }\n",
       "\n",
       "    .dataframe tbody tr th {\n",
       "        vertical-align: top;\n",
       "    }\n",
       "\n",
       "    .dataframe thead th {\n",
       "        text-align: right;\n",
       "    }\n",
       "</style>\n",
       "<table border=\"1\" class=\"dataframe\">\n",
       "  <thead>\n",
       "    <tr style=\"text-align: right;\">\n",
       "      <th></th>\n",
       "      <th>message</th>\n",
       "      <th>src_site</th>\n",
       "      <th>dst_site</th>\n",
       "      <th>category</th>\n",
       "      <th>amount</th>\n",
       "      <th>type</th>\n",
       "      <th>status</th>\n",
       "      <th>last_modified</th>\n",
       "    </tr>\n",
       "  </thead>\n",
       "  <tbody>\n",
       "    <tr>\n",
       "      <th>count</th>\n",
       "      <td>2826</td>\n",
       "      <td>2826</td>\n",
       "      <td>2826</td>\n",
       "      <td>2,826.0000</td>\n",
       "      <td>2,826.0000</td>\n",
       "      <td>2826</td>\n",
       "      <td>2826</td>\n",
       "      <td>2826</td>\n",
       "    </tr>\n",
       "    <tr>\n",
       "      <th>unique</th>\n",
       "      <td>589</td>\n",
       "      <td>90</td>\n",
       "      <td>92</td>\n",
       "      <td>340.0000</td>\n",
       "      <td>nan</td>\n",
       "      <td>2</td>\n",
       "      <td>1</td>\n",
       "      <td>2726</td>\n",
       "    </tr>\n",
       "    <tr>\n",
       "      <th>top</th>\n",
       "      <td>Transfer has been forced-killed because it was...</td>\n",
       "      <td>BNL-ATLAS</td>\n",
       "      <td>UKI-SCOTGRID-DURHAM</td>\n",
       "      <td>128.0000</td>\n",
       "      <td>nan</td>\n",
       "      <td>transfer-failure</td>\n",
       "      <td>New</td>\n",
       "      <td>2019-08-07T15:00:06.690422+02:00</td>\n",
       "    </tr>\n",
       "    <tr>\n",
       "      <th>freq</th>\n",
       "      <td>67</td>\n",
       "      <td>192</td>\n",
       "      <td>308</td>\n",
       "      <td>302.0000</td>\n",
       "      <td>nan</td>\n",
       "      <td>2684</td>\n",
       "      <td>2826</td>\n",
       "      <td>2</td>\n",
       "    </tr>\n",
       "    <tr>\n",
       "      <th>mean</th>\n",
       "      <td>NaN</td>\n",
       "      <td>NaN</td>\n",
       "      <td>NaN</td>\n",
       "      <td>nan</td>\n",
       "      <td>2,198.5191</td>\n",
       "      <td>NaN</td>\n",
       "      <td>NaN</td>\n",
       "      <td>NaN</td>\n",
       "    </tr>\n",
       "    <tr>\n",
       "      <th>std</th>\n",
       "      <td>NaN</td>\n",
       "      <td>NaN</td>\n",
       "      <td>NaN</td>\n",
       "      <td>nan</td>\n",
       "      <td>5,690.2502</td>\n",
       "      <td>NaN</td>\n",
       "      <td>NaN</td>\n",
       "      <td>NaN</td>\n",
       "    </tr>\n",
       "    <tr>\n",
       "      <th>min</th>\n",
       "      <td>NaN</td>\n",
       "      <td>NaN</td>\n",
       "      <td>NaN</td>\n",
       "      <td>nan</td>\n",
       "      <td>1.0000</td>\n",
       "      <td>NaN</td>\n",
       "      <td>NaN</td>\n",
       "      <td>NaN</td>\n",
       "    </tr>\n",
       "    <tr>\n",
       "      <th>25%</th>\n",
       "      <td>NaN</td>\n",
       "      <td>NaN</td>\n",
       "      <td>NaN</td>\n",
       "      <td>nan</td>\n",
       "      <td>120.2500</td>\n",
       "      <td>NaN</td>\n",
       "      <td>NaN</td>\n",
       "      <td>NaN</td>\n",
       "    </tr>\n",
       "    <tr>\n",
       "      <th>50%</th>\n",
       "      <td>NaN</td>\n",
       "      <td>NaN</td>\n",
       "      <td>NaN</td>\n",
       "      <td>nan</td>\n",
       "      <td>555.5000</td>\n",
       "      <td>NaN</td>\n",
       "      <td>NaN</td>\n",
       "      <td>NaN</td>\n",
       "    </tr>\n",
       "    <tr>\n",
       "      <th>75%</th>\n",
       "      <td>NaN</td>\n",
       "      <td>NaN</td>\n",
       "      <td>NaN</td>\n",
       "      <td>nan</td>\n",
       "      <td>1,537.0000</td>\n",
       "      <td>NaN</td>\n",
       "      <td>NaN</td>\n",
       "      <td>NaN</td>\n",
       "    </tr>\n",
       "    <tr>\n",
       "      <th>max</th>\n",
       "      <td>NaN</td>\n",
       "      <td>NaN</td>\n",
       "      <td>NaN</td>\n",
       "      <td>nan</td>\n",
       "      <td>104,566.0000</td>\n",
       "      <td>NaN</td>\n",
       "      <td>NaN</td>\n",
       "      <td>NaN</td>\n",
       "    </tr>\n",
       "  </tbody>\n",
       "</table>\n",
       "</div>"
      ],
      "text/plain": [
       "                                                  message   src_site  \\\n",
       "count                                                2826       2826   \n",
       "unique                                                589         90   \n",
       "top     Transfer has been forced-killed because it was...  BNL-ATLAS   \n",
       "freq                                                   67        192   \n",
       "mean                                                  NaN        NaN   \n",
       "std                                                   NaN        NaN   \n",
       "min                                                   NaN        NaN   \n",
       "25%                                                   NaN        NaN   \n",
       "50%                                                   NaN        NaN   \n",
       "75%                                                   NaN        NaN   \n",
       "max                                                   NaN        NaN   \n",
       "\n",
       "                   dst_site   category       amount              type status  \\\n",
       "count                  2826 2,826.0000   2,826.0000              2826   2826   \n",
       "unique                   92   340.0000          nan                 2      1   \n",
       "top     UKI-SCOTGRID-DURHAM   128.0000          nan  transfer-failure    New   \n",
       "freq                    308   302.0000          nan              2684   2826   \n",
       "mean                    NaN        nan   2,198.5191               NaN    NaN   \n",
       "std                     NaN        nan   5,690.2502               NaN    NaN   \n",
       "min                     NaN        nan       1.0000               NaN    NaN   \n",
       "25%                     NaN        nan     120.2500               NaN    NaN   \n",
       "50%                     NaN        nan     555.5000               NaN    NaN   \n",
       "75%                     NaN        nan   1,537.0000               NaN    NaN   \n",
       "max                     NaN        nan 104,566.0000               NaN    NaN   \n",
       "\n",
       "                           last_modified  \n",
       "count                               2826  \n",
       "unique                              2726  \n",
       "top     2019-08-07T15:00:06.690422+02:00  \n",
       "freq                                   2  \n",
       "mean                                 NaN  \n",
       "std                                  NaN  \n",
       "min                                  NaN  \n",
       "25%                                  NaN  \n",
       "50%                                  NaN  \n",
       "75%                                  NaN  \n",
       "max                                  NaN  "
      ]
     },
     "execution_count": 8,
     "metadata": {},
     "output_type": "execute_result"
    }
   ],
   "source": [
    "table_sumary = errors.describe(include=['object', 'category', 'int64'])\n",
    "table_sumary\n",
    "# errors.describe(include=['category'])"
   ]
  },
  {
   "cell_type": "markdown",
   "metadata": {},
   "source": [
    "First thing we can notice is that we have 2826 records, but only 589 unique messages.\n",
    "\n",
    "As far as sites, we have almost a perfect balance in the repartition between source sites (90) and destination sites (92).\n",
    "\n",
    "Let now explore the most common values for the 3 features mentioned above:"
   ]
  },
  {
   "cell_type": "code",
   "execution_count": 12,
   "metadata": {
    "ExecuteTime": {
     "end_time": "2019-10-08T13:36:51.880647Z",
     "start_time": "2019-10-08T13:36:51.866084Z"
    }
   },
   "outputs": [
    {
     "name": "stdout",
     "output_type": "stream",
     "text": [
      "message \n",
      " Transfer has been forced-killed because it was stalled \n",
      "Frequency\n",
      " 67 \n",
      "\n",
      "src_site \n",
      " BNL-ATLAS \n",
      "Frequency\n",
      " 192 \n",
      "\n",
      "dst_site \n",
      " UKI-SCOTGRID-DURHAM \n",
      "Frequency\n",
      " 308 \n",
      "\n"
     ]
    }
   ],
   "source": [
    "for feature_name in ['message', 'src_site', 'dst_site']:\n",
    "    print(feature_name, \"\\n\", table_sumary.loc[\"top\"][feature_name], \"\\nFrequency\\n\", \n",
    "          table_sumary.loc[\"freq\"][feature_name], \"\\n\")"
   ]
  },
  {
   "cell_type": "markdown",
   "metadata": {},
   "source": [
    "## Null values\n",
    "Let now investigate the structure of missing values:"
   ]
  },
  {
   "cell_type": "code",
   "execution_count": 13,
   "metadata": {
    "ExecuteTime": {
     "end_time": "2019-10-08T13:38:33.809668Z",
     "start_time": "2019-10-08T13:38:33.791968Z"
    }
   },
   "outputs": [
    {
     "data": {
      "text/html": [
       "<div>\n",
       "<style scoped>\n",
       "    .dataframe tbody tr th:only-of-type {\n",
       "        vertical-align: middle;\n",
       "    }\n",
       "\n",
       "    .dataframe tbody tr th {\n",
       "        vertical-align: top;\n",
       "    }\n",
       "\n",
       "    .dataframe thead th {\n",
       "        text-align: right;\n",
       "    }\n",
       "</style>\n",
       "<table border=\"1\" class=\"dataframe\">\n",
       "  <thead>\n",
       "    <tr style=\"text-align: right;\">\n",
       "      <th></th>\n",
       "      <th>message</th>\n",
       "      <th>src_site</th>\n",
       "      <th>dst_site</th>\n",
       "      <th>category</th>\n",
       "      <th>amount</th>\n",
       "      <th>type</th>\n",
       "      <th>status</th>\n",
       "      <th>last_modified</th>\n",
       "    </tr>\n",
       "  </thead>\n",
       "  <tbody>\n",
       "  </tbody>\n",
       "</table>\n",
       "</div>"
      ],
      "text/plain": [
       "Empty DataFrame\n",
       "Columns: [message, src_site, dst_site, category, amount, type, status, last_modified]\n",
       "Index: []"
      ]
     },
     "execution_count": 13,
     "metadata": {},
     "output_type": "execute_result"
    }
   ],
   "source": [
    "errors[errors.isnull().any(axis=1)]"
   ]
  },
  {
   "cell_type": "markdown",
   "metadata": {},
   "source": [
    "There seem to be no missing values are present in any variable. However, it may be we have NAs coded with non-standard patterns (e.g. src/dst site == UNKNOWN).\n",
    "\n",
    "<div class=\"alert alert-block alert-info\">\n",
    "<b>Tip:</b> In case we need to fill NAs:\n",
    "    \n",
    "`errors = errors.fillna({\"VAR_NAME\": <FILL_VALUE>})`\n",
    "\n",
    "In order to choose how to impute missing values, a simple strategy may be to look at the most common value:\n",
    "\n",
    "`errrors.<VAR_NAME>.value_counts()`\n",
    "</div>"
   ]
  },
  {
   "cell_type": "markdown",
   "metadata": {},
   "source": [
    "## Errors distribution per src/dst site "
   ]
  },
  {
   "cell_type": "code",
   "execution_count": 14,
   "metadata": {
    "ExecuteTime": {
     "end_time": "2019-10-08T13:39:55.618296Z",
     "start_time": "2019-10-08T13:39:55.602700Z"
    },
    "scrolled": true
   },
   "outputs": [
    {
     "name": "stdout",
     "output_type": "stream",
     "text": [
      "Source site distribution:\n",
      " BNL-ATLAS             192\n",
      "INFN-T1               190\n",
      "UNKNOWN               147\n",
      "CERN-PROD             133\n",
      "CSCS-LCG2             121\n",
      "                     ... \n",
      "FR-ALPES                1\n",
      "IL-TAU-HEP              1\n",
      "UKI-SOUTHGRID-SUSX      1\n",
      "INFN-LECCE              1\n",
      "INFN-ROMA2              1\n",
      "Name: src_site, Length: 90, dtype: int64\n",
      "\n",
      "Destination site distribution:\n",
      " UKI-SCOTGRID-DURHAM       308\n",
      "CSCS-LCG2                 306\n",
      "UNKNOWN                   266\n",
      "DESY-HH                   105\n",
      "CERN-PROD                 102\n",
      "                         ... \n",
      "UKI-LT2-Brunel              1\n",
      "FR-ALPES                    1\n",
      "CA-TRIUMF-DISKLESS          1\n",
      "INFN-GENOVA                 1\n",
      "UKI-SOUTHGRID-BHAM-HEP      1\n",
      "Name: dst_site, Length: 92, dtype: int64\n"
     ]
    }
   ],
   "source": [
    "print(\"Source site distribution:\\n\", errors[\"src_site\"].value_counts())\n",
    "print(\"\\nDestination site distribution:\\n\", errors[\"dst_site\"].value_counts())"
   ]
  },
  {
   "cell_type": "markdown",
   "metadata": {},
   "source": [
    "Probably the the bigger/most problematic sites explain alone great part of the errors. \n",
    "\n",
    "Let's check this assumption by computing the percentage of total error detained from the top N (say 12) src/dst sites:"
   ]
  },
  {
   "cell_type": "code",
   "execution_count": 20,
   "metadata": {
    "ExecuteTime": {
     "end_time": "2019-10-08T13:44:49.088424Z",
     "start_time": "2019-10-08T13:44:49.066458Z"
    }
   },
   "outputs": [
    {
     "name": "stdout",
     "output_type": "stream",
     "text": [
      "Source sites:\n"
     ]
    },
    {
     "data": {
      "text/plain": [
       "0.45470629865534323"
      ]
     },
     "execution_count": 20,
     "metadata": {},
     "output_type": "execute_result"
    },
    {
     "name": "stdout",
     "output_type": "stream",
     "text": [
      "\n",
      "Destination sites:\n"
     ]
    },
    {
     "data": {
      "text/plain": [
       "0.5548478414720452"
      ]
     },
     "execution_count": 20,
     "metadata": {},
     "output_type": "execute_result"
    }
   ],
   "source": [
    "top_n = 12\n",
    "\n",
    "print(\"Source sites:\")\n",
    "np.sum(errors.src_site.value_counts()[:top_n] / np.sum(errors.src_site.value_counts()) )\n",
    "print(\"\\nDestination sites:\")\n",
    "np.sum(errors.dst_site.value_counts()[:top_n] / np.sum(errors.dst_site.value_counts()) )"
   ]
  },
  {
   "cell_type": "markdown",
   "metadata": {},
   "source": [
    "So the top ~10% of sites collect nearly 50% of the total transfer errors in the dataset.\n",
    "\n",
    "Let see what are the problemati sites in more details:"
   ]
  },
  {
   "cell_type": "code",
   "execution_count": 22,
   "metadata": {
    "ExecuteTime": {
     "end_time": "2019-10-08T13:46:39.597610Z",
     "start_time": "2019-10-08T13:46:39.584893Z"
    }
   },
   "outputs": [],
   "source": [
    "top_lbl_src = errors.src_site.value_counts().index.tolist()[:top_n]\n",
    "top_lbl_dst = errors.dst_site.value_counts().index.tolist()[:top_n]"
   ]
  },
  {
   "cell_type": "code",
   "execution_count": 25,
   "metadata": {
    "ExecuteTime": {
     "end_time": "2019-10-08T13:48:10.320957Z",
     "start_time": "2019-10-08T13:48:10.309154Z"
    }
   },
   "outputs": [
    {
     "name": "stdout",
     "output_type": "stream",
     "text": [
      "Top 12 source sites:\n",
      " ['BNL-ATLAS', 'INFN-T1', 'UNKNOWN', 'CERN-PROD', 'CSCS-LCG2', 'FZK-LCG2', 'IN2P3-CC', 'RAL-LCG2', 'NIKHEF-ELPROD', 'DESY-HH', 'UKI-SCOTGRID-GLASGOW', 'TRIUMF-LCG2']\n",
      "\n",
      "Top 12 destination sites:\n",
      " ['UKI-SCOTGRID-DURHAM', 'CSCS-LCG2', 'UNKNOWN', 'DESY-HH', 'CERN-PROD', 'RAL-LCG2', 'FZK-LCG2', 'BU_ATLAS_Tier2', 'Taiwan-LCG2', 'BNL-ATLAS', 'UKI-LT2-QMUL', 'MWT2']\n"
     ]
    }
   ],
   "source": [
    "print(\"Top\", top_n, \"source sites:\\n\", top_lbl_src)\n",
    "print(\"\\nTop\", top_n, \"destination sites:\\n\", top_lbl_dst)"
   ]
  },
  {
   "cell_type": "markdown",
   "metadata": {},
   "source": [
    "### Bivariate distribution: src site $\\times$ dst site  "
   ]
  },
  {
   "cell_type": "code",
   "execution_count": 27,
   "metadata": {
    "ExecuteTime": {
     "end_time": "2019-10-08T13:52:52.590012Z",
     "start_time": "2019-10-08T13:52:52.569095Z"
    }
   },
   "outputs": [
    {
     "data": {
      "text/html": [
       "<div>\n",
       "<style scoped>\n",
       "    .dataframe tbody tr th:only-of-type {\n",
       "        vertical-align: middle;\n",
       "    }\n",
       "\n",
       "    .dataframe tbody tr th {\n",
       "        vertical-align: top;\n",
       "    }\n",
       "\n",
       "    .dataframe thead th {\n",
       "        text-align: right;\n",
       "    }\n",
       "</style>\n",
       "<table border=\"1\" class=\"dataframe\">\n",
       "  <thead>\n",
       "    <tr style=\"text-align: right;\">\n",
       "      <th></th>\n",
       "      <th>message</th>\n",
       "      <th>src_site</th>\n",
       "      <th>dst_site</th>\n",
       "      <th>category</th>\n",
       "      <th>amount</th>\n",
       "      <th>type</th>\n",
       "      <th>status</th>\n",
       "      <th>last_modified</th>\n",
       "    </tr>\n",
       "  </thead>\n",
       "  <tbody>\n",
       "    <tr>\n",
       "      <th>2</th>\n",
       "      <td>TRANSFER [70] TRANSFER  globus_xio: Unable to ...</td>\n",
       "      <td>BNL-ATLAS</td>\n",
       "      <td>BU_ATLAS_Tier2</td>\n",
       "      <td>10</td>\n",
       "      <td>3288</td>\n",
       "      <td>transfer-failure</td>\n",
       "      <td>New</td>\n",
       "      <td>2019-08-06T14:07:04.595574+02:00</td>\n",
       "    </tr>\n",
       "    <tr>\n",
       "      <th>13</th>\n",
       "      <td>SOURCE [70] srm-ifce err: Communication error ...</td>\n",
       "      <td>INFN-T1</td>\n",
       "      <td>RAL-LCG2</td>\n",
       "      <td>19</td>\n",
       "      <td>693</td>\n",
       "      <td>transfer-failure</td>\n",
       "      <td>New</td>\n",
       "      <td>2019-08-23T10:00:07.897494+02:00</td>\n",
       "    </tr>\n",
       "    <tr>\n",
       "      <th>16</th>\n",
       "      <td>The requested service is not available at the ...</td>\n",
       "      <td>UNKNOWN</td>\n",
       "      <td>UKI-SCOTGRID-DURHAM</td>\n",
       "      <td>22</td>\n",
       "      <td>2775</td>\n",
       "      <td>deletion-failure</td>\n",
       "      <td>New</td>\n",
       "      <td>2019-08-07T11:00:07.300014+02:00</td>\n",
       "    </tr>\n",
       "    <tr>\n",
       "      <th>17</th>\n",
       "      <td>Failed to stage-out logs to OS: no OS_LOGS ddm...</td>\n",
       "      <td>IN2P3-CC</td>\n",
       "      <td>UNKNOWN</td>\n",
       "      <td>23</td>\n",
       "      <td>1</td>\n",
       "      <td>transfer-failure</td>\n",
       "      <td>New</td>\n",
       "      <td>2019-08-07T19:00:04.747496+02:00</td>\n",
       "    </tr>\n",
       "    <tr>\n",
       "      <th>21</th>\n",
       "      <td>Could not figure out destination path from dst...</td>\n",
       "      <td>IN2P3-CC</td>\n",
       "      <td>UNKNOWN</td>\n",
       "      <td>24</td>\n",
       "      <td>2</td>\n",
       "      <td>transfer-failure</td>\n",
       "      <td>New</td>\n",
       "      <td>2019-09-18T23:00:09.645147+02:00</td>\n",
       "    </tr>\n",
       "  </tbody>\n",
       "</table>\n",
       "</div>"
      ],
      "text/plain": [
       "                                              message   src_site  \\\n",
       "2   TRANSFER [70] TRANSFER  globus_xio: Unable to ...  BNL-ATLAS   \n",
       "13  SOURCE [70] srm-ifce err: Communication error ...    INFN-T1   \n",
       "16  The requested service is not available at the ...    UNKNOWN   \n",
       "17  Failed to stage-out logs to OS: no OS_LOGS ddm...   IN2P3-CC   \n",
       "21  Could not figure out destination path from dst...   IN2P3-CC   \n",
       "\n",
       "               dst_site category  amount              type status  \\\n",
       "2        BU_ATLAS_Tier2       10    3288  transfer-failure    New   \n",
       "13             RAL-LCG2       19     693  transfer-failure    New   \n",
       "16  UKI-SCOTGRID-DURHAM       22    2775  deletion-failure    New   \n",
       "17              UNKNOWN       23       1  transfer-failure    New   \n",
       "21              UNKNOWN       24       2  transfer-failure    New   \n",
       "\n",
       "                       last_modified  \n",
       "2   2019-08-06T14:07:04.595574+02:00  \n",
       "13  2019-08-23T10:00:07.897494+02:00  \n",
       "16  2019-08-07T11:00:07.300014+02:00  \n",
       "17  2019-08-07T19:00:04.747496+02:00  \n",
       "21  2019-09-18T23:00:09.645147+02:00  "
      ]
     },
     "execution_count": 27,
     "metadata": {},
     "output_type": "execute_result"
    }
   ],
   "source": [
    "# retrieve only rows having src/dst site in the top_n list\n",
    "errors_top_sites = errors.query(\"src_site in @top_lbl_src and dst_site in @top_lbl_dst\")\n",
    "errors_top_sites.head()"
   ]
  },
  {
   "cell_type": "markdown",
   "metadata": {},
   "source": [
    "Let now plot to see whether we can catch some src/dst correlation:"
   ]
  },
  {
   "cell_type": "code",
   "execution_count": 42,
   "metadata": {
    "ExecuteTime": {
     "end_time": "2019-10-08T14:10:13.551501Z",
     "start_time": "2019-10-08T14:10:12.790399Z"
    }
   },
   "outputs": [
    {
     "name": "stdout",
     "output_type": "stream",
     "text": [
      "CPU times: user 322 ms, sys: 125 ms, total: 447 ms\n",
      "Wall time: 201 ms\n"
     ]
    },
    {
     "data": {
      "text/plain": [
       "<seaborn.axisgrid.FacetGrid at 0x7f9bdb4bb400>"
      ]
     },
     "execution_count": 42,
     "metadata": {},
     "output_type": "execute_result"
    },
    {
     "data": {
      "image/png": "[encoded data removed]",
      "text/plain": [
       "<Figure size 864x1080 with 1 Axes>"
      ]
     },
     "metadata": {
      "needs_background": "light"
     },
     "output_type": "display_data"
    },
    {
     "data": {
      "image/png": "[encoded data removed]",
      "text/plain": [
       "<Figure size 523.875x360 with 1 Axes>"
      ]
     },
     "metadata": {
      "needs_background": "light"
     },
     "output_type": "display_data"
    }
   ],
   "source": [
    "%%time\n",
    "\n",
    "# val = \"deletion-failure\"\n",
    "\n",
    "f, ax = plt.subplots(figsize=(12, 15))\n",
    "sns.catplot(ax=ax, y=\"dst_site\", hue=\"src_site\", kind=\"count\",\n",
    "            palette=\"pastel\", edgecolor=\".6\", order = top_lbl_dst, hue_order=top_lbl_src,\n",
    "            data=errors_top_sites) #if we want to filter: errors_top_sites.query(\"type==@val \"))"
   ]
  },
  {
   "cell_type": "markdown",
   "metadata": {},
   "source": [
    "Given the large number of sites it is very difficult to extract meaningful information from the plot above.\n",
    "\n",
    "One thing one can notice is that **BNL-ATLAS** is among the top source sites for almost any destination site, so it seems to have problem to reach/get conctacted irrespectively from the destination endpoint.\n",
    "\n",
    "On the other hand, the next thing that leaps to the eye is the great amount of errors where the destination is **DESY-HH** and the source is **UNKNOWN**."
   ]
  },
  {
   "cell_type": "markdown",
   "metadata": {},
   "source": [
    "### Additional  bivariate distribution\n",
    "A more quantitative view of the src $\\times$ dst sites bivariate distribution is presented in the following."
   ]
  },
  {
   "cell_type": "code",
   "execution_count": 43,
   "metadata": {
    "ExecuteTime": {
     "end_time": "2019-10-08T14:16:29.751054Z",
     "start_time": "2019-10-08T14:16:29.734253Z"
    }
   },
   "outputs": [
    {
     "data": {
      "text/plain": [
       "src_site   dst_site           \n",
       "BNL-ATLAS  BNL-ATLAS               1\n",
       "           BU_ATLAS_Tier2         17\n",
       "           CERN-PROD               9\n",
       "           CSCS-LCG2              11\n",
       "           DESY-HH                 7\n",
       "                                  ..\n",
       "UNKNOWN    MWT2                    1\n",
       "           Taiwan-LCG2             2\n",
       "           UKI-LT2-QMUL            1\n",
       "           UKI-SCOTGRID-DURHAM     5\n",
       "           UNKNOWN                 1\n",
       "Length: 117, dtype: int64"
      ]
     },
     "execution_count": 43,
     "metadata": {},
     "output_type": "execute_result"
    }
   ],
   "source": [
    "grouped = errors_top_sites.groupby([\"src_site\", \"dst_site\"])\n",
    "grouped.size()"
   ]
  },
  {
   "cell_type": "code",
   "execution_count": 46,
   "metadata": {
    "ExecuteTime": {
     "end_time": "2019-10-08T14:17:12.457070Z",
     "start_time": "2019-10-08T14:17:12.425874Z"
    }
   },
   "outputs": [
    {
     "data": {
      "text/html": [
       "<div>\n",
       "<style scoped>\n",
       "    .dataframe tbody tr th:only-of-type {\n",
       "        vertical-align: middle;\n",
       "    }\n",
       "\n",
       "    .dataframe tbody tr th {\n",
       "        vertical-align: top;\n",
       "    }\n",
       "\n",
       "    .dataframe thead th {\n",
       "        text-align: right;\n",
       "    }\n",
       "</style>\n",
       "<table border=\"1\" class=\"dataframe\">\n",
       "  <thead>\n",
       "    <tr style=\"text-align: right;\">\n",
       "      <th>dst_site</th>\n",
       "      <th>BNL-ATLAS</th>\n",
       "      <th>BU_ATLAS_Tier2</th>\n",
       "      <th>CERN-PROD</th>\n",
       "      <th>CSCS-LCG2</th>\n",
       "      <th>DESY-HH</th>\n",
       "      <th>FZK-LCG2</th>\n",
       "      <th>MWT2</th>\n",
       "      <th>RAL-LCG2</th>\n",
       "      <th>Taiwan-LCG2</th>\n",
       "      <th>UKI-LT2-QMUL</th>\n",
       "      <th>UKI-SCOTGRID-DURHAM</th>\n",
       "      <th>UNKNOWN</th>\n",
       "    </tr>\n",
       "    <tr>\n",
       "      <th>src_site</th>\n",
       "      <th></th>\n",
       "      <th></th>\n",
       "      <th></th>\n",
       "      <th></th>\n",
       "      <th></th>\n",
       "      <th></th>\n",
       "      <th></th>\n",
       "      <th></th>\n",
       "      <th></th>\n",
       "      <th></th>\n",
       "      <th></th>\n",
       "      <th></th>\n",
       "    </tr>\n",
       "  </thead>\n",
       "  <tbody>\n",
       "    <tr>\n",
       "      <th>BNL-ATLAS</th>\n",
       "      <td>1</td>\n",
       "      <td>17</td>\n",
       "      <td>9</td>\n",
       "      <td>11</td>\n",
       "      <td>7</td>\n",
       "      <td>2</td>\n",
       "      <td>8</td>\n",
       "      <td>8</td>\n",
       "      <td>5</td>\n",
       "      <td>13</td>\n",
       "      <td>7</td>\n",
       "      <td>8</td>\n",
       "    </tr>\n",
       "    <tr>\n",
       "      <th>CERN-PROD</th>\n",
       "      <td>4</td>\n",
       "      <td>10</td>\n",
       "      <td>1</td>\n",
       "      <td>13</td>\n",
       "      <td>11</td>\n",
       "      <td>7</td>\n",
       "      <td>3</td>\n",
       "      <td>2</td>\n",
       "      <td>5</td>\n",
       "      <td>1</td>\n",
       "      <td>5</td>\n",
       "      <td>0</td>\n",
       "    </tr>\n",
       "    <tr>\n",
       "      <th>CSCS-LCG2</th>\n",
       "      <td>6</td>\n",
       "      <td>0</td>\n",
       "      <td>4</td>\n",
       "      <td>1</td>\n",
       "      <td>7</td>\n",
       "      <td>1</td>\n",
       "      <td>2</td>\n",
       "      <td>15</td>\n",
       "      <td>0</td>\n",
       "      <td>1</td>\n",
       "      <td>8</td>\n",
       "      <td>1</td>\n",
       "    </tr>\n",
       "    <tr>\n",
       "      <th>DESY-HH</th>\n",
       "      <td>0</td>\n",
       "      <td>1</td>\n",
       "      <td>7</td>\n",
       "      <td>9</td>\n",
       "      <td>2</td>\n",
       "      <td>0</td>\n",
       "      <td>1</td>\n",
       "      <td>0</td>\n",
       "      <td>10</td>\n",
       "      <td>0</td>\n",
       "      <td>6</td>\n",
       "      <td>14</td>\n",
       "    </tr>\n",
       "    <tr>\n",
       "      <th>FZK-LCG2</th>\n",
       "      <td>1</td>\n",
       "      <td>2</td>\n",
       "      <td>1</td>\n",
       "      <td>15</td>\n",
       "      <td>2</td>\n",
       "      <td>2</td>\n",
       "      <td>2</td>\n",
       "      <td>4</td>\n",
       "      <td>0</td>\n",
       "      <td>6</td>\n",
       "      <td>5</td>\n",
       "      <td>5</td>\n",
       "    </tr>\n",
       "    <tr>\n",
       "      <th>IN2P3-CC</th>\n",
       "      <td>1</td>\n",
       "      <td>2</td>\n",
       "      <td>1</td>\n",
       "      <td>11</td>\n",
       "      <td>10</td>\n",
       "      <td>6</td>\n",
       "      <td>1</td>\n",
       "      <td>0</td>\n",
       "      <td>1</td>\n",
       "      <td>7</td>\n",
       "      <td>8</td>\n",
       "      <td>14</td>\n",
       "    </tr>\n",
       "    <tr>\n",
       "      <th>INFN-T1</th>\n",
       "      <td>6</td>\n",
       "      <td>1</td>\n",
       "      <td>4</td>\n",
       "      <td>13</td>\n",
       "      <td>1</td>\n",
       "      <td>4</td>\n",
       "      <td>5</td>\n",
       "      <td>14</td>\n",
       "      <td>0</td>\n",
       "      <td>9</td>\n",
       "      <td>8</td>\n",
       "      <td>11</td>\n",
       "    </tr>\n",
       "    <tr>\n",
       "      <th>NIKHEF-ELPROD</th>\n",
       "      <td>0</td>\n",
       "      <td>1</td>\n",
       "      <td>6</td>\n",
       "      <td>10</td>\n",
       "      <td>7</td>\n",
       "      <td>6</td>\n",
       "      <td>0</td>\n",
       "      <td>1</td>\n",
       "      <td>3</td>\n",
       "      <td>1</td>\n",
       "      <td>0</td>\n",
       "      <td>1</td>\n",
       "    </tr>\n",
       "    <tr>\n",
       "      <th>RAL-LCG2</th>\n",
       "      <td>1</td>\n",
       "      <td>2</td>\n",
       "      <td>5</td>\n",
       "      <td>12</td>\n",
       "      <td>0</td>\n",
       "      <td>4</td>\n",
       "      <td>2</td>\n",
       "      <td>0</td>\n",
       "      <td>6</td>\n",
       "      <td>0</td>\n",
       "      <td>8</td>\n",
       "      <td>7</td>\n",
       "    </tr>\n",
       "    <tr>\n",
       "      <th>TRIUMF-LCG2</th>\n",
       "      <td>0</td>\n",
       "      <td>1</td>\n",
       "      <td>1</td>\n",
       "      <td>11</td>\n",
       "      <td>0</td>\n",
       "      <td>5</td>\n",
       "      <td>0</td>\n",
       "      <td>0</td>\n",
       "      <td>0</td>\n",
       "      <td>0</td>\n",
       "      <td>7</td>\n",
       "      <td>9</td>\n",
       "    </tr>\n",
       "    <tr>\n",
       "      <th>UKI-SCOTGRID-GLASGOW</th>\n",
       "      <td>2</td>\n",
       "      <td>0</td>\n",
       "      <td>6</td>\n",
       "      <td>8</td>\n",
       "      <td>0</td>\n",
       "      <td>2</td>\n",
       "      <td>6</td>\n",
       "      <td>8</td>\n",
       "      <td>0</td>\n",
       "      <td>0</td>\n",
       "      <td>5</td>\n",
       "      <td>6</td>\n",
       "    </tr>\n",
       "    <tr>\n",
       "      <th>UNKNOWN</th>\n",
       "      <td>1</td>\n",
       "      <td>2</td>\n",
       "      <td>5</td>\n",
       "      <td>4</td>\n",
       "      <td>21</td>\n",
       "      <td>1</td>\n",
       "      <td>1</td>\n",
       "      <td>0</td>\n",
       "      <td>2</td>\n",
       "      <td>1</td>\n",
       "      <td>5</td>\n",
       "      <td>1</td>\n",
       "    </tr>\n",
       "  </tbody>\n",
       "</table>\n",
       "</div>"
      ],
      "text/plain": [
       "dst_site              BNL-ATLAS  BU_ATLAS_Tier2  CERN-PROD  CSCS-LCG2  \\\n",
       "src_site                                                                \n",
       "BNL-ATLAS                     1              17          9         11   \n",
       "CERN-PROD                     4              10          1         13   \n",
       "CSCS-LCG2                     6               0          4          1   \n",
       "DESY-HH                       0               1          7          9   \n",
       "FZK-LCG2                      1               2          1         15   \n",
       "IN2P3-CC                      1               2          1         11   \n",
       "INFN-T1                       6               1          4         13   \n",
       "NIKHEF-ELPROD                 0               1          6         10   \n",
       "RAL-LCG2                      1               2          5         12   \n",
       "TRIUMF-LCG2                   0               1          1         11   \n",
       "UKI-SCOTGRID-GLASGOW          2               0          6          8   \n",
       "UNKNOWN                       1               2          5          4   \n",
       "\n",
       "dst_site              DESY-HH  FZK-LCG2  MWT2  RAL-LCG2  Taiwan-LCG2  \\\n",
       "src_site                                                               \n",
       "BNL-ATLAS                   7         2     8         8            5   \n",
       "CERN-PROD                  11         7     3         2            5   \n",
       "CSCS-LCG2                   7         1     2        15            0   \n",
       "DESY-HH                     2         0     1         0           10   \n",
       "FZK-LCG2                    2         2     2         4            0   \n",
       "IN2P3-CC                   10         6     1         0            1   \n",
       "INFN-T1                     1         4     5        14            0   \n",
       "NIKHEF-ELPROD               7         6     0         1            3   \n",
       "RAL-LCG2                    0         4     2         0            6   \n",
       "TRIUMF-LCG2                 0         5     0         0            0   \n",
       "UKI-SCOTGRID-GLASGOW        0         2     6         8            0   \n",
       "UNKNOWN                    21         1     1         0            2   \n",
       "\n",
       "dst_site              UKI-LT2-QMUL  UKI-SCOTGRID-DURHAM  UNKNOWN  \n",
       "src_site                                                          \n",
       "BNL-ATLAS                       13                    7        8  \n",
       "CERN-PROD                        1                    5        0  \n",
       "CSCS-LCG2                        1                    8        1  \n",
       "DESY-HH                          0                    6       14  \n",
       "FZK-LCG2                         6                    5        5  \n",
       "IN2P3-CC                         7                    8       14  \n",
       "INFN-T1                          9                    8       11  \n",
       "NIKHEF-ELPROD                    1                    0        1  \n",
       "RAL-LCG2                         0                    8        7  \n",
       "TRIUMF-LCG2                      0                    7        9  \n",
       "UKI-SCOTGRID-GLASGOW             0                    5        6  \n",
       "UNKNOWN                          1                    5        1  "
      ]
     },
     "execution_count": 46,
     "metadata": {},
     "output_type": "execute_result"
    }
   ],
   "source": [
    "bivar_sites = pd.crosstab(index=errors_top_sites[\"src_site\"], \n",
    "                          columns=errors_top_sites[\"dst_site\"])\n",
    "\n",
    "bivar_sites"
   ]
  },
  {
   "cell_type": "code",
   "execution_count": 47,
   "metadata": {
    "ExecuteTime": {
     "end_time": "2019-10-08T14:17:24.057128Z",
     "start_time": "2019-10-08T14:17:23.498146Z"
    }
   },
   "outputs": [
    {
     "data": {
      "image/png": "[encoded data removed]",
      "text/plain": [
       "<Figure size 864x2160 with 1 Axes>"
      ]
     },
     "metadata": {
      "needs_background": "light"
     },
     "output_type": "display_data"
    }
   ],
   "source": [
    "brplt = bivar_sites.plot(kind=\"barh\", \n",
    "                 figsize=(12,30),\n",
    "                 stacked=False, title=\"Transfer Errors: top 12 sites distribution\", sort_columns=True)\n",
    "_ = plt.xlabel(\"Source site\")\n",
    "_ = plt.ylabel(\"Count\")"
   ]
  },
  {
   "cell_type": "markdown",
   "metadata": {},
   "source": [
    "# Analysis/Modeling\n",
    "Do work here"
   ]
  },
  {
   "cell_type": "markdown",
   "metadata": {},
   "source": [
    "# Results\n",
    "Show graphs and stats here"
   ]
  },
  {
   "cell_type": "markdown",
   "metadata": {},
   "source": [
    "# Conclusions and Next Steps\n",
    "Summarize findings here"
   ]
  },
  {
   "cell_type": "code",
   "execution_count": null,
   "metadata": {},
   "outputs": [],
   "source": []
  }
 ],
 "metadata": {
  "kernelspec": {
   "display_name": "Python 3",
   "language": "python",
   "name": "python3"
  },
  "language_info": {
   "codemirror_mode": {
    "name": "ipython",
    "version": 3
   },
   "file_extension": ".py",
   "mimetype": "text/x-python",
   "name": "python",
   "nbconvert_exporter": "python",
   "pygments_lexer": "ipython3",
   "version": "3.6.7"
  },
  "toc": {
   "base_numbering": 1,
   "nav_menu": {},
   "number_sections": true,
   "sideBar": true,
   "skip_h1_title": false,
   "title_cell": "Table of Contents",
   "title_sidebar": "Contents",
   "toc_cell": false,
   "toc_position": {
    "height": "calc(100% - 180px)",
    "left": "10px",
    "top": "150px",
    "width": "273.5px"
   },
   "toc_section_display": true,
   "toc_window_display": true
  }
 },
 "nbformat": 4,
 "nbformat_minor": 2
}
