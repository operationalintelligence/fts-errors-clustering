{
 "cells": [
  {
   "cell_type": "markdown",
   "metadata": {},
   "source": [
    "# Introduction\n",
    "State notebook purpose here"
   ]
  },
  {
   "cell_type": "markdown",
   "metadata": {},
   "source": [
    "### Imports\n",
    "Import libraries and write settings here."
   ]
  },
  {
   "cell_type": "code",
   "execution_count": 1,
   "metadata": {
    "ExecuteTime": {
     "end_time": "2019-10-07T06:52:16.872192Z",
     "start_time": "2019-10-07T06:52:15.961507Z"
    }
   },
   "outputs": [
    {
     "name": "stderr",
     "output_type": "stream",
     "text": [
      "/home/luca/anaconda3/envs/tensorflow/lib/python3.6/site-packages/plotly/graph_objs/_deprecations.py:558: DeprecationWarning:\n",
      "\n",
      "plotly.graph_objs.YAxis is deprecated.\n",
      "Please replace it with one of the following more specific types\n",
      "  - plotly.graph_objs.layout.YAxis\n",
      "  - plotly.graph_objs.layout.scene.YAxis\n",
      "\n",
      "\n",
      "/home/luca/anaconda3/envs/tensorflow/lib/python3.6/site-packages/plotly/graph_objs/_deprecations.py:531: DeprecationWarning:\n",
      "\n",
      "plotly.graph_objs.XAxis is deprecated.\n",
      "Please replace it with one of the following more specific types\n",
      "  - plotly.graph_objs.layout.XAxis\n",
      "  - plotly.graph_objs.layout.scene.XAxis\n",
      "\n",
      "\n"
     ]
    },
    {
     "data": {
      "text/html": [
       "        <script type=\"text/javascript\">\n",
       "        window.PlotlyConfig = {MathJaxConfig: 'local'};\n",
       "        if (window.MathJax) {MathJax.Hub.Config({SVG: {font: \"STIX-Web\"}});}\n",
       "        if (typeof require !== 'undefined') {\n",
       "        require.undef(\"plotly\");\n",
       "        requirejs.config({\n",
       "            paths: {\n",
       "                'plotly': ['https://cdn.plot.ly/plotly-latest.min']\n",
       "            }\n",
       "        });\n",
       "        require(['plotly'], function(Plotly) {\n",
       "            window._Plotly = Plotly;\n",
       "        });\n",
       "        }\n",
       "        </script>\n",
       "        "
      ]
     },
     "metadata": {},
     "output_type": "display_data"
    }
   ],
   "source": [
    "# Display all cell outputs\n",
    "from IPython.core.interactiveshell import InteractiveShell\n",
    "InteractiveShell.ast_node_interactivity = 'all'\n",
    "\n",
    "from IPython import get_ipython\n",
    "ipython = get_ipython()\n",
    "\n",
    "# autoreload extension\n",
    "if 'autoreload' not in ipython.extension_manager.loaded:\n",
    "    %load_ext autoreload\n",
    "\n",
    "%autoreload 2\n",
    "\n",
    "#import plotly.plotly as py\n",
    "#import plotly.graph_objs as go\n",
    "#from plotly.offline import iplot, init_notebook_mode\n",
    "#init_notebook_mode(connected=True)\n",
    "\n",
    "import cufflinks as cf\n",
    "cf.go_offline(connected=True)\n",
    "cf.set_config_file(theme='white')"
   ]
  },
  {
   "cell_type": "markdown",
   "metadata": {},
   "source": [
    "## General packages "
   ]
  },
  {
   "cell_type": "code",
   "execution_count": 2,
   "metadata": {
    "ExecuteTime": {
     "end_time": "2019-10-07T06:52:22.106269Z",
     "start_time": "2019-10-07T06:52:20.768983Z"
    }
   },
   "outputs": [],
   "source": [
    "# Data manipulation\n",
    "import pandas as pd\n",
    "import numpy as np\n",
    "import json\n",
    "\n",
    "# Visualizations\n",
    "import seaborn as sns\n",
    "from matplotlib import pyplot as plt\n",
    "\n",
    "# Options for pandas\n",
    "pd.options.display.max_columns = 50\n",
    "pd.options.display.max_rows = 30\n",
    "pd.options.display.float_format = '{:,.4f}'.format"
   ]
  },
  {
   "cell_type": "markdown",
   "metadata": {},
   "source": [
    "## Custom imports "
   ]
  },
  {
   "cell_type": "markdown",
   "metadata": {},
   "source": [
    "# Data Exploration "
   ]
  },
  {
   "cell_type": "code",
   "execution_count": 3,
   "metadata": {
    "ExecuteTime": {
     "end_time": "2019-10-07T07:01:36.558609Z",
     "start_time": "2019-10-07T07:01:30.716909Z"
    }
   },
   "outputs": [
    {
     "name": "stdout",
     "output_type": "stream",
     "text": [
      "CPU times: user 5.78 s, sys: 8.06 ms, total: 5.79 s\n",
      "Wall time: 5.82 s\n"
     ]
    }
   ],
   "source": [
    "%%time\n",
    "\n",
    "# read data downloaded through fetch_all_data.py\n",
    "with open(\"issues.json\", 'r') as f:\n",
    "    raw_data = json.load(f)\n",
    "\n",
    "# reorganize them in a pandas dataframe structure    \n",
    "errors = pd.DataFrame()\n",
    "for page in raw_data:\n",
    "    for record in page:\n",
    "        idx = record.pop('id')\n",
    "        temp = pd.DataFrame(record, index=[idx])\n",
    "        errors = errors.append(temp)\n",
    "        #break\n",
    "#     break"
   ]
  },
  {
   "cell_type": "code",
   "execution_count": 4,
   "metadata": {
    "ExecuteTime": {
     "end_time": "2019-10-07T07:01:44.605945Z",
     "start_time": "2019-10-07T07:01:44.561009Z"
    }
   },
   "outputs": [
    {
     "data": {
      "text/html": [
       "<div>\n",
       "<style scoped>\n",
       "    .dataframe tbody tr th:only-of-type {\n",
       "        vertical-align: middle;\n",
       "    }\n",
       "\n",
       "    .dataframe tbody tr th {\n",
       "        vertical-align: top;\n",
       "    }\n",
       "\n",
       "    .dataframe thead th {\n",
       "        text-align: right;\n",
       "    }\n",
       "</style>\n",
       "<table border=\"1\" class=\"dataframe\">\n",
       "  <thead>\n",
       "    <tr style=\"text-align: right;\">\n",
       "      <th></th>\n",
       "      <th>message</th>\n",
       "      <th>src_site</th>\n",
       "      <th>dst_site</th>\n",
       "      <th>category</th>\n",
       "      <th>amount</th>\n",
       "      <th>type</th>\n",
       "      <th>status</th>\n",
       "      <th>last_modified</th>\n",
       "    </tr>\n",
       "  </thead>\n",
       "  <tbody>\n",
       "    <tr>\n",
       "      <th>1</th>\n",
       "      <td>SOURCE [70] globus_xio: Unable to connect to a...</td>\n",
       "      <td>BU_ATLAS_Tier2</td>\n",
       "      <td>BNL-ATLAS</td>\n",
       "      <td>9</td>\n",
       "      <td>178</td>\n",
       "      <td>transfer-failure</td>\n",
       "      <td>New</td>\n",
       "      <td>2019-08-06T14:07:04.412401+02:00</td>\n",
       "    </tr>\n",
       "    <tr>\n",
       "      <th>2</th>\n",
       "      <td>TRANSFER [70] TRANSFER  globus_xio: Unable to ...</td>\n",
       "      <td>BNL-ATLAS</td>\n",
       "      <td>BU_ATLAS_Tier2</td>\n",
       "      <td>10</td>\n",
       "      <td>3288</td>\n",
       "      <td>transfer-failure</td>\n",
       "      <td>New</td>\n",
       "      <td>2019-08-06T14:07:04.595574+02:00</td>\n",
       "    </tr>\n",
       "    <tr>\n",
       "      <th>3</th>\n",
       "      <td>TRANSFER [70] TRANSFER  globus_xio: Unable to ...</td>\n",
       "      <td>INFN-NAPOLI-ATLAS</td>\n",
       "      <td>BU_ATLAS_Tier2</td>\n",
       "      <td>10</td>\n",
       "      <td>3288</td>\n",
       "      <td>transfer-failure</td>\n",
       "      <td>New</td>\n",
       "      <td>2019-08-06T14:07:04.692554+02:00</td>\n",
       "    </tr>\n",
       "    <tr>\n",
       "      <th>4</th>\n",
       "      <td>SOURCE [70] globus_xio: Unable to connect to a...</td>\n",
       "      <td>BU_ATLAS_Tier2</td>\n",
       "      <td>CERN-PROD</td>\n",
       "      <td>11</td>\n",
       "      <td>227</td>\n",
       "      <td>transfer-failure</td>\n",
       "      <td>New</td>\n",
       "      <td>2019-08-06T14:07:04.803866+02:00</td>\n",
       "    </tr>\n",
       "    <tr>\n",
       "      <th>5</th>\n",
       "      <td>SOURCE [70] globus_xio: Unable to connect to a...</td>\n",
       "      <td>BU_ATLAS_Tier2</td>\n",
       "      <td>TOKYO-LCG2</td>\n",
       "      <td>11</td>\n",
       "      <td>130</td>\n",
       "      <td>transfer-failure</td>\n",
       "      <td>New</td>\n",
       "      <td>2019-08-06T14:07:04.891438+02:00</td>\n",
       "    </tr>\n",
       "  </tbody>\n",
       "</table>\n",
       "</div>"
      ],
      "text/plain": [
       "                                             message           src_site  \\\n",
       "1  SOURCE [70] globus_xio: Unable to connect to a...     BU_ATLAS_Tier2   \n",
       "2  TRANSFER [70] TRANSFER  globus_xio: Unable to ...          BNL-ATLAS   \n",
       "3  TRANSFER [70] TRANSFER  globus_xio: Unable to ...  INFN-NAPOLI-ATLAS   \n",
       "4  SOURCE [70] globus_xio: Unable to connect to a...     BU_ATLAS_Tier2   \n",
       "5  SOURCE [70] globus_xio: Unable to connect to a...     BU_ATLAS_Tier2   \n",
       "\n",
       "         dst_site  category  amount              type status  \\\n",
       "1       BNL-ATLAS         9     178  transfer-failure    New   \n",
       "2  BU_ATLAS_Tier2        10    3288  transfer-failure    New   \n",
       "3  BU_ATLAS_Tier2        10    3288  transfer-failure    New   \n",
       "4       CERN-PROD        11     227  transfer-failure    New   \n",
       "5      TOKYO-LCG2        11     130  transfer-failure    New   \n",
       "\n",
       "                      last_modified  \n",
       "1  2019-08-06T14:07:04.412401+02:00  \n",
       "2  2019-08-06T14:07:04.595574+02:00  \n",
       "3  2019-08-06T14:07:04.692554+02:00  \n",
       "4  2019-08-06T14:07:04.803866+02:00  \n",
       "5  2019-08-06T14:07:04.891438+02:00  "
      ]
     },
     "execution_count": 4,
     "metadata": {},
     "output_type": "execute_result"
    }
   ],
   "source": [
    "errors.head()"
   ]
  },
  {
   "cell_type": "code",
   "execution_count": 5,
   "metadata": {
    "ExecuteTime": {
     "end_time": "2019-10-07T07:01:53.431014Z",
     "start_time": "2019-10-07T07:01:53.410498Z"
    }
   },
   "outputs": [
    {
     "data": {
      "text/plain": [
       "message          object\n",
       "src_site         object\n",
       "dst_site         object\n",
       "category          int64\n",
       "amount            int64\n",
       "type             object\n",
       "status           object\n",
       "last_modified    object\n",
       "dtype: object"
      ]
     },
     "execution_count": 5,
     "metadata": {},
     "output_type": "execute_result"
    }
   ],
   "source": [
    "errors.dtypes"
   ]
  },
  {
   "cell_type": "code",
   "execution_count": 8,
   "metadata": {
    "ExecuteTime": {
     "end_time": "2019-09-27T10:28:09.911045Z",
     "start_time": "2019-09-27T10:28:09.840501Z"
    }
   },
   "outputs": [
    {
     "data": {
      "text/html": [
       "<div>\n",
       "<style scoped>\n",
       "    .dataframe tbody tr th:only-of-type {\n",
       "        vertical-align: middle;\n",
       "    }\n",
       "\n",
       "    .dataframe tbody tr th {\n",
       "        vertical-align: top;\n",
       "    }\n",
       "\n",
       "    .dataframe thead th {\n",
       "        text-align: right;\n",
       "    }\n",
       "</style>\n",
       "<table border=\"1\" class=\"dataframe\">\n",
       "  <thead>\n",
       "    <tr style=\"text-align: right;\">\n",
       "      <th></th>\n",
       "      <th>message</th>\n",
       "      <th>src_site</th>\n",
       "      <th>dst_site</th>\n",
       "      <th>category</th>\n",
       "      <th>amount</th>\n",
       "      <th>type</th>\n",
       "      <th>status</th>\n",
       "      <th>last_modified</th>\n",
       "    </tr>\n",
       "  </thead>\n",
       "  <tbody>\n",
       "    <tr>\n",
       "      <th>count</th>\n",
       "      <td>2556</td>\n",
       "      <td>2556</td>\n",
       "      <td>2556</td>\n",
       "      <td>2,556.0000</td>\n",
       "      <td>2,556.0000</td>\n",
       "      <td>2556</td>\n",
       "      <td>2556</td>\n",
       "      <td>2556</td>\n",
       "    </tr>\n",
       "    <tr>\n",
       "      <th>unique</th>\n",
       "      <td>544</td>\n",
       "      <td>89</td>\n",
       "      <td>90</td>\n",
       "      <td>nan</td>\n",
       "      <td>nan</td>\n",
       "      <td>2</td>\n",
       "      <td>1</td>\n",
       "      <td>2456</td>\n",
       "    </tr>\n",
       "    <tr>\n",
       "      <th>top</th>\n",
       "      <td>Transfer has been forced-killed because it was...</td>\n",
       "      <td>INFN-T1</td>\n",
       "      <td>CSCS-LCG2</td>\n",
       "      <td>nan</td>\n",
       "      <td>nan</td>\n",
       "      <td>transfer-failure</td>\n",
       "      <td>New</td>\n",
       "      <td>2019-08-07T12:00:06.082553+02:00</td>\n",
       "    </tr>\n",
       "    <tr>\n",
       "      <th>freq</th>\n",
       "      <td>67</td>\n",
       "      <td>186</td>\n",
       "      <td>305</td>\n",
       "      <td>nan</td>\n",
       "      <td>nan</td>\n",
       "      <td>2421</td>\n",
       "      <td>2556</td>\n",
       "      <td>2</td>\n",
       "    </tr>\n",
       "    <tr>\n",
       "      <th>mean</th>\n",
       "      <td>NaN</td>\n",
       "      <td>NaN</td>\n",
       "      <td>NaN</td>\n",
       "      <td>148.1839</td>\n",
       "      <td>2,149.5356</td>\n",
       "      <td>NaN</td>\n",
       "      <td>NaN</td>\n",
       "      <td>NaN</td>\n",
       "    </tr>\n",
       "    <tr>\n",
       "      <th>std</th>\n",
       "      <td>NaN</td>\n",
       "      <td>NaN</td>\n",
       "      <td>NaN</td>\n",
       "      <td>90.2092</td>\n",
       "      <td>5,868.3735</td>\n",
       "      <td>NaN</td>\n",
       "      <td>NaN</td>\n",
       "      <td>NaN</td>\n",
       "    </tr>\n",
       "    <tr>\n",
       "      <th>min</th>\n",
       "      <td>NaN</td>\n",
       "      <td>NaN</td>\n",
       "      <td>NaN</td>\n",
       "      <td>4.0000</td>\n",
       "      <td>1.0000</td>\n",
       "      <td>NaN</td>\n",
       "      <td>NaN</td>\n",
       "      <td>NaN</td>\n",
       "    </tr>\n",
       "    <tr>\n",
       "      <th>25%</th>\n",
       "      <td>NaN</td>\n",
       "      <td>NaN</td>\n",
       "      <td>NaN</td>\n",
       "      <td>71.0000</td>\n",
       "      <td>108.7500</td>\n",
       "      <td>NaN</td>\n",
       "      <td>NaN</td>\n",
       "      <td>NaN</td>\n",
       "    </tr>\n",
       "    <tr>\n",
       "      <th>50%</th>\n",
       "      <td>NaN</td>\n",
       "      <td>NaN</td>\n",
       "      <td>NaN</td>\n",
       "      <td>128.0000</td>\n",
       "      <td>538.0000</td>\n",
       "      <td>NaN</td>\n",
       "      <td>NaN</td>\n",
       "      <td>NaN</td>\n",
       "    </tr>\n",
       "    <tr>\n",
       "      <th>75%</th>\n",
       "      <td>NaN</td>\n",
       "      <td>NaN</td>\n",
       "      <td>NaN</td>\n",
       "      <td>235.0000</td>\n",
       "      <td>1,488.0000</td>\n",
       "      <td>NaN</td>\n",
       "      <td>NaN</td>\n",
       "      <td>NaN</td>\n",
       "    </tr>\n",
       "    <tr>\n",
       "      <th>max</th>\n",
       "      <td>NaN</td>\n",
       "      <td>NaN</td>\n",
       "      <td>NaN</td>\n",
       "      <td>321.0000</td>\n",
       "      <td>104,566.0000</td>\n",
       "      <td>NaN</td>\n",
       "      <td>NaN</td>\n",
       "      <td>NaN</td>\n",
       "    </tr>\n",
       "  </tbody>\n",
       "</table>\n",
       "</div>"
      ],
      "text/plain": [
       "                                                  message src_site   dst_site  \\\n",
       "count                                                2556     2556       2556   \n",
       "unique                                                544       89         90   \n",
       "top     Transfer has been forced-killed because it was...  INFN-T1  CSCS-LCG2   \n",
       "freq                                                   67      186        305   \n",
       "mean                                                  NaN      NaN        NaN   \n",
       "std                                                   NaN      NaN        NaN   \n",
       "min                                                   NaN      NaN        NaN   \n",
       "25%                                                   NaN      NaN        NaN   \n",
       "50%                                                   NaN      NaN        NaN   \n",
       "75%                                                   NaN      NaN        NaN   \n",
       "max                                                   NaN      NaN        NaN   \n",
       "\n",
       "         category       amount              type status  \\\n",
       "count  2,556.0000   2,556.0000              2556   2556   \n",
       "unique        nan          nan                 2      1   \n",
       "top           nan          nan  transfer-failure    New   \n",
       "freq          nan          nan              2421   2556   \n",
       "mean     148.1839   2,149.5356               NaN    NaN   \n",
       "std       90.2092   5,868.3735               NaN    NaN   \n",
       "min        4.0000       1.0000               NaN    NaN   \n",
       "25%       71.0000     108.7500               NaN    NaN   \n",
       "50%      128.0000     538.0000               NaN    NaN   \n",
       "75%      235.0000   1,488.0000               NaN    NaN   \n",
       "max      321.0000 104,566.0000               NaN    NaN   \n",
       "\n",
       "                           last_modified  \n",
       "count                               2556  \n",
       "unique                              2456  \n",
       "top     2019-08-07T12:00:06.082553+02:00  \n",
       "freq                                   2  \n",
       "mean                                 NaN  \n",
       "std                                  NaN  \n",
       "min                                  NaN  \n",
       "25%                                  NaN  \n",
       "50%                                  NaN  \n",
       "75%                                  NaN  \n",
       "max                                  NaN  "
      ]
     },
     "execution_count": 8,
     "metadata": {},
     "output_type": "execute_result"
    }
   ],
   "source": [
    "errors.describe(include=['object', 'category', 'int64'])\n",
    "# errors.describe(include=['category'])"
   ]
  },
  {
   "cell_type": "code",
   "execution_count": 9,
   "metadata": {
    "ExecuteTime": {
     "end_time": "2019-09-27T10:28:19.945173Z",
     "start_time": "2019-09-27T10:28:19.902833Z"
    }
   },
   "outputs": [
    {
     "data": {
      "text/html": [
       "<div>\n",
       "<style scoped>\n",
       "    .dataframe tbody tr th:only-of-type {\n",
       "        vertical-align: middle;\n",
       "    }\n",
       "\n",
       "    .dataframe tbody tr th {\n",
       "        vertical-align: top;\n",
       "    }\n",
       "\n",
       "    .dataframe thead th {\n",
       "        text-align: right;\n",
       "    }\n",
       "</style>\n",
       "<table border=\"1\" class=\"dataframe\">\n",
       "  <thead>\n",
       "    <tr style=\"text-align: right;\">\n",
       "      <th></th>\n",
       "      <th>message</th>\n",
       "      <th>src_site</th>\n",
       "      <th>dst_site</th>\n",
       "      <th>category</th>\n",
       "      <th>amount</th>\n",
       "      <th>type</th>\n",
       "      <th>status</th>\n",
       "      <th>last_modified</th>\n",
       "    </tr>\n",
       "  </thead>\n",
       "  <tbody>\n",
       "  </tbody>\n",
       "</table>\n",
       "</div>"
      ],
      "text/plain": [
       "Empty DataFrame\n",
       "Columns: [message, src_site, dst_site, category, amount, type, status, last_modified]\n",
       "Index: []"
      ]
     },
     "execution_count": 9,
     "metadata": {},
     "output_type": "execute_result"
    }
   ],
   "source": [
    "errors[errors.isnull().any(axis=1)]"
   ]
  },
  {
   "cell_type": "markdown",
   "metadata": {},
   "source": [
    "<div class=\"alert alert-block alert-info\">\n",
    "<b>Tip:</b> In case we need to fill NAs:\n",
    "    \n",
    "`errors = errors.fillna({\"VAR_NAME\": <FILL_VALUE>})`\n",
    "\n",
    "In order to choose how to impute missing values, a simple strategy may be to look at the most common value:\n",
    "\n",
    "`errrors.<VAR_NAME>.value_counts()`\n",
    "</div>"
   ]
  },
  {
   "cell_type": "code",
   "execution_count": 10,
   "metadata": {
    "ExecuteTime": {
     "end_time": "2019-09-27T10:28:23.599412Z",
     "start_time": "2019-09-27T10:28:23.558062Z"
    },
    "scrolled": true
   },
   "outputs": [
    {
     "name": "stdout",
     "output_type": "stream",
     "text": [
      "Source site distribution:\n",
      " INFN-T1                 186\n",
      "BNL-ATLAS               177\n",
      "UNKNOWN                 140\n",
      "CERN-PROD               123\n",
      "CSCS-LCG2               119\n",
      "FZK-LCG2                 87\n",
      "IN2P3-CC                 68\n",
      "RAL-LCG2                 65\n",
      "NIKHEF-ELPROD            63\n",
      "DESY-HH                  61\n",
      "UKI-SCOTGRID-GLASGOW     58\n",
      "TRIUMF-LCG2              56\n",
      "pic                      53\n",
      "Taiwan-LCG2              52\n",
      "NDGF-T1                  51\n",
      "                       ... \n",
      "Nevis                     3\n",
      "UKI-SCOTGRID-ECDF         3\n",
      "ZA-CHPC                   3\n",
      "ZA-WITS-CORE              3\n",
      "PSNC                      3\n",
      "NERSC-PDSF                3\n",
      "HK-LCG2                   2\n",
      "mainz                     1\n",
      "IL-TAU-HEP                1\n",
      "FR-ALPES                  1\n",
      "INFN-ROMA2                1\n",
      "UKI-SOUTHGRID-SUSX        1\n",
      "INFN-LECCE                1\n",
      "RU-Protvino-IHEP          1\n",
      "INFN-GENOVA               1\n",
      "Name: src_site, Length: 89, dtype: int64\n",
      "\n",
      "Destination site distribution:\n",
      " CSCS-LCG2                 305\n",
      "UKI-SCOTGRID-DURHAM       268\n",
      "UNKNOWN                   256\n",
      "DESY-HH                   104\n",
      "CERN-PROD                 101\n",
      "BU_ATLAS_Tier2             76\n",
      "RAL-LCG2                   76\n",
      "FZK-LCG2                   75\n",
      "Taiwan-LCG2                60\n",
      "BNL-ATLAS                  57\n",
      "UKI-LT2-RHUL               56\n",
      "TRIUMF-LCG2                52\n",
      "UKI-SCOTGRID-GLASGOW       47\n",
      "MWT2                       45\n",
      "RO-07-NIPNE                44\n",
      "                         ... \n",
      "INFN-ROMA3                  2\n",
      "ifae                        2\n",
      "INFN-TRIESTE                2\n",
      "UTA_SWT2                    2\n",
      "UKI-SOUTHGRID-BHAM-HEP      1\n",
      "WEIZMANN-LCG2               1\n",
      "BNLLAKE                     1\n",
      "UKI-LT2-Brunel              1\n",
      "JINR-LCG2                   1\n",
      "mainz                       1\n",
      "FR-ALPES                    1\n",
      "INFN-LECCE                  1\n",
      "RU-Protvino-IHEP            1\n",
      "ZA-WITS-CORE                1\n",
      "OU_OSCER_ATLAS              1\n",
      "Name: dst_site, Length: 90, dtype: int64\n"
     ]
    }
   ],
   "source": [
    "print(\"Source site distribution:\\n\", errors[\"src_site\"].value_counts())\n",
    "print(\"\\nDestination site distribution:\\n\", errors[\"dst_site\"].value_counts())"
   ]
  },
  {
   "cell_type": "code",
   "execution_count": 22,
   "metadata": {
    "ExecuteTime": {
     "end_time": "2019-09-27T10:33:52.530067Z",
     "start_time": "2019-09-27T10:33:52.503822Z"
    }
   },
   "outputs": [
    {
     "data": {
      "text/plain": [
       "0.6232394366197183"
      ]
     },
     "execution_count": 22,
     "metadata": {},
     "output_type": "execute_result"
    },
    {
     "data": {
      "text/plain": [
       "0.7077464788732396"
      ]
     },
     "execution_count": 22,
     "metadata": {},
     "output_type": "execute_result"
    }
   ],
   "source": [
    "top_n = 12\n",
    "np.sum(errors.src_site.value_counts()[:cutoff] / np.sum(errors.src_site.value_counts()) )\n",
    "np.sum(errors.dst_site.value_counts()[:cutoff] / np.sum(errors.dst_site.value_counts()) )"
   ]
  },
  {
   "cell_type": "code",
   "execution_count": 23,
   "metadata": {
    "ExecuteTime": {
     "end_time": "2019-09-27T10:33:56.990317Z",
     "start_time": "2019-09-27T10:33:56.949195Z"
    }
   },
   "outputs": [],
   "source": [
    "top_lbl_src = errors.src_site.value_counts().index.tolist()[:top_n]\n",
    "top_lbl_dst = errors.dst_site.value_counts().index.tolist()[:top_n]"
   ]
  },
  {
   "cell_type": "code",
   "execution_count": 27,
   "metadata": {
    "ExecuteTime": {
     "end_time": "2019-09-27T10:36:51.722947Z",
     "start_time": "2019-09-27T10:36:51.698315Z"
    }
   },
   "outputs": [],
   "source": [
    "errors_top_sites = errors.query(\"src_site in @top_lbl_src and dst_site in @top_lbl_dst\")"
   ]
  },
  {
   "cell_type": "code",
   "execution_count": 28,
   "metadata": {
    "ExecuteTime": {
     "end_time": "2019-09-27T10:36:54.063570Z",
     "start_time": "2019-09-27T10:36:54.039969Z"
    }
   },
   "outputs": [],
   "source": [
    "temp = errors_top_sites[[\"src_site\", \"dst_site\"]]"
   ]
  },
  {
   "cell_type": "code",
   "execution_count": 45,
   "metadata": {
    "ExecuteTime": {
     "end_time": "2019-09-27T10:45:53.724626Z",
     "start_time": "2019-09-27T10:45:53.679238Z"
    }
   },
   "outputs": [
    {
     "data": {
      "text/html": [
       "<div>\n",
       "<style scoped>\n",
       "    .dataframe tbody tr th:only-of-type {\n",
       "        vertical-align: middle;\n",
       "    }\n",
       "\n",
       "    .dataframe tbody tr th {\n",
       "        vertical-align: top;\n",
       "    }\n",
       "\n",
       "    .dataframe thead th {\n",
       "        text-align: right;\n",
       "    }\n",
       "</style>\n",
       "<table border=\"1\" class=\"dataframe\">\n",
       "  <thead>\n",
       "    <tr style=\"text-align: right;\">\n",
       "      <th></th>\n",
       "      <th>message</th>\n",
       "      <th>src_site</th>\n",
       "      <th>dst_site</th>\n",
       "      <th>category</th>\n",
       "      <th>amount</th>\n",
       "      <th>type</th>\n",
       "      <th>status</th>\n",
       "      <th>last_modified</th>\n",
       "    </tr>\n",
       "  </thead>\n",
       "  <tbody>\n",
       "    <tr>\n",
       "      <th>2</th>\n",
       "      <td>TRANSFER [70] TRANSFER  globus_xio: Unable to ...</td>\n",
       "      <td>BNL-ATLAS</td>\n",
       "      <td>BU_ATLAS_Tier2</td>\n",
       "      <td>10</td>\n",
       "      <td>3288</td>\n",
       "      <td>transfer-failure</td>\n",
       "      <td>New</td>\n",
       "      <td>2019-08-06T14:07:04.595574+02:00</td>\n",
       "    </tr>\n",
       "    <tr>\n",
       "      <th>13</th>\n",
       "      <td>SOURCE [70] srm-ifce err: Communication error ...</td>\n",
       "      <td>INFN-T1</td>\n",
       "      <td>RAL-LCG2</td>\n",
       "      <td>19</td>\n",
       "      <td>693</td>\n",
       "      <td>transfer-failure</td>\n",
       "      <td>New</td>\n",
       "      <td>2019-08-23T10:00:07.897494+02:00</td>\n",
       "    </tr>\n",
       "    <tr>\n",
       "      <th>17</th>\n",
       "      <td>Failed to stage-out logs to OS: no OS_LOGS ddm...</td>\n",
       "      <td>IN2P3-CC</td>\n",
       "      <td>UNKNOWN</td>\n",
       "      <td>23</td>\n",
       "      <td>1</td>\n",
       "      <td>transfer-failure</td>\n",
       "      <td>New</td>\n",
       "      <td>2019-08-07T19:00:04.747496+02:00</td>\n",
       "    </tr>\n",
       "    <tr>\n",
       "      <th>21</th>\n",
       "      <td>Could not figure out destination path from dst...</td>\n",
       "      <td>IN2P3-CC</td>\n",
       "      <td>UNKNOWN</td>\n",
       "      <td>24</td>\n",
       "      <td>2</td>\n",
       "      <td>transfer-failure</td>\n",
       "      <td>New</td>\n",
       "      <td>2019-09-18T23:00:09.645147+02:00</td>\n",
       "    </tr>\n",
       "    <tr>\n",
       "      <th>32</th>\n",
       "      <td>Copy operation failed [is_stagein=False]: None...</td>\n",
       "      <td>IN2P3-CC</td>\n",
       "      <td>UNKNOWN</td>\n",
       "      <td>21</td>\n",
       "      <td>8</td>\n",
       "      <td>transfer-failure</td>\n",
       "      <td>New</td>\n",
       "      <td>2019-09-05T21:00:06.267795+02:00</td>\n",
       "    </tr>\n",
       "  </tbody>\n",
       "</table>\n",
       "</div>"
      ],
      "text/plain": [
       "                                              message   src_site  \\\n",
       "2   TRANSFER [70] TRANSFER  globus_xio: Unable to ...  BNL-ATLAS   \n",
       "13  SOURCE [70] srm-ifce err: Communication error ...    INFN-T1   \n",
       "17  Failed to stage-out logs to OS: no OS_LOGS ddm...   IN2P3-CC   \n",
       "21  Could not figure out destination path from dst...   IN2P3-CC   \n",
       "32  Copy operation failed [is_stagein=False]: None...   IN2P3-CC   \n",
       "\n",
       "          dst_site  category  amount              type status  \\\n",
       "2   BU_ATLAS_Tier2        10    3288  transfer-failure    New   \n",
       "13        RAL-LCG2        19     693  transfer-failure    New   \n",
       "17         UNKNOWN        23       1  transfer-failure    New   \n",
       "21         UNKNOWN        24       2  transfer-failure    New   \n",
       "32         UNKNOWN        21       8  transfer-failure    New   \n",
       "\n",
       "                       last_modified  \n",
       "2   2019-08-06T14:07:04.595574+02:00  \n",
       "13  2019-08-23T10:00:07.897494+02:00  \n",
       "17  2019-08-07T19:00:04.747496+02:00  \n",
       "21  2019-09-18T23:00:09.645147+02:00  \n",
       "32  2019-09-05T21:00:06.267795+02:00  "
      ]
     },
     "execution_count": 45,
     "metadata": {},
     "output_type": "execute_result"
    }
   ],
   "source": [
    "val = \"transfer-failure\"\n",
    "errors_top_sites.query(\"type==@val \").head()"
   ]
  },
  {
   "cell_type": "code",
   "execution_count": 71,
   "metadata": {
    "ExecuteTime": {
     "end_time": "2019-09-27T11:20:23.568102Z",
     "start_time": "2019-09-27T11:20:22.673741Z"
    }
   },
   "outputs": [
    {
     "name": "stdout",
     "output_type": "stream",
     "text": [
      "CPU times: user 437 ms, sys: 168 ms, total: 605 ms\n",
      "Wall time: 223 ms\n"
     ]
    },
    {
     "data": {
      "image/png": "[encoded data removed]",
      "text/plain": [
       "<Figure size 864x1080 with 1 Axes>"
      ]
     },
     "metadata": {
      "needs_background": "light"
     },
     "output_type": "display_data"
    },
    {
     "data": {
      "image/png": "[encoded data removed]",
      "text/plain": [
       "<Figure size 523.875x360 with 1 Axes>"
      ]
     },
     "metadata": {
      "needs_background": "light"
     },
     "output_type": "display_data"
    }
   ],
   "source": [
    "%%time\n",
    "\n",
    "val = \"deletion-failure\"\n",
    "\n",
    "f, ax = plt.subplots(figsize=(12, 15))\n",
    "sns.catplot(ax=ax, y=\"dst_site\", hue=\"src_site\", kind=\"count\",\n",
    "            palette=\"pastel\", edgecolor=\".6\", #order = top_lbl_dst[::-1],\n",
    "            data=errors_top_sites)#errors_top_sites.query(\"type==@val \"))"
   ]
  },
  {
   "cell_type": "code",
   "execution_count": 76,
   "metadata": {
    "ExecuteTime": {
     "end_time": "2019-09-27T11:26:47.249797Z",
     "start_time": "2019-09-27T11:26:47.207478Z"
    }
   },
   "outputs": [
    {
     "data": {
      "text/plain": [
       "src_site              dst_site           \n",
       "BNL-ATLAS             BNL-ATLAS               1\n",
       "                      BU_ATLAS_Tier2         17\n",
       "                      CERN-PROD               9\n",
       "                      CSCS-LCG2              11\n",
       "                      DESY-HH                 7\n",
       "                      FZK-LCG2                2\n",
       "                      RAL-LCG2                8\n",
       "                      TRIUMF-LCG2             2\n",
       "                      Taiwan-LCG2             5\n",
       "                      UKI-LT2-RHUL            7\n",
       "                      UKI-SCOTGRID-DURHAM     7\n",
       "                      UNKNOWN                 8\n",
       "CERN-PROD             BNL-ATLAS               4\n",
       "                      BU_ATLAS_Tier2         10\n",
       "                      CERN-PROD               1\n",
       "                                             ..\n",
       "UKI-SCOTGRID-GLASGOW  FZK-LCG2                2\n",
       "                      RAL-LCG2                8\n",
       "                      UKI-SCOTGRID-DURHAM     2\n",
       "                      UNKNOWN                 6\n",
       "UNKNOWN               BNL-ATLAS               1\n",
       "                      BU_ATLAS_Tier2          2\n",
       "                      CERN-PROD               5\n",
       "                      CSCS-LCG2               4\n",
       "                      DESY-HH                21\n",
       "                      FZK-LCG2                1\n",
       "                      TRIUMF-LCG2             1\n",
       "                      Taiwan-LCG2             1\n",
       "                      UKI-LT2-RHUL            3\n",
       "                      UKI-SCOTGRID-DURHAM     5\n",
       "                      UNKNOWN                 1\n",
       "Length: 112, dtype: int64"
      ]
     },
     "execution_count": 76,
     "metadata": {},
     "output_type": "execute_result"
    }
   ],
   "source": [
    "# grouped = train.groupby(['cut','clarity'])\n",
    "# grouped.size()\n",
    "\n",
    "grouped = errors_top_sites.groupby([\"src_site\", \"dst_site\"])\n",
    "grouped.size()"
   ]
  },
  {
   "cell_type": "code",
   "execution_count": 74,
   "metadata": {
    "ExecuteTime": {
     "end_time": "2019-09-27T11:23:34.580104Z",
     "start_time": "2019-09-27T11:23:34.535760Z"
    }
   },
   "outputs": [
    {
     "data": {
      "text/plain": [
       "<pandas.core.groupby.generic.DataFrameGroupBy object at 0x7f52e32f0b38>"
      ]
     },
     "execution_count": 74,
     "metadata": {},
     "output_type": "execute_result"
    }
   ],
   "source": [
    "grouped"
   ]
  },
  {
   "cell_type": "code",
   "execution_count": 52,
   "metadata": {
    "ExecuteTime": {
     "end_time": "2019-09-27T11:01:35.671183Z",
     "start_time": "2019-09-27T11:01:35.628859Z"
    }
   },
   "outputs": [],
   "source": [
    "bivar_sites = pd.crosstab(index=errors_top_sites[\"src_site\"], \n",
    "                          columns=errors_top_sites[\"dst_site\"])"
   ]
  },
  {
   "cell_type": "code",
   "execution_count": 54,
   "metadata": {
    "ExecuteTime": {
     "end_time": "2019-09-27T11:02:13.143170Z",
     "start_time": "2019-09-27T11:02:13.114326Z"
    }
   },
   "outputs": [
    {
     "data": {
      "text/html": [
       "<div>\n",
       "<style scoped>\n",
       "    .dataframe tbody tr th:only-of-type {\n",
       "        vertical-align: middle;\n",
       "    }\n",
       "\n",
       "    .dataframe tbody tr th {\n",
       "        vertical-align: top;\n",
       "    }\n",
       "\n",
       "    .dataframe thead th {\n",
       "        text-align: right;\n",
       "    }\n",
       "</style>\n",
       "<table border=\"1\" class=\"dataframe\">\n",
       "  <thead>\n",
       "    <tr style=\"text-align: right;\">\n",
       "      <th>dst_site</th>\n",
       "      <th>BNL-ATLAS</th>\n",
       "      <th>BU_ATLAS_Tier2</th>\n",
       "      <th>CERN-PROD</th>\n",
       "      <th>CSCS-LCG2</th>\n",
       "      <th>DESY-HH</th>\n",
       "      <th>FZK-LCG2</th>\n",
       "      <th>RAL-LCG2</th>\n",
       "      <th>TRIUMF-LCG2</th>\n",
       "      <th>Taiwan-LCG2</th>\n",
       "      <th>UKI-LT2-RHUL</th>\n",
       "      <th>UKI-SCOTGRID-DURHAM</th>\n",
       "      <th>UNKNOWN</th>\n",
       "    </tr>\n",
       "    <tr>\n",
       "      <th>src_site</th>\n",
       "      <th></th>\n",
       "      <th></th>\n",
       "      <th></th>\n",
       "      <th></th>\n",
       "      <th></th>\n",
       "      <th></th>\n",
       "      <th></th>\n",
       "      <th></th>\n",
       "      <th></th>\n",
       "      <th></th>\n",
       "      <th></th>\n",
       "      <th></th>\n",
       "    </tr>\n",
       "  </thead>\n",
       "  <tbody>\n",
       "    <tr>\n",
       "      <th>BNL-ATLAS</th>\n",
       "      <td>1</td>\n",
       "      <td>17</td>\n",
       "      <td>9</td>\n",
       "      <td>11</td>\n",
       "      <td>7</td>\n",
       "      <td>2</td>\n",
       "      <td>8</td>\n",
       "      <td>2</td>\n",
       "      <td>5</td>\n",
       "      <td>7</td>\n",
       "      <td>7</td>\n",
       "      <td>8</td>\n",
       "    </tr>\n",
       "    <tr>\n",
       "      <th>CERN-PROD</th>\n",
       "      <td>4</td>\n",
       "      <td>10</td>\n",
       "      <td>1</td>\n",
       "      <td>13</td>\n",
       "      <td>11</td>\n",
       "      <td>7</td>\n",
       "      <td>2</td>\n",
       "      <td>2</td>\n",
       "      <td>5</td>\n",
       "      <td>4</td>\n",
       "      <td>2</td>\n",
       "      <td>0</td>\n",
       "    </tr>\n",
       "    <tr>\n",
       "      <th>CSCS-LCG2</th>\n",
       "      <td>6</td>\n",
       "      <td>0</td>\n",
       "      <td>4</td>\n",
       "      <td>0</td>\n",
       "      <td>7</td>\n",
       "      <td>1</td>\n",
       "      <td>15</td>\n",
       "      <td>7</td>\n",
       "      <td>0</td>\n",
       "      <td>0</td>\n",
       "      <td>8</td>\n",
       "      <td>1</td>\n",
       "    </tr>\n",
       "    <tr>\n",
       "      <th>DESY-HH</th>\n",
       "      <td>0</td>\n",
       "      <td>1</td>\n",
       "      <td>7</td>\n",
       "      <td>9</td>\n",
       "      <td>1</td>\n",
       "      <td>0</td>\n",
       "      <td>0</td>\n",
       "      <td>0</td>\n",
       "      <td>10</td>\n",
       "      <td>0</td>\n",
       "      <td>6</td>\n",
       "      <td>14</td>\n",
       "    </tr>\n",
       "    <tr>\n",
       "      <th>FZK-LCG2</th>\n",
       "      <td>1</td>\n",
       "      <td>2</td>\n",
       "      <td>1</td>\n",
       "      <td>15</td>\n",
       "      <td>2</td>\n",
       "      <td>2</td>\n",
       "      <td>4</td>\n",
       "      <td>2</td>\n",
       "      <td>0</td>\n",
       "      <td>4</td>\n",
       "      <td>5</td>\n",
       "      <td>5</td>\n",
       "    </tr>\n",
       "    <tr>\n",
       "      <th>IN2P3-CC</th>\n",
       "      <td>1</td>\n",
       "      <td>2</td>\n",
       "      <td>1</td>\n",
       "      <td>11</td>\n",
       "      <td>10</td>\n",
       "      <td>6</td>\n",
       "      <td>0</td>\n",
       "      <td>0</td>\n",
       "      <td>1</td>\n",
       "      <td>2</td>\n",
       "      <td>8</td>\n",
       "      <td>14</td>\n",
       "    </tr>\n",
       "    <tr>\n",
       "      <th>INFN-T1</th>\n",
       "      <td>6</td>\n",
       "      <td>1</td>\n",
       "      <td>4</td>\n",
       "      <td>13</td>\n",
       "      <td>1</td>\n",
       "      <td>4</td>\n",
       "      <td>14</td>\n",
       "      <td>1</td>\n",
       "      <td>0</td>\n",
       "      <td>8</td>\n",
       "      <td>7</td>\n",
       "      <td>11</td>\n",
       "    </tr>\n",
       "    <tr>\n",
       "      <th>NIKHEF-ELPROD</th>\n",
       "      <td>0</td>\n",
       "      <td>1</td>\n",
       "      <td>6</td>\n",
       "      <td>10</td>\n",
       "      <td>7</td>\n",
       "      <td>6</td>\n",
       "      <td>1</td>\n",
       "      <td>0</td>\n",
       "      <td>3</td>\n",
       "      <td>2</td>\n",
       "      <td>0</td>\n",
       "      <td>1</td>\n",
       "    </tr>\n",
       "    <tr>\n",
       "      <th>RAL-LCG2</th>\n",
       "      <td>1</td>\n",
       "      <td>2</td>\n",
       "      <td>5</td>\n",
       "      <td>12</td>\n",
       "      <td>0</td>\n",
       "      <td>4</td>\n",
       "      <td>0</td>\n",
       "      <td>0</td>\n",
       "      <td>6</td>\n",
       "      <td>0</td>\n",
       "      <td>8</td>\n",
       "      <td>7</td>\n",
       "    </tr>\n",
       "    <tr>\n",
       "      <th>TRIUMF-LCG2</th>\n",
       "      <td>0</td>\n",
       "      <td>1</td>\n",
       "      <td>1</td>\n",
       "      <td>11</td>\n",
       "      <td>0</td>\n",
       "      <td>5</td>\n",
       "      <td>0</td>\n",
       "      <td>0</td>\n",
       "      <td>0</td>\n",
       "      <td>1</td>\n",
       "      <td>7</td>\n",
       "      <td>9</td>\n",
       "    </tr>\n",
       "    <tr>\n",
       "      <th>UKI-SCOTGRID-GLASGOW</th>\n",
       "      <td>2</td>\n",
       "      <td>0</td>\n",
       "      <td>6</td>\n",
       "      <td>8</td>\n",
       "      <td>0</td>\n",
       "      <td>2</td>\n",
       "      <td>8</td>\n",
       "      <td>0</td>\n",
       "      <td>0</td>\n",
       "      <td>0</td>\n",
       "      <td>2</td>\n",
       "      <td>6</td>\n",
       "    </tr>\n",
       "    <tr>\n",
       "      <th>UNKNOWN</th>\n",
       "      <td>1</td>\n",
       "      <td>2</td>\n",
       "      <td>5</td>\n",
       "      <td>4</td>\n",
       "      <td>21</td>\n",
       "      <td>1</td>\n",
       "      <td>0</td>\n",
       "      <td>1</td>\n",
       "      <td>1</td>\n",
       "      <td>3</td>\n",
       "      <td>5</td>\n",
       "      <td>1</td>\n",
       "    </tr>\n",
       "  </tbody>\n",
       "</table>\n",
       "</div>"
      ],
      "text/plain": [
       "dst_site              BNL-ATLAS  BU_ATLAS_Tier2  CERN-PROD  CSCS-LCG2  \\\n",
       "src_site                                                                \n",
       "BNL-ATLAS                     1              17          9         11   \n",
       "CERN-PROD                     4              10          1         13   \n",
       "CSCS-LCG2                     6               0          4          0   \n",
       "DESY-HH                       0               1          7          9   \n",
       "FZK-LCG2                      1               2          1         15   \n",
       "IN2P3-CC                      1               2          1         11   \n",
       "INFN-T1                       6               1          4         13   \n",
       "NIKHEF-ELPROD                 0               1          6         10   \n",
       "RAL-LCG2                      1               2          5         12   \n",
       "TRIUMF-LCG2                   0               1          1         11   \n",
       "UKI-SCOTGRID-GLASGOW          2               0          6          8   \n",
       "UNKNOWN                       1               2          5          4   \n",
       "\n",
       "dst_site              DESY-HH  FZK-LCG2  RAL-LCG2  TRIUMF-LCG2  Taiwan-LCG2  \\\n",
       "src_site                                                                      \n",
       "BNL-ATLAS                   7         2         8            2            5   \n",
       "CERN-PROD                  11         7         2            2            5   \n",
       "CSCS-LCG2                   7         1        15            7            0   \n",
       "DESY-HH                     1         0         0            0           10   \n",
       "FZK-LCG2                    2         2         4            2            0   \n",
       "IN2P3-CC                   10         6         0            0            1   \n",
       "INFN-T1                     1         4        14            1            0   \n",
       "NIKHEF-ELPROD               7         6         1            0            3   \n",
       "RAL-LCG2                    0         4         0            0            6   \n",
       "TRIUMF-LCG2                 0         5         0            0            0   \n",
       "UKI-SCOTGRID-GLASGOW        0         2         8            0            0   \n",
       "UNKNOWN                    21         1         0            1            1   \n",
       "\n",
       "dst_site              UKI-LT2-RHUL  UKI-SCOTGRID-DURHAM  UNKNOWN  \n",
       "src_site                                                          \n",
       "BNL-ATLAS                        7                    7        8  \n",
       "CERN-PROD                        4                    2        0  \n",
       "CSCS-LCG2                        0                    8        1  \n",
       "DESY-HH                          0                    6       14  \n",
       "FZK-LCG2                         4                    5        5  \n",
       "IN2P3-CC                         2                    8       14  \n",
       "INFN-T1                          8                    7       11  \n",
       "NIKHEF-ELPROD                    2                    0        1  \n",
       "RAL-LCG2                         0                    8        7  \n",
       "TRIUMF-LCG2                      1                    7        9  \n",
       "UKI-SCOTGRID-GLASGOW             0                    2        6  \n",
       "UNKNOWN                          3                    5        1  "
      ]
     },
     "execution_count": 54,
     "metadata": {},
     "output_type": "execute_result"
    }
   ],
   "source": [
    "bivar_sites"
   ]
  },
  {
   "cell_type": "code",
   "execution_count": 81,
   "metadata": {
    "ExecuteTime": {
     "end_time": "2019-09-27T11:30:16.299227Z",
     "start_time": "2019-09-27T11:30:15.677167Z"
    }
   },
   "outputs": [
    {
     "data": {
      "image/png": "[encoded data removed]",
      "text/plain": [
       "<Figure size 864x2160 with 1 Axes>"
      ]
     },
     "metadata": {
      "needs_background": "light"
     },
     "output_type": "display_data"
    }
   ],
   "source": [
    "brplt = bivar_sites.plot(kind=\"barh\", \n",
    "                 figsize=(12,30),\n",
    "                 stacked=False, title=\"Transfer Errors: top 12 sites distribution\", sort_columns=True)\n",
    "_ = plt.xlabel(\"Source site\")\n",
    "_ = plt.ylabel(\"Count\")"
   ]
  },
  {
   "cell_type": "code",
   "execution_count": null,
   "metadata": {},
   "outputs": [],
   "source": []
  },
  {
   "cell_type": "markdown",
   "metadata": {},
   "source": [
    "# Appendix "
   ]
  },
  {
   "cell_type": "code",
   "execution_count": null,
   "metadata": {
    "ExecuteTime": {
     "end_time": "2019-09-27T09:03:01.336132Z",
     "start_time": "2019-09-27T09:03:01.026349Z"
    }
   },
   "outputs": [],
   "source": [
    "f, ax = plt.subplots(figsize=(6, 10))\n",
    "sns.countplot(y=\"dst_site\", data=errors)"
   ]
  },
  {
   "cell_type": "code",
   "execution_count": null,
   "metadata": {
    "ExecuteTime": {
     "end_time": "2019-09-27T09:06:26.349316Z",
     "start_time": "2019-09-27T09:06:26.070663Z"
    }
   },
   "outputs": [],
   "source": [
    "errors['dst_site'].value_counts().plot(kind='barh', figsize=(6,10), color=[\"red\"])"
   ]
  },
  {
   "cell_type": "code",
   "execution_count": null,
   "metadata": {
    "ExecuteTime": {
     "end_time": "2019-09-27T09:05:20.912126Z",
     "start_time": "2019-09-27T09:05:20.655321Z"
    }
   },
   "outputs": [],
   "source": [
    "plt.figure(figsize=(1, 1))\n",
    "sns.catplot(x = \"src_site\", kind=\"count\", data=errors)"
   ]
  },
  {
   "cell_type": "code",
   "execution_count": null,
   "metadata": {
    "ExecuteTime": {
     "end_time": "2019-09-27T09:59:51.739928Z",
     "start_time": "2019-09-27T09:59:51.328900Z"
    }
   },
   "outputs": [],
   "source": [
    "sns.catplot(y=\"dst_site\", hue=\"src_site\", kind=\"count\",\n",
    "            palette=\"pastel\", edgecolor=\".6\", order=top_8_lbl_dst,\n",
    "            data=temp);"
   ]
  },
  {
   "cell_type": "markdown",
   "metadata": {},
   "source": [
    "# Analysis/Modeling\n",
    "Do work here"
   ]
  },
  {
   "cell_type": "code",
   "execution_count": 7,
   "metadata": {
    "ExecuteTime": {
     "end_time": "2019-10-07T07:22:20.464780Z",
     "start_time": "2019-10-07T07:22:20.351109Z"
    }
   },
   "outputs": [],
   "source": [
    "import gensim"
   ]
  },
  {
   "cell_type": "code",
   "execution_count": null,
   "metadata": {},
   "outputs": [],
   "source": [
    "model = gensim.models.Word2Vec (documents, size=150, window=10, min_count=2, workers=10)\n",
    "model.train(documents,total_examples=len(documents),epochs=10)"
   ]
  },
  {
   "cell_type": "markdown",
   "metadata": {},
   "source": [
    "# Results\n",
    "Show graphs and stats here"
   ]
  },
  {
   "cell_type": "markdown",
   "metadata": {},
   "source": [
    "# Conclusions and Next Steps\n",
    "Summarize findings here"
   ]
  },
  {
   "cell_type": "code",
   "execution_count": null,
   "metadata": {},
   "outputs": [],
   "source": []
  }
 ],
 "metadata": {
  "kernelspec": {
   "display_name": "Python 3",
   "language": "python",
   "name": "python3"
  },
  "language_info": {
   "codemirror_mode": {
    "name": "ipython",
    "version": 3
   },
   "file_extension": ".py",
   "mimetype": "text/x-python",
   "name": "python",
   "nbconvert_exporter": "python",
   "pygments_lexer": "ipython3",
   "version": "3.6.5"
  },
  "toc": {
   "base_numbering": 1,
   "nav_menu": {},
   "number_sections": true,
   "sideBar": true,
   "skip_h1_title": false,
   "title_cell": "Table of Contents",
   "title_sidebar": "Contents",
   "toc_cell": false,
   "toc_position": {},
   "toc_section_display": true,
   "toc_window_display": true
  }
 },
 "nbformat": 4,
 "nbformat_minor": 2
}
